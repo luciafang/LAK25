{
 "cells": [
  {
   "cell_type": "code",
   "id": "initial_id",
   "metadata": {
    "collapsed": true,
    "ExecuteTime": {
     "end_time": "2024-08-31T23:22:36.353267Z",
     "start_time": "2024-08-31T23:22:36.351652Z"
    }
   },
   "source": [
    "import pandas as pd\n",
    "import matplotlib.pyplot as plt\n",
    "import seaborn as sns\n",
    "import numpy as np\n",
    "import glob"
   ],
   "outputs": [],
   "execution_count": 1
  },
  {
   "metadata": {
    "ExecuteTime": {
     "end_time": "2024-08-31T23:23:36.639576Z",
     "start_time": "2024-08-31T23:23:36.636980Z"
    }
   },
   "cell_type": "code",
   "source": [
    "f = open('../figure_panels/confused_transcript_0416.txt', 'r')\n",
    "cur_confused_transcript = f.read().splitlines()"
   ],
   "id": "b805189a9d2ca36d",
   "outputs": [],
   "execution_count": 9
  },
  {
   "metadata": {
    "ExecuteTime": {
     "end_time": "2024-08-31T23:23:36.968976Z",
     "start_time": "2024-08-31T23:23:36.962956Z"
    }
   },
   "cell_type": "code",
   "source": "cur_confused_transcript",
   "id": "7ab239b728b3c571",
   "outputs": [
    {
     "data": {
      "text/plain": [
       "['which is, in the vernacular, often called',\n",
       " 'galvanic skin response, but the more appropriate term',\n",
       " 'is electrodermal activity.',\n",
       " \"And it's still not totally understood.\",\n",
       " \"So what happens is that when you're\",\n",
       " 'in this high arousal state, again,',\n",
       " \"independent of the veil, so you're\",\n",
       " 'in this sort of high-stress, high-arousal state,',\n",
       " 'you will actually sweat a little bit.',\n",
       " 'And you probably have noticed this in some times',\n",
       " 'of your life.',\n",
       " 'Obviously, you get goosebumps, which is kind of interesting.',\n",
       " \"We're not going to talk about that,\",\n",
       " 'although that would be interesting for input.',\n",
       " \"But you'll actually feel that your body gets\",\n",
       " 'almost a little clammy.',\n",
       " \"And as I'm probably talking about this,\",\n",
       " \"I want you to be surprised if you're\",\n",
       " \"starting to think that you're getting\",\n",
       " 'sort of a little bit sweaty.',\n",
       " 'And what happens is, under high stress,',\n",
       " 'your pores will actually open up a little bit.',\n",
       " \"They'll relax, and they'll actually secrete\",\n",
       " 'more sweat than typical.',\n",
       " 'And because sweat is a salty kind of water,',\n",
       " 'it conducts electricity really well.',\n",
       " 'And so the net resistivity on your body',\n",
       " 'goes down to become more conductive, less resistant.',\n",
       " \"And so even though it's not fully understood,\",\n",
       " 'we just know that it happens.',\n",
       " 'I mean, why is there an evolutionary advantage',\n",
       " 'to having your pores open up?',\n",
       " \"Maybe it's so that if you have to go into a battle,\",\n",
       " 'like your earth is ready to sweat,',\n",
       " 'it will keep you cool, right?',\n",
       " \"Maybe it's a thermal regulation component\",\n",
       " \"that doesn't do the whole point of sweat.\",\n",
       " 'But we know that it happens whenever',\n",
       " \"there's basically sort of a big event.\",\n",
       " 'And measuring, you can take like a multimeter,',\n",
       " 'or even with like an Arduino, you',\n",
       " 'can measure the resistance of the skin pretty easily.',\n",
       " \"And there's even smartwatches that do this now as well.\",\n",
       " \"And you'll get this sort of secondary measure\",\n",
       " 'of the emotional response of the user.',\n",
       " \"Again, it's hard to know the valence,\",\n",
       " 'but you do know the arousal.',\n",
       " \"Likewise, there's a lot of smartwatches\",\n",
       " 'that have heart rate now.',\n",
       " 'So heart rate is obviously correlated with many things.',\n",
       " \"Often, if you're sitting still, and your heart rate just\",\n",
       " 'goes up.',\n",
       " 'So obviously, if you exercise, you go for a jog,',\n",
       " \"your heart rate goes up, because it's basically\",\n",
       " 'trying to move around more oxygen. We all know that.',\n",
       " \"But even if you're just like watching a movie,\",\n",
       " \"it's like a scary movie, your heart rate.\",\n",
       " 'Yeah?',\n",
       " \"Maybe it's like not everything a person looks at is necessarily something they want to look\",\n",
       " 'at.',\n",
       " \"So that's definitely true.\",\n",
       " 'And how would that be a problem for systems that use data?',\n",
       " \"Because it's hard to recommend when they want to enter a link versus if they're just\",\n",
       " 'looking for it.',\n",
       " \"Yeah, so I mean it's everything you look at, you can't assume is going to be interactive.\",\n",
       " \"Like let's say I did have your application where it shows me the competing price on Amazon.\",\n",
       " \"So everywhere I look, I'm looking at your shirt, I'm looking at your laptop, the eraser,\",\n",
       " 'my letterhead just like adds everywhere.',\n",
       " 'You can get it for $2.99 on Amazon.',\n",
       " 'You know?',\n",
       " \"Like it'd be totally insane.\",\n",
       " 'So how do you solve this problem?',\n",
       " \"How do you have it so that it's more explicit?\",\n",
       " \"It isn't just constant.\",\n",
       " 'Yep?',\n",
       " \"You can have a link where it's like there's a whole lot of screen.\",\n",
       " 'Okay.',\n",
       " \"And you're almost like asking for the system to guide you.\",\n",
       " 'Yeah, so you do the link?',\n",
       " 'Yeah?',\n",
       " \"Yeah, that's definitely one possible way.\",\n",
       " 'What are some other options?',\n",
       " 'How about wearables and stuff like the button or something?',\n",
       " 'Yeah, so you could have some other kind of auxiliary input mechanism.',\n",
       " 'Yeah?',\n",
       " 'with a Google home page experience.',\n",
       " 'This is unintentional, almost pervert,',\n",
       " 'all the way to a very intentional gaze behavior.',\n",
       " 'So people have studied this.',\n",
       " \"And there's a link to the paper if you want to read more.\",\n",
       " 'So here are some uses that I put together.',\n",
       " \"It's an automatic scrolling.\",\n",
       " 'So you get to the end of the page.',\n",
       " 'And on that, you scroll.',\n",
       " 'So you read on your Kindle, and it goes to the next page.',\n",
       " \"We're going to talk about magic pointing, which\",\n",
       " \"is that gaze-assisted kind of Fitts' law thing,\",\n",
       " \"where if I'm looking at Chrome, and I'm\",\n",
       " 'moving my little triangle towards Chrome,',\n",
       " 'why do I need the triangle?',\n",
       " \"Why can't I just look at Chrome and just say, open,\",\n",
       " 'or snap my fingers, or something?',\n",
       " \"And it's a great way to use Fitts' law.\",\n",
       " \"And I think it's actually a great way\",\n",
       " 'to get rid of the cursor entirely.',\n",
       " 'We already talked about scrolling on something',\n",
       " 'that brings in text and information.',\n",
       " 'Looking at an object and activating it,',\n",
       " 'like saying to it, land on.',\n",
       " \"But again, because I'm looking, it doesn't turn everything on.\",\n",
       " \"It isn't that my coffee machine starts making coffee,\",\n",
       " 'and my microwave turns on.',\n",
       " \"The only thing I'm looking on turns off.\",\n",
       " 'Devices can be in standby while the power machine is looking',\n",
       " 'at them.',\n",
       " \"It doesn't tend to confusion.\",\n",
       " 'Virtual agent conversations, having good turn-taking.',\n",
       " 'is you measure the resistance, essentially,',\n",
       " 'or in this case impedance, so AC instead of DC electricity.',\n",
       " 'But you measure the resistance between all pairs, right?',\n",
       " 'You can measure, this pair, this pair, this pair,',\n",
       " 'this pair, this pair, and I can say,',\n",
       " 'I want this pair, this pair, and in the end,',\n",
       " 'you get basically sort of two choose,',\n",
       " 'eight choose two combinations of pathways.',\n",
       " 'And so you get this sort of like mesh of measurements,',\n",
       " 'and then you can actually reconstruct that',\n",
       " 'using something called a radon transform into a 2D image.',\n",
       " \"So that's how they actually get the person's lungs.\",\n",
       " 'They can sort of see that one lung has more capacity,',\n",
       " 'or one maybe is filled with liquid,',\n",
       " \"and they're just doing it noninvasively\",\n",
       " 'from sensing from the outside.',\n",
       " 'So we took this, this machine cost like half a million',\n",
       " 'dollars, and so I challenged one of my PhD students,',\n",
       " 'I said, can you make an EIT machine that costs like $5,',\n",
       " 'or $50 as a prototype, and they did.',\n",
       " \"So I'll show you this video to give you a sense.\",\n",
       " 'Tomo is a hand gesture sensing technology',\n",
       " 'based on electrical impedance.',\n",
       " 'This technique is used in many industrial']"
      ]
     },
     "execution_count": 10,
     "metadata": {},
     "output_type": "execute_result"
    }
   ],
   "execution_count": 10
  },
  {
   "metadata": {
    "ExecuteTime": {
     "end_time": "2024-08-31T23:23:40.528212Z",
     "start_time": "2024-08-31T23:23:39.777124Z"
    }
   },
   "cell_type": "code",
   "source": [
    "from wordcloud import WordCloud\n",
    "\n",
    "array = {'full_text': cur_confused_transcript}\n",
    "df = pd.DataFrame(array)\n",
    "\n",
    "plt.style.use('fivethirtyeight')\n",
    "allWords = ' '.join([twts for twts in df['full_text']])\n",
    "wordCloud = WordCloud(collocations=True, width = 1000, max_words=150,\n",
    "height=600, random_state = 21, max_font_size = 120, background_color='white').generate(allWords)\n",
    "\n",
    "\n",
    "# fig, ax = plt.subplots(figsize=(6, 4))\n",
    "# ax.imshow(wordCloud, interpolation = \"bilinear\")\n",
    "# ax.axis('off')\n",
    "# plt.show()\n",
    "# fig.savefig('../figure_panels/fig3b.svg', bbox_inches='tight', dpi=300)\n",
    "wordCloud.to_file('../figure_panels/fig3c_new.png')"
   ],
   "id": "308b7ec0b561f6b3",
   "outputs": [
    {
     "data": {
      "text/plain": [
       "<wordcloud.wordcloud.WordCloud at 0x280255d90>"
      ]
     },
     "execution_count": 11,
     "metadata": {},
     "output_type": "execute_result"
    }
   ],
   "execution_count": 11
  },
  {
   "metadata": {},
   "cell_type": "code",
   "outputs": [],
   "execution_count": null,
   "source": "",
   "id": "687b5970295093e3"
  }
 ],
 "metadata": {
  "kernelspec": {
   "display_name": "Python 3",
   "language": "python",
   "name": "python3"
  },
  "language_info": {
   "codemirror_mode": {
    "name": "ipython",
    "version": 2
   },
   "file_extension": ".py",
   "mimetype": "text/x-python",
   "name": "python",
   "nbconvert_exporter": "python",
   "pygments_lexer": "ipython2",
   "version": "2.7.6"
  }
 },
 "nbformat": 4,
 "nbformat_minor": 5
}
