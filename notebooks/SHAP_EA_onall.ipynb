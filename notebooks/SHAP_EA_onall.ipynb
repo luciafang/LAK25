{
 "cells": [
  {
   "cell_type": "code",
   "id": "initial_id",
   "metadata": {
    "collapsed": true,
    "ExecuteTime": {
     "end_time": "2024-08-25T02:09:23.956224Z",
     "start_time": "2024-08-25T02:09:23.952959Z"
    }
   },
   "source": [
    "from tensorflow.keras.models import Sequential\n",
    "from tensorflow.keras.layers import (\n",
    "    Conv2D,\n",
    "    MaxPooling2D,\n",
    "    AveragePooling2D,\n",
    "    Flatten,\n",
    "    Dense,\n",
    "    Dropout,\n",
    ")\n",
    "import pickle \n",
    "import numpy as np\n",
    "import cv2\n",
    "import matplotlib.pyplot as plt\n",
    "from sklearn.metrics import confusion_matrix, classification_report, accuracy_score\n",
    "from sklearn.model_selection import train_test_split\n",
    "import pandas as pd\n",
    "import seaborn as sns\n",
    "from tensorflow.keras.utils import to_categorical\n",
    "import shap"
   ],
   "outputs": [],
   "execution_count": 23
  },
  {
   "metadata": {},
   "cell_type": "markdown",
   "source": "Consruct emotion model, download and load weights (Emotion.py in Deepface)",
   "id": "6edb197c5376cae4"
  },
  {
   "metadata": {
    "ExecuteTime": {
     "end_time": "2024-08-25T02:09:24.001870Z",
     "start_time": "2024-08-25T02:09:24.000211Z"
    }
   },
   "cell_type": "code",
   "source": "input_dim_ = 64",
   "id": "6d541428d1daadf2",
   "outputs": [],
   "execution_count": 24
  },
  {
   "metadata": {
    "ExecuteTime": {
     "end_time": "2024-08-25T02:09:24.031388Z",
     "start_time": "2024-08-25T02:09:24.003010Z"
    }
   },
   "cell_type": "code",
   "source": [
    "num_classes = 2\n",
    "\n",
    "model = Sequential()\n",
    "\n",
    "# 1st convolution layer\n",
    "model.add(Conv2D(64, (5, 5), activation=\"relu\", input_shape=(input_dim_, input_dim_, 1)))\n",
    "# model.add(Conv2D(32, (3, 3), activation=\"relu\"))\n",
    "model.add(MaxPooling2D(pool_size=(5, 5), strides=(2, 2)))\n",
    "\n",
    "# 2nd convolution layer\n",
    "# model.add(Conv2D(64, (3, 3), activation=\"relu\"))\n",
    "# model.add(Conv2D(64, (3, 3), activation=\"relu\"))\n",
    "# model.add(AveragePooling2D(pool_size=(3, 3), strides=(2, 2)))\n",
    "\n",
    "# 3rd convolution layer\n",
    "model.add(Conv2D(128, (3, 3), activation=\"relu\"))\n",
    "# model.add(Conv2D(128, (3, 3), activation=\"relu\"))\n",
    "model.add(AveragePooling2D(pool_size=(3, 3), strides=(2, 2)))\n",
    "\n",
    "model.add(Flatten())\n",
    "\n",
    "# fully connected neural networks\n",
    "# model.add(Dense(1024, activation=\"relu\"))\n",
    "# model.add(Dropout(0.2))\n",
    "# model.add(Dense(1024, activation=\"relu\"))\n",
    "# model.add(Dropout(0.2))\n",
    "\n",
    "model.add(Dense(num_classes, activation=\"softmax\"))\n",
    "model.compile(optimizer='adam', loss='categorical_crossentropy', metrics=['accuracy'])"
   ],
   "id": "37d83c77dc152243",
   "outputs": [],
   "execution_count": 25
  },
  {
   "metadata": {
    "ExecuteTime": {
     "end_time": "2024-08-25T02:09:24.034609Z",
     "start_time": "2024-08-25T02:09:24.032408Z"
    }
   },
   "cell_type": "code",
   "source": "model.summary()",
   "id": "c3dae9fab977d9ed",
   "outputs": [
    {
     "name": "stdout",
     "output_type": "stream",
     "text": [
      "Model: \"sequential_1\"\n",
      "_________________________________________________________________\n",
      " Layer (type)                Output Shape              Param #   \n",
      "=================================================================\n",
      " conv2d_2 (Conv2D)           (None, 60, 60, 64)        1664      \n",
      "                                                                 \n",
      " max_pooling2d_1 (MaxPooling  (None, 28, 28, 64)       0         \n",
      " 2D)                                                             \n",
      "                                                                 \n",
      " conv2d_3 (Conv2D)           (None, 26, 26, 128)       73856     \n",
      "                                                                 \n",
      " average_pooling2d_1 (Averag  (None, 12, 12, 128)      0         \n",
      " ePooling2D)                                                     \n",
      "                                                                 \n",
      " flatten_1 (Flatten)         (None, 18432)             0         \n",
      "                                                                 \n",
      " dense_1 (Dense)             (None, 2)                 36866     \n",
      "                                                                 \n",
      "=================================================================\n",
      "Total params: 112,386\n",
      "Trainable params: 112,386\n",
      "Non-trainable params: 0\n",
      "_________________________________________________________________\n"
     ]
    }
   ],
   "execution_count": 26
  },
  {
   "metadata": {},
   "cell_type": "markdown",
   "source": "### load model trained on asian",
   "id": "2e0446539c073764"
  },
  {
   "metadata": {
    "ExecuteTime": {
     "end_time": "2024-08-25T02:09:24.062058Z",
     "start_time": "2024-08-25T02:09:24.035314Z"
    }
   },
   "cell_type": "code",
   "source": "model.load_weights('../models/asian_confusion_weights_final.h5')",
   "id": "bc28b82f8fedab2a",
   "outputs": [],
   "execution_count": 27
  },
  {
   "metadata": {},
   "cell_type": "markdown",
   "source": "### test on asian",
   "id": "a1e52684010272fa"
  },
  {
   "metadata": {
    "ExecuteTime": {
     "end_time": "2024-08-25T02:09:24.110497Z",
     "start_time": "2024-08-25T02:09:24.063489Z"
    }
   },
   "cell_type": "code",
   "source": [
    "# load pickle file\n",
    "files = [\n",
    "         '../data_features_labels/EA_annotated_3Blue1Brown_final.pkl']\n",
    "# files = ['Eastern_Asian_Dataset.pkl']\n",
    "x_all_list_ea = []\n",
    "y_all_list_ea = [] \n",
    "race_list = []\n",
    "for file in files:\n",
    "    \n",
    "    with open(file, 'rb') as f:\n",
    "        features, labels = pickle.load(f)\n",
    "    \n",
    "    for pic, label in zip(features, labels):\n",
    "        # plt.imshow(img_gray, cmap='binary_r')\n",
    "        x_all_list_ea.append(pic)\n",
    "        y_all_list_ea.append(label)\n",
    "        \n",
    "        # if file in ['../data_features_labels/EA_annotated_3Blue1Brown_final.pkl']:\n",
    "        #     race_list.append('EA')\n",
    "        # else:\n",
    "        #     race_list.append('Polish')"
   ],
   "id": "74b367d1fa36890a",
   "outputs": [],
   "execution_count": 28
  },
  {
   "metadata": {
    "ExecuteTime": {
     "end_time": "2024-08-25T02:09:24.121560Z",
     "start_time": "2024-08-25T02:09:24.111767Z"
    }
   },
   "cell_type": "code",
   "source": [
    "X_all_ea = np.array(x_all_list_ea).reshape(-1, 64, 64, 1)\n",
    "#one-hot encode target column\n",
    "Y_all_ea = to_categorical(np.array(y_all_list_ea))"
   ],
   "id": "5275c028a20bebce",
   "outputs": [],
   "execution_count": 29
  },
  {
   "metadata": {
    "ExecuteTime": {
     "end_time": "2024-08-25T02:09:24.124053Z",
     "start_time": "2024-08-25T02:09:24.122212Z"
    }
   },
   "cell_type": "code",
   "source": "label_names = ['Not Confused', 'Confused']",
   "id": "1fe09889064b0bcf",
   "outputs": [],
   "execution_count": 30
  },
  {
   "metadata": {
    "ExecuteTime": {
     "end_time": "2024-08-25T02:09:24.150170Z",
     "start_time": "2024-08-25T02:09:24.125660Z"
    }
   },
   "cell_type": "code",
   "source": [
    "x_train_ea, x_test_ea, y_train_ea, y_test_ea = train_test_split(X_all_ea, Y_all_ea, test_size=0.2, random_state=42)\n",
    "# x_train, x_valid, y_train, y_valid = train_test_split(x_train, y_train, test_size=0.25, random_state=42)"
   ],
   "id": "e32e408598d7c220",
   "outputs": [],
   "execution_count": 31
  },
  {
   "metadata": {
    "ExecuteTime": {
     "end_time": "2024-08-25T02:09:24.911Z",
     "start_time": "2024-08-25T02:09:24.150913Z"
    }
   },
   "cell_type": "code",
   "source": [
    "prediction_proba_ea = model.predict(x_test_ea)\n",
    "y_predict_ea = prediction_proba_ea.argmax(axis=1)\n",
    "y_true_ea = y_test_ea.argmax(axis=1)"
   ],
   "id": "89fde183c2a55e11",
   "outputs": [
    {
     "name": "stderr",
     "output_type": "stream",
     "text": [
      "2024-08-24 22:09:24.195494: I tensorflow/core/grappler/optimizers/custom_graph_optimizer_registry.cc:112] Plugin optimizer for device_type GPU is enabled.\n"
     ]
    }
   ],
   "execution_count": 32
  },
  {
   "metadata": {
    "ExecuteTime": {
     "end_time": "2024-08-25T02:09:24.916673Z",
     "start_time": "2024-08-25T02:09:24.912701Z"
    }
   },
   "cell_type": "code",
   "source": [
    "accuracy_ea = accuracy_score(y_true_ea, y_predict_ea)\n",
    "accuracy_ea"
   ],
   "id": "e76a7df11a962ed",
   "outputs": [
    {
     "data": {
      "text/plain": [
       "0.951931330472103"
      ]
     },
     "execution_count": 33,
     "metadata": {},
     "output_type": "execute_result"
    }
   ],
   "execution_count": 33
  },
  {
   "metadata": {},
   "cell_type": "markdown",
   "source": "### polish",
   "id": "80a917b433afda8"
  },
  {
   "metadata": {
    "ExecuteTime": {
     "end_time": "2024-08-25T02:09:24.957851Z",
     "start_time": "2024-08-25T02:09:24.918563Z"
    }
   },
   "cell_type": "code",
   "source": [
    "# load pickle file\n",
    "files = [\n",
    "         '../data_features_labels/Polish_Dataset.pkl']\n",
    "# files = ['Eastern_Asian_Dataset.pkl']\n",
    "x_all_list_po = []\n",
    "y_all_list_po = [] \n",
    "race_list = []\n",
    "for file in files:\n",
    "    \n",
    "    with open(file, 'rb') as f:\n",
    "        features, labels = pickle.load(f)\n",
    "    \n",
    "    for pic, label in zip(features, labels):\n",
    "        # plt.imshow(img_gray, cmap='binary_r')\n",
    "        x_all_list_po.append(pic)\n",
    "        y_all_list_po.append(label)\n",
    "        \n",
    "        # if file in ['../data_features_labels/EA_annotated_3Blue1Brown_final.pkl']:\n",
    "        #     race_list.append('EA')\n",
    "        # else:\n",
    "        #     race_list.append('Polish')"
   ],
   "id": "a1ec4ae0f3ecf553",
   "outputs": [],
   "execution_count": 34
  },
  {
   "metadata": {
    "ExecuteTime": {
     "end_time": "2024-08-25T02:09:24.967593Z",
     "start_time": "2024-08-25T02:09:24.958546Z"
    }
   },
   "cell_type": "code",
   "source": [
    "X_all_po = np.array(x_all_list_po).reshape(-1, 64, 64, 1)\n",
    "#one-hot encode target column\n",
    "Y_all_po = to_categorical(np.array(y_all_list_po))"
   ],
   "id": "d43222674b02691",
   "outputs": [],
   "execution_count": 35
  },
  {
   "metadata": {
    "ExecuteTime": {
     "end_time": "2024-08-25T02:09:24.970283Z",
     "start_time": "2024-08-25T02:09:24.968237Z"
    }
   },
   "cell_type": "code",
   "source": "label_names = ['Not Confused', 'Confused']",
   "id": "473f72ce8f4312e5",
   "outputs": [],
   "execution_count": 36
  },
  {
   "metadata": {
    "ExecuteTime": {
     "end_time": "2024-08-25T02:09:24.991535Z",
     "start_time": "2024-08-25T02:09:24.970957Z"
    }
   },
   "cell_type": "code",
   "source": "x_train_po, x_test_po, y_train_po, y_test_po = train_test_split(X_all_po, Y_all_po, test_size=0.2, random_state=42)\n",
   "id": "d2eb9e97c11d66e4",
   "outputs": [],
   "execution_count": 37
  },
  {
   "metadata": {
    "ExecuteTime": {
     "end_time": "2024-08-25T02:09:25.427395Z",
     "start_time": "2024-08-25T02:09:24.992933Z"
    }
   },
   "cell_type": "code",
   "source": [
    "prediction_proba_po = model.predict(x_test_po)\n",
    "y_predict_po = prediction_proba_po.argmax(axis=1)\n",
    "y_true_po = y_test_po.argmax(axis=1)"
   ],
   "id": "9dbb69a9bf154284",
   "outputs": [],
   "execution_count": 38
  },
  {
   "metadata": {
    "ExecuteTime": {
     "end_time": "2024-08-25T02:09:25.431857Z",
     "start_time": "2024-08-25T02:09:25.428536Z"
    }
   },
   "cell_type": "code",
   "source": [
    "accuracy_po = accuracy_score(y_true_po, y_predict_po)\n",
    "accuracy_po"
   ],
   "id": "12fcfc496ee5dff5",
   "outputs": [
    {
     "data": {
      "text/plain": [
       "0.6700924974306269"
      ]
     },
     "execution_count": 39,
     "metadata": {},
     "output_type": "execute_result"
    }
   ],
   "execution_count": 39
  },
  {
   "metadata": {
    "ExecuteTime": {
     "end_time": "2024-08-25T02:09:25.502808Z",
     "start_time": "2024-08-25T02:09:25.500995Z"
    }
   },
   "cell_type": "code",
   "source": "",
   "id": "26618464c4918370",
   "outputs": [],
   "execution_count": 40
  },
  {
   "metadata": {},
   "cell_type": "markdown",
   "source": "### Indian",
   "id": "1ceb1fe6af2f08fd"
  },
  {
   "metadata": {
    "ExecuteTime": {
     "end_time": "2024-08-25T02:09:25.553984Z",
     "start_time": "2024-08-25T02:09:25.503359Z"
    }
   },
   "cell_type": "code",
   "source": [
    "# load pickle file\n",
    "files = ['../data_features_labels/Train_crop.pkl', '../data_features_labels/Test_crop.pkl', '../data_features_labels/Validation_crop.pkl']\n",
    "# files = ['Eastern_Asian_Dataset.pkl']\n",
    "x_all_list_indian = []\n",
    "y_all_list_indian = [] \n",
    "race_list = []\n",
    "for file in files:\n",
    "    \n",
    "    with open(file, 'rb') as f:\n",
    "        features, labels = pickle.load(f)\n",
    "    \n",
    "    for pic, label in zip(features, labels):\n",
    "        # plt.imshow(img_gray, cmap='binary_r')\n",
    "        x_all_list_indian.append(pic)\n",
    "        y_all_list_indian.append(label)\n",
    "        \n",
    "        # if file in ['../data_features_labels/EA_annotated_3Blue1Brown_final.pkl']:\n",
    "        #     race_list.append('EA')\n",
    "        # else:\n",
    "        #     race_list.append('Polish')"
   ],
   "id": "115f1e03855c7e03",
   "outputs": [],
   "execution_count": 41
  },
  {
   "metadata": {
    "ExecuteTime": {
     "end_time": "2024-08-25T02:09:25.580294Z",
     "start_time": "2024-08-25T02:09:25.554773Z"
    }
   },
   "cell_type": "code",
   "source": [
    "X_all_indian = np.array(x_all_list_indian).reshape(-1, 64, 64, 1)\n",
    "#one-hot encode target column\n",
    "Y_all_indian = to_categorical(np.array(y_all_list_indian))"
   ],
   "id": "7c4f26a02478ad0d",
   "outputs": [],
   "execution_count": 42
  },
  {
   "metadata": {
    "ExecuteTime": {
     "end_time": "2024-08-25T02:09:25.583698Z",
     "start_time": "2024-08-25T02:09:25.581536Z"
    }
   },
   "cell_type": "code",
   "source": "label_names = ['Not Confused', 'Confused']",
   "id": "b5f950de74ecaabc",
   "outputs": [],
   "execution_count": 43
  },
  {
   "metadata": {
    "ExecuteTime": {
     "end_time": "2024-08-25T02:09:25.599732Z",
     "start_time": "2024-08-25T02:09:25.584408Z"
    }
   },
   "cell_type": "code",
   "source": "x_train_indian, x_test_indian, y_train_indian, y_test_indian = train_test_split(X_all_indian, Y_all_indian, test_size=0.2, random_state=42)\n",
   "id": "1c1a50e978d470a9",
   "outputs": [],
   "execution_count": 44
  },
  {
   "metadata": {
    "ExecuteTime": {
     "end_time": "2024-08-25T02:09:26.177533Z",
     "start_time": "2024-08-25T02:09:25.600328Z"
    }
   },
   "cell_type": "code",
   "source": [
    "prediction_proba_indian = model.predict(x_test_indian)\n",
    "y_predict_indian = prediction_proba_indian.argmax(axis=1)\n",
    "y_true_indian = y_test_indian.argmax(axis=1)"
   ],
   "id": "aa1651a22b288673",
   "outputs": [],
   "execution_count": 45
  },
  {
   "metadata": {
    "ExecuteTime": {
     "end_time": "2024-08-25T02:09:26.183673Z",
     "start_time": "2024-08-25T02:09:26.178943Z"
    }
   },
   "cell_type": "code",
   "source": [
    "accuracy_indian = accuracy_score(y_true_indian, y_predict_indian)\n",
    "accuracy_indian"
   ],
   "id": "5a7f522c363f9299",
   "outputs": [
    {
     "data": {
      "text/plain": [
       "0.5447730112453144"
      ]
     },
     "execution_count": 46,
     "metadata": {},
     "output_type": "execute_result"
    }
   ],
   "execution_count": 46
  },
  {
   "metadata": {
    "ExecuteTime": {
     "end_time": "2024-08-25T02:10:09.485715Z",
     "start_time": "2024-08-25T02:10:09.363851Z"
    }
   },
   "cell_type": "code",
   "source": [
    "fig, ax = plt.subplots(1, 1, figsize=(2, 4))\n",
    "sns.barplot([accuracy_ea, accuracy_indian, accuracy_po], ax=ax, color='k')\n",
    "ax.set_ylabel('Accuracy')\n",
    "ax.set_xticks([0, 1, 2])\n",
    "ax.set_ylim([0, 1])\n",
    "ax.set_xticklabels(['EA', 'DAiSEE', 'DevEmo'])\n",
    "fig.savefig('../figure_panels/EA_on_all.svg', bbox_inches='tight', dpi=300)"
   ],
   "id": "8635f8de8876733c",
   "outputs": [
    {
     "data": {
      "text/plain": [
       "<Figure size 200x400 with 1 Axes>"
      ],
      "image/png": "[encoded data removed]"
     },
     "metadata": {},
     "output_type": "display_data"
    }
   ],
   "execution_count": 48
  },
  {
   "metadata": {
    "ExecuteTime": {
     "end_time": "2024-08-25T02:09:26.253807Z",
     "start_time": "2024-08-25T02:09:26.251803Z"
    }
   },
   "cell_type": "code",
   "source": "",
   "id": "542fad2fb928c45a",
   "outputs": [],
   "execution_count": 47
  }
 ],
 "metadata": {
  "kernelspec": {
   "display_name": "Python 3",
   "language": "python",
   "name": "python3"
  },
  "language_info": {
   "codemirror_mode": {
    "name": "ipython",
    "version": 2
   },
   "file_extension": ".py",
   "mimetype": "text/x-python",
   "name": "python",
   "nbconvert_exporter": "python",
   "pygments_lexer": "ipython2",
   "version": "2.7.6"
  }
 },
 "nbformat": 4,
 "nbformat_minor": 5
}
