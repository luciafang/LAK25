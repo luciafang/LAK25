{
 "cells": [
  {
   "cell_type": "code",
   "id": "initial_id",
   "metadata": {
    "collapsed": true,
    "ExecuteTime": {
     "end_time": "2024-06-06T20:39:04.347940Z",
     "start_time": "2024-06-06T20:39:04.155364Z"
    }
   },
   "source": [
    "import requests\n",
    "from bs4 import BeautifulSoup\n",
    "import os"
   ],
   "outputs": [],
   "execution_count": 1
  },
  {
   "metadata": {
    "ExecuteTime": {
     "end_time": "2024-06-06T20:39:12.168935Z",
     "start_time": "2024-06-06T20:39:12.151446Z"
    }
   },
   "cell_type": "code",
   "source": "url = \"https://www.istockphoto.com/search/2/film?family=creative&phrase=confused%20black%20man\"",
   "id": "3588c8b3de03344",
   "outputs": [],
   "execution_count": 2
  },
  {
   "metadata": {
    "ExecuteTime": {
     "end_time": "2024-06-06T20:43:29.366680Z",
     "start_time": "2024-06-06T20:43:29.360613Z"
    }
   },
   "cell_type": "code",
   "source": [
    "save_dir = os.getcwd()\n",
    "os.makedirs(save_dir, exist_ok=True)"
   ],
   "id": "edc967c927903d20",
   "outputs": [],
   "execution_count": 5
  },
  {
   "metadata": {
    "ExecuteTime": {
     "end_time": "2024-06-06T20:43:29.826262Z",
     "start_time": "2024-06-06T20:43:29.822579Z"
    }
   },
   "cell_type": "code",
   "source": "save_dir",
   "id": "1517f59052112de",
   "outputs": [
    {
     "data": {
      "text/plain": [
       "'/Users/lucia/Documents/GitHub/edusense/honor_thesis'"
      ]
     },
     "execution_count": 6,
     "metadata": {},
     "output_type": "execute_result"
    }
   ],
   "execution_count": 6
  },
  {
   "metadata": {
    "ExecuteTime": {
     "end_time": "2024-06-06T20:43:57.698406Z",
     "start_time": "2024-06-06T20:43:57.695574Z"
    }
   },
   "cell_type": "code",
   "source": [
    "# Function to download a video\n",
    "def download_video(video_url, save_path):\n",
    "    try:\n",
    "        video_data = requests.get(video_url).content\n",
    "        with open(save_path, 'wb') as handler:\n",
    "            handler.write(video_data)\n",
    "    except Exception as e:\n",
    "        print(f\"Failed to download {video_url}: {e}\")"
   ],
   "id": "984845269f918015",
   "outputs": [],
   "execution_count": 10
  },
  {
   "metadata": {
    "ExecuteTime": {
     "end_time": "2024-06-06T20:44:05.411284Z",
     "start_time": "2024-06-06T20:44:05.258046Z"
    }
   },
   "cell_type": "code",
   "source": [
    "# Function to scrape the website for videos\n",
    "def scrape_videos(url):\n",
    "    response = requests.get(url)\n",
    "    soup = BeautifulSoup(response.content, 'html.parser')\n",
    "    \n",
    "    # This example assumes the video URLs are in <video> or <source> tags\n",
    "    video_tags = soup.find_all(['video', 'source'])\n",
    "    \n",
    "    for video in video_tags:\n",
    "        video_url = video.get('src') or video.get('data-src')\n",
    "        if not video_url:\n",
    "            continue\n",
    "        video_url = urljoin(url, video_url)  # Ensure the URL is absolute\n",
    "        video_name = os.path.basename(video_url)\n",
    "        save_path = os.path.join(save_dir, video_name)\n",
    "        download_video(video_url, save_path)\n",
    "        print(f\"Downloaded {video_url}\")\n",
    "\n",
    "# Run the scraping function\n",
    "scrape_videos(url)\n"
   ],
   "id": "91d163bb4414dbdc",
   "outputs": [],
   "execution_count": 11
  },
  {
   "metadata": {},
   "cell_type": "code",
   "outputs": [],
   "execution_count": null,
   "source": "",
   "id": "a539befc9057519f"
  }
 ],
 "metadata": {
  "kernelspec": {
   "display_name": "Python 3",
   "language": "python",
   "name": "python3"
  },
  "language_info": {
   "codemirror_mode": {
    "name": "ipython",
    "version": 2
   },
   "file_extension": ".py",
   "mimetype": "text/x-python",
   "name": "python",
   "nbconvert_exporter": "python",
   "pygments_lexer": "ipython2",
   "version": "2.7.6"
  }
 },
 "nbformat": 4,
 "nbformat_minor": 5
}
