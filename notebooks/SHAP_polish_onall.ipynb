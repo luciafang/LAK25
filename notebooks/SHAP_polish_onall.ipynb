{
 "cells": [
  {
   "cell_type": "code",
   "id": "initial_id",
   "metadata": {
    "collapsed": true,
    "ExecuteTime": {
     "end_time": "2024-08-25T02:10:51.623239Z",
     "start_time": "2024-08-25T02:10:48.840636Z"
    }
   },
   "source": [
    "from tensorflow.keras.models import Sequential\n",
    "from tensorflow.keras.layers import (\n",
    "    Conv2D,\n",
    "    MaxPooling2D,\n",
    "    AveragePooling2D,\n",
    "    Flatten,\n",
    "    Dense,\n",
    "    Dropout,\n",
    ")\n",
    "import pickle \n",
    "import numpy as np\n",
    "import cv2\n",
    "import matplotlib.pyplot as plt\n",
    "from sklearn.metrics import confusion_matrix, classification_report, accuracy_score\n",
    "from sklearn.model_selection import train_test_split\n",
    "import pandas as pd\n",
    "import seaborn as sns\n",
    "from tensorflow.keras.utils import to_categorical\n",
    "import shap"
   ],
   "outputs": [],
   "execution_count": 1
  },
  {
   "metadata": {},
   "cell_type": "markdown",
   "source": "Consruct emotion model, download and load weights (Emotion.py in Deepface)",
   "id": "6edb197c5376cae4"
  },
  {
   "metadata": {
    "ExecuteTime": {
     "end_time": "2024-08-25T02:10:54.551658Z",
     "start_time": "2024-08-25T02:10:54.548484Z"
    }
   },
   "cell_type": "code",
   "source": "input_dim_ = 64",
   "id": "6d541428d1daadf2",
   "outputs": [],
   "execution_count": 2
  },
  {
   "metadata": {
    "ExecuteTime": {
     "end_time": "2024-08-25T02:10:55.468917Z",
     "start_time": "2024-08-25T02:10:55.218037Z"
    }
   },
   "cell_type": "code",
   "source": [
    "num_classes = 2\n",
    "\n",
    "model = Sequential()\n",
    "\n",
    "# 1st convolution layer\n",
    "model.add(Conv2D(64, (5, 5), activation=\"relu\", input_shape=(input_dim_, input_dim_, 1)))\n",
    "# model.add(Conv2D(32, (3, 3), activation=\"relu\"))\n",
    "model.add(MaxPooling2D(pool_size=(5, 5), strides=(2, 2)))\n",
    "\n",
    "# 2nd convolution layer\n",
    "# model.add(Conv2D(64, (3, 3), activation=\"relu\"))\n",
    "# model.add(Conv2D(64, (3, 3), activation=\"relu\"))\n",
    "# model.add(AveragePooling2D(pool_size=(3, 3), strides=(2, 2)))\n",
    "\n",
    "# 3rd convolution layer\n",
    "model.add(Conv2D(128, (3, 3), activation=\"relu\"))\n",
    "# model.add(Conv2D(128, (3, 3), activation=\"relu\"))\n",
    "model.add(AveragePooling2D(pool_size=(3, 3), strides=(2, 2)))\n",
    "\n",
    "model.add(Flatten())\n",
    "\n",
    "# fully connected neural networks\n",
    "# model.add(Dense(1024, activation=\"relu\"))\n",
    "# model.add(Dropout(0.2))\n",
    "# model.add(Dense(1024, activation=\"relu\"))\n",
    "# model.add(Dropout(0.2))\n",
    "\n",
    "model.add(Dense(num_classes, activation=\"softmax\"))\n",
    "model.compile(optimizer='adam', loss='categorical_crossentropy', metrics=['accuracy'])"
   ],
   "id": "37d83c77dc152243",
   "outputs": [
    {
     "name": "stdout",
     "output_type": "stream",
     "text": [
      "Metal device set to: Apple M2\n"
     ]
    },
    {
     "name": "stderr",
     "output_type": "stream",
     "text": [
      "2024-08-24 22:10:55.225516: I tensorflow/core/common_runtime/pluggable_device/pluggable_device_factory.cc:305] Could not identify NUMA node of platform GPU ID 0, defaulting to 0. Your kernel may not have been built with NUMA support.\n",
      "2024-08-24 22:10:55.225817: I tensorflow/core/common_runtime/pluggable_device/pluggable_device_factory.cc:271] Created TensorFlow device (/job:localhost/replica:0/task:0/device:GPU:0 with 0 MB memory) -> physical PluggableDevice (device: 0, name: METAL, pci bus id: <undefined>)\n"
     ]
    }
   ],
   "execution_count": 3
  },
  {
   "metadata": {
    "ExecuteTime": {
     "end_time": "2024-08-25T02:10:57.167218Z",
     "start_time": "2024-08-25T02:10:57.163924Z"
    }
   },
   "cell_type": "code",
   "source": "model.summary()",
   "id": "c3dae9fab977d9ed",
   "outputs": [
    {
     "name": "stdout",
     "output_type": "stream",
     "text": [
      "Model: \"sequential\"\n",
      "_________________________________________________________________\n",
      " Layer (type)                Output Shape              Param #   \n",
      "=================================================================\n",
      " conv2d (Conv2D)             (None, 60, 60, 64)        1664      \n",
      "                                                                 \n",
      " max_pooling2d (MaxPooling2D  (None, 28, 28, 64)       0         \n",
      " )                                                               \n",
      "                                                                 \n",
      " conv2d_1 (Conv2D)           (None, 26, 26, 128)       73856     \n",
      "                                                                 \n",
      " average_pooling2d (AverageP  (None, 12, 12, 128)      0         \n",
      " ooling2D)                                                       \n",
      "                                                                 \n",
      " flatten (Flatten)           (None, 18432)             0         \n",
      "                                                                 \n",
      " dense (Dense)               (None, 2)                 36866     \n",
      "                                                                 \n",
      "=================================================================\n",
      "Total params: 112,386\n",
      "Trainable params: 112,386\n",
      "Non-trainable params: 0\n",
      "_________________________________________________________________\n"
     ]
    }
   ],
   "execution_count": 4
  },
  {
   "metadata": {},
   "cell_type": "markdown",
   "source": "### load model trained on asian",
   "id": "2e0446539c073764"
  },
  {
   "metadata": {
    "ExecuteTime": {
     "end_time": "2024-08-25T02:11:11.924673Z",
     "start_time": "2024-08-25T02:11:11.902550Z"
    }
   },
   "cell_type": "code",
   "source": "model.load_weights('../models/polish_confusion_weights.h5')",
   "id": "bc28b82f8fedab2a",
   "outputs": [],
   "execution_count": 5
  },
  {
   "metadata": {},
   "cell_type": "markdown",
   "source": "### test on asian",
   "id": "a1e52684010272fa"
  },
  {
   "metadata": {
    "ExecuteTime": {
     "end_time": "2024-08-25T02:11:26.230276Z",
     "start_time": "2024-08-25T02:11:26.165901Z"
    }
   },
   "cell_type": "code",
   "source": [
    "# load pickle file\n",
    "files = [\n",
    "         '../data_features_labels/EA_annotated_3Blue1Brown_final.pkl']\n",
    "# files = ['Eastern_Asian_Dataset.pkl']\n",
    "x_all_list_ea = []\n",
    "y_all_list_ea = [] \n",
    "race_list = []\n",
    "for file in files:\n",
    "    \n",
    "    with open(file, 'rb') as f:\n",
    "        features, labels = pickle.load(f)\n",
    "    \n",
    "    for pic, label in zip(features, labels):\n",
    "        # plt.imshow(img_gray, cmap='binary_r')\n",
    "        x_all_list_ea.append(pic)\n",
    "        y_all_list_ea.append(label)\n",
    "        \n",
    "        # if file in ['../data_features_labels/EA_annotated_3Blue1Brown_final.pkl']:\n",
    "        #     race_list.append('EA')\n",
    "        # else:\n",
    "        #     race_list.append('Polish')"
   ],
   "id": "74b367d1fa36890a",
   "outputs": [],
   "execution_count": 6
  },
  {
   "metadata": {
    "ExecuteTime": {
     "end_time": "2024-08-25T02:11:27.125120Z",
     "start_time": "2024-08-25T02:11:27.107622Z"
    }
   },
   "cell_type": "code",
   "source": [
    "X_all_ea = np.array(x_all_list_ea).reshape(-1, 64, 64, 1)\n",
    "#one-hot encode target column\n",
    "Y_all_ea = to_categorical(np.array(y_all_list_ea))"
   ],
   "id": "5275c028a20bebce",
   "outputs": [],
   "execution_count": 7
  },
  {
   "metadata": {
    "ExecuteTime": {
     "end_time": "2024-08-25T02:11:27.628160Z",
     "start_time": "2024-08-25T02:11:27.626285Z"
    }
   },
   "cell_type": "code",
   "source": "label_names = ['Not Confused', 'Confused']",
   "id": "1fe09889064b0bcf",
   "outputs": [],
   "execution_count": 8
  },
  {
   "metadata": {
    "ExecuteTime": {
     "end_time": "2024-08-25T02:11:28.188015Z",
     "start_time": "2024-08-25T02:11:28.137478Z"
    }
   },
   "cell_type": "code",
   "source": [
    "x_train_ea, x_test_ea, y_train_ea, y_test_ea = train_test_split(X_all_ea, Y_all_ea, test_size=0.2, random_state=42)\n",
    "# x_train, x_valid, y_train, y_valid = train_test_split(x_train, y_train, test_size=0.25, random_state=42)"
   ],
   "id": "e32e408598d7c220",
   "outputs": [],
   "execution_count": 9
  },
  {
   "metadata": {
    "ExecuteTime": {
     "end_time": "2024-08-25T02:11:30.090173Z",
     "start_time": "2024-08-25T02:11:28.859187Z"
    }
   },
   "cell_type": "code",
   "source": [
    "prediction_proba_ea = model.predict(x_test_ea)\n",
    "y_predict_ea = prediction_proba_ea.argmax(axis=1)\n",
    "y_true_ea = y_test_ea.argmax(axis=1)"
   ],
   "id": "89fde183c2a55e11",
   "outputs": [
    {
     "name": "stderr",
     "output_type": "stream",
     "text": [
      "2024-08-24 22:11:28.902279: W tensorflow/core/platform/profile_utils/cpu_utils.cc:128] Failed to get CPU frequency: 0 Hz\n",
      "2024-08-24 22:11:28.963945: I tensorflow/core/grappler/optimizers/custom_graph_optimizer_registry.cc:112] Plugin optimizer for device_type GPU is enabled.\n"
     ]
    }
   ],
   "execution_count": 10
  },
  {
   "metadata": {
    "ExecuteTime": {
     "end_time": "2024-08-25T02:11:30.912126Z",
     "start_time": "2024-08-25T02:11:30.907344Z"
    }
   },
   "cell_type": "code",
   "source": [
    "accuracy_ea = accuracy_score(y_true_ea, y_predict_ea)\n",
    "accuracy_ea"
   ],
   "id": "e76a7df11a962ed",
   "outputs": [
    {
     "data": {
      "text/plain": [
       "0.4424892703862661"
      ]
     },
     "execution_count": 11,
     "metadata": {},
     "output_type": "execute_result"
    }
   ],
   "execution_count": 11
  },
  {
   "metadata": {},
   "cell_type": "markdown",
   "source": "### polish",
   "id": "80a917b433afda8"
  },
  {
   "metadata": {
    "ExecuteTime": {
     "end_time": "2024-08-25T02:11:34.502183Z",
     "start_time": "2024-08-25T02:11:34.467117Z"
    }
   },
   "cell_type": "code",
   "source": [
    "# load pickle file\n",
    "files = [\n",
    "         '../data_features_labels/Polish_Dataset.pkl']\n",
    "# files = ['Eastern_Asian_Dataset.pkl']\n",
    "x_all_list_po = []\n",
    "y_all_list_po = [] \n",
    "race_list = []\n",
    "for file in files:\n",
    "    \n",
    "    with open(file, 'rb') as f:\n",
    "        features, labels = pickle.load(f)\n",
    "    \n",
    "    for pic, label in zip(features, labels):\n",
    "        # plt.imshow(img_gray, cmap='binary_r')\n",
    "        x_all_list_po.append(pic)\n",
    "        y_all_list_po.append(label)\n",
    "        \n",
    "        # if file in ['../data_features_labels/EA_annotated_3Blue1Brown_final.pkl']:\n",
    "        #     race_list.append('EA')\n",
    "        # else:\n",
    "        #     race_list.append('Polish')"
   ],
   "id": "a1ec4ae0f3ecf553",
   "outputs": [],
   "execution_count": 12
  },
  {
   "metadata": {
    "ExecuteTime": {
     "end_time": "2024-08-25T02:11:35.127700Z",
     "start_time": "2024-08-25T02:11:35.118651Z"
    }
   },
   "cell_type": "code",
   "source": [
    "X_all_po = np.array(x_all_list_po).reshape(-1, 64, 64, 1)\n",
    "#one-hot encode target column\n",
    "Y_all_po = to_categorical(np.array(y_all_list_po))"
   ],
   "id": "d43222674b02691",
   "outputs": [],
   "execution_count": 13
  },
  {
   "metadata": {
    "ExecuteTime": {
     "end_time": "2024-08-25T02:11:35.638619Z",
     "start_time": "2024-08-25T02:11:35.636777Z"
    }
   },
   "cell_type": "code",
   "source": "label_names = ['Not Confused', 'Confused']",
   "id": "473f72ce8f4312e5",
   "outputs": [],
   "execution_count": 14
  },
  {
   "metadata": {
    "ExecuteTime": {
     "end_time": "2024-08-25T02:11:36.490280Z",
     "start_time": "2024-08-25T02:11:36.477825Z"
    }
   },
   "cell_type": "code",
   "source": "x_train_po, x_test_po, y_train_po, y_test_po = train_test_split(X_all_po, Y_all_po, test_size=0.2, random_state=42)\n",
   "id": "d2eb9e97c11d66e4",
   "outputs": [],
   "execution_count": 15
  },
  {
   "metadata": {
    "ExecuteTime": {
     "end_time": "2024-08-25T02:11:38.858218Z",
     "start_time": "2024-08-25T02:11:38.285881Z"
    }
   },
   "cell_type": "code",
   "source": [
    "prediction_proba_po = model.predict(x_test_po)\n",
    "y_predict_po = prediction_proba_po.argmax(axis=1)\n",
    "y_true_po = y_test_po.argmax(axis=1)"
   ],
   "id": "9dbb69a9bf154284",
   "outputs": [],
   "execution_count": 16
  },
  {
   "metadata": {
    "ExecuteTime": {
     "end_time": "2024-08-25T02:11:38.865990Z",
     "start_time": "2024-08-25T02:11:38.859468Z"
    }
   },
   "cell_type": "code",
   "source": [
    "accuracy_po = accuracy_score(y_true_po, y_predict_po)\n",
    "accuracy_po"
   ],
   "id": "12fcfc496ee5dff5",
   "outputs": [
    {
     "data": {
      "text/plain": [
       "0.9943473792394656"
      ]
     },
     "execution_count": 17,
     "metadata": {},
     "output_type": "execute_result"
    }
   ],
   "execution_count": 17
  },
  {
   "metadata": {
    "ExecuteTime": {
     "end_time": "2024-08-25T02:09:25.502808Z",
     "start_time": "2024-08-25T02:09:25.500995Z"
    }
   },
   "cell_type": "code",
   "source": "",
   "id": "26618464c4918370",
   "outputs": [],
   "execution_count": 40
  },
  {
   "metadata": {},
   "cell_type": "markdown",
   "source": "### Indian",
   "id": "1ceb1fe6af2f08fd"
  },
  {
   "metadata": {
    "ExecuteTime": {
     "end_time": "2024-08-25T02:11:43.785791Z",
     "start_time": "2024-08-25T02:11:43.734532Z"
    }
   },
   "cell_type": "code",
   "source": [
    "# load pickle file\n",
    "files = ['../data_features_labels/Train_crop.pkl', '../data_features_labels/Test_crop.pkl', '../data_features_labels/Validation_crop.pkl']\n",
    "# files = ['Eastern_Asian_Dataset.pkl']\n",
    "x_all_list_indian = []\n",
    "y_all_list_indian = [] \n",
    "race_list = []\n",
    "for file in files:\n",
    "    \n",
    "    with open(file, 'rb') as f:\n",
    "        features, labels = pickle.load(f)\n",
    "    \n",
    "    for pic, label in zip(features, labels):\n",
    "        # plt.imshow(img_gray, cmap='binary_r')\n",
    "        x_all_list_indian.append(pic)\n",
    "        y_all_list_indian.append(label)\n",
    "        \n",
    "        # if file in ['../data_features_labels/EA_annotated_3Blue1Brown_final.pkl']:\n",
    "        #     race_list.append('EA')\n",
    "        # else:\n",
    "        #     race_list.append('Polish')"
   ],
   "id": "115f1e03855c7e03",
   "outputs": [],
   "execution_count": 18
  },
  {
   "metadata": {
    "ExecuteTime": {
     "end_time": "2024-08-25T02:11:44.538946Z",
     "start_time": "2024-08-25T02:11:44.526743Z"
    }
   },
   "cell_type": "code",
   "source": [
    "X_all_indian = np.array(x_all_list_indian).reshape(-1, 64, 64, 1)\n",
    "#one-hot encode target column\n",
    "Y_all_indian = to_categorical(np.array(y_all_list_indian))"
   ],
   "id": "7c4f26a02478ad0d",
   "outputs": [],
   "execution_count": 19
  },
  {
   "metadata": {
    "ExecuteTime": {
     "end_time": "2024-08-25T02:11:44.976655Z",
     "start_time": "2024-08-25T02:11:44.974227Z"
    }
   },
   "cell_type": "code",
   "source": "label_names = ['Not Confused', 'Confused']",
   "id": "b5f950de74ecaabc",
   "outputs": [],
   "execution_count": 20
  },
  {
   "metadata": {
    "ExecuteTime": {
     "end_time": "2024-08-25T02:11:45.464963Z",
     "start_time": "2024-08-25T02:11:45.449414Z"
    }
   },
   "cell_type": "code",
   "source": "x_train_indian, x_test_indian, y_train_indian, y_test_indian = train_test_split(X_all_indian, Y_all_indian, test_size=0.2, random_state=42)\n",
   "id": "1c1a50e978d470a9",
   "outputs": [],
   "execution_count": 21
  },
  {
   "metadata": {
    "ExecuteTime": {
     "end_time": "2024-08-25T02:11:47.822260Z",
     "start_time": "2024-08-25T02:11:46.791773Z"
    }
   },
   "cell_type": "code",
   "source": [
    "prediction_proba_indian = model.predict(x_test_indian)\n",
    "y_predict_indian = prediction_proba_indian.argmax(axis=1)\n",
    "y_true_indian = y_test_indian.argmax(axis=1)"
   ],
   "id": "aa1651a22b288673",
   "outputs": [],
   "execution_count": 22
  },
  {
   "metadata": {
    "ExecuteTime": {
     "end_time": "2024-08-25T02:11:48.497180Z",
     "start_time": "2024-08-25T02:11:48.493443Z"
    }
   },
   "cell_type": "code",
   "source": [
    "accuracy_indian = accuracy_score(y_true_indian, y_predict_indian)\n",
    "accuracy_indian"
   ],
   "id": "5a7f522c363f9299",
   "outputs": [
    {
     "data": {
      "text/plain": [
       "0.45522698875468554"
      ]
     },
     "execution_count": 23,
     "metadata": {},
     "output_type": "execute_result"
    }
   ],
   "execution_count": 23
  },
  {
   "metadata": {
    "ExecuteTime": {
     "end_time": "2024-08-25T02:12:27.961691Z",
     "start_time": "2024-08-25T02:12:27.812502Z"
    }
   },
   "cell_type": "code",
   "source": [
    "fig, ax = plt.subplots(1, 1, figsize=(2, 4))\n",
    "sns.barplot([accuracy_po, accuracy_indian, accuracy_ea], ax=ax, color='k')\n",
    "ax.set_ylabel('Accuracy')\n",
    "ax.set_xticks([0, 1, 2])\n",
    "ax.set_ylim([0, 1])\n",
    "ax.set_xticklabels(['DevEmo', 'DAiSEE', 'EA'])\n",
    "fig.savefig('../figure_panels/DevEmo_on_all.svg', bbox_inches='tight', dpi=300)"
   ],
   "id": "8635f8de8876733c",
   "outputs": [
    {
     "data": {
      "text/plain": [
       "<Figure size 200x400 with 1 Axes>"
      ],
      "image/png": "[encoded data removed]"
     },
     "metadata": {},
     "output_type": "display_data"
    }
   ],
   "execution_count": 24
  },
  {
   "metadata": {
    "ExecuteTime": {
     "end_time": "2024-08-25T02:09:26.253807Z",
     "start_time": "2024-08-25T02:09:26.251803Z"
    }
   },
   "cell_type": "code",
   "source": "",
   "id": "542fad2fb928c45a",
   "outputs": [],
   "execution_count": 47
  }
 ],
 "metadata": {
  "kernelspec": {
   "display_name": "Python 3",
   "language": "python",
   "name": "python3"
  },
  "language_info": {
   "codemirror_mode": {
    "name": "ipython",
    "version": 2
   },
   "file_extension": ".py",
   "mimetype": "text/x-python",
   "name": "python",
   "nbconvert_exporter": "python",
   "pygments_lexer": "ipython2",
   "version": "2.7.6"
  }
 },
 "nbformat": 4,
 "nbformat_minor": 5
}
