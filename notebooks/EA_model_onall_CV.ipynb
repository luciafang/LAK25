{
 "cells": [
  {
   "cell_type": "code",
   "id": "initial_id",
   "metadata": {
    "collapsed": true,
    "ExecuteTime": {
     "end_time": "2024-11-02T16:26:54.176641Z",
     "start_time": "2024-11-02T16:26:51.948219Z"
    }
   },
   "source": [
    "import pickle\n",
    "\n",
    "import matplotlib.pyplot as plt\n",
    "import numpy as np\n",
    "import seaborn as sns\n",
    "from sklearn.metrics import accuracy_score\n",
    "from sklearn.model_selection import train_test_split\n",
    "from tensorflow.keras.layers import (\n",
    "\tConv2D,\n",
    "\tMaxPooling2D,\n",
    "\tAveragePooling2D,\n",
    "\tFlatten,\n",
    "    Input,\n",
    "\tDense,\n",
    ")\n",
    "from tensorflow.keras.models import Sequential\n",
    "from tensorflow.keras.utils import to_categorical"
   ],
   "outputs": [
    {
     "name": "stderr",
     "output_type": "stream",
     "text": [
      "/Users/alexanderhsu/Documents/GitHub/ICSE_2025/venv/lib/python3.9/site-packages/urllib3/__init__.py:35: NotOpenSSLWarning: urllib3 v2 only supports OpenSSL 1.1.1+, currently the 'ssl' module is compiled with 'LibreSSL 2.8.3'. See: https://github.com/urllib3/urllib3/issues/3020\n",
      "  warnings.warn(\n"
     ]
    }
   ],
   "execution_count": 2
  },
  {
   "metadata": {},
   "cell_type": "markdown",
   "source": "Consruct emotion model, download and load weights (Emotion.py in Deepface)",
   "id": "6edb197c5376cae4"
  },
  {
   "metadata": {
    "ExecuteTime": {
     "end_time": "2024-11-02T16:26:54.179479Z",
     "start_time": "2024-11-02T16:26:54.177597Z"
    }
   },
   "cell_type": "code",
   "source": [
    "input_dim_ = 64\n",
    "num_classes = 2\n",
    "label_names = ['Not Confused', 'Confused']"
   ],
   "id": "6d541428d1daadf2",
   "outputs": [],
   "execution_count": 3
  },
  {
   "metadata": {
    "ExecuteTime": {
     "end_time": "2024-11-02T16:26:54.284179Z",
     "start_time": "2024-11-02T16:26:54.180143Z"
    }
   },
   "cell_type": "code",
   "source": [
    "files = ['../data_features_labels/EA_annotated_3Blue1Brown_final.pkl']\n",
    "x_all_list_ea = []\n",
    "y_all_list_ea = [] \n",
    "for file in files:\n",
    "    with open(file, 'rb') as f:\n",
    "        features, labels = pickle.load(f)\n",
    "    for pic, label in zip(features, labels):\n",
    "        x_all_list_ea.append(pic)\n",
    "        y_all_list_ea.append(label)\n",
    "X_all_ea = np.array(x_all_list_ea).reshape(-1, 64, 64, 1)\n",
    "Y_all_ea = to_categorical(np.array(y_all_list_ea))\n",
    "\n",
    "files = ['../data_features_labels/Polish_Dataset.pkl']\n",
    "x_all_list_po = []\n",
    "y_all_list_po = [] \n",
    "for file in files:\n",
    "    with open(file, 'rb') as f:\n",
    "        features, labels = pickle.load(f)\n",
    "    for pic, label in zip(features, labels):\n",
    "        x_all_list_po.append(pic)\n",
    "        y_all_list_po.append(label)\n",
    "X_all_po = np.array(x_all_list_po).reshape(-1, 64, 64, 1)\n",
    "Y_all_po = to_categorical(np.array(y_all_list_po))\n",
    "\n",
    "\n",
    "files = ['../data_features_labels/Train_crop.pkl', '../data_features_labels/Test_crop.pkl', '../data_features_labels/Validation_crop.pkl']\n",
    "x_all_list_indian = []\n",
    "y_all_list_indian = [] \n",
    "for file in files:\n",
    "    with open(file, 'rb') as f:\n",
    "        features, labels = pickle.load(f)\n",
    "    for pic, label in zip(features, labels):\n",
    "        x_all_list_indian.append(pic)\n",
    "        y_all_list_indian.append(label)\n",
    "X_all_indian = np.array(x_all_list_indian).reshape(-1, 64, 64, 1)\n",
    "Y_all_indian = to_categorical(np.array(y_all_list_indian))\n"
   ],
   "id": "b151d3bedb090a4f",
   "outputs": [],
   "execution_count": 4
  },
  {
   "metadata": {
    "ExecuteTime": {
     "end_time": "2024-11-02T16:38:43.442213Z",
     "start_time": "2024-11-02T16:38:35.470335Z"
    }
   },
   "cell_type": "code",
   "source": [
    "accuracy_ea_list = []\n",
    "accuracy_po_list = []\n",
    "accuracy_indian_list = []\n",
    "\n",
    "\n",
    "for seed in np.arange(2024, 2034):\n",
    "    model = Sequential()\n",
    "    model.add(Input(shape=(64, 64, 1)))\n",
    "    model.add(Conv2D(64, (5, 5), activation=\"relu\"))\n",
    "    model.add(MaxPooling2D(pool_size=(5, 5), strides=(2, 2)))\n",
    "    model.add(Conv2D(128, (3, 3), activation=\"relu\"))\n",
    "    model.add(AveragePooling2D(pool_size=(3, 3), strides=(2, 2)))\n",
    "    model.add(Flatten())\n",
    "    model.add(Dense(num_classes, activation=\"softmax\"))\n",
    "    model.compile(optimizer='adam', loss='categorical_crossentropy', metrics=['accuracy'])\n",
    "    \n",
    "    model.load_weights(f'../models/asian_confusion_weights_final_{seed}.h5')\n",
    "    \n",
    "    # Evaluate on EA dataset\n",
    "    x_train_ea, x_test_ea, y_train_ea, y_test_ea = train_test_split(X_all_ea, Y_all_ea, test_size=0.2, random_state=seed)\n",
    "    prediction_proba_ea = model.predict(x_test_ea, verbose=0)\n",
    "    y_predict_ea = prediction_proba_ea.argmax(axis=1)\n",
    "    y_true_ea = y_test_ea.argmax(axis=1)\n",
    "    accuracy_ea = accuracy_score(y_true_ea, y_predict_ea)\n",
    "    accuracy_ea_list.append(accuracy_ea)\n",
    "    \n",
    "    # Evaluate on PO dataset\n",
    "    x_train_po, x_test_po, y_train_po, y_test_po = train_test_split(X_all_po, Y_all_po, test_size=0.2, random_state=seed)\n",
    "    prediction_proba_po = model.predict(x_test_po, verbose=0)\n",
    "    y_predict_po = prediction_proba_po.argmax(axis=1)\n",
    "    y_true_po = y_test_po.argmax(axis=1)\n",
    "    accuracy_po = accuracy_score(y_true_po, y_predict_po)\n",
    "    accuracy_po_list.append(accuracy_po)\n",
    "    \n",
    "    # Evaluate on Indian dataset\n",
    "    x_train_indian, x_test_indian, y_train_indian, y_test_indian = train_test_split(X_all_indian, Y_all_indian, test_size=0.2, random_state=seed)\n",
    "    prediction_proba_indian = model.predict(x_test_indian, verbose=0)\n",
    "    y_predict_indian = prediction_proba_indian.argmax(axis=1)\n",
    "    y_true_indian = y_test_indian.argmax(axis=1)\n",
    "    accuracy_indian = accuracy_score(y_true_indian, y_predict_indian)\n",
    "    accuracy_indian_list.append(accuracy_indian)"
   ],
   "id": "37d83c77dc152243",
   "outputs": [],
   "execution_count": 15
  },
  {
   "metadata": {
    "ExecuteTime": {
     "end_time": "2024-11-02T16:38:43.445494Z",
     "start_time": "2024-11-02T16:38:43.443259Z"
    }
   },
   "cell_type": "code",
   "source": [
    "# Calculate mean and standard deviation for error bars\n",
    "mean_accuracies = [np.mean(accuracy_ea_list), np.mean(accuracy_po_list), np.mean(accuracy_indian_list)]\n",
    "std_accuracies = [np.std(accuracy_ea_list), np.std(accuracy_po_list), np.std(accuracy_indian_list)]"
   ],
   "id": "8a7aa793b6b5b3e4",
   "outputs": [],
   "execution_count": 16
  },
  {
   "metadata": {
    "ExecuteTime": {
     "end_time": "2024-11-03T04:26:36.552101Z",
     "start_time": "2024-11-03T04:26:36.459681Z"
    }
   },
   "cell_type": "code",
   "source": [
    "# Define colors for each group\n",
    "colors = ['#C25759', '#599CB4', '#843b62']  # EA, Polish (PO), Indian\n",
    "\n",
    "# Plot with error bars\n",
    "fig, ax = plt.subplots(1, 1, figsize=(3, 5))\n",
    "sns.barplot(x=['EA', 'DevEmo', 'DAiSEE'], y=mean_accuracies, color='k', ax=ax)\n",
    "\n",
    "# Add error bars manually\n",
    "for i, (mean, std, color) in enumerate(zip(mean_accuracies, std_accuracies, colors)):\n",
    "    ax.errorbar(i, mean, yerr=std, fmt='none', capsize=5, capthick=1.5, color=color)\n",
    "\n",
    "ax.set_ylabel('Accuracy')\n",
    "ax.set_ylim([0, 1])\n",
    "fig.savefig('../figure_panels/EAmodel_testonALL_CV.svg', bbox_inches='tight', dpi=300)\n",
    "plt.show()"
   ],
   "id": "b6c951dd6677ac9d",
   "outputs": [
    {
     "data": {
      "text/plain": [
       "<Figure size 300x500 with 1 Axes>"
      ],
      "image/png": "[encoded data removed]"
     },
     "metadata": {},
     "output_type": "display_data"
    }
   ],
   "execution_count": 18
  },
  {
   "metadata": {
    "ExecuteTime": {
     "end_time": "2024-08-25T02:09:26.253807Z",
     "start_time": "2024-08-25T02:09:26.251803Z"
    }
   },
   "cell_type": "code",
   "source": "",
   "id": "542fad2fb928c45a",
   "outputs": [],
   "execution_count": 47
  }
 ],
 "metadata": {
  "kernelspec": {
   "display_name": "Python 3",
   "language": "python",
   "name": "python3"
  },
  "language_info": {
   "codemirror_mode": {
    "name": "ipython",
    "version": 2
   },
   "file_extension": ".py",
   "mimetype": "text/x-python",
   "name": "python",
   "nbconvert_exporter": "python",
   "pygments_lexer": "ipython2",
   "version": "2.7.6"
  }
 },
 "nbformat": 4,
 "nbformat_minor": 5
}
