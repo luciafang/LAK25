{
 "cells": [
  {
   "cell_type": "code",
   "id": "initial_id",
   "metadata": {
    "collapsed": true,
    "ExecuteTime": {
     "end_time": "2024-06-09T21:43:14.064017Z",
     "start_time": "2024-06-09T21:43:14.059483Z"
    }
   },
   "source": [
    "import pandas as pd\n",
    "import matplotlib.pyplot as plt\n",
    "import seaborn as sns\n",
    "import numpy as np\n",
    "from pathlib import Path\n",
    "import glob"
   ],
   "outputs": [],
   "execution_count": 108
  },
  {
   "metadata": {},
   "cell_type": "code",
   "outputs": [],
   "execution_count": null,
   "source": "",
   "id": "1cfdde8d2d9780f6"
  },
  {
   "metadata": {
    "ExecuteTime": {
     "end_time": "2024-06-09T21:41:54.932405Z",
     "start_time": "2024-06-09T21:41:54.926580Z"
    }
   },
   "cell_type": "code",
   "source": [
    "f = open(\"transcripts/20190207/text_T12-14_mins.txt\", \"r\")\n",
    "transcript_texts = f.read()\n",
    "transcript_texts"
   ],
   "id": "2668a2ad0d19c6df",
   "outputs": [
    {
     "data": {
      "text/plain": [
       "\"[00:00:00,000]By the way, is this anyone's first handbag?\\n[00:00:24,000]How many people have done it?\\n[00:00:44,000]Okay, start to wrap up if you're still going, that's fine.\\n[00:00:53,000]Start to coalesce them if you can.\\n[00:01:03,000]Is anyone still on the wait list?\\n[00:01:13,000]Is there anything that I don't know about?\\n[00:01:26,000]Maybe people can sense there's a pop quiz coming.\\n[00:01:46,000]Okay, we have them all?\\n[00:01:54,000]Yes, final call?\\n[00:01:56,000]Okay, so very quickly here, PowerPoint.\""
      ]
     },
     "execution_count": 102,
     "metadata": {},
     "output_type": "execute_result"
    }
   ],
   "execution_count": 102
  },
  {
   "metadata": {
    "ExecuteTime": {
     "end_time": "2024-06-09T21:42:03.660883Z",
     "start_time": "2024-06-09T21:42:03.652540Z"
    }
   },
   "cell_type": "code",
   "source": [
    "import pandas as pd\n",
    "\n",
    "with open('transcripts/20190207/text_T12-14_mins.txt', 'r') as f:\n",
    "    res = f.read()\n",
    "\n",
    "records = [list(map(str.strip, line.strip().split(']'))) for line in res.split('\\n')]\n",
    "records"
   ],
   "id": "9cf0424b8dd275dc",
   "outputs": [
    {
     "data": {
      "text/plain": [
       "[['[00:00:00,000', \"By the way, is this anyone's first handbag?\"],\n",
       " ['[00:00:24,000', 'How many people have done it?'],\n",
       " ['[00:00:44,000',\n",
       "  \"Okay, start to wrap up if you're still going, that's fine.\"],\n",
       " ['[00:00:53,000', 'Start to coalesce them if you can.'],\n",
       " ['[00:01:03,000', 'Is anyone still on the wait list?'],\n",
       " ['[00:01:13,000', \"Is there anything that I don't know about?\"],\n",
       " ['[00:01:26,000', \"Maybe people can sense there's a pop quiz coming.\"],\n",
       " ['[00:01:46,000', 'Okay, we have them all?'],\n",
       " ['[00:01:54,000', 'Yes, final call?'],\n",
       " ['[00:01:56,000', 'Okay, so very quickly here, PowerPoint.']]"
      ]
     },
     "execution_count": 103,
     "metadata": {},
     "output_type": "execute_result"
    }
   ],
   "execution_count": 103
  },
  {
   "metadata": {
    "ExecuteTime": {
     "end_time": "2024-06-09T21:43:19.273095Z",
     "start_time": "2024-06-09T21:43:19.265161Z"
    }
   },
   "cell_type": "code",
   "source": [
    "text_files = glob.glob('transcripts/20190207/*.txt')\n",
    "text_files"
   ],
   "id": "e204def4745fe501",
   "outputs": [
    {
     "data": {
      "text/plain": [
       "['transcripts/20190207/text_T78-80_mins.txt',\n",
       " 'transcripts/20190207/text_T0-2_mins.txt',\n",
       " 'transcripts/20190207/text_T58-60_mins.txt',\n",
       " 'transcripts/20190207/text_T72-74_mins.txt',\n",
       " 'transcripts/20190207/text_T42-44_mins.txt',\n",
       " 'transcripts/20190207/text_T22-24_mins.txt',\n",
       " 'transcripts/20190207/text_T2-4_mins.txt',\n",
       " 'transcripts/20190207/text_T12-14_mins.txt',\n",
       " 'transcripts/20190207/text_T18-20_mins.txt',\n",
       " 'transcripts/20190207/text_T32-34_mins.txt',\n",
       " 'transcripts/20190207/text_T52-54_mins.txt',\n",
       " 'transcripts/20190207/text_T62-64_mins.txt',\n",
       " 'transcripts/20190207/text_T4-6_mins.txt',\n",
       " 'transcripts/20190207/text_T38-40_mins.txt',\n",
       " 'transcripts/20190207/text_T70-72_mins.txt',\n",
       " 'transcripts/20190207/text_T40-42_mins.txt',\n",
       " 'transcripts/20190207/text_T20-22_mins.txt',\n",
       " 'transcripts/20190207/text_T10-12_mins.txt',\n",
       " 'transcripts/20190207/text_T36-38_mins.txt',\n",
       " 'transcripts/20190207/text_T64-66_mins.txt',\n",
       " 'transcripts/20190207/text_T54-56_mins.txt',\n",
       " 'transcripts/20190207/text_T66-68_mins.txt',\n",
       " 'transcripts/20190207/text_T68-70_mins.txt',\n",
       " 'transcripts/20190207/text_T34-36_mins.txt',\n",
       " 'transcripts/20190207/text_T56-58_mins.txt',\n",
       " 'transcripts/20190207/text_T46-48_mins.txt',\n",
       " 'transcripts/20190207/text_T14-16_mins.txt',\n",
       " 'transcripts/20190207/text_T48-50_mins.txt',\n",
       " 'transcripts/20190207/text_T24-26_mins.txt',\n",
       " 'transcripts/20190207/text_T76-78_mins.txt',\n",
       " 'transcripts/20190207/text_T16-18_mins.txt',\n",
       " 'transcripts/20190207/text_T44-46_mins.txt',\n",
       " 'transcripts/20190207/text_T74-76_mins.txt',\n",
       " 'transcripts/20190207/text_T28-30_mins.txt',\n",
       " 'transcripts/20190207/text_T26-28_mins.txt',\n",
       " 'transcripts/20190207/text_T6-8_mins.txt',\n",
       " 'transcripts/20190207/text_T8-10_mins.txt',\n",
       " 'transcripts/20190207/text_T30-32_mins.txt',\n",
       " 'transcripts/20190207/text_T50-52_mins.txt',\n",
       " 'transcripts/20190207/text_T60-62_mins.txt']"
      ]
     },
     "execution_count": 109,
     "metadata": {},
     "output_type": "execute_result"
    }
   ],
   "execution_count": 109
  },
  {
   "metadata": {
    "ExecuteTime": {
     "end_time": "2024-06-09T21:42:13.256123Z",
     "start_time": "2024-06-09T21:42:13.249247Z"
    }
   },
   "cell_type": "code",
   "source": [
    "start_time_min = Path(f.name).name.split('T')[1].split('-')[0]\n",
    "start_time_min"
   ],
   "id": "8eb87bb5b4ace4ab",
   "outputs": [
    {
     "data": {
      "text/plain": [
       "'12'"
      ]
     },
     "execution_count": 104,
     "metadata": {},
     "output_type": "execute_result"
    }
   ],
   "execution_count": 104
  },
  {
   "metadata": {
    "ExecuteTime": {
     "end_time": "2024-06-09T21:26:36.538558Z",
     "start_time": "2024-06-09T21:26:36.535160Z"
    }
   },
   "cell_type": "code",
   "source": [
    "l = []\n",
    "for record in records:\n",
    "    d = {}\n",
    "    d['timestamp'] = record[0].replace('[', '').split(',')[0]\n",
    "    for r in record[1:]:\n",
    "        # key = r.split(' ')[1]\n",
    "        # value = r.split(' ')[0]\n",
    "        key = 'transcript'\n",
    "        d[key] = r\n",
    "\n",
    "    l.append(d)"
   ],
   "id": "58b5599f05e40e3",
   "outputs": [],
   "execution_count": 52
  },
  {
   "metadata": {
    "ExecuteTime": {
     "end_time": "2024-06-09T21:29:43.229124Z",
     "start_time": "2024-06-09T21:29:43.224086Z"
    }
   },
   "cell_type": "code",
   "source": "l",
   "id": "f50d9b13830a6f58",
   "outputs": [
    {
     "data": {
      "text/plain": [
       "[{'timestamp': '00:00:00',\n",
       "  'transcript': \"By the way, is this anyone's first handbag?\"},\n",
       " {'timestamp': '00:00:24', 'transcript': 'How many people have done it?'},\n",
       " {'timestamp': '00:00:44',\n",
       "  'transcript': \"Okay, start to wrap up if you're still going, that's fine.\"},\n",
       " {'timestamp': '00:00:53', 'transcript': 'Start to coalesce them if you can.'},\n",
       " {'timestamp': '00:01:03', 'transcript': 'Is anyone still on the wait list?'},\n",
       " {'timestamp': '00:01:13',\n",
       "  'transcript': \"Is there anything that I don't know about?\"},\n",
       " {'timestamp': '00:01:26',\n",
       "  'transcript': \"Maybe people can sense there's a pop quiz coming.\"},\n",
       " {'timestamp': '00:01:46', 'transcript': 'Okay, we have them all?'},\n",
       " {'timestamp': '00:01:54', 'transcript': 'Yes, final call?'},\n",
       " {'timestamp': '00:01:56',\n",
       "  'transcript': 'Okay, so very quickly here, PowerPoint.'}]"
      ]
     },
     "execution_count": 67,
     "metadata": {},
     "output_type": "execute_result"
    }
   ],
   "execution_count": 67
  },
  {
   "metadata": {
    "ExecuteTime": {
     "end_time": "2024-06-09T21:42:46.817811Z",
     "start_time": "2024-06-09T21:42:46.804579Z"
    }
   },
   "cell_type": "code",
   "source": [
    "df = pd.DataFrame(l).fillna(0)\n",
    "pd.to_datetime(df['timestamp'], format='%H:%M:%S')\n",
    "df['timestamp'] = (df['timestamp'] + pd.Timedelta(minutes=int(start_time_min))).astype(str).str.split('0 days ').str[-1]\n",
    "# pd.to_datetime(df['timestamp'], format='%d %H:%M:%S').dt.strftime('%H:%M:%S')"
   ],
   "id": "c406f879fe64b804",
   "outputs": [],
   "execution_count": 105
  },
  {
   "metadata": {
    "ExecuteTime": {
     "end_time": "2024-06-09T21:42:50.078453Z",
     "start_time": "2024-06-09T21:42:50.064139Z"
    }
   },
   "cell_type": "code",
   "source": "df",
   "id": "2403442a9d66243f",
   "outputs": [
    {
     "data": {
      "text/plain": [
       "  timestamp                                         transcript\n",
       "0  00:12:00        By the way, is this anyone's first handbag?\n",
       "1  00:12:24                      How many people have done it?\n",
       "2  00:12:44  Okay, start to wrap up if you're still going, ...\n",
       "3  00:12:53                 Start to coalesce them if you can.\n",
       "4  00:13:03                  Is anyone still on the wait list?\n",
       "5  00:13:13         Is there anything that I don't know about?\n",
       "6  00:13:26  Maybe people can sense there's a pop quiz coming.\n",
       "7  00:13:46                            Okay, we have them all?\n",
       "8  00:13:54                                   Yes, final call?\n",
       "9  00:13:56            Okay, so very quickly here, PowerPoint."
      ],
      "text/html": [
       "<div>\n",
       "<style scoped>\n",
       "    .dataframe tbody tr th:only-of-type {\n",
       "        vertical-align: middle;\n",
       "    }\n",
       "\n",
       "    .dataframe tbody tr th {\n",
       "        vertical-align: top;\n",
       "    }\n",
       "\n",
       "    .dataframe thead th {\n",
       "        text-align: right;\n",
       "    }\n",
       "</style>\n",
       "<table border=\"1\" class=\"dataframe\">\n",
       "  <thead>\n",
       "    <tr style=\"text-align: right;\">\n",
       "      <th></th>\n",
       "      <th>timestamp</th>\n",
       "      <th>transcript</th>\n",
       "    </tr>\n",
       "  </thead>\n",
       "  <tbody>\n",
       "    <tr>\n",
       "      <th>0</th>\n",
       "      <td>00:12:00</td>\n",
       "      <td>By the way, is this anyone's first handbag?</td>\n",
       "    </tr>\n",
       "    <tr>\n",
       "      <th>1</th>\n",
       "      <td>00:12:24</td>\n",
       "      <td>How many people have done it?</td>\n",
       "    </tr>\n",
       "    <tr>\n",
       "      <th>2</th>\n",
       "      <td>00:12:44</td>\n",
       "      <td>Okay, start to wrap up if you're still going, ...</td>\n",
       "    </tr>\n",
       "    <tr>\n",
       "      <th>3</th>\n",
       "      <td>00:12:53</td>\n",
       "      <td>Start to coalesce them if you can.</td>\n",
       "    </tr>\n",
       "    <tr>\n",
       "      <th>4</th>\n",
       "      <td>00:13:03</td>\n",
       "      <td>Is anyone still on the wait list?</td>\n",
       "    </tr>\n",
       "    <tr>\n",
       "      <th>5</th>\n",
       "      <td>00:13:13</td>\n",
       "      <td>Is there anything that I don't know about?</td>\n",
       "    </tr>\n",
       "    <tr>\n",
       "      <th>6</th>\n",
       "      <td>00:13:26</td>\n",
       "      <td>Maybe people can sense there's a pop quiz coming.</td>\n",
       "    </tr>\n",
       "    <tr>\n",
       "      <th>7</th>\n",
       "      <td>00:13:46</td>\n",
       "      <td>Okay, we have them all?</td>\n",
       "    </tr>\n",
       "    <tr>\n",
       "      <th>8</th>\n",
       "      <td>00:13:54</td>\n",
       "      <td>Yes, final call?</td>\n",
       "    </tr>\n",
       "    <tr>\n",
       "      <th>9</th>\n",
       "      <td>00:13:56</td>\n",
       "      <td>Okay, so very quickly here, PowerPoint.</td>\n",
       "    </tr>\n",
       "  </tbody>\n",
       "</table>\n",
       "</div>"
      ]
     },
     "execution_count": 106,
     "metadata": {},
     "output_type": "execute_result"
    }
   ],
   "execution_count": 106
  },
  {
   "metadata": {
    "ExecuteTime": {
     "end_time": "2024-06-09T21:43:05.798993Z",
     "start_time": "2024-06-09T21:43:05.788064Z"
    }
   },
   "cell_type": "code",
   "source": "df.transcript[(df.timestamp < \"00:13:00\") & (df.timestamp > \"00:12:50\")]",
   "id": "157dffcd13f7ad6",
   "outputs": [
    {
     "data": {
      "text/plain": [
       "3    Start to coalesce them if you can.\n",
       "Name: transcript, dtype: object"
      ]
     },
     "execution_count": 107,
     "metadata": {},
     "output_type": "execute_result"
    }
   ],
   "execution_count": 107
  },
  {
   "metadata": {},
   "cell_type": "code",
   "outputs": [],
   "execution_count": null,
   "source": "",
   "id": "4a3d05a042ec4847"
  },
  {
   "metadata": {},
   "cell_type": "code",
   "outputs": [],
   "execution_count": null,
   "source": "",
   "id": "7f604db00712b7c9"
  },
  {
   "metadata": {
    "ExecuteTime": {
     "end_time": "2024-06-09T21:40:03.116075Z",
     "start_time": "2024-06-09T21:40:03.106759Z"
    }
   },
   "cell_type": "code",
   "source": "df.transcript[(df.timestamp < \"00:13:00\") & (df.timestamp > \"00:12:50\")]",
   "id": "8fbf1676ca13162f",
   "outputs": [
    {
     "data": {
      "text/plain": [
       "3    Start to coalesce them if you can.\n",
       "Name: transcript, dtype: object"
      ]
     },
     "execution_count": 99,
     "metadata": {},
     "output_type": "execute_result"
    }
   ],
   "execution_count": 99
  },
  {
   "metadata": {
    "ExecuteTime": {
     "end_time": "2024-06-09T21:32:49.351343Z",
     "start_time": "2024-06-09T21:32:49.346189Z"
    }
   },
   "cell_type": "code",
   "source": "df.head()",
   "id": "2b77369f0d026eae",
   "outputs": [
    {
     "data": {
      "text/plain": [
       "         timestamp                                         transcript\n",
       "0  0 days 00:12:00        By the way, is this anyone's first handbag?\n",
       "1  0 days 00:12:24                      How many people have done it?\n",
       "2  0 days 00:12:44  Okay, start to wrap up if you're still going, ...\n",
       "3  0 days 00:12:53                 Start to coalesce them if you can.\n",
       "4  0 days 00:13:03                  Is anyone still on the wait list?"
      ],
      "text/html": [
       "<div>\n",
       "<style scoped>\n",
       "    .dataframe tbody tr th:only-of-type {\n",
       "        vertical-align: middle;\n",
       "    }\n",
       "\n",
       "    .dataframe tbody tr th {\n",
       "        vertical-align: top;\n",
       "    }\n",
       "\n",
       "    .dataframe thead th {\n",
       "        text-align: right;\n",
       "    }\n",
       "</style>\n",
       "<table border=\"1\" class=\"dataframe\">\n",
       "  <thead>\n",
       "    <tr style=\"text-align: right;\">\n",
       "      <th></th>\n",
       "      <th>timestamp</th>\n",
       "      <th>transcript</th>\n",
       "    </tr>\n",
       "  </thead>\n",
       "  <tbody>\n",
       "    <tr>\n",
       "      <th>0</th>\n",
       "      <td>0 days 00:12:00</td>\n",
       "      <td>By the way, is this anyone's first handbag?</td>\n",
       "    </tr>\n",
       "    <tr>\n",
       "      <th>1</th>\n",
       "      <td>0 days 00:12:24</td>\n",
       "      <td>How many people have done it?</td>\n",
       "    </tr>\n",
       "    <tr>\n",
       "      <th>2</th>\n",
       "      <td>0 days 00:12:44</td>\n",
       "      <td>Okay, start to wrap up if you're still going, ...</td>\n",
       "    </tr>\n",
       "    <tr>\n",
       "      <th>3</th>\n",
       "      <td>0 days 00:12:53</td>\n",
       "      <td>Start to coalesce them if you can.</td>\n",
       "    </tr>\n",
       "    <tr>\n",
       "      <th>4</th>\n",
       "      <td>0 days 00:13:03</td>\n",
       "      <td>Is anyone still on the wait list?</td>\n",
       "    </tr>\n",
       "  </tbody>\n",
       "</table>\n",
       "</div>"
      ]
     },
     "execution_count": 78,
     "metadata": {},
     "output_type": "execute_result"
    }
   ],
   "execution_count": 78
  },
  {
   "metadata": {
    "ExecuteTime": {
     "end_time": "2024-04-22T13:43:37.826986Z",
     "start_time": "2024-04-22T13:43:37.820188Z"
    }
   },
   "cell_type": "code",
   "source": "np.unique(sample.iloc[0, 1:].values, return_counts=True)",
   "id": "e8f2ec60db643364",
   "outputs": [
    {
     "data": {
      "text/plain": [
       "(array(['fear', 'neutral', 'none', 'sad'], dtype=object),\n",
       " array([ 2,  1, 38,  2]))"
      ]
     },
     "execution_count": 24,
     "metadata": {},
     "output_type": "execute_result"
    }
   ],
   "execution_count": 24
  },
  {
   "metadata": {
    "ExecuteTime": {
     "end_time": "2024-04-22T13:59:55.209653Z",
     "start_time": "2024-04-22T13:59:55.199219Z"
    }
   },
   "cell_type": "code",
   "source": [
    "emotions_list = ['sad', 'angry', 'surprise', 'fear', 'happy', 'disgust', 'neutral']\n",
    "\n",
    "all_emotion_ratios = []\n",
    "for row in range(sample.shape[0]):\n",
    "    emotion_ratios = {key:0 for key in emotions_list}\n",
    "    emotion, counts = np.unique(sample.iloc[row, 1:].values, return_counts=True)\n",
    "    idx_none = emotion == 'none'\n",
    "    emotion_not_none = emotion[~idx_none]\n",
    "    ratio = counts[~idx_none]/np.sum(counts[~idx_none])\n",
    "    for emo, rats in zip(emotion_not_none, ratio):\n",
    "        emotion_ratios[emo] = rats\n",
    "    all_emotion_ratios.append(emotion_ratios)"
   ],
   "id": "3840530f84d02f18",
   "outputs": [],
   "execution_count": 32
  },
  {
   "metadata": {
    "ExecuteTime": {
     "end_time": "2024-04-22T13:59:57.156483Z",
     "start_time": "2024-04-22T13:59:57.149972Z"
    }
   },
   "cell_type": "code",
   "source": "all_emotion_ratios",
   "id": "7a498190b54ebdd6",
   "outputs": [
    {
     "data": {
      "text/plain": [
       "[{'sad': 0.4,\n",
       "  'angry': 0,\n",
       "  'surprise': 0,\n",
       "  'fear': 0.4,\n",
       "  'happy': 0,\n",
       "  'disgust': 0,\n",
       "  'neutral': 0.2},\n",
       " {'sad': 0.4,\n",
       "  'angry': 0,\n",
       "  'surprise': 0,\n",
       "  'fear': 0.4,\n",
       "  'happy': 0,\n",
       "  'disgust': 0,\n",
       "  'neutral': 0.2},\n",
       " {'sad': 0,\n",
       "  'angry': 0.5,\n",
       "  'surprise': 0,\n",
       "  'fear': 0.5,\n",
       "  'happy': 0,\n",
       "  'disgust': 0,\n",
       "  'neutral': 0},\n",
       " {'sad': 0.5,\n",
       "  'angry': 0,\n",
       "  'surprise': 0,\n",
       "  'fear': 0.5,\n",
       "  'happy': 0,\n",
       "  'disgust': 0,\n",
       "  'neutral': 0},\n",
       " {'sad': 0,\n",
       "  'angry': 0,\n",
       "  'surprise': 0,\n",
       "  'fear': 0,\n",
       "  'happy': 0,\n",
       "  'disgust': 0,\n",
       "  'neutral': 0},\n",
       " {'sad': 0.2,\n",
       "  'angry': 0.3,\n",
       "  'surprise': 0,\n",
       "  'fear': 0.3,\n",
       "  'happy': 0,\n",
       "  'disgust': 0,\n",
       "  'neutral': 0.2},\n",
       " {'sad': 0.5,\n",
       "  'angry': 0,\n",
       "  'surprise': 0,\n",
       "  'fear': 0,\n",
       "  'happy': 0,\n",
       "  'disgust': 0.125,\n",
       "  'neutral': 0.375},\n",
       " {'sad': 0.36363636363636365,\n",
       "  'angry': 0.09090909090909091,\n",
       "  'surprise': 0,\n",
       "  'fear': 0.36363636363636365,\n",
       "  'happy': 0,\n",
       "  'disgust': 0,\n",
       "  'neutral': 0.18181818181818182},\n",
       " {'sad': 0.3,\n",
       "  'angry': 0.2,\n",
       "  'surprise': 0.1,\n",
       "  'fear': 0.3,\n",
       "  'happy': 0,\n",
       "  'disgust': 0,\n",
       "  'neutral': 0.1},\n",
       " {'sad': 0,\n",
       "  'angry': 0,\n",
       "  'surprise': 0,\n",
       "  'fear': 0,\n",
       "  'happy': 0,\n",
       "  'disgust': 0,\n",
       "  'neutral': 1.0},\n",
       " {'sad': 0.1111111111111111,\n",
       "  'angry': 0.2222222222222222,\n",
       "  'surprise': 0.1111111111111111,\n",
       "  'fear': 0.3333333333333333,\n",
       "  'happy': 0,\n",
       "  'disgust': 0,\n",
       "  'neutral': 0.2222222222222222},\n",
       " {'sad': 0.25,\n",
       "  'angry': 0.25,\n",
       "  'surprise': 0,\n",
       "  'fear': 0.25,\n",
       "  'happy': 0,\n",
       "  'disgust': 0,\n",
       "  'neutral': 0.25},\n",
       " {'sad': 0.21428571428571427,\n",
       "  'angry': 0.21428571428571427,\n",
       "  'surprise': 0.07142857142857142,\n",
       "  'fear': 0.14285714285714285,\n",
       "  'happy': 0.07142857142857142,\n",
       "  'disgust': 0,\n",
       "  'neutral': 0.2857142857142857},\n",
       " {'sad': 0.2,\n",
       "  'angry': 0.4,\n",
       "  'surprise': 0,\n",
       "  'fear': 0.1,\n",
       "  'happy': 0.1,\n",
       "  'disgust': 0,\n",
       "  'neutral': 0.2},\n",
       " {'sad': 0.17647058823529413,\n",
       "  'angry': 0.058823529411764705,\n",
       "  'surprise': 0,\n",
       "  'fear': 0.17647058823529413,\n",
       "  'happy': 0.23529411764705882,\n",
       "  'disgust': 0,\n",
       "  'neutral': 0.35294117647058826},\n",
       " {'sad': 0.1,\n",
       "  'angry': 0,\n",
       "  'surprise': 0,\n",
       "  'fear': 0.4,\n",
       "  'happy': 0.1,\n",
       "  'disgust': 0,\n",
       "  'neutral': 0.4},\n",
       " {'sad': 0.16666666666666666,\n",
       "  'angry': 0,\n",
       "  'surprise': 0,\n",
       "  'fear': 0.3333333333333333,\n",
       "  'happy': 0.5,\n",
       "  'disgust': 0,\n",
       "  'neutral': 0},\n",
       " {'sad': 0.38461538461538464,\n",
       "  'angry': 0,\n",
       "  'surprise': 0.07692307692307693,\n",
       "  'fear': 0.3076923076923077,\n",
       "  'happy': 0,\n",
       "  'disgust': 0,\n",
       "  'neutral': 0.23076923076923078},\n",
       " {'sad': 0.23076923076923078,\n",
       "  'angry': 0.07692307692307693,\n",
       "  'surprise': 0.07692307692307693,\n",
       "  'fear': 0.46153846153846156,\n",
       "  'happy': 0,\n",
       "  'disgust': 0,\n",
       "  'neutral': 0.15384615384615385},\n",
       " {'sad': 0.2222222222222222,\n",
       "  'angry': 0.1111111111111111,\n",
       "  'surprise': 0,\n",
       "  'fear': 0.2222222222222222,\n",
       "  'happy': 0.1111111111111111,\n",
       "  'disgust': 0.05555555555555555,\n",
       "  'neutral': 0.2777777777777778},\n",
       " {'sad': 0.875,\n",
       "  'angry': 0,\n",
       "  'surprise': 0,\n",
       "  'fear': 0,\n",
       "  'happy': 0,\n",
       "  'disgust': 0,\n",
       "  'neutral': 0.125},\n",
       " {'sad': 1.0,\n",
       "  'angry': 0,\n",
       "  'surprise': 0,\n",
       "  'fear': 0,\n",
       "  'happy': 0,\n",
       "  'disgust': 0,\n",
       "  'neutral': 0},\n",
       " {'sad': 1.0,\n",
       "  'angry': 0,\n",
       "  'surprise': 0,\n",
       "  'fear': 0,\n",
       "  'happy': 0,\n",
       "  'disgust': 0,\n",
       "  'neutral': 0},\n",
       " {'sad': 0,\n",
       "  'angry': 1.0,\n",
       "  'surprise': 0,\n",
       "  'fear': 0,\n",
       "  'happy': 0,\n",
       "  'disgust': 0,\n",
       "  'neutral': 0},\n",
       " {'sad': 0.3,\n",
       "  'angry': 0.3,\n",
       "  'surprise': 0,\n",
       "  'fear': 0,\n",
       "  'happy': 0.2,\n",
       "  'disgust': 0,\n",
       "  'neutral': 0.2},\n",
       " {'sad': 0.7777777777777778,\n",
       "  'angry': 0,\n",
       "  'surprise': 0,\n",
       "  'fear': 0,\n",
       "  'happy': 0,\n",
       "  'disgust': 0,\n",
       "  'neutral': 0.2222222222222222},\n",
       " {'sad': 0.3076923076923077,\n",
       "  'angry': 0,\n",
       "  'surprise': 0,\n",
       "  'fear': 0.3076923076923077,\n",
       "  'happy': 0.15384615384615385,\n",
       "  'disgust': 0,\n",
       "  'neutral': 0.23076923076923078},\n",
       " {'sad': 0.2727272727272727,\n",
       "  'angry': 0.18181818181818182,\n",
       "  'surprise': 0,\n",
       "  'fear': 0.45454545454545453,\n",
       "  'happy': 0,\n",
       "  'disgust': 0,\n",
       "  'neutral': 0.09090909090909091},\n",
       " {'sad': 0.3333333333333333,\n",
       "  'angry': 0.1111111111111111,\n",
       "  'surprise': 0,\n",
       "  'fear': 0.2222222222222222,\n",
       "  'happy': 0.1111111111111111,\n",
       "  'disgust': 0,\n",
       "  'neutral': 0.2222222222222222},\n",
       " {'sad': 0.2727272727272727,\n",
       "  'angry': 0.09090909090909091,\n",
       "  'surprise': 0,\n",
       "  'fear': 0.36363636363636365,\n",
       "  'happy': 0,\n",
       "  'disgust': 0,\n",
       "  'neutral': 0.2727272727272727},\n",
       " {'sad': 0.2,\n",
       "  'angry': 0,\n",
       "  'surprise': 0,\n",
       "  'fear': 0.4,\n",
       "  'happy': 0.2,\n",
       "  'disgust': 0,\n",
       "  'neutral': 0.2},\n",
       " {'sad': 1.0,\n",
       "  'angry': 0,\n",
       "  'surprise': 0,\n",
       "  'fear': 0,\n",
       "  'happy': 0,\n",
       "  'disgust': 0,\n",
       "  'neutral': 0}]"
      ]
     },
     "execution_count": 33,
     "metadata": {},
     "output_type": "execute_result"
    }
   ],
   "execution_count": 33
  },
  {
   "metadata": {
    "ExecuteTime": {
     "end_time": "2024-04-22T14:12:24.040671Z",
     "start_time": "2024-04-22T14:12:23.659155Z"
    }
   },
   "cell_type": "code",
   "source": [
    "fig, ax = plt.subplots(figsize=(6, 4))\n",
    "cmaps = sns.color_palette('rocket', n_colors=len(emotions_list))\n",
    "for cmap, selected_emotions in zip(cmaps, emotions_list):\n",
    "    sns.lineplot(x=np.arange(len([all_emotion_ratios[i][selected_emotions] for i in range(len(all_emotion_ratios))])),\n",
    "        y=[all_emotion_ratios[i][selected_emotions] for i in range(len(all_emotion_ratios))], color=cmap, ax=ax, label=selected_emotions)\n",
    "ax.set_xlabel('Block Id')\n",
    "ax.set_ylabel('Student Emotion Probability')\n",
    "fig.savefig('emotion_sample.png', bbox_inches='tight', dpi=300)"
   ],
   "id": "81d5206abe5e8077",
   "outputs": [
    {
     "data": {
      "text/plain": [
       "<Figure size 600x400 with 1 Axes>"
      ],
      "image/png": "[encoded data removed]"
     },
     "metadata": {},
     "output_type": "display_data"
    }
   ],
   "execution_count": 60
  },
  {
   "metadata": {
    "ExecuteTime": {
     "end_time": "2024-04-22T14:07:46.704702Z",
     "start_time": "2024-04-22T14:07:46.699851Z"
    }
   },
   "cell_type": "code",
   "source": "sns.color_palette('rocket', n_colors=len(emotions_list))\n",
   "id": "c6aa37f3e00d5fe3",
   "outputs": [
    {
     "data": {
      "text/plain": [
       "[(0.18643324, 0.09165431, 0.22699705),\n",
       " (0.38092887, 0.12061482, 0.32506528),\n",
       " (0.59096382, 0.10810205, 0.35847347),\n",
       " (0.7965014, 0.10506637, 0.31063031),\n",
       " (0.92676657, 0.29823282, 0.24285536),\n",
       " (0.95922872, 0.53307513, 0.3748895),\n",
       " (0.96592829, 0.73844258, 0.60053991)]"
      ],
      "text/html": [
       "<svg  width=\"385\" height=\"55\"><rect x=\"0\" y=\"0\" width=\"55\" height=\"55\" style=\"fill:#30173a;stroke-width:2;stroke:rgb(255,255,255)\"/><rect x=\"55\" y=\"0\" width=\"55\" height=\"55\" style=\"fill:#611f53;stroke-width:2;stroke:rgb(255,255,255)\"/><rect x=\"110\" y=\"0\" width=\"55\" height=\"55\" style=\"fill:#971c5b;stroke-width:2;stroke:rgb(255,255,255)\"/><rect x=\"165\" y=\"0\" width=\"55\" height=\"55\" style=\"fill:#cb1b4f;stroke-width:2;stroke:rgb(255,255,255)\"/><rect x=\"220\" y=\"0\" width=\"55\" height=\"55\" style=\"fill:#ec4c3e;stroke-width:2;stroke:rgb(255,255,255)\"/><rect x=\"275\" y=\"0\" width=\"55\" height=\"55\" style=\"fill:#f58860;stroke-width:2;stroke:rgb(255,255,255)\"/><rect x=\"330\" y=\"0\" width=\"55\" height=\"55\" style=\"fill:#f6bc99;stroke-width:2;stroke:rgb(255,255,255)\"/></svg>"
      ]
     },
     "execution_count": 48,
     "metadata": {},
     "output_type": "execute_result"
    }
   ],
   "execution_count": 48
  },
  {
   "metadata": {
    "ExecuteTime": {
     "end_time": "2024-04-22T14:09:03.429923Z",
     "start_time": "2024-04-22T14:09:03.425794Z"
    }
   },
   "cell_type": "code",
   "source": "cmap",
   "id": "135b445ee2b0250b",
   "outputs": [
    {
     "data": {
      "text/plain": [
       "(0.96592829, 0.73844258, 0.60053991)"
      ]
     },
     "execution_count": 54,
     "metadata": {},
     "output_type": "execute_result"
    }
   ],
   "execution_count": 54
  },
  {
   "metadata": {},
   "cell_type": "code",
   "outputs": [],
   "execution_count": null,
   "source": "",
   "id": "f95be73b2b0c4bfa"
  }
 ],
 "metadata": {
  "kernelspec": {
   "display_name": "Python 3",
   "language": "python",
   "name": "python3"
  },
  "language_info": {
   "codemirror_mode": {
    "name": "ipython",
    "version": 2
   },
   "file_extension": ".py",
   "mimetype": "text/x-python",
   "name": "python",
   "nbconvert_exporter": "python",
   "pygments_lexer": "ipython2",
   "version": "2.7.6"
  }
 },
 "nbformat": 4,
 "nbformat_minor": 5
}
