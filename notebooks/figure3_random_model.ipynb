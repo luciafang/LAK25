{
 "cells": [
  {
   "cell_type": "code",
   "id": "initial_id",
   "metadata": {
    "collapsed": true,
    "ExecuteTime": {
     "end_time": "2024-08-31T23:26:56.550508Z",
     "start_time": "2024-08-31T23:26:56.544810Z"
    }
   },
   "source": [
    "import pandas as pd\n",
    "import streamlit as st\n",
    "import datetime\n",
    "from glob import glob\n",
    "from PIL import Image\n",
    "import numpy as np\n",
    "import base64\n",
    "import io\n",
    "import sys\n",
    "import random\n",
    "from tqdm import tqdm\n",
    "import matplotlib.pyplot as plt\n",
    "import seaborn as sns\n",
    "if '../app' not in sys.path:\n",
    "    sys.path.append('../app/')\n",
    "\n",
    "from utils.locate_timings import bin_confusion, confusion2transcript, normalize_time, bin_confusion_from_df\n",
    "from utils.identify_theme import send2chatgpt, split_confused_transcripts_by_line\n"
   ],
   "outputs": [],
   "execution_count": 16
  },
  {
   "metadata": {
    "ExecuteTime": {
     "end_time": "2024-08-31T23:27:04.018726Z",
     "start_time": "2024-08-31T23:27:04.016756Z"
    }
   },
   "cell_type": "code",
   "source": [
    "# d = input('Select a session date:')\n",
    "d = '2019-04-16'\n",
    "d = datetime.datetime.strptime(str(d).replace('-', ''), \"%Y%m%d\")\n"
   ],
   "id": "a1746c085ff7e136",
   "outputs": [],
   "execution_count": 17
  },
  {
   "metadata": {
    "ExecuteTime": {
     "end_time": "2024-08-31T23:27:04.723817Z",
     "start_time": "2024-08-31T23:27:04.720695Z"
    }
   },
   "cell_type": "code",
   "source": "d",
   "id": "eb4d561e158c1a31",
   "outputs": [
    {
     "data": {
      "text/plain": [
       "datetime.datetime(2019, 4, 16, 0, 0)"
      ]
     },
     "execution_count": 18,
     "metadata": {},
     "output_type": "execute_result"
    }
   ],
   "execution_count": 18
  },
  {
   "metadata": {
    "ExecuteTime": {
     "end_time": "2024-08-31T23:27:06.372117Z",
     "start_time": "2024-08-31T23:27:06.362126Z"
    }
   },
   "cell_type": "code",
   "source": [
    "select_confused_csv = '../confusion_processed/'+str(d.year)+str(d.month).zfill(2)+str(d.day).zfill(2)+'_confusion.csv'\n",
    "selected_confused_df = pd.read_csv(select_confused_csv, index_col=0)"
   ],
   "id": "20a79c35de5ec271",
   "outputs": [],
   "execution_count": 19
  },
  {
   "metadata": {
    "ExecuteTime": {
     "end_time": "2024-08-31T23:27:07.148775Z",
     "start_time": "2024-08-31T23:27:07.141906Z"
    }
   },
   "cell_type": "code",
   "source": "selected_confused_df.head()",
   "id": "5852e77e0cf3f6da",
   "outputs": [
    {
     "data": {
      "text/plain": [
       "              0             1             2             3             4  \\\n",
       "0      Confused  Not Confused  Not Confused  Not Confused  Not Confused   \n",
       "1      Confused      Confused      Confused  Not Confused  Not Confused   \n",
       "2      Confused  Not Confused  Not Confused  Not Confused  Not Confused   \n",
       "3      Confused  Not Confused  Not Confused  Not Confused  Not Confused   \n",
       "4  Not Confused  Not Confused  Not Confused      Confused  Not Confused   \n",
       "\n",
       "              5             6             7             8             9  ...  \\\n",
       "0      Confused  Not Confused      Confused      Confused  Not Confused  ...   \n",
       "1      Confused  Not Confused      Confused  Not Confused      Confused  ...   \n",
       "2  Not Confused  Not Confused  Not Confused  Not Confused  Not Confused  ...   \n",
       "3  Not Confused  Not Confused  Not Confused      Confused      Confused  ...   \n",
       "4      Confused  Not Confused  Not Confused      Confused  Not Confused  ...   \n",
       "\n",
       "    18   19   20   21   22   23   24   25   26   27  \n",
       "0  NaN  NaN  NaN  NaN  NaN  NaN  NaN  NaN  NaN  NaN  \n",
       "1  NaN  NaN  NaN  NaN  NaN  NaN  NaN  NaN  NaN  NaN  \n",
       "2  NaN  NaN  NaN  NaN  NaN  NaN  NaN  NaN  NaN  NaN  \n",
       "3  NaN  NaN  NaN  NaN  NaN  NaN  NaN  NaN  NaN  NaN  \n",
       "4  NaN  NaN  NaN  NaN  NaN  NaN  NaN  NaN  NaN  NaN  \n",
       "\n",
       "[5 rows x 28 columns]"
      ],
      "text/html": [
       "<div>\n",
       "<style scoped>\n",
       "    .dataframe tbody tr th:only-of-type {\n",
       "        vertical-align: middle;\n",
       "    }\n",
       "\n",
       "    .dataframe tbody tr th {\n",
       "        vertical-align: top;\n",
       "    }\n",
       "\n",
       "    .dataframe thead th {\n",
       "        text-align: right;\n",
       "    }\n",
       "</style>\n",
       "<table border=\"1\" class=\"dataframe\">\n",
       "  <thead>\n",
       "    <tr style=\"text-align: right;\">\n",
       "      <th></th>\n",
       "      <th>0</th>\n",
       "      <th>1</th>\n",
       "      <th>2</th>\n",
       "      <th>3</th>\n",
       "      <th>4</th>\n",
       "      <th>5</th>\n",
       "      <th>6</th>\n",
       "      <th>7</th>\n",
       "      <th>8</th>\n",
       "      <th>9</th>\n",
       "      <th>...</th>\n",
       "      <th>18</th>\n",
       "      <th>19</th>\n",
       "      <th>20</th>\n",
       "      <th>21</th>\n",
       "      <th>22</th>\n",
       "      <th>23</th>\n",
       "      <th>24</th>\n",
       "      <th>25</th>\n",
       "      <th>26</th>\n",
       "      <th>27</th>\n",
       "    </tr>\n",
       "  </thead>\n",
       "  <tbody>\n",
       "    <tr>\n",
       "      <th>0</th>\n",
       "      <td>Confused</td>\n",
       "      <td>Not Confused</td>\n",
       "      <td>Not Confused</td>\n",
       "      <td>Not Confused</td>\n",
       "      <td>Not Confused</td>\n",
       "      <td>Confused</td>\n",
       "      <td>Not Confused</td>\n",
       "      <td>Confused</td>\n",
       "      <td>Confused</td>\n",
       "      <td>Not Confused</td>\n",
       "      <td>...</td>\n",
       "      <td>NaN</td>\n",
       "      <td>NaN</td>\n",
       "      <td>NaN</td>\n",
       "      <td>NaN</td>\n",
       "      <td>NaN</td>\n",
       "      <td>NaN</td>\n",
       "      <td>NaN</td>\n",
       "      <td>NaN</td>\n",
       "      <td>NaN</td>\n",
       "      <td>NaN</td>\n",
       "    </tr>\n",
       "    <tr>\n",
       "      <th>1</th>\n",
       "      <td>Confused</td>\n",
       "      <td>Confused</td>\n",
       "      <td>Confused</td>\n",
       "      <td>Not Confused</td>\n",
       "      <td>Not Confused</td>\n",
       "      <td>Confused</td>\n",
       "      <td>Not Confused</td>\n",
       "      <td>Confused</td>\n",
       "      <td>Not Confused</td>\n",
       "      <td>Confused</td>\n",
       "      <td>...</td>\n",
       "      <td>NaN</td>\n",
       "      <td>NaN</td>\n",
       "      <td>NaN</td>\n",
       "      <td>NaN</td>\n",
       "      <td>NaN</td>\n",
       "      <td>NaN</td>\n",
       "      <td>NaN</td>\n",
       "      <td>NaN</td>\n",
       "      <td>NaN</td>\n",
       "      <td>NaN</td>\n",
       "    </tr>\n",
       "    <tr>\n",
       "      <th>2</th>\n",
       "      <td>Confused</td>\n",
       "      <td>Not Confused</td>\n",
       "      <td>Not Confused</td>\n",
       "      <td>Not Confused</td>\n",
       "      <td>Not Confused</td>\n",
       "      <td>Not Confused</td>\n",
       "      <td>Not Confused</td>\n",
       "      <td>Not Confused</td>\n",
       "      <td>Not Confused</td>\n",
       "      <td>Not Confused</td>\n",
       "      <td>...</td>\n",
       "      <td>NaN</td>\n",
       "      <td>NaN</td>\n",
       "      <td>NaN</td>\n",
       "      <td>NaN</td>\n",
       "      <td>NaN</td>\n",
       "      <td>NaN</td>\n",
       "      <td>NaN</td>\n",
       "      <td>NaN</td>\n",
       "      <td>NaN</td>\n",
       "      <td>NaN</td>\n",
       "    </tr>\n",
       "    <tr>\n",
       "      <th>3</th>\n",
       "      <td>Confused</td>\n",
       "      <td>Not Confused</td>\n",
       "      <td>Not Confused</td>\n",
       "      <td>Not Confused</td>\n",
       "      <td>Not Confused</td>\n",
       "      <td>Not Confused</td>\n",
       "      <td>Not Confused</td>\n",
       "      <td>Not Confused</td>\n",
       "      <td>Confused</td>\n",
       "      <td>Confused</td>\n",
       "      <td>...</td>\n",
       "      <td>NaN</td>\n",
       "      <td>NaN</td>\n",
       "      <td>NaN</td>\n",
       "      <td>NaN</td>\n",
       "      <td>NaN</td>\n",
       "      <td>NaN</td>\n",
       "      <td>NaN</td>\n",
       "      <td>NaN</td>\n",
       "      <td>NaN</td>\n",
       "      <td>NaN</td>\n",
       "    </tr>\n",
       "    <tr>\n",
       "      <th>4</th>\n",
       "      <td>Not Confused</td>\n",
       "      <td>Not Confused</td>\n",
       "      <td>Not Confused</td>\n",
       "      <td>Confused</td>\n",
       "      <td>Not Confused</td>\n",
       "      <td>Confused</td>\n",
       "      <td>Not Confused</td>\n",
       "      <td>Not Confused</td>\n",
       "      <td>Confused</td>\n",
       "      <td>Not Confused</td>\n",
       "      <td>...</td>\n",
       "      <td>NaN</td>\n",
       "      <td>NaN</td>\n",
       "      <td>NaN</td>\n",
       "      <td>NaN</td>\n",
       "      <td>NaN</td>\n",
       "      <td>NaN</td>\n",
       "      <td>NaN</td>\n",
       "      <td>NaN</td>\n",
       "      <td>NaN</td>\n",
       "      <td>NaN</td>\n",
       "    </tr>\n",
       "  </tbody>\n",
       "</table>\n",
       "<p>5 rows × 28 columns</p>\n",
       "</div>"
      ]
     },
     "execution_count": 20,
     "metadata": {},
     "output_type": "execute_result"
    }
   ],
   "execution_count": 20
  },
  {
   "metadata": {
    "ExecuteTime": {
     "end_time": "2024-08-31T23:27:10.140903Z",
     "start_time": "2024-08-31T23:27:08.745743Z"
    }
   },
   "cell_type": "code",
   "source": [
    "classes = ['Confused', 'Not Confused']\n",
    "for time in tqdm(selected_confused_df.index):\n",
    "    # print(time)\n",
    "    for stu in selected_confused_df.columns:\n",
    "        # print(selected_confused_df.loc[time, stu])\n",
    "        if selected_confused_df.loc[time, stu] in classes:\n",
    "            result = random.randint(0, 1)\n",
    "            selected_confused_df.loc[time, stu] = classes[result]\n",
    "\n",
    "    # if selected_confused_df.loc[stu, :] == 'confused':\n",
    "    #     print('yes')"
   ],
   "id": "2120777388b9a347",
   "outputs": [
    {
     "name": "stderr",
     "output_type": "stream",
     "text": [
      "100%|██████████| 2401/2401 [00:01<00:00, 1725.39it/s]\n"
     ]
    }
   ],
   "execution_count": 21
  },
  {
   "metadata": {
    "ExecuteTime": {
     "end_time": "2024-08-31T23:27:10.885891Z",
     "start_time": "2024-08-31T23:27:10.879522Z"
    }
   },
   "cell_type": "code",
   "source": "selected_confused_df.head()",
   "id": "e8b148837f28e40",
   "outputs": [
    {
     "data": {
      "text/plain": [
       "              0             1             2             3             4  \\\n",
       "0      Confused  Not Confused      Confused      Confused      Confused   \n",
       "1      Confused  Not Confused      Confused      Confused      Confused   \n",
       "2  Not Confused      Confused      Confused  Not Confused  Not Confused   \n",
       "3  Not Confused      Confused  Not Confused      Confused      Confused   \n",
       "4  Not Confused      Confused  Not Confused  Not Confused      Confused   \n",
       "\n",
       "              5             6             7             8             9  ...  \\\n",
       "0      Confused      Confused  Not Confused      Confused  Not Confused  ...   \n",
       "1  Not Confused      Confused  Not Confused      Confused      Confused  ...   \n",
       "2      Confused      Confused      Confused  Not Confused      Confused  ...   \n",
       "3      Confused  Not Confused      Confused      Confused      Confused  ...   \n",
       "4  Not Confused  Not Confused      Confused  Not Confused  Not Confused  ...   \n",
       "\n",
       "    18   19   20   21   22   23   24   25   26   27  \n",
       "0  NaN  NaN  NaN  NaN  NaN  NaN  NaN  NaN  NaN  NaN  \n",
       "1  NaN  NaN  NaN  NaN  NaN  NaN  NaN  NaN  NaN  NaN  \n",
       "2  NaN  NaN  NaN  NaN  NaN  NaN  NaN  NaN  NaN  NaN  \n",
       "3  NaN  NaN  NaN  NaN  NaN  NaN  NaN  NaN  NaN  NaN  \n",
       "4  NaN  NaN  NaN  NaN  NaN  NaN  NaN  NaN  NaN  NaN  \n",
       "\n",
       "[5 rows x 28 columns]"
      ],
      "text/html": [
       "<div>\n",
       "<style scoped>\n",
       "    .dataframe tbody tr th:only-of-type {\n",
       "        vertical-align: middle;\n",
       "    }\n",
       "\n",
       "    .dataframe tbody tr th {\n",
       "        vertical-align: top;\n",
       "    }\n",
       "\n",
       "    .dataframe thead th {\n",
       "        text-align: right;\n",
       "    }\n",
       "</style>\n",
       "<table border=\"1\" class=\"dataframe\">\n",
       "  <thead>\n",
       "    <tr style=\"text-align: right;\">\n",
       "      <th></th>\n",
       "      <th>0</th>\n",
       "      <th>1</th>\n",
       "      <th>2</th>\n",
       "      <th>3</th>\n",
       "      <th>4</th>\n",
       "      <th>5</th>\n",
       "      <th>6</th>\n",
       "      <th>7</th>\n",
       "      <th>8</th>\n",
       "      <th>9</th>\n",
       "      <th>...</th>\n",
       "      <th>18</th>\n",
       "      <th>19</th>\n",
       "      <th>20</th>\n",
       "      <th>21</th>\n",
       "      <th>22</th>\n",
       "      <th>23</th>\n",
       "      <th>24</th>\n",
       "      <th>25</th>\n",
       "      <th>26</th>\n",
       "      <th>27</th>\n",
       "    </tr>\n",
       "  </thead>\n",
       "  <tbody>\n",
       "    <tr>\n",
       "      <th>0</th>\n",
       "      <td>Confused</td>\n",
       "      <td>Not Confused</td>\n",
       "      <td>Confused</td>\n",
       "      <td>Confused</td>\n",
       "      <td>Confused</td>\n",
       "      <td>Confused</td>\n",
       "      <td>Confused</td>\n",
       "      <td>Not Confused</td>\n",
       "      <td>Confused</td>\n",
       "      <td>Not Confused</td>\n",
       "      <td>...</td>\n",
       "      <td>NaN</td>\n",
       "      <td>NaN</td>\n",
       "      <td>NaN</td>\n",
       "      <td>NaN</td>\n",
       "      <td>NaN</td>\n",
       "      <td>NaN</td>\n",
       "      <td>NaN</td>\n",
       "      <td>NaN</td>\n",
       "      <td>NaN</td>\n",
       "      <td>NaN</td>\n",
       "    </tr>\n",
       "    <tr>\n",
       "      <th>1</th>\n",
       "      <td>Confused</td>\n",
       "      <td>Not Confused</td>\n",
       "      <td>Confused</td>\n",
       "      <td>Confused</td>\n",
       "      <td>Confused</td>\n",
       "      <td>Not Confused</td>\n",
       "      <td>Confused</td>\n",
       "      <td>Not Confused</td>\n",
       "      <td>Confused</td>\n",
       "      <td>Confused</td>\n",
       "      <td>...</td>\n",
       "      <td>NaN</td>\n",
       "      <td>NaN</td>\n",
       "      <td>NaN</td>\n",
       "      <td>NaN</td>\n",
       "      <td>NaN</td>\n",
       "      <td>NaN</td>\n",
       "      <td>NaN</td>\n",
       "      <td>NaN</td>\n",
       "      <td>NaN</td>\n",
       "      <td>NaN</td>\n",
       "    </tr>\n",
       "    <tr>\n",
       "      <th>2</th>\n",
       "      <td>Not Confused</td>\n",
       "      <td>Confused</td>\n",
       "      <td>Confused</td>\n",
       "      <td>Not Confused</td>\n",
       "      <td>Not Confused</td>\n",
       "      <td>Confused</td>\n",
       "      <td>Confused</td>\n",
       "      <td>Confused</td>\n",
       "      <td>Not Confused</td>\n",
       "      <td>Confused</td>\n",
       "      <td>...</td>\n",
       "      <td>NaN</td>\n",
       "      <td>NaN</td>\n",
       "      <td>NaN</td>\n",
       "      <td>NaN</td>\n",
       "      <td>NaN</td>\n",
       "      <td>NaN</td>\n",
       "      <td>NaN</td>\n",
       "      <td>NaN</td>\n",
       "      <td>NaN</td>\n",
       "      <td>NaN</td>\n",
       "    </tr>\n",
       "    <tr>\n",
       "      <th>3</th>\n",
       "      <td>Not Confused</td>\n",
       "      <td>Confused</td>\n",
       "      <td>Not Confused</td>\n",
       "      <td>Confused</td>\n",
       "      <td>Confused</td>\n",
       "      <td>Confused</td>\n",
       "      <td>Not Confused</td>\n",
       "      <td>Confused</td>\n",
       "      <td>Confused</td>\n",
       "      <td>Confused</td>\n",
       "      <td>...</td>\n",
       "      <td>NaN</td>\n",
       "      <td>NaN</td>\n",
       "      <td>NaN</td>\n",
       "      <td>NaN</td>\n",
       "      <td>NaN</td>\n",
       "      <td>NaN</td>\n",
       "      <td>NaN</td>\n",
       "      <td>NaN</td>\n",
       "      <td>NaN</td>\n",
       "      <td>NaN</td>\n",
       "    </tr>\n",
       "    <tr>\n",
       "      <th>4</th>\n",
       "      <td>Not Confused</td>\n",
       "      <td>Confused</td>\n",
       "      <td>Not Confused</td>\n",
       "      <td>Not Confused</td>\n",
       "      <td>Confused</td>\n",
       "      <td>Not Confused</td>\n",
       "      <td>Not Confused</td>\n",
       "      <td>Confused</td>\n",
       "      <td>Not Confused</td>\n",
       "      <td>Not Confused</td>\n",
       "      <td>...</td>\n",
       "      <td>NaN</td>\n",
       "      <td>NaN</td>\n",
       "      <td>NaN</td>\n",
       "      <td>NaN</td>\n",
       "      <td>NaN</td>\n",
       "      <td>NaN</td>\n",
       "      <td>NaN</td>\n",
       "      <td>NaN</td>\n",
       "      <td>NaN</td>\n",
       "      <td>NaN</td>\n",
       "    </tr>\n",
       "  </tbody>\n",
       "</table>\n",
       "<p>5 rows × 28 columns</p>\n",
       "</div>"
      ]
     },
     "execution_count": 22,
     "metadata": {},
     "output_type": "execute_result"
    }
   ],
   "execution_count": 22
  },
  {
   "metadata": {
    "ExecuteTime": {
     "end_time": "2024-08-31T22:56:02.863911Z",
     "start_time": "2024-08-31T22:56:02.862425Z"
    }
   },
   "cell_type": "code",
   "source": "",
   "id": "30a4012c9187fcb0",
   "outputs": [],
   "execution_count": 9
  },
  {
   "metadata": {
    "ExecuteTime": {
     "end_time": "2024-08-31T23:27:13.131420Z",
     "start_time": "2024-08-31T23:27:13.023149Z"
    }
   },
   "cell_type": "code",
   "source": [
    "\n",
    "avg_1min = bin_confusion_from_df(selected_confused_df)"
   ],
   "id": "f1145c6db893ad2",
   "outputs": [],
   "execution_count": 23
  },
  {
   "metadata": {
    "ExecuteTime": {
     "end_time": "2024-08-31T23:27:13.614199Z",
     "start_time": "2024-08-31T23:27:13.610980Z"
    }
   },
   "cell_type": "code",
   "source": "avg_1min",
   "id": "182c0ba7d80be567",
   "outputs": [
    {
     "data": {
      "text/plain": [
       "[0.5106957122398299,\n",
       " 0.4840193416547906,\n",
       " 0.5244685352773588,\n",
       " 0.5022597990245049,\n",
       " 0.46725330225330225,\n",
       " 0.4607203907203907,\n",
       " 0.496851971557854,\n",
       " 0.5320180620606317,\n",
       " 0.5273925213360198,\n",
       " 0.5063896055498222,\n",
       " 0.5015100455386833,\n",
       " 0.5304643962848297,\n",
       " 0.47419432977869513,\n",
       " 0.4564796181630547,\n",
       " 0.4827407980736154,\n",
       " 0.49885033253067307,\n",
       " 0.5047766884531592,\n",
       " 0.47929126450293497,\n",
       " 0.50994954707029,\n",
       " 0.5059925958687568,\n",
       " 0.4999403123822629,\n",
       " 0.49475178960473076,\n",
       " 0.5181653889626026,\n",
       " 0.49717133929595225,\n",
       " 0.5051293124087243,\n",
       " 0.47615132130225013,\n",
       " 0.47640513897866843,\n",
       " 0.464162087912088,\n",
       " 0.49098873348873345,\n",
       " 0.4927960927960928,\n",
       " 0.49844747300629655,\n",
       " 0.5082574696545284,\n",
       " 0.4925788590494473,\n",
       " 0.5076813545931192,\n",
       " 0.5000357920946156,\n",
       " 0.5108220856943767,\n",
       " 0.5089666977902272,\n",
       " 0.48532609351208755,\n",
       " 0.5215583075335397,\n",
       " 0.48267515193211774,\n",
       " 0.5095033539731683,\n",
       " 0.4987343767916524,\n",
       " 0.514863772994578,\n",
       " 0.5007574491785018,\n",
       " 0.4918713450292397,\n",
       " 0.49059523809523814,\n",
       " 0.4688838722623553,\n",
       " 0.48889952153110044,\n",
       " 0.4817493693383786,\n",
       " 0.4603138193076274,\n",
       " 0.49809239192753124,\n",
       " 0.5093925172408144,\n",
       " 0.505807820204105,\n",
       " 0.4638419373597392,\n",
       " 0.4642162596032566,\n",
       " 0.5043394973619433,\n",
       " 0.5078503038642357,\n",
       " 0.4932543572984749,\n",
       " 0.4650312464166953,\n",
       " 0.5035383597883599,\n",
       " 0.5315935262994087,\n",
       " 0.4543545751633987,\n",
       " 0.4873550061050061,\n",
       " 0.5132457983193277,\n",
       " 0.5299797098326511,\n",
       " 0.5180468142968143,\n",
       " 0.5396451914098973,\n",
       " 0.5085119047619048,\n",
       " 0.49526844070961723,\n",
       " 0.4999813431895475,\n",
       " 0.5115999006440182,\n",
       " 0.509456564677153,\n",
       " 0.5039370623929448,\n",
       " 0.5203843350205579,\n",
       " 0.5095773133814929,\n",
       " 0.4721139654692286,\n",
       " 0.45250883461796776,\n",
       " 0.48235107785804376,\n",
       " 0.5388676992767382,\n",
       " 0.49418922006603166]"
      ]
     },
     "execution_count": 24,
     "metadata": {},
     "output_type": "execute_result"
    }
   ],
   "execution_count": 24
  },
  {
   "metadata": {
    "ExecuteTime": {
     "end_time": "2024-08-31T23:27:21.845038Z",
     "start_time": "2024-08-31T23:27:21.766670Z"
    }
   },
   "cell_type": "code",
   "source": [
    "fig, ax = plt.subplots(figsize=(6, 4))\n",
    "\n",
    "ax.plot(avg_1min, color = 'k')\n",
    "# ax.hlines(c, 0, 80, linestyle='dashed', label='Mean+1SD', color='red')\n",
    "# ax.text(80, 7.5, 'Mean+1SD', color='red')\n",
    "# ax.scatter(top_confused_min, np.array(avg_1min)[top_confused_min], color='red', marker='o')\n",
    "# ax.set_xlabel('In class minutes(March 26th 2019)')\n",
    "# ax.set_ylabel('confused percentage increase')\n",
    "# fig.savefig('../figure_panels/fig3d_random.png', bbox_inches='tight', dpi=300)"
   ],
   "id": "46cefae9e5f0d8dc",
   "outputs": [
    {
     "data": {
      "text/plain": [
       "[<matplotlib.lines.Line2D at 0x283fb2e20>]"
      ]
     },
     "execution_count": 25,
     "metadata": {},
     "output_type": "execute_result"
    },
    {
     "data": {
      "text/plain": [
       "<Figure size 600x400 with 1 Axes>"
      ],
      "image/png": "[encoded data removed]"
     },
     "metadata": {},
     "output_type": "display_data"
    }
   ],
   "execution_count": 25
  },
  {
   "metadata": {
    "ExecuteTime": {
     "end_time": "2024-08-31T23:27:23.201473Z",
     "start_time": "2024-08-31T23:27:23.198927Z"
    }
   },
   "cell_type": "code",
   "source": [
    "a = np.min(avg_1min)\n",
    "avg_1min_above_min = avg_1min/a\n",
    "c = 2\n",
    "top_confused_min = np.array(np.where(avg_1min_above_min > c)[0])"
   ],
   "id": "b78f2ec1c7d3c2a0",
   "outputs": [],
   "execution_count": 26
  },
  {
   "metadata": {
    "ExecuteTime": {
     "end_time": "2024-08-31T23:27:48.605245Z",
     "start_time": "2024-08-31T23:27:48.468162Z"
    }
   },
   "cell_type": "code",
   "source": [
    "fig, ax = plt.subplots(figsize=(6, 4))\n",
    "\n",
    "ax.plot(avg_1min_above_min, color = 'k')\n",
    "ax.hlines(c, 0, 80, linestyle='dashed', label='Mean+1SD', color='red')\n",
    "# ax.text(80, 7.5, 'Mean+1SD', color='red')\n",
    "ax.scatter(top_confused_min, np.array(avg_1min_above_min)[top_confused_min], color='red', marker='o')\n",
    "ax.set_xlabel('In class minutes(April 16th 2019)')\n",
    "ax.set_ylabel('confused percentage increase')\n",
    "ax.set_ylim([1.0, 2.3])\n",
    "fig.savefig('../figure_panels/fig4d_random_new.svg', bbox_inches='tight', dpi=300)"
   ],
   "id": "ec315b33e2d8261f",
   "outputs": [
    {
     "data": {
      "text/plain": [
       "<Figure size 600x400 with 1 Axes>"
      ],
      "image/png": "[encoded data removed]"
     },
     "metadata": {},
     "output_type": "display_data"
    }
   ],
   "execution_count": 27
  },
  {
   "metadata": {
    "ExecuteTime": {
     "end_time": "2024-08-31T23:28:03.058902Z",
     "start_time": "2024-08-31T23:28:03.056559Z"
    }
   },
   "cell_type": "code",
   "source": "np.save('../tmp_data/fig4d_random_0416.npy', avg_1min_above_min)",
   "id": "ab2ec60b1f9e7b50",
   "outputs": [],
   "execution_count": 28
  },
  {
   "metadata": {},
   "cell_type": "code",
   "outputs": [],
   "execution_count": null,
   "source": "",
   "id": "ba5b54df2ea26c5c"
  },
  {
   "metadata": {},
   "cell_type": "code",
   "outputs": [],
   "execution_count": null,
   "source": "",
   "id": "2268f38b04895035"
  },
  {
   "metadata": {},
   "cell_type": "code",
   "outputs": [],
   "execution_count": null,
   "source": "",
   "id": "8b103a0b41cb6ab"
  },
  {
   "metadata": {},
   "cell_type": "code",
   "outputs": [],
   "execution_count": null,
   "source": "",
   "id": "76be3e17cf00d5fb"
  },
  {
   "metadata": {},
   "cell_type": "code",
   "outputs": [],
   "execution_count": null,
   "source": "",
   "id": "78054e3bccef2eb6"
  }
 ],
 "metadata": {
  "kernelspec": {
   "display_name": "Python 3",
   "language": "python",
   "name": "python3"
  },
  "language_info": {
   "codemirror_mode": {
    "name": "ipython",
    "version": 2
   },
   "file_extension": ".py",
   "mimetype": "text/x-python",
   "name": "python",
   "nbconvert_exporter": "python",
   "pygments_lexer": "ipython2",
   "version": "2.7.6"
  }
 },
 "nbformat": 4,
 "nbformat_minor": 5
}
