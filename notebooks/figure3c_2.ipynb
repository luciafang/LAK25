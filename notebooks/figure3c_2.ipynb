{
 "cells": [
  {
   "cell_type": "code",
   "id": "initial_id",
   "metadata": {
    "collapsed": true,
    "ExecuteTime": {
     "end_time": "2024-06-24T04:22:40.732971Z",
     "start_time": "2024-06-24T04:22:40.715142Z"
    }
   },
   "source": [
    "from datetime import timedelta\n",
    "\n",
    "import pandas as pd\n",
    "import matplotlib.pyplot as plt\n",
    "import seaborn as sns\n",
    "import numpy as np\n",
    "import glob\n",
    "from pathlib import Path\n",
    "from langdetect import detect"
   ],
   "outputs": [],
   "execution_count": 17
  },
  {
   "metadata": {
    "ExecuteTime": {
     "end_time": "2024-06-24T04:15:53.811663Z",
     "start_time": "2024-06-24T04:15:53.801981Z"
    }
   },
   "cell_type": "code",
   "source": [
    "transcript_dir = '../transcripts_processed/*'\n",
    "confusion_dir = '../confusion_processed/*'"
   ],
   "id": "183e0c3d16b2b7a7",
   "outputs": [],
   "execution_count": 2
  },
  {
   "metadata": {
    "ExecuteTime": {
     "end_time": "2024-06-24T04:15:55.919764Z",
     "start_time": "2024-06-24T04:15:55.907183Z"
    }
   },
   "cell_type": "code",
   "source": [
    "import re\n",
    "def convert_int(s):\n",
    "    if s.isdigit():\n",
    "        return int(s)\n",
    "    else:\n",
    "        return s\n",
    "\n",
    "\n",
    "def alphanum_key(s):\n",
    "    return [convert_int(c) for c in re.split('([0-9]+)', s)]\n",
    "\n",
    "\n",
    "def sort_nicely(l):\n",
    "    l.sort(key=alphanum_key)"
   ],
   "id": "d5b588486dadd240",
   "outputs": [],
   "execution_count": 3
  },
  {
   "metadata": {
    "ExecuteTime": {
     "end_time": "2024-06-24T04:15:56.785410Z",
     "start_time": "2024-06-24T04:15:56.781715Z"
    }
   },
   "cell_type": "code",
   "source": [
    "transcript_files = glob.glob(transcript_dir)\n",
    "sort_nicely(transcript_files)\n",
    "\n",
    "confusion_files = glob.glob(confusion_dir)\n",
    "sort_nicely(confusion_files)"
   ],
   "id": "ecdcd4638148a3e0",
   "outputs": [],
   "execution_count": 4
  },
  {
   "metadata": {
    "ExecuteTime": {
     "end_time": "2024-06-24T04:15:57.627249Z",
     "start_time": "2024-06-24T04:15:57.620870Z"
    }
   },
   "cell_type": "code",
   "source": "transcript_files[0], confusion_files[0]",
   "id": "9fe4e3badce2e84d",
   "outputs": [
    {
     "data": {
      "text/plain": [
       "('../transcripts_processed/20190207_transcript_all.csv',\n",
       " '../confusion_processed/20190207_confusion.csv')"
      ]
     },
     "execution_count": 5,
     "metadata": {},
     "output_type": "execute_result"
    }
   ],
   "execution_count": 5
  },
  {
   "metadata": {
    "ExecuteTime": {
     "end_time": "2024-06-24T04:15:58.610327Z",
     "start_time": "2024-06-24T04:15:58.568638Z"
    }
   },
   "cell_type": "code",
   "source": [
    "transcript_df = pd.read_csv(transcript_files[1])\n",
    "confusion_df = pd.read_csv(confusion_files[1])"
   ],
   "id": "e2886395074ef92d",
   "outputs": [],
   "execution_count": 6
  },
  {
   "metadata": {
    "ExecuteTime": {
     "end_time": "2024-06-24T04:39:57.660676Z",
     "start_time": "2024-06-24T04:39:57.656679Z"
    }
   },
   "cell_type": "code",
   "source": "from fpdf import FPDF",
   "id": "eaae2f319c745937",
   "outputs": [],
   "execution_count": 63
  },
  {
   "metadata": {
    "ExecuteTime": {
     "end_time": "2024-06-24T04:41:55.477193Z",
     "start_time": "2024-06-24T04:41:55.475107Z"
    }
   },
   "cell_type": "code",
   "source": "pdf = FPDF()",
   "id": "2959f05ed0264ffb",
   "outputs": [],
   "execution_count": 68
  },
  {
   "metadata": {
    "ExecuteTime": {
     "end_time": "2024-06-24T04:41:55.682074Z",
     "start_time": "2024-06-24T04:41:55.679845Z"
    }
   },
   "cell_type": "code",
   "source": [
    "pdf.add_page()\n",
    "pdf.set_font(\"Arial\", size=12)\n",
    "pdf.set_auto_page_break(auto=True)"
   ],
   "id": "7a2319eba0069e98",
   "outputs": [],
   "execution_count": 69
  },
  {
   "metadata": {
    "ExecuteTime": {
     "end_time": "2024-06-24T04:41:59.461133Z",
     "start_time": "2024-06-24T04:41:56.002888Z"
    }
   },
   "cell_type": "code",
   "source": [
    "all_text = ''\n",
    "for j, transcript_line in enumerate(transcript_df.transcript.to_list()):\n",
    "    # print(detect(transcript_line), transcript_line)\n",
    "    try:\n",
    "        if detect(transcript_line) != 'kn':\n",
    "            # all_text += (' ' + transcript_line)\n",
    "            # create a cell\n",
    "            pdf.cell(200, 10, txt = transcript_line, \n",
    "                     ln = 1, align = '')\n",
    "             \n",
    "            # add another cell\n",
    "            # pdf.cell(200, 10, txt = \"A Computer Science portal for geeks.\",\n",
    "            #          ln = 2, align = 'C')\n",
    "             \n",
    "            # save the pdf with name .pdf\n",
    "             \n",
    "    except:\n",
    "        pass\n",
    "    \n",
    "pdf.output(f\"../transcripts_pdf/{Path(transcript_files[1]).name.replace('.csv', '.pdf')}\") "
   ],
   "id": "ec58ed68564c8107",
   "outputs": [
    {
     "data": {
      "text/plain": [
       "''"
      ]
     },
     "execution_count": 70,
     "metadata": {},
     "output_type": "execute_result"
    }
   ],
   "execution_count": 70
  },
  {
   "metadata": {},
   "cell_type": "code",
   "outputs": [
    {
     "data": {
      "text/plain": [
       "\" So I'm going to talk to you for a minute about what we did. I thought it would be worth it for somebody to help me through this. So I'm going to go ahead and open this up. All right. Thank you. Thank you. Thank you. Thank you. Thank you. Thank you. Thank you. Thank you. Thank you. Thank you. Thank you. Thank you. Thank you. Thank you. Thank you. So number one is today's lecture is going to be a little bit all over the place, there's some parts of lectures that I didn't quite get to, or I didn't want to have enough time left in the lecture to finish, I think, appropriately, so we're actually going to go back and revisit some slides that I didn't get to, and I added to them, and I've added some new details, so instead of this being a very prepared lecture, we're going to actually touch back on some topics before, and then there may even be some time at the end of class for you guys to meet and ask me more questions, I know there's a lot of people kind of with burning questions that they want to ask you about, but I thought I'd go through some big items, the next time we meet is going to be in this classroom, please definitely show up on time, ready to go, laptop charge, you don't necessarily know where there's going to be a plug, so definitely make sure that that's all ready to go, again, it has to be on this Mac laptop, if you don't have a Mac, or anyone on your team has a Mac, definitely come console with me so that I can get you a Mac laptop, no accessories, you can't have a mouse or anything like that, so it's going to be the trackpad as it is, you can configure the sensitivity as you wish, you can even configure the sensitivity for your users. which you can have that sort of mouse cursor preferences open. Definitely make sure that your code runs. I've never really had a case where a team shows up and it's totally broken. But obviously, if it doesn't work, it doesn't compile in a job, it doesn't compile in quotes, then obviously it's going to be hard for you to be able to participate. So definitely make sure it doesn't show up with it broken or exploded. You have to be able to let it go. I will be going around the room along with our two TAs to check legality and just make sure everything is fair. And we'll give you feedback as we go around as well. Also, be sure the scaffold code is set to number repeats equals one, which means that every button appears once. It repeats exactly one time, and everything happens once. Make sure your code works with higher numbers. We might set that to 10 in the bake-offs. So definitely make sure you can change that to 2, 3, 4, 5, whatever, a million, some 10 that's reasonable. Probably a number between 1 and 10 is OK for the bake-off. So make sure, a lot of people have been asking me, oh, can we have the buttons disappear after you click on them once? And the answer is twofold. One, no, that's illegal, because every button has to be equally clickable at all times. And obviously, if it disappears, they're not going to make it very clickable. And number two, you can't guarantee that in the bake-off, it is going to disappear, because it's probably going to repeat at least n times. And you should play around with that behavior. Sadly, I think there's two or three teams that I've seen no ideas from at all. So that's making me a little bit worried for you. I don't want you to be blowing your whole weekend on this. I mean, hopefully, two weeks is enough time to get this done. If you're actually starting substantially today, which is like 90% of your time expires, that's definitely not good group practice. And definitely, as I mentioned before, iteration is going to take actually more time. So you really want to get your first working data as soon as possible, because the polish actually is probably. 50% of the work. So definitely email me ideas. One clarification I was going to make, and I'm not going to be a little bit, admittedly, a little bit mysterious on this clarification, because I don't want to give away a core idea. But as I've said to many teams, you're allowed to decorate sort of the target square however you want. You know, if you want to make it right now like blue, you want to make it flash or have like little tiny ants inside of it or something crazy, all power to you. Inside the box is totally fine. If you're doing anything outside of the square, that has to be fair to all buttons. So you have to treat them all equally. So any extra button activities should be equal. And again, email me your ideas. Send me sketches, send me little videos to make sure that it's legal. Because again, it's like design. It's no right or wrong. It's like all gray area. So some things that seem very illegal, I've actually let teams do. So you can try to push the boundaries and see where those are. That's being creative, OK? Any general questions? And of course, you definitely can ask me specific idea questions at the end of class. OK, so just come ready to participate on Tuesday. And it's going to be a very different, literally no lecture, of course. There's going to be a lot, a lot of clicking. Tens of thousands of clicks are going to happen in this room. Let's do a quick quiz. Get that out of the way. It's a little bit easier than the last one. So I will go to the other end. How about that? I'm going to go to the front door here. I don't have a quiz yet. I don't have a quiz yet. Do you have a quiz? Do you have a quiz? For question... 5. It's what you could plausibly want to take back. What you might consider taking back. You don't have to take back. but you've considered it. Okay, 45 seconds. How many people have done it? Raise your hand if you've done it. Okay, 10 newtons. Okay, start passing them in. How many people thought this one was easier than the last one? Raise your hand. That's not what we're doing. We just went over the material last lecture. It's easier. Okay, got them all, yes? The file is closing in five seconds. Yes, is there one more? Okay, last call, yes? Okay, very quickly we get the answer. So, one of the two HCI monikers, the first one being know thy user, the second HCI moniker is user is not like me. Right, recognizing that people are different. How many people put user not like me? Okay, with surveys. In an online survey, like SurveyMonkey, you're just calling up phone numbers. You generally learn. You know you can call thousands, because you can blast a meme of a thousand people, so hopefully people know that it's a thousands of people, but it would be weird to send a SurveyMonkey to just two people you can send an email to. And the answer here is that you learn a few things, but about a thousand people is the kind of score that you can assess A, okay? Contextual inquiry advocates which model? And that is the master-apprentice model, the 100 master-apprentice model. You literally discovered this 48 hours ago. Going to a workplace to see how work unfolds helps you better understand what? How do people put the floor plan? It does. I mean, that's not a wrong answer, it's just not the best answer. The context? Yes, literally it's in the name. So it helps you better understand the context. The other ones are true. You learn about the floor plan, you understand better about the workplace equipment, and you'll even learn something about the cafeteria, but that's not really the best answer. The best answer is to try to understand the whole context which encompasses all those things. Okay, when visiting the workplace, the probability of connection increases, you might consider taking back a view and assume you have permission. How do people put photos? Yes, I think photos are acceptable. Notes? Yes. Sketches? Yes. Auto-recordings? Yes. You might consider, again, we talked about the pros and cons, none of them are perfect, but I think all those do. And who puts furniture? Yes, generally you probably don't take the furniture unless it's a very good reason. Okay, and the purpose of, this is probably the hardest one here, but the purpose of rephrasing an answer or detail to someone that you're studying, this is the rephrase and validate part of when people are unsure, and you're telling them your understanding of it, and this is to understand, so this is B, confirm your understanding. You rephrase it to them, and they go, ah, that's mostly correct, or yeah, that's correct. That's confirming your understanding. They already know their understanding, so B is the best answer here. How many people put B? Okay, okay, good, see, it picked up. Okay, next thing I want to catch up on is the video prototype. I had a chance, I think all the grades are posted already, but I wanted to pull out some of the ones that I thought were kind of interesting and cool, and ones that were kind of ridiculous and funny, and I was just going to show you four examples of what some of the other teams did. There was a lot of good ones, and actually, I think this is the best year in terms of coming up with good motivations. I would say 95% of the teams had actually really good motivations, and I'm really thrilled with you. I want to have a good story, a good setup, and no one just jumped right into their opening shot. This is an interface, so I'm going to click through. Good job on that, but let me just show you what some of the other teams did. Oh my gosh, keynote. Here we go. Song is leaving his house to get to class. He checks his calendar for any upcoming events. Oh no, an exam tomorrow, he needs a quiet place to study ASAP. But all the places Song knows about are so loud. Oh wait, he has the CMU app. Finding a quiet place is a breeze with the CMU app. He first presses browser. So this was a still with a narrator and photoshop. Then he's able to browse through all study areas and see their noise level. Great, a quiet place to study. Very simple, very kind of simply done, but very effective. It doesn't have to be complicated. Very good kind of example to be a first time. Here's another one. So instead of filling out the document that Song left out, Song opens up the document. He makes a code, starts a code. and she leaves it in the designated area, Gate 6. Janice gets a notification on her smartwatch from Free Software that there's a new item offered. A canvas tote bag that's just what she needs. Clicking into the notification, she sees more details of the item and decides to claim it. She heads over to Gate and finds the bag in the area. Again, very, very simple setup. Super fussy, and it kind of gets to the interface really fast. And you can pretty much understand the whole idea within 30 seconds. Now the next video I'm going to show you, and I don't mean to, like, super criticize, but it takes a long time to get to the actual point. So I'll play this one. We all live extremely busy lives, from being a student to having a job hanging out with friends, meetings with professors, and et cetera. There are so many things going on in our lives that makes scheduling things between people quite difficult. So there's a bit of money this day we end up opening our eyes to. Where are they? I'm waiting all day for them. It's very smartphone-centric. I'll fast forward here. Some interesting terms. We all live extremely busy lives. Yeah, okay, I'll be there in, like, two days. One of the students said that'll be enough time to get ahold of us. Oh, thanks! Yeah, actually, I was going to a meeting with some of my classmates, but I went to the wrong UC. But you said that. That's what I was thinking. Well, we should reschedule, right? Reschedule. I was, like, tracking the timings. You get the idea. It's interesting. It's pretty tongue-in-cheek. And then here's one final one. So it's video as opposed to stills. It's paper instead of Photoshop. Very fast narration just to get jumped right into the play. So I think this is a really cool idea, that it's basically, like, a socially driven music. But actually, based on what building you're in, you can basically listen collaboratively to what everyone else is listening to. So it's sort of like a cultural kind of, like, self-assembly. But it's kind of an interesting idea. Anyway, I like this. one a lot and so I'm going to give them the built video prototype award where is this team? Raise your hand. Only one of you is here. Naughty. Well you'll have to give this to your teammates. I expect you to wear them on campus today. Okay, moving on. So what I want to resume on is actually do the second affinity diagram exercise that we didn't get to do. A bit more of a sort of a real scenario not just all the things that you touch in one given day. So this time of course your groups will be different so don't worry about that. I'll hand back out post-it notes. So I have all the post-it notes still here. What I wanted to do is imagine like the like downtown district partnership is trying to come up with how do we get like more senior students to come downtown more often, okay? And this could be a real thing. They really do want senior students to come downtown more often but there's various reasons why you probably do a lot less than you should. So what I wanted to do is again individually we're going to do this individually before meeting in your groups. I'll give you three to five minutes just to get down as many ideas as you can. We have a lot of experts to consider as part of this panel. Just put them in your neighborhood if you can. So again, good affinity diagramming practice is to try to boil it down to a single thought. Don't just be like, weather, you know, that's too loose. B, it's too cold. Rain would be a different story, right? So try to make it as small and actionable as possible. Who needs more positiveness? And this is you personally. Don't try to extract what others are doing. Just think about what you personally don't agree on. See if you can do a better job of clustering it, and again, we'll go around the room and see how, this is a more complicated problem than what you touch every day, so there'll be different headings for different people. So roughly, eight people. And again, if you have the same answer, you stack them, so if you have the same note, just put them on top of each other. Okay, and we're at 8,000 now. Okay, so Esther's doing really good. Do you have anything you wanna add, Esther? Okay, cool. Hey, maybe one more minute to get your ideas up on the board. Okay. Okay, let's go around the room and we'll see if the teams that are still wrapping up can wrap up. Okay, let's hear what the different groups are doing. It's not vital that you get everything done. Let's start. Tell us all of your categories from left to right. We have some problems here that we can see. I'm nervous. I don't have time to go in. Where were you? Yeah, we also have a lot of problems. Yeah, a lot of problems. I didn't tell you whether there's going to be any issues. No. It's a very vital thing that we're going to have. Not a good reason. Which is, you have, okay. Zoom. Okay. Next one. Alright, so we have weather. Should I just do it all? Yeah, just do it all. I'll clarify. Okay. Weather. So we've got weather. Yeah. Let's just get there. Inconvenience, schedule for safety, especially at night, cost of care, alternatives to going there, and activities that either don't have to be there over the past year. Personal problems, it's just not having a presence there. Yeah, it seems like a common theme. Okay, got it. Next team. Okay. I think, Sam, I think that I would like to support everyone on downtown and the fun things you can do there. But not important things to do is the number one thing. Yeah. As well as, like, distance, and then it comes from that. Like, you have, you don't want to worry about planning for it. There's other things. It's available to you much closer. And then the price, whether it's 60 cents a day. Okay. Okay. So definitely some common themes. Next team. Yeah, we have some pretty similar stuff. Like, not knowing what to do. One of our issues we have here today is we can't drink there. We don't drink wine. We weather CMUs, like, we're in a bubble that we're trapped in. The lagginess of the port authority sometimes. Yeah. My friend's stuff. And we also have noise stuff. Wow, see, the two noise issue ones. It's not a good thing. I've never heard that. I've never thought about how to prove it. Next. Yeah. So, yeah, there are two. Yeah. We work so hard for it. There's a lot of information about what you can have. You can have money. So there's a lot of devices you can have. I think we have a lot of questions about the weather and the ships that we are going to use. Okay. Next team. So we have 20, that's a pretty powerful amount of money on this. We saw our parking, transportation, weather. Okay. Okay. Interesting. Okay. Finally. So we have weather, transportation, lots of crowds, lack of activities, costs, safety, and we also have cell reception. Yeah. Now would that maybe go under safety? Like do we already communicate? Oh yeah. Friends? I don't know. That's a little bit of an oddball one. But yeah. Okay. Next team. So we have a lot of questions about the weather and the ships that we are going to use. Okay. Next team. So we have weather, transportation, lack of activities, costs, safety, and we also have cell reception. Okay. Next team. So we have weather, transportation, lack of activities, costs, safety, and we also have cell reception. Okay. Next team. close it down early, the restaurants are empty by 8. You can't even get food after 8 there. Yeah, we can talk about that. I mean, if you like Walnut Street, then you'll fall in love with them. Burn! Okay, sit back down. We're going to move on. Okay, so just to wrap up a little bit on observation and niche finding, there's two sort of effects that I wanted to briefly mention that can sometimes impair your ability to get a good contextual view. So number one is this notion of expert blindness. How many people have heard the term expert blindness before? It's a really important term. So basically this is this notion that you are so good at what you do that you basically can no longer see the pitfalls. This is sort of like the Snapchat interface effect. You're so good at using it and you're so adept at mobile applications that you can sort of figure it out. But that isn't expert blindness. If you think that's an easy interface to use, it's because you're suffering from expert blindness. So it's very dangerous. Masters who you are trying to learn from will exhibit expert blindness. So they'll skip over. It's like, oh, I'm just going to spool this to the printer. And they'll push like 15 buttons really fast and you'll have no idea what happened. And you may assume, oh, they just went to like file, print, and they hit return or something like that. But actually it might have been this really complicated system where they had to check some box and collate it and double-cite it. So you have to be very cognizant that the master is suffering from expert blindness. And you yourself as like sort of an expert in HCI or UX or computer science, whatever your discipline may be, that you're going to suffer from it in sort of an opposite way. So this is sort of doubly important that when you're in these activities, that you go through the process. Don't just let them demonstrate for you, because things that seem so trivial actually may actually be really complicated. And if you do it yourself, you'll see, oh, hold on, I have to select this like other weird printer, I have to print it in order to get it to like the claims department, just sort of like virtual school box or some really esoteric thing. You'll discover that if you make them do it. That's one of the reasons why it's a master-apprentice model, that you're meant to learn, you're meant to do it. You're going to do it in a very poor, slow way, but it forces you to have to basically kind of learn their job. Again, not just an interview. You want to have that kind of relationship. So tech deployments is a double. So here's this one example. I pulled this out of an old Microsoft video. This is them testing what would become Windows 95, but back in 93. And it's someone using a mouse for the first time. And you might think, oh, that's a really intuitive thing. But it's actually pretty difficult. So let's watch this video. And he's doing a think-aloud. Go. I'm using a double-click mouse. I'm going to icon. I'm coming down here. I'm going to get there. I'm going to be sure that it's on, though. It's on twice. I'm going to click this. I'm going to read down here. Let me read it again to see if I did something wrong. Double-click. Oh, I'm using a double-click. It took me to the left twice. I did that. Yeah, great. You did a good job. Your mouse pointer is jumping between the clicks, so that's why it's not working. Oh. Boy, that's too sensitive. and over here. Pause it there. Okay, so I'll just pause it there. Is, you know, we take for granted using a trackpad and a mouse. And this person's using it really for the first time. And what they notice in that, when they're testing this early, we're like a beta version of Windows 95, is that we have, right now, all of us have this mouse memory where if we double click with the mouse, we know to keep it still. But for someone who hasn't really developed that sort of physical intuition, he was clicking, and in between the click, he was just nudging it. You know, the click was causing the mouse to jump like one or two pixels, you know, a very small amount. And in response, Windows was rejecting it as a double click. It's like clicks have to happen in the same spot. It seems like such a tiny thing, but this person actually couldn't do it. I mean, the video, I'm sure, was longer, and it was probably, he was encountering this problem in many different spots in the interface. So again, it seems so obvious to us, and we can pretty much walk up to any computer with a mouse to track that, and we can use it immediately. And that's because you have tens of thousands of hours of practice on those things that you can basically walk up to like an airport kiosk for getting your ticket, and you can use it immediately, right? Because you're so good at it. And I'm sure you've been next to someone else online, or like the automated checkout at like Giant Eagle, and there's just someone who is just getting destroyed by that interface, and just cannot get to the finish line. And you might be like, oh, they're dumb, but they're not, they're just inexperienced. And you're an expert, and you just don't realize that you're an expert. Here's another interesting item. Sorry, this popped up so many times. I'll turn off the light, it's probably gonna be a popped page. So there's a really interesting little kind of micro-study that they ran. Can anyone, if you look closely at this, can you notice something unusual? So they gave this to radiologists, okay? They gave this to radiologists who are experts at looking at these things, and basically saying, oh, there's like a tumor here, or there's like, I don't know, like a lung cavity, and there's like, you know, some sort of like water in the lungs, or something like that. And I think this is a cross-section of someone's lung. And if you're in the front row, see what really where is it? What is that? It's a little gorilla inside someone's lungs. And what they found, if you stand in the back row, it's very solid, like you can sort of see it. And they showed this to radiologists, like, do you notice anything wrong about this human? It's a healthy human. So they're like, no, the CT scan looks fine. There's a freaking gorilla in there, which is clearly not like fun. We think that's the most obvious thing to talk about if you're an expert. But the fact that they're so tuned to pattern matching for actual medical things, that they're basically blind, cognitively blind, is something that is very remarkable. So for example, expert blindness, novices sometimes can see things more clearly than even experts in some cases. Okay, here's a totally different effect that some of you may be aware of. So if you know the answer to this, sort of mums the word, let other people sort of think it through. But it's another effect that comes up all the time when you're studying the context and the contextual background of problems. So the original, kind of the classic study of this actually goes back to the 40s, to World War II. And what they were looking at is the military was trying to figure out where they could put extra armor. They had a certain payload capacity on the design of bombers, and they could add on a certain amount of extra armor. And what they did is they said, well, let's do this in a data-driven way. Rather than just like, yes, where we should put the armor, let's do this in a data-driven way. And so when we look at lots of aircraft that are coming back from combat situations, we can look at, you know, where they're getting shot, right? And so for the military, look at the bomber, the recurrence of enemy territory, and they recorded where those planes had taken the most damage. And over and over again, they saw the same pattern, right? That bullets tended to accumulate, damage to the aircraft tended to accumulate along the wings, around the tail gunner, and down the center of the bomb. Okay, they saw this pattern, this is where it's accumulating the most damage. So, taking this into account, where would you put the armor if you were the military? Okay. Yeah, so back in the day, these big bombers had like little, kind of like little turrets. So if an enemy fighter was tailing the bomber, they'd have a way to shoot back at the person that was flying on. So he'd tail gun him in a little bubble at the back with his own machine gun. And there was normally a roof underneath and even one in the front on the left of the bigger bomb. Does anyone have a theory on this? Yes? Set that aside for now. Let's just say there's 300 pounds of free weight that we can just add armor onto. Yes? Yes, did everyone hear that? So, the answer is you put the armor where there are no bullet holes. Okay? If you think about this, the planes that are returning, so I have a nice succinct quote here. So here's an example of, for example, an aircraft. So this is not the bomber. So you see, you're getting planes like this returning. You say, oh my gosh, look at the whole wing that's blown off this fighter, little tiny fighter. Right? So you may say, well, where should we make it stronger? And you think, okay, so the first intuition is to put it on the wing, to strengthen up that part that fell off. But the fact is, if this plane lands back at the airfield, it shows you that you can actually lose that part of the wing and still make it back. If you have planes coming where there's no holes, that are the ones where, because it's missing from your data set, it means those are the ones that got shot there and probably just like exploded and they never came back. So the ones that are coming back with holes is where actually it shows you can be shot and survive. Okay? It's a little bit counterintuitive. So let me just say that more simply. The holes actually show where the plane is the strongest, because it can still make it home despite having damage. Okay? And so what you want to do is you want to put the armor everywhere you don't see holes, because that's presumably, assume it's a random distribution of holes, essentially. And so you put armor where you don't see holes. you see no damage because those are the ones that got shot and they come back. Does that make sense? How many people, does this make sense? Okay, good. So, the planes that weren't there are the ones that needed the extra protection, the holes, the sort of thing that you build locations in, these are the least additional ones. So this effect is called survivorship bias. You have to realize that you see survivorship bias in all different things. Because of just natural selection, not just in military aircraft, but in processes and fashion and everything, all you're seeing are the exemplars that survive. So, for example, not the bomb armor, but the notion that older buildings are more beautiful. Pittsburgh has an amazing collection of turn of the century and Gilded Age skyscrapers. But it's actually not true, like all these wonderful Victorians like in Shadyside and stuff. The fact is older buildings are not more beautiful, quantitatively. We have kept, it happened to be that the ones that we decided to preserve and we kept for like a hundred years happened to be the nice ones. That's why we kept them. All the really ugly old buildings, and there were many of them, we've torn them down because they just weren't worth keeping. Same with old cars. People were like, oh my gosh, like a Ford, Thunderbird, like cars back in the 60s were just so elegant and so beautiful and they're still driving. They have like a Jeep from the 50s, it's so reliable. But that's because you're not hearing about like all the cars that were so terrible that it's like trashed them, even in the 60s, they just tossed them out. And there's lots of ones like the Pinto that would just occasionally just explode and kill people, like for no reason. None of those are still driving on the road, even though it's a terrible design. So there's also the notion that they don't make stuff like they used to because someone has some really old tool that happened to be, you know, it's a dishwasher that is still surviving and you bought in the 80s and it still was working. That's because that's an example of something that happened to survive. And you don't have exemplars in the day. Here's some other ones and songs from the 80s. If you watch like Stranger Things, it's always like hit songs. Wow, what an amazing musical era. Because again, if you watch any show or movie set in the 80s, it's like the same collection of 50 really awesome songs from the 80s, and they're not playing all the ranked number 100 song from May of 1982. And if you've never heard of that song, it's not got any kind of nostalgia for you. It's just been essentially lost in time. And same, and I see this a lot. I have a startup myself, and everyone over here can have these crazy best practices. But you have to realize that startups, like the people that got super successful, sort of the Mark Zuckerbergs, for every Mark Zuckerberg, there's probably a thousand other people that had exactly the same idea and failed in different ways. It wasn't just like, he happens to think that his one path was probably like anyone could have done it if he just followed those steps. But there was actually things before Facebook, like Friendster, that were arguably better and run by more adept businessmen, and failed. So you have to take everything with a little bit of a grain of salt. So whenever you're observing people and processes, and even just artifacts, you have to realize that this effect is happening and magnifying certain things. Yep. But they survived for so long, people imagine being in a different company than them, no? Yes. It's correlated, and sometimes they survive just in pure coincidence, like certain movies or cult classics that have survived, or a certain car that, for whatever reason, just accidentally happened to be more stronger than some counterpart. So yes, there normally is a rationale, and I'm sure, Dr. Burton, not to take on poor duck, but I'm sure he wasn't terrible at his job, but I do think that you could probably find other people that were better, and still lost out. So there's lots of examples, like better products that basically were a huge failure, like the Alcoa and Starbreeze era, right? I think so. Like, I understand what's more in terms of pain, because like, oh yes, they survived, but you know that you have to defend them, like men in the home, that didn't. Right. But some, like Dr. Burton's stuff, I don't know what I would put somewhere in that. Or like old cars, too. Like, really, those cars are super great, and people love them, and they're not super safe, but I may like them for a reason, and other parts of the era, you know? Yeah, so. The main point I want to do, and obviously these are moving away from your tip, but I wanted to give some other touchstones that you probably have seen that have happened. But the key thing is that when you go to a context, like you go to an office and you observe processes, if sometimes you have to realize that those processes are not around necessarily because they're good, but there may be tangential factors that have kept them and that they have survived and other things were tried and kind of failed along the way. So it's just to be cognizant that there is going to be a bias in what you see. Even the people that are having to be in the office, there could be a sort of a survivorship bias among the employees, certain personality types or training. You're not hearing from all the employees that the software is so bad, only the people that love this terribly fun software. And so they all give you glowing feedback. It may be because all the people with a humanities degree couldn't figure it out and quit the company six months ago. You just have to be, there's no rules you must follow, but it's good to be cognizant that these sort of processes play out. And so when you do, you always want to question, you know, why is this still happening? Why is it this demographic of people? Is this some sort of, and I would talk about other effects that are happening like this throughout the semester. And this is one of them that's really strong. Here's just one final, this is like an ex-PCB example. This is sort of like the start of a day of election. Right. So never stop buying lottery tickets, no matter what anyone tells you. I failed again and again, but I never gave up. I took extra jobs and put all my money into tickets. And here I am, proof that if you put in the time, it pays off. Obviously, there's the 10,000 other people that followed exactly the same formula. Maybe put more money in the lottery tickets. And I think that's the next step. OK, so that's just two quick things on niche finding, sort of possible niche finding pitfalls. And then I want to jump back to usability. We talked a lot about, back just like two lectures ago, we talked about how you do like the funness of an arcade, how you do like the memorability and the gesture. And I want to give you one case study that actually sort of. to how you measure some of these very qualitative effects. So this is where we left off at the end of that lecture. And I wanted to show you this case study when they were designing Halo 3. So this is a great article, and you can read it. But we care about how Microsoft Labs invented this new science of play. And they were trying to figure out kind of quantitative ways to make Halo 3 more fun. So for example, I just pulled out some choice quotes out of this Y article. So after each session, the experimenter analyzes data as a pattern. For example, for these snapshots of where players are locating the game at various points in time, five minutes in, one hour in, eight hours in, et cetera. They show how they're advancing. If they're going too fast, the game would be too easy. And if it's too slow, it might be too hard. And this is just one example of how they did this. This is actually, I think, one minute interval. So here's one level. And what they've done is they've color-coded where all the players who play something. So Microsoft does a huge amount of user testing where they bring people in to play, basically, data versions of these games. And basically, they're able to say, OK, where was that player at one minute, two minutes, three minutes, four minutes, and it's color-coded. As you can see, some people, you see some different colors in different zones. Obviously, there's some orange in here. There's some clear orange in here. And then when it's blue, there's light blue, dark blue. There's some people that move that here very quickly. So this might be minute one. And this is minute three. And some people were able to get here within a minute. And some people here within three, let's say. And you can see, again, some people are a little bit faster than others. Some yellow things in here, and so on. And so they're doing these sort of tests to look at pace of the game. And you can see it's actually relatively even. Most players, it doesn't matter if you're skillful or not skillful, you see that it tends to flow for even. What you don't want to see, it was really complicated. And people that have played Halo 1 and 2, they're just flying through this. And then you find people that have never played Halo before. And they were back here for 20 minutes. And obviously, it's not going to be that exciting. They're just walking literally around in circles. And that's a clue that actually there's going to be a stratification of expertise. Another interesting one here, so the designer can generate a map showing where people are dying to identify the topographical features that may be making a battle onerous. And they can produce these charts and how they can do that. This is a heat map of where players are dying in this particular well. So again, they can see, like, why is it this one spot? Again, they're not necessarily videotaping. They are probably videotaping all these players, but they're not necessarily observing every single one of them. They're not bringing in 100 people a day to play through the entire game. And obviously they're walking around, but they're not recording exactly what everything happens, but they can record it digitally, and then basically make these sort of infographics that do these sort of analyses. And obviously, you want to have different points Maybe extra-difficult bosses or something like that. Then you can basically look at these patterns to see if people are, like, there's not even any enemies there. Why is there so many deaths? Maybe they're, like, falling down a ravine, or maybe there's some sort of a glitch in the level where you, like, drop through the map. I'm sure people have played games where there's little errors like that. So here's another quote. So a similar report shows that in the game's very first level, players often ran out of ammunition for their rifles. This was a mystery because the designers were careful to leave more than enough ammunition laying around. They even checked the video record, and they found that people were firing at the aliens, the enemies, when they were too far away, misjudging the range of the weapon and wasting bullets. So this is, you know, they're in the first level, and they've never played anything from the Halo series before, and they see one of these kind of creatures in the distance, and so they just start firing at it. But because it's so far away, basically, this doesn't even register as a hit. In fact, the game may actually discard the bullet. It may be programmatically impossible to even cause any damage to it. So first, the designers couldn't figure out how to fix this problem, so they stumbled on this elegant hack. They made this targeting reticule. This is like a little crosshair that you see in a lot of games, and also on guns, like actual guns have a reticule as well. It turns red when the enemies are in range. So it's like, I think it's green or white normally, but then when you go over someone, go over one of these enemies, it changes color. I'm sure people have seen this effect a bit today, like a first-person shooter. And so there's this little, tiny, subtle cue that basically suggests that they are within range and actually firing at this enemy was going to be productive. And so then, you know, they have these kind of percentages like this, so lastly, 52% of the players gave, you know, the jungle level a 5 out of 5 for fun. And then in the beginning, when it wasn't making a lot of sense, it was only 10% of players gave it a 5 out of 5. So it's a way, again, you can read the whole article, but there's lots of little tiny things that they're trying to bring quantitative measures to bear to make these levels. Which again, they're measuring fun. We talked about fun, that's how these are paid. But they're trying to really get billions of dollars at stake for something like the Halo franchise. They want to make sure that that's a real success. They want to develop all these techniques and tools to be able to analyze fun. It's actually quite interesting. So, just to reiterate, you want to identify the right goals and you're trying to figure out usability goals. What is the point of Halo? Is it fun? Is it for them to buy more Halo products? You have to figure out what your metrics are so that you know that you're designing your system right. Then you want to devise a drive way to ensure that your goals are met and what you have your goals are. What are the metrics and how are you going to work towards those? And finally, there's a lot of iteration that we've talked about many times in the semester and hopefully what you're experiencing in Vega 1 is you need to go through these iterative loops to make these improvements. Okay, that's it on the lecture side. So you have 20 minutes left in class. I would encourage you to meet in your groups because I know a couple of groups are having a hard time finding time to meet. If you are super, so super confident in your idea, you are welcome to leave. I'm not going to keep you here. And I hope you use this time to ask me final remaining questions. On your bake off. Otherwise, I'll see you on Tuesday. Thank you. I'm not sure how important it is, but I think it's important to do what you will, and make the best decisions you can about what you want to do. You can't do this all by yourself. You have to have a specific idea. And it has to be equaled out by everyone. So it isn't 100% everything is decided by everyone. You can't just make a decision. There are plenty of those. Just really quickly, I want to make a quick announcement. Just to remind you, I mentioned this before, but just to remind you, when participants sit down at your table, to the completion point, and you can talk to them, you can touch the trackpad, so you have, you can give them, basically, all these questions they need to figure out your design. And the second time you run it, it has to meet the time trial. So just a reminder. I hope I answered all your questions. I hope I answered all your questions. I hope I answered all your questions. I hope I answered all your questions. I hope I answered all your questions. So like, there's not, it's not even addressed here in the box, I mean, the box is kind of functional. As long as, you know, as long as you've done the work, that was all good. Yeah. Yeah. Yeah. Yeah. Yeah. Yeah. Yeah. Yeah. Yeah. Yeah. Yeah. Yeah. Yeah. Yeah. Yeah. Yeah. Yeah. Yeah. Yes. Yes. Yes. Yes. We may want to look at, there's a rectangle node that places it in the center, or you can place it in the center, or you can place it in the center, or you can place it in the center, or you can place it in the center, or you can place it in the center, or you can place it in the center, or you can place it in the center, or you can place it in the center, or you can place it in the center, or you can place it in the center. Can you make a straight line from the cursor to the target box down here? It doesn't matter. Just go straight to the other box on the point 4 and the other box on the right. But it's just that it doesn't make it like a heart. It's just a box on the right. You can decide to make just one right here. It's fine. That's fine. You don't have to worry about it. That's fine. That's a good point. Then, as I gave you last year's lecture, I believe that the core gives you the assignment of the script, like, before you start running it. So, obviously, I'm giving you all the boxes to go. I'd like to do a little bit more here. Okay. And I'll actually give you a list of all the scripts you can send. Yes. That's what the scaffold library does. We download that from my website. We go to the top left. I don't have that anymore. It's commented. It's commented in the preset you want. Oh, okay. We can look at that. So, any other ideas? It sounds like you need a lot more ideas. We need the line idea. That's going to give you a point one for that. We have some ideas. We already have it. I'm going to just start another one. Okay. Thank you. Thank you. Okay. All right. Yes, goodbye. Thank you. Yes. Thank you. So I think, since it won't be hard for you guys to come to the press conference, I think the idea is for you to basically call yourself. Um... I've got one more question. I have one more question. So, send me an email after the press conference. I will have a discussion with you guys. I will get to you by midnight Friday. Next Friday. Um, and then you can... you can... don't have to send it to me. This is my email. That's why I saw your email. Thank you. Do you guys want to ask me? No, we were just asking. You look like you're from the business side. So, joining online for the conference. Yeah. So that's the process there. That's all. That's all. Um, do you want to show it first? I'm sure we have a... we have a show. No. Actually, we could always do it. No, we won't. No, we're fine. We can do it. We can do it. It helps to make it. Yeah. You can actually test it. Side by side. I felt that I was iterating while I was speaking. It's a good exercise. Yeah. I think we're about done. We're going to go. We're going to go. Thanks. All right. All right. Thanks. All right. All right. Bye. Bye. Bye. See you. See you. Bye. Bye. Bye. Bye. Thank you. Bye. Bye. Bye. Bye. Bye. Bye. Bye. What are you projecting? Oh, it's really close? I think we need to... Yeah, I think we need to... Where? Try talking to it. It's weird. It's not even the one that's closer. It's like, you're here. It's kind of weird. It seems fair. It just, like, sees the mouth direction. Oh, really? I think it's just, like, closest. Closest to... No, it's not, like, it's like... Yeah, it looks legal. Thank you very much. Do you have a video? Yes. Uh, we have a video. Why? Those look darker than they should be. Oh, so these can't see? Okay. So, the idea here is, like, every grid has, like, a... Yeah. So, we call it a change here. Yeah, so, like, you can, like... Yeah. Okay. Yeah, yeah. That's legal. It's already a good idea. Yeah, yeah. Okay. There's some big ones still that we haven't discussed. One of the big ones, but there's still more. Okay. I'm representing a... Yeah. So, I think the initial idea is we have our one center of legality. So, uh, we have the crazy little big bar in the middle. Uh, and maybe also the last jumping from the center of one square to the center of the other with, like, a little jump. As long as it's still open. Yeah. Yeah. like, just changing it to things that are a little bit more eye-catching, like yellow for the target, and then... So you can decorate just the target, but you can modify it back and forth, which would be great. You can make it, like, more yellow or something. And just, maybe, would it be possible to brighten whichever square the mouse is pointing to? Sure, that's fair. It doesn't, like, really matter. It's like, all of those things would treat me differently. I think that should be a valid reason. Okay. I, it's just... It's been an interesting team to work with, but... Yeah, it should, it's fine. Okay. But, yeah. Yeah, it's fine. We can talk about that. Mike's here. Yes. Okay. No. I cannot make a model... Yes. Okay. Mm-hmm. Oh. I mean, you should look at the original code. Definitely. Just double-check, just look at the scaffold code, just make sure that... You know, we don't want to lose the place. It's like, you know, it's in, like, 128. And... Double-check. Mm-hmm. And you do that so that it's there on the students, or because it's, I mean, you could, but think about how this would work in practice. Like, you wouldn't have your, you know, if the computer would guess that you're going to go to Chrome. But it'd be very weird if all your icons on the screen, like, went to grass, and like one went like that, and it's kind of strange. So it's, it's, it's fun about, it's not because it's, like, illegal in the world, but just because I'm trying to keep a level of fairness. No one can modify the background. No one can modify the map. I am letting people play around with the cardboard square, just a little bit of the design of the windows. The rules are, are just made up by me. You know, so there's no, like, car gets legal and it takes the eye. Or, I thought it's like, I mean, I'm just, like, like, kind of cool that you're writing them, but I, I thought that I could apply it, like, in your study, if you don't mind. Right. And this is sort of a new study that I'm just trying to constrain. And, and so that's just one of my kind of lines of thought. Because I had, in previous times, I didn't let the people do crazy things, I made them all invisible. And it was, it was just getting crazy. And so I was like, what's this supposed to mean? Trying to, trying. It's not 100% realistic, but it's still amazing. Thank you. Thank you. Thank you. So typically, when they make mistakes, it's a pretty impressive liability. Is it not? Yeah. Well, we do get it sometimes, and then they're like, if you can't have it at all, you can't do it. I just gave a hard time. So now, how do you approach it? So for example, if like, I'm a customer, right? I'm a sponsor. And so I basically just pay that high price. That's no issue, right? I think it does cost a lot of money. Like, this is a way for that. It costs a lot of money. I don't know what I'm going to say today, but it costs a lot of money. Why is it so expensive? For example, if you charge a lot of money for this, it costs a lot of money. Because we get the whole country. Yeah. And then, when we're actually in the box, it is going to cost a lot of money. I think it's important to understand that if you, if this is the target, then it's going to cost a lot of money. I'm curious why you think that. I don't know. I'm not a big fan of it. Yeah, it's important to know. And so, let's find out. So if it's targeted, then you add, like, your consultation, like, your client, and then, I don't think that's the right way to do it. I don't know. Oh, I don't know. If it's targeted, then you're, like, like, somebody's going to find it out. Do you want to do the same one? Yeah. Oh, yeah. I'll give it to you. Oh, perfect. So I can find you. Somebody found this already. I don't know how to do it. You can move your mouse over. Move your mouse over. I think that's the only way I can do it. I can do it. That was very good. I can do it. I can do it. I can do it. I can do it. You want to do it? I can do it. Yeah. I'm sorry. It doesn't matter. Then you can. I think you can do it. You can change the color. Yeah. That's one thing I did. The other thing is, I can't do anything. I can't do anything. I can't do it. I can't do it. I can't do it.\""
      ]
     },
     "execution_count": 26,
     "metadata": {},
     "output_type": "execute_result"
    }
   ],
   "execution_count": 26,
   "source": "all_text",
   "id": "aa9ce0811df59457"
  },
  {
   "metadata": {
    "ExecuteTime": {
     "end_time": "2024-06-24T04:28:11.793422Z",
     "start_time": "2024-06-24T04:28:11.785404Z"
    }
   },
   "cell_type": "code",
   "source": [
    "# create a cell\n",
    "pdf.cell(200, 10, txt = all_text, \n",
    "         ln = 1, align = 'C')\n",
    " \n",
    "# add another cell\n",
    "# pdf.cell(200, 10, txt = \"A Computer Science portal for geeks.\",\n",
    "#          ln = 2, align = 'C')\n",
    " \n",
    "# save the pdf with name .pdf\n",
    "pdf.output(f\"../transcripts_pdf/{Path(transcript_files[0]).name}.pdf\")    "
   ],
   "id": "bf7744697df55a0e",
   "outputs": [
    {
     "data": {
      "text/plain": [
       "''"
      ]
     },
     "execution_count": 30,
     "metadata": {},
     "output_type": "execute_result"
    }
   ],
   "execution_count": 30
  },
  {
   "metadata": {},
   "cell_type": "code",
   "outputs": [],
   "execution_count": null,
   "source": "",
   "id": "3e7613dc5ef227d0"
  }
 ],
 "metadata": {
  "kernelspec": {
   "display_name": "Python 3",
   "language": "python",
   "name": "python3"
  },
  "language_info": {
   "codemirror_mode": {
    "name": "ipython",
    "version": 2
   },
   "file_extension": ".py",
   "mimetype": "text/x-python",
   "name": "python",
   "nbconvert_exporter": "python",
   "pygments_lexer": "ipython2",
   "version": "2.7.6"
  }
 },
 "nbformat": 4,
 "nbformat_minor": 5
}
