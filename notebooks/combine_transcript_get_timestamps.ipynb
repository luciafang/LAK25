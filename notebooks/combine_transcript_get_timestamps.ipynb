{
 "cells": [
  {
   "cell_type": "code",
   "id": "initial_id",
   "metadata": {
    "collapsed": true,
    "ExecuteTime": {
     "end_time": "2024-06-19T12:32:46.261337Z",
     "start_time": "2024-06-19T12:32:46.251459Z"
    }
   },
   "source": [
    "import pandas as pd\n",
    "import matplotlib.pyplot as plt\n",
    "import seaborn as sns\n",
    "import numpy as np\n",
    "from pathlib import Path\n",
    "import glob\n",
    "import re\n",
    "from tqdm import tqdm"
   ],
   "outputs": [],
   "execution_count": 1
  },
  {
   "metadata": {
    "ExecuteTime": {
     "end_time": "2024-06-19T12:32:46.269247Z",
     "start_time": "2024-06-19T12:32:46.265538Z"
    }
   },
   "cell_type": "code",
   "source": [
    "def convert_int(s):\n",
    "  if s.isdigit():\n",
    "    return int(s)\n",
    "  else:\n",
    "    return s\n",
    "\n",
    "\n",
    "def alphanum_key(s):\n",
    "  return [convert_int(c) for c in re.split('([0-9]+)', s)]\n",
    "\n",
    "\n",
    "def sort_nicely(l):\n",
    "  l.sort(key=alphanum_key)"
   ],
   "id": "1cfdde8d2d9780f6",
   "outputs": [],
   "execution_count": 2
  },
  {
   "metadata": {
    "ExecuteTime": {
     "end_time": "2024-06-19T14:21:36.578940Z",
     "start_time": "2024-06-19T14:21:36.562425Z"
    }
   },
   "cell_type": "code",
   "source": [
    "text_files = glob.glob('transcripts/20190502/*.txt')\n",
    "sort_nicely(text_files)\n",
    "text_files"
   ],
   "id": "a41390f92d1766ea",
   "outputs": [
    {
     "data": {
      "text/plain": [
       "['transcripts/20190502/text_T0-2_mins.txt',\n",
       " 'transcripts/20190502/text_T2-4_mins.txt',\n",
       " 'transcripts/20190502/text_T4-6_mins.txt',\n",
       " 'transcripts/20190502/text_T6-8_mins.txt',\n",
       " 'transcripts/20190502/text_T8-10_mins.txt',\n",
       " 'transcripts/20190502/text_T10-12_mins.txt',\n",
       " 'transcripts/20190502/text_T12-14_mins.txt',\n",
       " 'transcripts/20190502/text_T14-16_mins.txt',\n",
       " 'transcripts/20190502/text_T16-18_mins.txt',\n",
       " 'transcripts/20190502/text_T18-20_mins.txt',\n",
       " 'transcripts/20190502/text_T20-22_mins.txt',\n",
       " 'transcripts/20190502/text_T22-24_mins.txt',\n",
       " 'transcripts/20190502/text_T24-26_mins.txt',\n",
       " 'transcripts/20190502/text_T26-28_mins.txt',\n",
       " 'transcripts/20190502/text_T28-30_mins.txt',\n",
       " 'transcripts/20190502/text_T30-32_mins.txt',\n",
       " 'transcripts/20190502/text_T32-34_mins.txt',\n",
       " 'transcripts/20190502/text_T34-36_mins.txt',\n",
       " 'transcripts/20190502/text_T36-38_mins.txt',\n",
       " 'transcripts/20190502/text_T38-40_mins.txt',\n",
       " 'transcripts/20190502/text_T40-42_mins.txt',\n",
       " 'transcripts/20190502/text_T42-44_mins.txt',\n",
       " 'transcripts/20190502/text_T44-46_mins.txt',\n",
       " 'transcripts/20190502/text_T46-48_mins.txt',\n",
       " 'transcripts/20190502/text_T48-50_mins.txt',\n",
       " 'transcripts/20190502/text_T50-52_mins.txt',\n",
       " 'transcripts/20190502/text_T52-54_mins.txt',\n",
       " 'transcripts/20190502/text_T54-56_mins.txt',\n",
       " 'transcripts/20190502/text_T56-58_mins.txt',\n",
       " 'transcripts/20190502/text_T58-60_mins.txt',\n",
       " 'transcripts/20190502/text_T60-62_mins.txt',\n",
       " 'transcripts/20190502/text_T62-64_mins.txt',\n",
       " 'transcripts/20190502/text_T64-66_mins.txt',\n",
       " 'transcripts/20190502/text_T66-68_mins.txt',\n",
       " 'transcripts/20190502/text_T68-70_mins.txt',\n",
       " 'transcripts/20190502/text_T70-72_mins.txt',\n",
       " 'transcripts/20190502/text_T72-74_mins.txt',\n",
       " 'transcripts/20190502/text_T74-76_mins.txt',\n",
       " 'transcripts/20190502/text_T76-78_mins.txt',\n",
       " 'transcripts/20190502/text_T78-80_mins.txt']"
      ]
     },
     "execution_count": 48,
     "metadata": {},
     "output_type": "execute_result"
    }
   ],
   "execution_count": 48
  },
  {
   "metadata": {
    "ExecuteTime": {
     "end_time": "2024-06-19T14:21:36.799057Z",
     "start_time": "2024-06-19T14:21:36.734422Z"
    }
   },
   "cell_type": "code",
   "source": [
    "for i, text_file in tqdm(enumerate(text_files)):\n",
    "    with open(text_file, 'r') as f:\n",
    "        res = f.read()\n",
    "        start_time_min = Path(f.name).name.split('T')[1].split('-')[0]\n",
    "    records = [list(map(str.strip, line.strip().split(']'))) for line in res.split('\\n')]\n",
    "    l = []\n",
    "    for record in records:\n",
    "        d = {}\n",
    "        d['timestamp'] = record[0].replace('[', '').split(',')[0]\n",
    "        for r in record[1:]:\n",
    "            key = 'transcript'\n",
    "            d[key] = r\n",
    "        l.append(d)\n",
    "    df = pd.DataFrame(l).fillna(0)\n",
    "    try:\n",
    "        pd.to_datetime(df['timestamp'], format='%H:%M:%S')\n",
    "        df['timestamp'] = (df['timestamp'] + pd.Timedelta(minutes=int(start_time_min))).astype(str).str.split('0 days ').str[-1]\n",
    "        # print(i)\n",
    "        # print(df)\n",
    "        if i == 0:\n",
    "            df_all = df\n",
    "        else:\n",
    "            df_all = pd.concat([df_all, df], axis=0).reset_index(drop=True)\n",
    "    except:\n",
    "        pass"
   ],
   "id": "9cf0424b8dd275dc",
   "outputs": [
    {
     "name": "stderr",
     "output_type": "stream",
     "text": [
      "40it [00:00, 699.19it/s]\n"
     ]
    }
   ],
   "execution_count": 49
  },
  {
   "metadata": {
    "ExecuteTime": {
     "end_time": "2024-06-19T14:21:37.027669Z",
     "start_time": "2024-06-19T14:21:37.023037Z"
    }
   },
   "cell_type": "code",
   "source": "df_all.head()",
   "id": "eea1893a421f2c62",
   "outputs": [
    {
     "data": {
      "text/plain": [
       "  timestamp                                         transcript\n",
       "0  00:00:30  I don't know if you can see it, but we have a ...\n",
       "1  00:00:32             that are trying to have a conversation\n",
       "2  00:00:34                 where they can't see the question.\n",
       "3  00:00:36  And they're trying to learn what they're looki...\n",
       "4  00:00:38                        So that would be a problem."
      ],
      "text/html": [
       "<div>\n",
       "<style scoped>\n",
       "    .dataframe tbody tr th:only-of-type {\n",
       "        vertical-align: middle;\n",
       "    }\n",
       "\n",
       "    .dataframe tbody tr th {\n",
       "        vertical-align: top;\n",
       "    }\n",
       "\n",
       "    .dataframe thead th {\n",
       "        text-align: right;\n",
       "    }\n",
       "</style>\n",
       "<table border=\"1\" class=\"dataframe\">\n",
       "  <thead>\n",
       "    <tr style=\"text-align: right;\">\n",
       "      <th></th>\n",
       "      <th>timestamp</th>\n",
       "      <th>transcript</th>\n",
       "    </tr>\n",
       "  </thead>\n",
       "  <tbody>\n",
       "    <tr>\n",
       "      <th>0</th>\n",
       "      <td>00:00:30</td>\n",
       "      <td>I don't know if you can see it, but we have a ...</td>\n",
       "    </tr>\n",
       "    <tr>\n",
       "      <th>1</th>\n",
       "      <td>00:00:32</td>\n",
       "      <td>that are trying to have a conversation</td>\n",
       "    </tr>\n",
       "    <tr>\n",
       "      <th>2</th>\n",
       "      <td>00:00:34</td>\n",
       "      <td>where they can't see the question.</td>\n",
       "    </tr>\n",
       "    <tr>\n",
       "      <th>3</th>\n",
       "      <td>00:00:36</td>\n",
       "      <td>And they're trying to learn what they're looki...</td>\n",
       "    </tr>\n",
       "    <tr>\n",
       "      <th>4</th>\n",
       "      <td>00:00:38</td>\n",
       "      <td>So that would be a problem.</td>\n",
       "    </tr>\n",
       "  </tbody>\n",
       "</table>\n",
       "</div>"
      ]
     },
     "execution_count": 50,
     "metadata": {},
     "output_type": "execute_result"
    }
   ],
   "execution_count": 50
  },
  {
   "metadata": {
    "ExecuteTime": {
     "end_time": "2024-06-19T14:21:37.538917Z",
     "start_time": "2024-06-19T14:21:37.532818Z"
    }
   },
   "cell_type": "code",
   "source": "df_all.to_csv('20190502_transcript_all.csv', index=False)",
   "id": "57e025ccaa19fcdf",
   "outputs": [],
   "execution_count": 51
  },
  {
   "metadata": {
    "ExecuteTime": {
     "end_time": "2024-06-19T14:23:45.895335Z",
     "start_time": "2024-06-19T14:23:45.876559Z"
    }
   },
   "cell_type": "code",
   "source": "confusion_time_points = ['00:10:00', '00:12:00']",
   "id": "a9a725986da79a56",
   "outputs": [],
   "execution_count": 57
  },
  {
   "metadata": {
    "ExecuteTime": {
     "end_time": "2024-06-19T14:23:46.747810Z",
     "start_time": "2024-06-19T14:23:46.743075Z"
    }
   },
   "cell_type": "code",
   "source": [
    "str.join(' ', (df_all.transcript[(df_all.timestamp > confusion_time_points[0]) & \n",
    "                  (df_all.timestamp < confusion_time_points[1])].to_list()))"
   ],
   "id": "157dffcd13f7ad6",
   "outputs": [
    {
     "data": {
      "text/plain": [
       "'Покладіть тісто на тісто і дайте йому відпочити на 20 хвилин. Покладіть тісто на тісто і дайте йому відпочити на 20 хвилин. Покладіть тісто на тісто і дайте йому відпочити на 20 хвилин. Покладіть тісто на тісто і дайте йому відпочити на 20 хвилин. Дякую за перегляд!'"
      ]
     },
     "execution_count": 58,
     "metadata": {},
     "output_type": "execute_result"
    }
   ],
   "execution_count": 58
  },
  {
   "metadata": {
    "ExecuteTime": {
     "end_time": "2024-06-19T14:24:31.819355Z",
     "start_time": "2024-06-19T14:24:31.814776Z"
    }
   },
   "cell_type": "code",
   "source": "df_all",
   "id": "4a3d05a042ec4847",
   "outputs": [
    {
     "data": {
      "text/plain": [
       "     timestamp                                         transcript\n",
       "0     00:00:30  I don't know if you can see it, but we have a ...\n",
       "1     00:00:32             that are trying to have a conversation\n",
       "2     00:00:34                 where they can't see the question.\n",
       "3     00:00:36  And they're trying to learn what they're looki...\n",
       "4     00:00:38                        So that would be a problem.\n",
       "...        ...                                                ...\n",
       "1269  01:19:38                        Yeah, yeah, we're all here.\n",
       "1270  01:19:40                             This is Nathan Alfred.\n",
       "1271  01:19:45  Well like this is the 40th anniversary of Nath...\n",
       "1272  01:19:49  So you might as well do the song and dance bef...\n",
       "1273  01:19:56                                              Yeah.\n",
       "\n",
       "[1274 rows x 2 columns]"
      ],
      "text/html": [
       "<div>\n",
       "<style scoped>\n",
       "    .dataframe tbody tr th:only-of-type {\n",
       "        vertical-align: middle;\n",
       "    }\n",
       "\n",
       "    .dataframe tbody tr th {\n",
       "        vertical-align: top;\n",
       "    }\n",
       "\n",
       "    .dataframe thead th {\n",
       "        text-align: right;\n",
       "    }\n",
       "</style>\n",
       "<table border=\"1\" class=\"dataframe\">\n",
       "  <thead>\n",
       "    <tr style=\"text-align: right;\">\n",
       "      <th></th>\n",
       "      <th>timestamp</th>\n",
       "      <th>transcript</th>\n",
       "    </tr>\n",
       "  </thead>\n",
       "  <tbody>\n",
       "    <tr>\n",
       "      <th>0</th>\n",
       "      <td>00:00:30</td>\n",
       "      <td>I don't know if you can see it, but we have a ...</td>\n",
       "    </tr>\n",
       "    <tr>\n",
       "      <th>1</th>\n",
       "      <td>00:00:32</td>\n",
       "      <td>that are trying to have a conversation</td>\n",
       "    </tr>\n",
       "    <tr>\n",
       "      <th>2</th>\n",
       "      <td>00:00:34</td>\n",
       "      <td>where they can't see the question.</td>\n",
       "    </tr>\n",
       "    <tr>\n",
       "      <th>3</th>\n",
       "      <td>00:00:36</td>\n",
       "      <td>And they're trying to learn what they're looki...</td>\n",
       "    </tr>\n",
       "    <tr>\n",
       "      <th>4</th>\n",
       "      <td>00:00:38</td>\n",
       "      <td>So that would be a problem.</td>\n",
       "    </tr>\n",
       "    <tr>\n",
       "      <th>...</th>\n",
       "      <td>...</td>\n",
       "      <td>...</td>\n",
       "    </tr>\n",
       "    <tr>\n",
       "      <th>1269</th>\n",
       "      <td>01:19:38</td>\n",
       "      <td>Yeah, yeah, we're all here.</td>\n",
       "    </tr>\n",
       "    <tr>\n",
       "      <th>1270</th>\n",
       "      <td>01:19:40</td>\n",
       "      <td>This is Nathan Alfred.</td>\n",
       "    </tr>\n",
       "    <tr>\n",
       "      <th>1271</th>\n",
       "      <td>01:19:45</td>\n",
       "      <td>Well like this is the 40th anniversary of Nath...</td>\n",
       "    </tr>\n",
       "    <tr>\n",
       "      <th>1272</th>\n",
       "      <td>01:19:49</td>\n",
       "      <td>So you might as well do the song and dance bef...</td>\n",
       "    </tr>\n",
       "    <tr>\n",
       "      <th>1273</th>\n",
       "      <td>01:19:56</td>\n",
       "      <td>Yeah.</td>\n",
       "    </tr>\n",
       "  </tbody>\n",
       "</table>\n",
       "<p>1274 rows × 2 columns</p>\n",
       "</div>"
      ]
     },
     "execution_count": 63,
     "metadata": {},
     "output_type": "execute_result"
    }
   ],
   "execution_count": 63
  },
  {
   "metadata": {},
   "cell_type": "code",
   "outputs": [],
   "execution_count": null,
   "source": "",
   "id": "7f604db00712b7c9"
  }
 ],
 "metadata": {
  "kernelspec": {
   "display_name": "Python 3",
   "language": "python",
   "name": "python3"
  },
  "language_info": {
   "codemirror_mode": {
    "name": "ipython",
    "version": 2
   },
   "file_extension": ".py",
   "mimetype": "text/x-python",
   "name": "python",
   "nbconvert_exporter": "python",
   "pygments_lexer": "ipython2",
   "version": "2.7.6"
  }
 },
 "nbformat": 4,
 "nbformat_minor": 5
}
