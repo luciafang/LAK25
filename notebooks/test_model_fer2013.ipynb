{
 "cells": [
  {
   "cell_type": "code",
   "id": "initial_id",
   "metadata": {
    "collapsed": true,
    "ExecuteTime": {
     "end_time": "2024-09-07T21:18:32.955679Z",
     "start_time": "2024-09-07T21:18:21.777036Z"
    }
   },
   "source": [
    "import os\n",
    "import numpy as np\n",
    "from PIL import Image\n",
    "\n",
    "from tensorflow.keras.models import Sequential\n",
    "from tensorflow.keras.layers import (\n",
    "    Conv2D,\n",
    "    MaxPooling2D,\n",
    "    AveragePooling2D,\n",
    "    Flatten,\n",
    "    Dense,\n",
    "    Dropout,\n",
    ")\n",
    "import pickle \n",
    "import numpy as np\n",
    "import cv2\n",
    "import matplotlib.pyplot as plt\n",
    "from sklearn.metrics import confusion_matrix\n",
    "from sklearn.model_selection import train_test_split\n",
    "import pandas as pd\n",
    "import seaborn as sns\n",
    "from tensorflow.keras.utils import to_categorical\n"
   ],
   "outputs": [],
   "execution_count": 1
  },
  {
   "metadata": {
    "ExecuteTime": {
     "end_time": "2024-09-07T21:18:32.958773Z",
     "start_time": "2024-09-07T21:18:32.956387Z"
    }
   },
   "cell_type": "code",
   "source": "test_dir = '../fer2013/train'",
   "id": "ddc234e9dba705c9",
   "outputs": [],
   "execution_count": 2
  },
  {
   "metadata": {
    "ExecuteTime": {
     "end_time": "2024-09-07T21:18:32.961691Z",
     "start_time": "2024-09-07T21:18:32.959405Z"
    }
   },
   "cell_type": "code",
   "source": [
    "def preprocess_image(image_path):\n",
    "    image = Image.open(image_path)\n",
    "    image = image.convert('L')  # Convert image to grayscale\n",
    "    image = image.resize((64, 64))  # Resized to 64x64 as specified in input_shape\n",
    "    image = np.array(image)\n",
    "    return image"
   ],
   "id": "733e7027d7e51e6",
   "outputs": [],
   "execution_count": 3
  },
  {
   "metadata": {
    "ExecuteTime": {
     "end_time": "2024-09-07T21:18:44.967403Z",
     "start_time": "2024-09-07T21:18:36.487566Z"
    }
   },
   "cell_type": "code",
   "source": [
    "test_data = []\n",
    "\n",
    "for class_name in os.listdir(test_dir):\n",
    "    if class_name != '.DS_Store':\n",
    "        for image_file in os.listdir(os.path.join(test_dir, class_name)):\n",
    "            image_path = os.path.join(test_dir, class_name, image_file)\n",
    "            image = preprocess_image(image_path)\n",
    "            label = class_name  # Extract label from class name\n",
    "            test_data.append((image, label))  # Append as a tuple (image, label)"
   ],
   "id": "6716de5db3f46747",
   "outputs": [],
   "execution_count": 4
  },
  {
   "metadata": {
    "ExecuteTime": {
     "end_time": "2024-09-07T21:18:44.974416Z",
     "start_time": "2024-09-07T21:18:44.969100Z"
    }
   },
   "cell_type": "code",
   "source": "test_images, test_labels = zip(*test_data)",
   "id": "cbcb5a8fbe21fe31",
   "outputs": [],
   "execution_count": 5
  },
  {
   "metadata": {
    "ExecuteTime": {
     "end_time": "2024-09-07T21:18:44.980314Z",
     "start_time": "2024-09-07T21:18:44.975536Z"
    }
   },
   "cell_type": "code",
   "source": [
    "label_map = {\n",
    "    \"angry\": 0,\n",
    "    \"disgust\": 1,\n",
    "    \"fear\": 2,\n",
    "    \"happy\": 3,\n",
    "    \"neutral\": 4,\n",
    "    \"sad\": 5,\n",
    "    \"surprise\": 6  # Add the missing label mapping\n",
    "}\n",
    "\n",
    "test_labels = np.array(list(map(lambda x: label_map[x], test_labels)))"
   ],
   "id": "53c6f587441a478a",
   "outputs": [],
   "execution_count": 6
  },
  {
   "metadata": {
    "ExecuteTime": {
     "end_time": "2024-09-07T21:18:45.024253Z",
     "start_time": "2024-09-07T21:18:44.981768Z"
    }
   },
   "cell_type": "code",
   "source": [
    "# Reshape images (if necessary)\n",
    "input_shape = (64, 64, 1)  # Assuming grayscale images\n",
    "test_images = np.array([image.reshape(input_shape) for image in test_images])"
   ],
   "id": "3deb6e898df3debf",
   "outputs": [],
   "execution_count": 7
  },
  {
   "metadata": {
    "ExecuteTime": {
     "end_time": "2024-09-07T21:18:45.085356Z",
     "start_time": "2024-09-07T21:18:45.081284Z"
    }
   },
   "cell_type": "code",
   "source": "test_labels",
   "id": "409fc6dbbadc1c26",
   "outputs": [
    {
     "data": {
      "text/plain": [
       "array([3, 3, 3, ..., 1, 1, 1])"
      ]
     },
     "execution_count": 8,
     "metadata": {},
     "output_type": "execute_result"
    }
   ],
   "execution_count": 8
  },
  {
   "metadata": {
    "ExecuteTime": {
     "end_time": "2024-09-07T21:18:45.323603Z",
     "start_time": "2024-09-07T21:18:45.319994Z"
    }
   },
   "cell_type": "code",
   "source": "test_images.shape",
   "id": "354cb52b3ae9393d",
   "outputs": [
    {
     "data": {
      "text/plain": [
       "(35887, 64, 64, 1)"
      ]
     },
     "execution_count": 9,
     "metadata": {},
     "output_type": "execute_result"
    }
   ],
   "execution_count": 9
  },
  {
   "metadata": {
    "ExecuteTime": {
     "end_time": "2024-09-07T21:19:12.066991Z",
     "start_time": "2024-09-07T21:19:11.899160Z"
    }
   },
   "cell_type": "code",
   "source": [
    "input_dim_ = 64\n",
    "# Emotion.py\n",
    "num_classes = 2\n",
    "\n",
    "model = Sequential()\n",
    "\n",
    "# 1st convolution layer\n",
    "model.add(Conv2D(64, (5, 5), activation=\"relu\", input_shape=(input_dim_, input_dim_, 1)))\n",
    "# model.add(Conv2D(32, (3, 3), activation=\"relu\"))\n",
    "model.add(MaxPooling2D(pool_size=(5, 5), strides=(2, 2)))\n",
    "\n",
    "# 2nd convolution layer\n",
    "# model.add(Conv2D(64, (3, 3), activation=\"relu\"))\n",
    "# model.add(Conv2D(64, (3, 3), activation=\"relu\"))\n",
    "# model.add(AveragePooling2D(pool_size=(3, 3), strides=(2, 2)))\n",
    "\n",
    "# 3rd convolution layer\n",
    "model.add(Conv2D(128, (3, 3), activation=\"relu\"))\n",
    "# model.add(Conv2D(128, (3, 3), activation=\"relu\"))\n",
    "model.add(AveragePooling2D(pool_size=(3, 3), strides=(2, 2)))\n",
    "\n",
    "model.add(Flatten())\n",
    "\n",
    "model.add(Dense(num_classes, activation=\"softmax\"))"
   ],
   "id": "80c04bf8f4ce8dcc",
   "outputs": [
    {
     "name": "stdout",
     "output_type": "stream",
     "text": [
      "Metal device set to: Apple M2\n"
     ]
    },
    {
     "name": "stderr",
     "output_type": "stream",
     "text": [
      "2024-09-07 17:19:11.906459: I tensorflow/core/common_runtime/pluggable_device/pluggable_device_factory.cc:305] Could not identify NUMA node of platform GPU ID 0, defaulting to 0. Your kernel may not have been built with NUMA support.\n",
      "2024-09-07 17:19:11.906661: I tensorflow/core/common_runtime/pluggable_device/pluggable_device_factory.cc:271] Created TensorFlow device (/job:localhost/replica:0/task:0/device:GPU:0 with 0 MB memory) -> physical PluggableDevice (device: 0, name: METAL, pci bus id: <undefined>)\n"
     ]
    }
   ],
   "execution_count": 11
  },
  {
   "metadata": {
    "ExecuteTime": {
     "end_time": "2024-09-07T21:19:14.493106Z",
     "start_time": "2024-09-07T21:19:14.479589Z"
    }
   },
   "cell_type": "code",
   "source": "model.load_weights(\"../models/crop_confusion_weights_final.h5\")",
   "id": "ba39bdba5e051e72",
   "outputs": [],
   "execution_count": 12
  },
  {
   "metadata": {
    "ExecuteTime": {
     "end_time": "2024-09-07T21:19:16.053621Z",
     "start_time": "2024-09-07T21:19:16.050439Z"
    }
   },
   "cell_type": "code",
   "source": "test_images.shape",
   "id": "c82a7ce4dd7c5115",
   "outputs": [
    {
     "data": {
      "text/plain": [
       "(35887, 64, 64, 1)"
      ]
     },
     "execution_count": 13,
     "metadata": {},
     "output_type": "execute_result"
    }
   ],
   "execution_count": 13
  },
  {
   "metadata": {
    "ExecuteTime": {
     "end_time": "2024-09-07T21:19:23.150154Z",
     "start_time": "2024-09-07T21:19:16.716073Z"
    }
   },
   "cell_type": "code",
   "source": "y_predict = model.predict(test_images).argmax(axis=1)",
   "id": "2645a7f8dba2cf27",
   "outputs": [
    {
     "name": "stderr",
     "output_type": "stream",
     "text": [
      "2024-09-07 17:19:16.766429: W tensorflow/core/platform/profile_utils/cpu_utils.cc:128] Failed to get CPU frequency: 0 Hz\n",
      "2024-09-07 17:19:16.798205: I tensorflow/core/grappler/optimizers/custom_graph_optimizer_registry.cc:112] Plugin optimizer for device_type GPU is enabled.\n"
     ]
    }
   ],
   "execution_count": 14
  },
  {
   "metadata": {
    "ExecuteTime": {
     "end_time": "2024-09-07T21:19:35.554030Z",
     "start_time": "2024-09-07T21:19:35.548770Z"
    }
   },
   "cell_type": "code",
   "source": "y_predict.shape, test_labels.shape",
   "id": "ba40d28b2d2a35b4",
   "outputs": [
    {
     "data": {
      "text/plain": [
       "((35887,), (35887,))"
      ]
     },
     "execution_count": 15,
     "metadata": {},
     "output_type": "execute_result"
    }
   ],
   "execution_count": 15
  },
  {
   "metadata": {
    "ExecuteTime": {
     "end_time": "2024-09-07T21:19:36.831332Z",
     "start_time": "2024-09-07T21:19:36.827165Z"
    }
   },
   "cell_type": "code",
   "source": "np.where(y_predict == 1)[0]",
   "id": "35ec0573b10abce4",
   "outputs": [
    {
     "data": {
      "text/plain": [
       "array([    8,     9,    11, ..., 35880, 35882, 35886])"
      ]
     },
     "execution_count": 16,
     "metadata": {},
     "output_type": "execute_result"
    }
   ],
   "execution_count": 16
  },
  {
   "metadata": {
    "ExecuteTime": {
     "end_time": "2024-09-07T21:19:37.904649Z",
     "start_time": "2024-09-07T21:19:37.900270Z"
    }
   },
   "cell_type": "code",
   "source": "test_labels[np.where(y_predict == 1)[0]]",
   "id": "8b17b5357453e280",
   "outputs": [
    {
     "data": {
      "text/plain": [
       "array([3, 3, 3, ..., 1, 1, 1])"
      ]
     },
     "execution_count": 17,
     "metadata": {},
     "output_type": "execute_result"
    }
   ],
   "execution_count": 17
  },
  {
   "metadata": {
    "ExecuteTime": {
     "end_time": "2024-09-07T21:21:46.529732Z",
     "start_time": "2024-09-07T21:21:46.526746Z"
    }
   },
   "cell_type": "code",
   "source": [
    "conf_counts, emo_labels = np.histogram(test_labels[np.where(y_predict == 1)[0]], bins=np.arange(7))\n",
    "notconf_counts, emo_labels = np.histogram(test_labels[np.where(y_predict == 0)[0]], bins=np.arange(7))"
   ],
   "id": "9d4177a90217ecf9",
   "outputs": [],
   "execution_count": 23
  },
  {
   "metadata": {
    "ExecuteTime": {
     "end_time": "2024-09-07T21:21:55.391876Z",
     "start_time": "2024-09-07T21:21:55.389162Z"
    }
   },
   "cell_type": "code",
   "source": "conf_counts/(conf_counts+notconf_counts)",
   "id": "d43b31564c506be0",
   "outputs": [
    {
     "data": {
      "text/plain": [
       "array([0.4675954 , 0.50822669, 0.47549307, 0.43074869, 0.42545983,\n",
       "       0.46562159])"
      ]
     },
     "execution_count": 24,
     "metadata": {},
     "output_type": "execute_result"
    }
   ],
   "execution_count": 24
  },
  {
   "metadata": {
    "ExecuteTime": {
     "end_time": "2024-09-07T21:19:38.945855Z",
     "start_time": "2024-09-07T21:19:38.743538Z"
    }
   },
   "cell_type": "code",
   "source": "sns.histplot(test_labels)",
   "id": "d4242857cf58b7f6",
   "outputs": [
    {
     "data": {
      "text/plain": [
       "<Axes: ylabel='Count'>"
      ]
     },
     "execution_count": 18,
     "metadata": {},
     "output_type": "execute_result"
    },
    {
     "data": {
      "text/plain": [
       "<Figure size 640x480 with 1 Axes>"
      ],
      "image/png": "[encoded data removed]"
     },
     "metadata": {},
     "output_type": "display_data"
    }
   ],
   "execution_count": 18
  },
  {
   "metadata": {
    "ExecuteTime": {
     "end_time": "2024-09-07T21:20:16.548447Z",
     "start_time": "2024-09-07T21:20:16.434509Z"
    }
   },
   "cell_type": "code",
   "source": "sns.histplot(test_labels[np.where(y_predict == 1)[0]])",
   "id": "d78571882ab2c949",
   "outputs": [
    {
     "data": {
      "text/plain": [
       "<Axes: ylabel='Count'>"
      ]
     },
     "execution_count": 19,
     "metadata": {},
     "output_type": "execute_result"
    },
    {
     "data": {
      "text/plain": [
       "<Figure size 640x480 with 1 Axes>"
      ],
      "image/png": "[encoded data removed]"
     },
     "metadata": {},
     "output_type": "display_data"
    }
   ],
   "execution_count": 19
  },
  {
   "metadata": {
    "ExecuteTime": {
     "end_time": "2024-09-07T21:20:18.719072Z",
     "start_time": "2024-09-07T21:20:18.613576Z"
    }
   },
   "cell_type": "code",
   "source": "sns.histplot(test_labels[np.where(y_predict == 0)[0]])",
   "id": "438d65583145fb8f",
   "outputs": [
    {
     "data": {
      "text/plain": [
       "<Axes: ylabel='Count'>"
      ]
     },
     "execution_count": 20,
     "metadata": {},
     "output_type": "execute_result"
    },
    {
     "data": {
      "text/plain": [
       "<Figure size 640x480 with 1 Axes>"
      ],
      "image/png": "[encoded data removed]"
     },
     "metadata": {},
     "output_type": "display_data"
    }
   ],
   "execution_count": 20
  },
  {
   "metadata": {
    "ExecuteTime": {
     "end_time": "2024-08-07T01:29:41.972473Z",
     "start_time": "2024-08-07T01:29:41.880497Z"
    }
   },
   "cell_type": "code",
   "source": "plt.imshow(test_images[1])",
   "id": "c0005c62b065f215",
   "outputs": [
    {
     "data": {
      "text/plain": [
       "<matplotlib.image.AxesImage at 0x2a28b1730>"
      ]
     },
     "execution_count": 39,
     "metadata": {},
     "output_type": "execute_result"
    },
    {
     "data": {
      "text/plain": [
       "<Figure size 640x480 with 1 Axes>"
      ],
      "image/png": "[encoded data removed]"
     },
     "metadata": {},
     "output_type": "display_data"
    }
   ],
   "execution_count": 39
  },
  {
   "metadata": {},
   "cell_type": "code",
   "outputs": [],
   "execution_count": null,
   "source": "",
   "id": "a51d9126bd3cfa25"
  }
 ],
 "metadata": {
  "kernelspec": {
   "display_name": "Python 3",
   "language": "python",
   "name": "python3"
  },
  "language_info": {
   "codemirror_mode": {
    "name": "ipython",
    "version": 2
   },
   "file_extension": ".py",
   "mimetype": "text/x-python",
   "name": "python",
   "nbconvert_exporter": "python",
   "pygments_lexer": "ipython2",
   "version": "2.7.6"
  }
 },
 "nbformat": 4,
 "nbformat_minor": 5
}
