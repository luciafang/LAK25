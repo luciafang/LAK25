{
 "cells": [
  {
   "cell_type": "code",
   "id": "initial_id",
   "metadata": {
    "collapsed": true,
    "ExecuteTime": {
     "end_time": "2024-05-27T21:23:23.820594Z",
     "start_time": "2024-05-27T21:23:23.694892Z"
    }
   },
   "source": "import cv2",
   "outputs": [],
   "execution_count": 1
  },
  {
   "metadata": {
    "ExecuteTime": {
     "end_time": "2024-05-27T21:30:00.702054Z",
     "start_time": "2024-05-27T21:30:00.656937Z"
    }
   },
   "cell_type": "code",
   "source": "vidcap = cv2.VideoCapture('../Eastern_Asian/1.MP4')",
   "id": "22b896cb8a121f89",
   "outputs": [],
   "execution_count": 2
  },
  {
   "metadata": {
    "ExecuteTime": {
     "end_time": "2024-05-27T21:30:06.582138Z",
     "start_time": "2024-05-27T21:30:06.571058Z"
    }
   },
   "cell_type": "code",
   "source": "vidcap",
   "id": "b28e2e3ded633082",
   "outputs": [
    {
     "data": {
      "text/plain": [
       "< cv2.VideoCapture 0x169f6fd70>"
      ]
     },
     "execution_count": 3,
     "metadata": {},
     "output_type": "execute_result"
    }
   ],
   "execution_count": 3
  },
  {
   "metadata": {
    "ExecuteTime": {
     "end_time": "2024-05-27T21:30:17.709757Z",
     "start_time": "2024-05-27T21:30:17.698957Z"
    }
   },
   "cell_type": "code",
   "source": "success,image = vidcap.read()",
   "id": "f33dc8217fce1c8f",
   "outputs": [],
   "execution_count": 4
  },
  {
   "metadata": {
    "ExecuteTime": {
     "end_time": "2024-05-27T21:30:36.856290Z",
     "start_time": "2024-05-27T21:30:34.993922Z"
    }
   },
   "cell_type": "code",
   "source": [
    "count = 0;\n",
    "while success:\n",
    "  success,image = vidcap.read()\n",
    "  cv2.imwrite(\"frame%d.jpg\" % count, image)     # save frame as JPEG file\n",
    "  if cv2.waitKey(10) == 27:                     # exit if Escape is hit\n",
    "      break\n",
    "  count += 1"
   ],
   "id": "c31bf9908486d21b",
   "outputs": [
    {
     "ename": "error",
     "evalue": "OpenCV(4.9.0) /Users/xperience/GHA-OpenCV-Python2/_work/opencv-python/opencv-python/opencv/modules/imgcodecs/src/loadsave.cpp:786: error: (-215:Assertion failed) !_img.empty() in function 'imwrite'\n",
     "output_type": "error",
     "traceback": [
      "\u001B[0;31m---------------------------------------------------------------------------\u001B[0m",
      "\u001B[0;31merror\u001B[0m                                     Traceback (most recent call last)",
      "Cell \u001B[0;32mIn[5], line 4\u001B[0m\n\u001B[1;32m      2\u001B[0m \u001B[38;5;28;01mwhile\u001B[39;00m success:\n\u001B[1;32m      3\u001B[0m   success,image \u001B[38;5;241m=\u001B[39m vidcap\u001B[38;5;241m.\u001B[39mread()\n\u001B[0;32m----> 4\u001B[0m   \u001B[43mcv2\u001B[49m\u001B[38;5;241;43m.\u001B[39;49m\u001B[43mimwrite\u001B[49m\u001B[43m(\u001B[49m\u001B[38;5;124;43m\"\u001B[39;49m\u001B[38;5;124;43m1frame\u001B[39;49m\u001B[38;5;132;43;01m%d\u001B[39;49;00m\u001B[38;5;124;43m.jpg\u001B[39;49m\u001B[38;5;124;43m\"\u001B[39;49m\u001B[43m \u001B[49m\u001B[38;5;241;43m%\u001B[39;49m\u001B[43m \u001B[49m\u001B[43mcount\u001B[49m\u001B[43m,\u001B[49m\u001B[43m \u001B[49m\u001B[43mimage\u001B[49m\u001B[43m)\u001B[49m     \u001B[38;5;66;03m# save frame as JPEG file\u001B[39;00m\n\u001B[1;32m      5\u001B[0m   \u001B[38;5;28;01mif\u001B[39;00m cv2\u001B[38;5;241m.\u001B[39mwaitKey(\u001B[38;5;241m10\u001B[39m) \u001B[38;5;241m==\u001B[39m \u001B[38;5;241m27\u001B[39m:                     \u001B[38;5;66;03m# exit if Escape is hit\u001B[39;00m\n\u001B[1;32m      6\u001B[0m       \u001B[38;5;28;01mbreak\u001B[39;00m\n",
      "\u001B[0;31merror\u001B[0m: OpenCV(4.9.0) /Users/xperience/GHA-OpenCV-Python2/_work/opencv-python/opencv-python/opencv/modules/imgcodecs/src/loadsave.cpp:786: error: (-215:Assertion failed) !_img.empty() in function 'imwrite'\n"
     ]
    }
   ],
   "execution_count": 5
  },
  {
   "metadata": {},
   "cell_type": "code",
   "outputs": [],
   "execution_count": null,
   "source": "",
   "id": "87ca1da75c779935"
  }
 ],
 "metadata": {
  "kernelspec": {
   "display_name": "Python 3",
   "language": "python",
   "name": "python3"
  },
  "language_info": {
   "codemirror_mode": {
    "name": "ipython",
    "version": 2
   },
   "file_extension": ".py",
   "mimetype": "text/x-python",
   "name": "python",
   "nbconvert_exporter": "python",
   "pygments_lexer": "ipython2",
   "version": "2.7.6"
  }
 },
 "nbformat": 4,
 "nbformat_minor": 5
}
