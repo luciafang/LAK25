{
 "cells": [
  {
   "cell_type": "code",
   "id": "initial_id",
   "metadata": {
    "collapsed": true,
    "ExecuteTime": {
     "end_time": "2024-11-24T20:28:16.249994Z",
     "start_time": "2024-11-24T20:28:12.889381Z"
    }
   },
   "source": [
    "import os\n",
    "import subprocess\n",
    "import pandas as pd\n",
    "import numpy as np\n",
    "import random\n",
    "import cv2\n",
    "import matplotlib.pyplot as plt\n",
    "import re\n",
    "import pickle \n",
    "from tqdm import tqdm\n",
    "from deepface.modules import modeling, detection, preprocessing"
   ],
   "outputs": [],
   "execution_count": 1
  },
  {
   "metadata": {
    "ExecuteTime": {
     "end_time": "2024-11-24T20:28:23.110969Z",
     "start_time": "2024-11-24T20:28:23.056949Z"
    }
   },
   "cell_type": "code",
   "source": [
    "dataset = os.listdir('../../edusense/devemo/Dataset')\n",
    "print(dataset)"
   ],
   "id": "fef38d7f9ecdd590",
   "outputs": [
    {
     "name": "stdout",
     "output_type": "stream",
     "text": [
      "['32', '.DS_Store', '6', '28', '1', '10', '39', '48continue', '4', '3', '2', '13', '5']\n"
     ]
    }
   ],
   "execution_count": 3
  },
  {
   "metadata": {
    "ExecuteTime": {
     "end_time": "2024-11-24T20:28:27.795426Z",
     "start_time": "2024-11-24T20:28:27.790795Z"
    }
   },
   "cell_type": "code",
   "source": [
    "def convert_int(s):\n",
    "    if s.isdigit():\n",
    "        return int(s)\n",
    "    else:\n",
    "        return s\n",
    "\n",
    "\n",
    "def alphanum_key(s):\n",
    "    return [convert_int(c) for c in re.split('([0-9]+)', s)]\n",
    "\n",
    "\n",
    "def sort_nicely(l):\n",
    "    l.sort(key=alphanum_key)"
   ],
   "id": "7b6dead576bbc310",
   "outputs": [],
   "execution_count": 4
  },
  {
   "metadata": {
    "ExecuteTime": {
     "end_time": "2024-11-24T20:36:45.366272Z",
     "start_time": "2024-11-24T20:36:45.296261Z"
    }
   },
   "cell_type": "code",
   "source": [
    "# 2 lists  to store the following\n",
    "# list of features (images)\n",
    "#{0: [[3, 1, 2, 2][4, 3, 2, 2]]}\n",
    "# list of labels (confused or not)\n",
    "#{0: 3}\n",
    "\n",
    "features_list = []\n",
    "labels_list = []\n",
    "outfile_name = 'Polish_Dataset.pkl'\n",
    "# loop over the train and test and validation\n",
    "frame_count = []\n",
    "count = 0\n",
    "for name in dataset:\n",
    "    # print(ttv, os.path.exists('DataSet/'+ttv+'/'))\n",
    "    \n",
    "    if name != '.DS_Store' and os.path.exists('../../edusense/devemo/Dataset/'+name+'/'):\n",
    "        print(50*'-')\n",
    "        print(count)\n",
    "        print('above is index for frame_count')\n",
    "        print('below is the folder name')\n",
    "        print(name)\n",
    "        count += 1\n",
    "\n",
    "        # train, test, validation\n",
    "        \n",
    "        # return all images in this directory\n",
    "        content_list = os.listdir('../../edusense/devemo/Dataset/'+name+'/')\n",
    "        # remove video for below\n",
    "        img_list = [c for c in content_list if c.endswith('.jpg')]\n",
    "        sort_nicely(img_list)\n",
    "        frame_count.append(len(img_list)) \n"
   ],
   "id": "4d6c26a12c6a3a53",
   "outputs": [
    {
     "name": "stdout",
     "output_type": "stream",
     "text": [
      "--------------------------------------------------\n",
      "0\n",
      "above is index for frame_count\n",
      "below is the folder name\n",
      "32\n",
      "--------------------------------------------------\n",
      "1\n",
      "above is index for frame_count\n",
      "below is the folder name\n",
      "6\n",
      "--------------------------------------------------\n",
      "2\n",
      "above is index for frame_count\n",
      "below is the folder name\n",
      "28\n",
      "--------------------------------------------------\n",
      "3\n",
      "above is index for frame_count\n",
      "below is the folder name\n",
      "1\n",
      "--------------------------------------------------\n",
      "4\n",
      "above is index for frame_count\n",
      "below is the folder name\n",
      "10\n",
      "--------------------------------------------------\n",
      "5\n",
      "above is index for frame_count\n",
      "below is the folder name\n",
      "39\n",
      "--------------------------------------------------\n",
      "6\n",
      "above is index for frame_count\n",
      "below is the folder name\n",
      "48continue\n",
      "--------------------------------------------------\n",
      "7\n",
      "above is index for frame_count\n",
      "below is the folder name\n",
      "4\n",
      "--------------------------------------------------\n",
      "8\n",
      "above is index for frame_count\n",
      "below is the folder name\n",
      "3\n",
      "--------------------------------------------------\n",
      "9\n",
      "above is index for frame_count\n",
      "below is the folder name\n",
      "2\n",
      "--------------------------------------------------\n",
      "10\n",
      "above is index for frame_count\n",
      "below is the folder name\n",
      "13\n",
      "--------------------------------------------------\n",
      "11\n",
      "above is index for frame_count\n",
      "below is the folder name\n",
      "5\n"
     ]
    }
   ],
   "execution_count": 7
  },
  {
   "metadata": {
    "ExecuteTime": {
     "end_time": "2024-11-24T20:37:55.899125Z",
     "start_time": "2024-11-24T20:37:55.894904Z"
    }
   },
   "cell_type": "code",
   "source": "index_grouping = [[0, 2], [1], [3, 9], [4], [5], [6], [7], [8], [9], [10], [11]]",
   "id": "65a23314bdada669",
   "outputs": [],
   "execution_count": 8
  },
  {
   "metadata": {
    "ExecuteTime": {
     "end_time": "2024-11-24T20:38:55.270556Z",
     "start_time": "2024-11-24T20:38:55.261718Z"
    }
   },
   "cell_type": "code",
   "source": "[frame_count[i[1]] + frame_count[i[0]] for i in index_grouping if len(i) > 1]",
   "id": "67ab22d5acc383b3",
   "outputs": [
    {
     "data": {
      "text/plain": [
       "[1536, 4470]"
      ]
     },
     "execution_count": 11,
     "metadata": {},
     "output_type": "execute_result"
    }
   ],
   "execution_count": 11
  },
  {
   "metadata": {
    "ExecuteTime": {
     "end_time": "2024-11-24T20:41:22.506823Z",
     "start_time": "2024-11-24T20:41:22.501837Z"
    }
   },
   "cell_type": "code",
   "source": "import statistics",
   "id": "45ea750dbcc6ad9f",
   "outputs": [],
   "execution_count": 12
  },
  {
   "metadata": {
    "ExecuteTime": {
     "end_time": "2024-11-24T20:41:24.657905Z",
     "start_time": "2024-11-24T20:41:24.654972Z"
    }
   },
   "cell_type": "code",
   "source": [
    "# Combine sums for len(i) > 1 and len(i) == 1\n",
    "combined_sums = [\n",
    "    sum(frame_count[idx] for idx in i) for i in index_grouping\n",
    "]\n",
    "\n",
    "# Calculate the median\n",
    "median_value = statistics.median(combined_sums)"
   ],
   "id": "ea533ea27141af9b",
   "outputs": [],
   "execution_count": 13
  },
  {
   "metadata": {
    "ExecuteTime": {
     "end_time": "2024-11-24T20:41:28.334575Z",
     "start_time": "2024-11-24T20:41:28.330592Z"
    }
   },
   "cell_type": "code",
   "source": "median_value",
   "id": "22196db257813781",
   "outputs": [
    {
     "data": {
      "text/plain": [
       "539"
      ]
     },
     "execution_count": 14,
     "metadata": {},
     "output_type": "execute_result"
    }
   ],
   "execution_count": 14
  },
  {
   "metadata": {
    "ExecuteTime": {
     "end_time": "2024-11-24T20:52:14.943938Z",
     "start_time": "2024-11-24T20:52:14.936978Z"
    }
   },
   "cell_type": "code",
   "source": "np.percentile(frame_count, [10, 90])",
   "id": "818f3f87bd043d20",
   "outputs": [
    {
     "data": {
      "text/plain": [
       "array([ 140.6, 1248.1])"
      ]
     },
     "execution_count": 15,
     "metadata": {},
     "output_type": "execute_result"
    }
   ],
   "execution_count": 15
  },
  {
   "metadata": {},
   "cell_type": "code",
   "outputs": [],
   "execution_count": null,
   "source": "",
   "id": "84139b931ef2ee2"
  },
  {
   "metadata": {},
   "cell_type": "code",
   "outputs": [
    {
     "name": "stderr",
     "output_type": "stream",
     "text": [
      "100%|██████████| 22/22 [00:06<00:00,  3.61it/s]\n",
      "100%|██████████| 71/71 [00:19<00:00,  3.58it/s]\n",
      "100%|██████████| 22/22 [00:05<00:00,  4.27it/s]\n"
     ]
    }
   ],
   "execution_count": 8,
   "source": [
    "# 2 lists  to store the following\n",
    "# list of features (images)\n",
    "#{0: [[3, 1, 2, 2][4, 3, 2, 2]]}\n",
    "# list of labels (confused or not)\n",
    "#{0: 3}\n",
    "\n",
    "\n",
    "# loop over the train and test and validation\n",
    "for ttv in dataset:\n",
    "    # print(ttv, os.path.exists('DataSet/'+ttv+'/'))\n",
    "    \n",
    "    if ttv != '.DS_Store' and os.path.exists('../DAiSEE/DataSet/'+ttv+'/'):\n",
    "        # train, test, validation\n",
    "        count = 0\n",
    "        features_list = []\n",
    "        labels_list = []\n",
    "        \n",
    "        users = os.listdir('../DAiSEE/DataSet/'+ttv+'/')\n",
    "        # print(users)\n",
    "        if ttv == 'Test':\n",
    "            all_clips = test_csv[['ClipID', 'Confusion']]\n",
    "            outfile_name = 'Test.pkl'\n",
    "            # print(all_clips)\n",
    "        if ttv == 'Train':\n",
    "            all_clips = train_csv[['ClipID', 'Confusion']]\n",
    "            outfile_name = 'Train.pkl'\n",
    "        if ttv == 'Validation':\n",
    "            all_clips = valid_csv[['ClipID', 'Confusion']]\n",
    "            outfile_name = 'Validation.pkl'\n",
    "            \n",
    "        for user in tqdm(users):\n",
    "            if user != '.DS_Store':\n",
    "                # user is the folder, has 300 jpeg\n",
    "                # extract jpeg\n",
    "                currUser = os.listdir('../DAiSEE/DataSet/'+ttv+'/'+user+'/')\n",
    "                \n",
    "                # extract is still a folder (10s clip each folder)\n",
    "                for extract in currUser:\n",
    "                    \n",
    "                    if extract != '.DS_Store':\n",
    "                        content_list = os.listdir('../DAiSEE/DataSet/'+ttv+'/'+user+'/'+extract+'/')\n",
    "                                        \n",
    "                        if pd.Series(content_list).isin(all_clips['ClipID']).any():\n",
    "                            confusion_val = all_clips.loc[all_clips['ClipID'].isin(content_list)].Confusion.to_list()[0]\n",
    "                            # remove video for below\n",
    "                            img_list = [c for c in content_list if c.endswith('.jpg')]\n",
    "                            sort_nicely(img_list)\n",
    "                            # if confusion_val == 0 or 1, skip every 30 (1s)\n",
    "                            # elif confusion_val == 2 or 3, skip every 3 (0.1s)\n",
    "                            if confusion_val == 0: #6000\n",
    "                                chosen = img_list[149] \n",
    "                            elif confusion_val == 1: #2200 * 1 = 2200\n",
    "                                chosen = img_list[149] \n",
    "                            elif confusion_val == 2: # 750 * 11 = 8250\n",
    "                                chosen = img_list[::27]\n",
    "                            elif confusion_val == 3: # 101 * 80 = 8080\n",
    "                                chosen = img_list[::4]\n",
    "                            # chosen  = random.choice(img_list)\n",
    "                            for item in img_list: \n",
    "                                \n",
    "                                if item in chosen:\n",
    "                                    count += 1\n",
    "                                    img_path = os.path.abspath('.')+'/../DAiSEE/DataSet/'+ttv+'/'+user+'/'+extract+'/'+item\n",
    "                                    img = cv2.imread(str(img_path))\n",
    "                                    img_gray = cv2.cvtColor(img, cv2.COLOR_BGR2GRAY)\n",
    "                                    img_gray = cv2.resize(img_gray, (128, 128))\n",
    "                                    \n",
    "                                    # img is 3d array (w, h, 1), label is confusion_val\n",
    "                                    features_list.append(img_gray)\n",
    "                                    # if confusion_val is 0 or 1, then = 0\n",
    "                                    if confusion_val == 0 or confusion_val == 1:\n",
    "                                        labels_list.append(0)\n",
    "                                    # # elif confusion_val is 2 or 3, then = 1 and 2\n",
    "                                    elif confusion_val == 2 or confusion_val == 3:\n",
    "                                        labels_list.append(confusion_val-1)\n",
    "                                    # labels_list.append(confusion_val)\n",
    "        \n",
    "        with open(outfile_name, 'wb') as f:\n",
    "            pickle.dump([features_list, labels_list], f)\n",
    "                                        \n",
    "                        # clip = os.listdir('DataSet/'+ttv+'/'+user+'/'+extract+'/')[0]\n",
    "                        # print (clip[:-4])\n",
    "                        # path = os.path.abspath('.')+'/DataSet/'+ttv+'/'+user+'/'+extract+'/'\n",
    "                        # split_video(clip, clip[:-4], path)\n",
    "        # print(ttv, count)\n",
    "# print (\"================================================================================\\n\")\n",
    "# print (\"Frame Extraction Successful\")"
   ],
   "id": "687b11f09deb167a"
  },
  {
   "metadata": {
    "ExecuteTime": {
     "end_time": "2024-05-20T00:40:55.501524Z",
     "start_time": "2024-05-20T00:40:55.498260Z"
    }
   },
   "cell_type": "code",
   "source": "",
   "id": "15d430c0574ef615",
   "outputs": [],
   "execution_count": 6
  },
  {
   "metadata": {
    "ExecuteTime": {
     "end_time": "2024-05-20T00:40:55.524891Z",
     "start_time": "2024-05-20T00:40:55.504167Z"
    }
   },
   "cell_type": "code",
   "source": "",
   "id": "7307651b9ba5dd4f",
   "outputs": [],
   "execution_count": 6
  },
  {
   "metadata": {
    "ExecuteTime": {
     "end_time": "2024-05-20T00:40:55.549119Z",
     "start_time": "2024-05-20T00:40:55.542128Z"
    }
   },
   "cell_type": "code",
   "source": "",
   "id": "470dc22ee577ae4e",
   "outputs": [],
   "execution_count": 6
  }
 ],
 "metadata": {
  "kernelspec": {
   "display_name": "Python 3",
   "language": "python",
   "name": "python3"
  },
  "language_info": {
   "codemirror_mode": {
    "name": "ipython",
    "version": 2
   },
   "file_extension": ".py",
   "mimetype": "text/x-python",
   "name": "python",
   "nbconvert_exporter": "python",
   "pygments_lexer": "ipython2",
   "version": "2.7.6"
  }
 },
 "nbformat": 4,
 "nbformat_minor": 5
}
