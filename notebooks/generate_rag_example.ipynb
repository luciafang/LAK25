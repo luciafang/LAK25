{
 "cells": [
  {
   "cell_type": "code",
   "id": "initial_id",
   "metadata": {
    "collapsed": true,
    "ExecuteTime": {
     "end_time": "2024-11-26T04:41:19.820483Z",
     "start_time": "2024-11-26T04:41:19.814268Z"
    }
   },
   "source": [
    "import streamlit as st\n",
    "import datetime\n",
    "from glob import glob\n",
    "from PIL import Image\n",
    "import numpy as np\n",
    "import base64\n",
    "import io\n",
    "import sys\n",
    "from sklearn.feature_extraction.text import CountVectorizer, TfidfVectorizer\n",
    "from sklearn.metrics.pairwise import euclidean_distances\n",
    "from sklearn.metrics.pairwise import cosine_similarity\n",
    "from sklearn.decomposition import PCA\n",
    "import matplotlib.pyplot as plt\n",
    "import numpy as np\n",
    "from sklearn.metrics import jaccard_score\n",
    "\n",
    "if '../app' not in sys.path:\n",
    "    sys.path.append('../app/')\n",
    "\n",
    "from utils.locate_timings import bin_confusion, confusion2transcript\n",
    "from utils.identify_theme import send2chatgpt, send2chatgpt_without_lecture, split_confused_transcripts_by_line\n",
    "\n",
    "import re \n",
    "def convert_int(s):\n",
    "    if s.isdigit():\n",
    "        return int(s)\n",
    "    else:\n",
    "        return s\n",
    "\n",
    "\n",
    "def alphanum_key(s):\n",
    "    return [convert_int(c) for c in re.split('([0-9]+)', s)]\n",
    "\n",
    "\n",
    "def sort_nicely(l):\n",
    "    l.sort(key=alphanum_key)\n",
    "from tqdm import tqdm\n",
    "import seaborn as sns\n",
    "import warnings\n",
    "# Suppress warnings\n",
    "warnings.filterwarnings(\"ignore\")\n",
    "\n",
    "    "
   ],
   "outputs": [],
   "execution_count": 13
  },
  {
   "metadata": {
    "ExecuteTime": {
     "end_time": "2024-11-26T04:30:48.191829Z",
     "start_time": "2024-11-26T04:30:48.189447Z"
    }
   },
   "cell_type": "code",
   "source": [
    "all_transcripts_csvs = glob('../transcripts_processed/*.csv')\n",
    "sort_nicely(all_transcripts_csvs)"
   ],
   "id": "17d8e428d5d13b8d",
   "outputs": [],
   "execution_count": 2
  },
  {
   "metadata": {
    "ExecuteTime": {
     "end_time": "2024-11-26T04:30:48.343113Z",
     "start_time": "2024-11-26T04:30:48.340392Z"
    }
   },
   "cell_type": "code",
   "source": [
    "all_confused_csvs = glob('../confusion_processed/*.csv')\n",
    "sort_nicely(all_confused_csvs)"
   ],
   "id": "4d660c7f9296fe9a",
   "outputs": [],
   "execution_count": 3
  },
  {
   "metadata": {
    "ExecuteTime": {
     "end_time": "2024-11-26T04:39:30.233462Z",
     "start_time": "2024-11-26T04:30:50.032374Z"
    }
   },
   "cell_type": "code",
   "source": [
    "jaccard_ls = []\n",
    "filename_ls = []\n",
    "for selected_confused_csv, select_transcript_csv in tqdm(zip(all_confused_csvs, all_transcripts_csvs)):\n",
    "    # print(selected_confused_csv, select_transcript_csv)\n",
    "    avg_1min = bin_confusion(selected_confused_csv)\n",
    "    transcript_with_confused_df = confusion2transcript(select_transcript_csv, avg_1min)\n",
    "    confused_transcript, all_transcripts = split_confused_transcripts_by_line(transcript_with_confused_df)\n",
    "    response_without = send2chatgpt_without_lecture(confused_transcript)\n",
    "    response = send2chatgpt(all_transcripts, confused_transcript)\n",
    "    # Sample transcripts\n",
    "    transcript_a = all_transcripts.replace('\\n', ' ')\n",
    "    transcript_b = response_without.replace('\\n', ' ')\n",
    "    transcript_c = response.replace('\\n', ' ')\n",
    "    \n",
    "    # Combine all transcripts\n",
    "    transcripts = [transcript_a, transcript_b, transcript_c]\n",
    "    \n",
    "    # Convert to binary vectors (presence or absence of n-grams)\n",
    "    vectorizer = CountVectorizer(binary=True)\n",
    "    X_binary = vectorizer.fit_transform(transcripts).toarray()\n",
    "    \n",
    "    # Initialize a similarity matrix\n",
    "    num_transcripts = len(transcripts)\n",
    "    jaccard_sim_matrix = np.zeros((num_transcripts, num_transcripts))\n",
    "    \n",
    "    # Compute Jaccard similarity for all pairs\n",
    "    for i in range(num_transcripts):\n",
    "        for j in range(num_transcripts):\n",
    "            if i != j:  # Skip diagonal elements\n",
    "                jaccard_sim_matrix[i, j] = jaccard_score(X_binary[i], X_binary[j])\n",
    "    jaccard_ls.append(jaccard_sim_matrix)\n",
    "    filename_ls.append(selected_confused_csv)\n",
    "    # print(\"Jaccard Similarity Matrix:\\n\", jaccard_sim_matrix)"
   ],
   "id": "2bdfe5d9942ce3d4",
   "outputs": [
    {
     "name": "stderr",
     "output_type": "stream",
     "text": [
      "15it [08:40, 34.68s/it]\n"
     ]
    }
   ],
   "execution_count": 4
  },
  {
   "metadata": {
    "ExecuteTime": {
     "end_time": "2024-11-26T04:40:10.815972Z",
     "start_time": "2024-11-26T04:40:10.809552Z"
    }
   },
   "cell_type": "code",
   "source": "filename_ls",
   "id": "383199434f861bec",
   "outputs": [
    {
     "data": {
      "text/plain": [
       "['../confusion_processed/20190207_confusion.csv',\n",
       " '../confusion_processed/20190221_confusion.csv',\n",
       " '../confusion_processed/20190226_confusion.csv',\n",
       " '../confusion_processed/20190307_confusion.csv',\n",
       " '../confusion_processed/20190321_confusion.csv',\n",
       " '../confusion_processed/20190326_confusion.csv',\n",
       " '../confusion_processed/20190328_confusion.csv',\n",
       " '../confusion_processed/20190404_confusion.csv',\n",
       " '../confusion_processed/20190409_confusion.csv',\n",
       " '../confusion_processed/20190416_confusion.csv',\n",
       " '../confusion_processed/20190418_confusion.csv',\n",
       " '../confusion_processed/20190423_confusion.csv',\n",
       " '../confusion_processed/20190425_confusion.csv',\n",
       " '../confusion_processed/20190430_confusion.csv',\n",
       " '../confusion_processed/20190502_confusion.csv']"
      ]
     },
     "execution_count": 5,
     "metadata": {},
     "output_type": "execute_result"
    }
   ],
   "execution_count": 5
  },
  {
   "metadata": {
    "ExecuteTime": {
     "end_time": "2024-11-26T04:45:09.378105Z",
     "start_time": "2024-11-26T04:45:09.290613Z"
    }
   },
   "cell_type": "code",
   "source": [
    "labels = ['Transcript', 'ChatGPT', 'RAG']\n",
    "fig, ax = plt.subplots(1, 1, figsize=(4, 4))\n",
    "sns.heatmap(np.mean(jaccard_ls, axis=0), annot=True, \n",
    "            xticklabels=labels, \n",
    "            yticklabels=labels,\n",
    "            cmap='Blues',\n",
    "            cbar=False, fmt='.1%')\n",
    "fig.savefig('../figure_panels/jaccard_similarity_heatmap_RAG_vs_NonRAG.svg', bbox_inches='tight', dpi=300)\n"
   ],
   "id": "adedc701a895ca37",
   "outputs": [
    {
     "data": {
      "text/plain": [
       "<Figure size 400x400 with 1 Axes>"
      ],
      "image/png": "[encoded data removed]"
     },
     "metadata": {},
     "output_type": "display_data"
    }
   ],
   "execution_count": 20
  },
  {
   "metadata": {},
   "cell_type": "code",
   "outputs": [],
   "execution_count": null,
   "source": "",
   "id": "f074d9eb322b25b7"
  },
  {
   "metadata": {},
   "cell_type": "code",
   "outputs": [],
   "execution_count": null,
   "source": "",
   "id": "a70cdd25bde7e49a"
  },
  {
   "metadata": {},
   "cell_type": "code",
   "outputs": [],
   "execution_count": null,
   "source": "",
   "id": "864a6c4e0fb7088b"
  },
  {
   "metadata": {
    "ExecuteTime": {
     "end_time": "2024-11-26T04:11:52.987059Z",
     "start_time": "2024-11-26T04:11:52.875803Z"
    }
   },
   "cell_type": "code",
   "source": [
    "select_confused_csv = '../confusion_processed/'+str(d.year)+str(d.month).zfill(2)+str(d.day).zfill(2)+'_confusion.csv'\n",
    "avg_1min = bin_confusion(select_confused_csv)\n",
    "\n",
    "select_transcript_csv = '../transcripts_processed/' + str(d.year) + str(d.month).zfill(2) + str(d.day).zfill(\n",
    "    2) + '_transcript_all.csv'"
   ],
   "id": "f1145c6db893ad2",
   "outputs": [],
   "execution_count": 68
  },
  {
   "metadata": {
    "ExecuteTime": {
     "end_time": "2024-11-26T04:11:54.534430Z",
     "start_time": "2024-11-26T04:11:54.527318Z"
    }
   },
   "cell_type": "code",
   "source": "len(avg_1min)",
   "id": "2e69ba71e7504aa2",
   "outputs": [
    {
     "data": {
      "text/plain": [
       "80"
      ]
     },
     "execution_count": 69,
     "metadata": {},
     "output_type": "execute_result"
    }
   ],
   "execution_count": 69
  },
  {
   "metadata": {
    "ExecuteTime": {
     "end_time": "2024-11-26T04:11:56.503241Z",
     "start_time": "2024-11-26T04:11:56.484480Z"
    }
   },
   "cell_type": "code",
   "source": "transcript_with_confused_df = confusion2transcript(select_transcript_csv, avg_1min)",
   "id": "4c5849b72b85e215",
   "outputs": [
    {
     "name": "stdout",
     "output_type": "stream",
     "text": [
      "[5]\n",
      "5\n",
      "04\n",
      "05\n",
      "300.0\n",
      "00:05:00\n",
      "240.0\n",
      "00:04:00\n"
     ]
    },
    {
     "name": "stderr",
     "output_type": "stream",
     "text": [
      "/Users/lucia/Documents/GitHub/ICSE_2025/notebooks/../app/utils/locate_timings.py:92: FutureWarning: ChainedAssignmentError: behaviour will change in pandas 3.0!\n",
      "You are setting values through chained assignment. Currently this works in certain cases, but when using Copy-on-Write (which will become the default behaviour in pandas 3.0) this will never work to update the original DataFrame or Series, because the intermediate object on which we are setting values will behave as a copy.\n",
      "A typical example is when you are setting values in a column of a DataFrame, like:\n",
      "\n",
      "df[\"col\"][row_indexer] = value\n",
      "\n",
      "Use `df.loc[row_indexer, \"col\"] = values` instead, to perform the assignment in a single step and ensure this keeps updating the original `df`.\n",
      "\n",
      "See the caveats in the documentation: https://pandas.pydata.org/pandas-docs/stable/user_guide/indexing.html#returning-a-view-versus-a-copy\n",
      "\n",
      "  df.state[(df.timestamp < normalize_time(f\"00:{min_zfill}:00\")) &\n"
     ]
    }
   ],
   "execution_count": 70
  },
  {
   "metadata": {
    "ExecuteTime": {
     "end_time": "2024-11-26T04:11:58.146039Z",
     "start_time": "2024-11-26T04:11:58.135886Z"
    }
   },
   "cell_type": "code",
   "source": "transcript_with_confused_df",
   "id": "3aee0eae191346de",
   "outputs": [
    {
     "data": {
      "text/plain": [
       "     timestamp          transcript         state\n",
       "0     00:01:00  I'm going to jail.  Not Confused\n",
       "1     00:01:00           Oh, yeah.  Not Confused\n",
       "2     00:01:01  I'm going to jail.  Not Confused\n",
       "3     00:01:02               Yeah.  Not Confused\n",
       "4     00:01:02  I'm going to jail.  Not Confused\n",
       "...        ...                 ...           ...\n",
       "1339  01:18:39               Yeah.  Not Confused\n",
       "1340  01:18:40               Yeah.  Not Confused\n",
       "1341  01:18:41               Yeah.  Not Confused\n",
       "1342  01:19:42               Yeah.  Not Confused\n",
       "1343  01:19:54               Yeah.  Not Confused\n",
       "\n",
       "[1344 rows x 3 columns]"
      ],
      "text/html": [
       "<div>\n",
       "<style scoped>\n",
       "    .dataframe tbody tr th:only-of-type {\n",
       "        vertical-align: middle;\n",
       "    }\n",
       "\n",
       "    .dataframe tbody tr th {\n",
       "        vertical-align: top;\n",
       "    }\n",
       "\n",
       "    .dataframe thead th {\n",
       "        text-align: right;\n",
       "    }\n",
       "</style>\n",
       "<table border=\"1\" class=\"dataframe\">\n",
       "  <thead>\n",
       "    <tr style=\"text-align: right;\">\n",
       "      <th></th>\n",
       "      <th>timestamp</th>\n",
       "      <th>transcript</th>\n",
       "      <th>state</th>\n",
       "    </tr>\n",
       "  </thead>\n",
       "  <tbody>\n",
       "    <tr>\n",
       "      <th>0</th>\n",
       "      <td>00:01:00</td>\n",
       "      <td>I'm going to jail.</td>\n",
       "      <td>Not Confused</td>\n",
       "    </tr>\n",
       "    <tr>\n",
       "      <th>1</th>\n",
       "      <td>00:01:00</td>\n",
       "      <td>Oh, yeah.</td>\n",
       "      <td>Not Confused</td>\n",
       "    </tr>\n",
       "    <tr>\n",
       "      <th>2</th>\n",
       "      <td>00:01:01</td>\n",
       "      <td>I'm going to jail.</td>\n",
       "      <td>Not Confused</td>\n",
       "    </tr>\n",
       "    <tr>\n",
       "      <th>3</th>\n",
       "      <td>00:01:02</td>\n",
       "      <td>Yeah.</td>\n",
       "      <td>Not Confused</td>\n",
       "    </tr>\n",
       "    <tr>\n",
       "      <th>4</th>\n",
       "      <td>00:01:02</td>\n",
       "      <td>I'm going to jail.</td>\n",
       "      <td>Not Confused</td>\n",
       "    </tr>\n",
       "    <tr>\n",
       "      <th>...</th>\n",
       "      <td>...</td>\n",
       "      <td>...</td>\n",
       "      <td>...</td>\n",
       "    </tr>\n",
       "    <tr>\n",
       "      <th>1339</th>\n",
       "      <td>01:18:39</td>\n",
       "      <td>Yeah.</td>\n",
       "      <td>Not Confused</td>\n",
       "    </tr>\n",
       "    <tr>\n",
       "      <th>1340</th>\n",
       "      <td>01:18:40</td>\n",
       "      <td>Yeah.</td>\n",
       "      <td>Not Confused</td>\n",
       "    </tr>\n",
       "    <tr>\n",
       "      <th>1341</th>\n",
       "      <td>01:18:41</td>\n",
       "      <td>Yeah.</td>\n",
       "      <td>Not Confused</td>\n",
       "    </tr>\n",
       "    <tr>\n",
       "      <th>1342</th>\n",
       "      <td>01:19:42</td>\n",
       "      <td>Yeah.</td>\n",
       "      <td>Not Confused</td>\n",
       "    </tr>\n",
       "    <tr>\n",
       "      <th>1343</th>\n",
       "      <td>01:19:54</td>\n",
       "      <td>Yeah.</td>\n",
       "      <td>Not Confused</td>\n",
       "    </tr>\n",
       "  </tbody>\n",
       "</table>\n",
       "<p>1344 rows × 3 columns</p>\n",
       "</div>"
      ]
     },
     "execution_count": 71,
     "metadata": {},
     "output_type": "execute_result"
    }
   ],
   "execution_count": 71
  },
  {
   "metadata": {
    "ExecuteTime": {
     "end_time": "2024-11-26T04:11:59.935560Z",
     "start_time": "2024-11-26T04:11:59.916186Z"
    }
   },
   "cell_type": "code",
   "source": "confused_transcript, all_transcripts = split_confused_transcripts_by_line(transcript_with_confused_df)",
   "id": "61a46a1f60815d09",
   "outputs": [],
   "execution_count": 72
  },
  {
   "metadata": {
    "ExecuteTime": {
     "end_time": "2024-11-26T04:12:02.824518Z",
     "start_time": "2024-11-26T04:12:00.586137Z"
    }
   },
   "cell_type": "code",
   "source": "response_without = send2chatgpt_without_lecture(confused_transcript)",
   "id": "7b185878fbc79f59",
   "outputs": [],
   "execution_count": 73
  },
  {
   "metadata": {
    "ExecuteTime": {
     "end_time": "2024-11-26T04:00:49.726014Z",
     "start_time": "2024-11-26T04:00:49.723911Z"
    }
   },
   "cell_type": "code",
   "source": "",
   "id": "76827820eb8c1c02",
   "outputs": [],
   "execution_count": 39
  },
  {
   "metadata": {
    "ExecuteTime": {
     "end_time": "2024-11-26T04:00:50.938411Z",
     "start_time": "2024-11-26T04:00:50.935912Z"
    }
   },
   "cell_type": "code",
   "source": "",
   "id": "49ceacea5e5e2808",
   "outputs": [],
   "execution_count": 39
  },
  {
   "metadata": {
    "ExecuteTime": {
     "end_time": "2024-11-26T04:12:09.025669Z",
     "start_time": "2024-11-26T04:12:05.611335Z"
    }
   },
   "cell_type": "code",
   "source": "response = send2chatgpt(all_transcripts, confused_transcript)",
   "id": "84a8eec36720eaeb",
   "outputs": [],
   "execution_count": 74
  },
  {
   "metadata": {
    "ExecuteTime": {
     "end_time": "2024-11-26T04:12:10.135596Z",
     "start_time": "2024-11-26T04:12:10.130221Z"
    }
   },
   "cell_type": "code",
   "source": "all_transcripts.replace('\\n', ' ')",
   "id": "13ee711ed3e27d2f",
   "outputs": [
    {
     "data": {
      "text/plain": [
       "\"I'm going to jail. Oh, yeah. I'm going to jail. Yeah. I'm going to jail. I'm going to jail. This is my advisor. My advisor had to get in my way. So she went to the office, and she was like, really off. Are you kidding me? Yeah. Arlino National Museum. Yeah. I'm going to jail. I'm going to jail. I'm going to jail. I'm going to jail. I put together, like, a dozen advisors, Okay, just some quick bake-off clarifications, because I've been getting a lot of the teams sort of ramped up and started asking me interesting questions, and there's some things that I've heard three or four or five times now. So number one is, I'm trying to make this more realistic and more stringent than bake-off one, and one of the ways that we're going to do that is that you have to decorate all of the destination squares the same way. So let's say you wanted to put a little dot in the middle of the square or something like that. That has to be true for all of them, okay? The only thing that I'm going to allow you to uniquely decorate, like feedback, is going to be your kind of cursor or logo square, okay? So imagine that other than the red, the darker red, which is used for the destination that you're navigating to, that trial, everything else should be the same for all of the squares. Does that make sense? So if you want to augment them somehow, you have to augment all of them in an equal way. So if we make some changes to all of them... things that change when it's transferred because of the opacity. If you yellow it, it transfers. If you change it, then it's white. They should all be the same, but the only opacity should be the fill color. And then you should just leave it alone, so everyone should have the same fill color. So yeah, you can put your... for your logo square, I will let you decorate that in interesting ways that you should run by me to make sure that they're legal. Okay? This also means that in Bake Off 1, I let a lot of teams do like the line that went to the target. That's no longer legal because that clearly is sort of decorating the destination square in a special way. So again, in this one, more stringent that all destinations have to be treated equally, including visually, which is not true in Bake Off 1. The other thing that I sent out a clarification on, that I updated, is that you have to pick up your logo every trial. So imagine like, again, this is Keynote, or Photoshop, or Illustrator. You might have many logos on the screen, so you can't have, like, it'd be really weird if you went into Photoshop and your logo was always glued to your mouse, and you could never ever have two logos, because they're like, both are just glued onto your mouse. So imagine that. It's like in Keynote, you're going to like grab this graphical icon, you want to go and somehow select it, a click and a drag, or a click and hold, whatever it may be, and you're going to move it where you want it to go. That's what the destination is trying to be. So every trial should start off with you grabbing the graphical element and moving it to where you want it to go. So you have to somehow have a mechanism for, like, picking up the logo square. So think of it as a logo, and not a cursor. Your cursor can be something different, it can be your mouse cursor. You want to pick up the logo and drop it into the destination. So use that metaphor, it should make more sense. I also got some clarifications about, like, when they can hit, like, an enter button. So, like, you know, like, when all the parameters are correct, like an enter button will pop up on the screen. This is not illegal, because you should be always able to proceed, right? This should always be basically an enter button on the screen. on the screen, because again, the destination red square is only there so we can run a trial. And so if I told you, I wanted to always put it into the top left-hand corner. Forget the destination squares. That should be just as accessible, because every pixel on the screen should be basically equally critical. So if you only make it so the button to drop the logo is visible only on that one square, then clearly that's making that one thing much easier than the other. So you should be able to always proceed to the next trial in an errorful way so that your confirmed mechanism doesn't have to be a button. You can make a lasso gesture on the keyboard or something like that. So not on the keyboard, but on the trackpad. It doesn't have to be a button. But it should always be present so they can always go forward. I see people just go, click, click, click, click, click, click, all the way through and get all 10, or 20, or whatever trials are going to send for the big dog wrong. OK? So yes, getting more complicated. Is there any general questions that I can answer for people that isn't going to reveal too much in terms of an idea? What is the, like, on the box, what is it going to create for the current version of the code? This is actually new this year. I modified it. It's sort of based on a bake-off that I ran previously. But you are the first people to test this exact bake-off. And so I don't have any time for an RPU. I would guess, if you're very clever, and you'll see it, we're going to start pulling away. Good designs and bad designs are going to get way worse and way good. So I think that if I last a bake-off of, like, 2 and 1⁄2x, I think we're going to be more like 5x on this one, between the best and worst designs. I would say you probably should be in, like, the 1 to 2 second range for trial. Like, if I'm in Photoshop, I can definitely do it in that speed. And I want you guys to be even better than the 1,000 Adobe engineers that are working on the next version of Photoshop. You guys are going to easily be able to come up with something better than Adobe, even though they've been spending 20 years on it. OK? Any other questions? People are looking worried. There's no pop quiz today, so put away those laptops. You're safe, you're safe. Any other final questions? So how many people think they have some good ideas for their bake-off? They've already started brainstorming, they have some reasonable ideas. But I need to shoot down. Like half a person? Okay, you better start ideating. Again, this is more, this is gonna take you more time to program than bake-off one. So make sure you leave at least one a week to get a good prototype working. So by the end of, by like Monday evening, you should definitely have emailed me an initial set of ideas, otherwise you're just gonna run it like runway. It's a two-week homework assignment in groups, so I'm expecting a three-person contribution that represents two weeks of work. It is a significant fraction of your grade. It's like something like a half a letter grade of your entire grade, so you don't wanna botch it. Okay, so today we're picking up on where we left off on human factors. So we're gonna talk about some other human factors today and some basic sort of cognitive principles. And we'll start with something that we can all kind of potentially reflect on. So this is another one of these laws that's sort of like Fitts' Law that people have been using to characterize things. So if you look at a set of choices, and this is one example that I put in here, you know, these really dense kind of lunch menus versus a very simple lunch menu. Can anyone guess, eat over a large set of people, how long, do time trial, how long it took them to select an item on this menu, which menu would take longer? So how many think that this menu would take longer to make a selection from? How many people think that this menu would be harder to make a selection from? Okay, so you are correct. This would take you more time on average than this. You know, with all other things being equal, like obviously if it's like a different cuisine and stuff, it's not gonna work, okay? So what I want you to think about, and this is what I want you to work in your groups, is if you have the number of choices. of some abstract thing, and the time it's gonna take you, what does this relationship look like? So you can just draw a line. So work in groups for just a few minutes and see if you can guess what that relationship is. As the number of choices grows, this time goes down, this time goes up, and what does that line look like? So take out a sheet of paper, someone in the group take out a sheet of paper. You're gonna turn it in at the end of class and put your Android design. Give it a chance. Write up four groups of roughly four, fourish, please. You can write down multiple chances. There's not going to be one chance. Okay, let's hear some people's answers here. I saw a bunch of really interesting ones. Who wants to volunteer an example? Yeah, sir. Root of L and then N. What does it look like? N is the number of, like it's like, it increases but like it's back to something. Like this? Yeah. Okay. What else? That's sort of similar, right, like, I got it now. Okay. What else? Those crazier ones out there in the back. Okay. What else? Yeah. Just like this? Okay. In the back. Oh, it's long? Okay. Interesting. I'll take one more. Yeah. Oh, that's not that. Isn't it that one? What's that? Okay. Okay. Okay. Okay. Okay. Okay. Okay. Okay. Okay. Okay. Okay. Okay. Okay. Okay. Okay. Okay. Okay. Okay. Okay. Okay. Okay. Okay. Okay. Okay. Okay. Okay. Okay. Okay. Okay. Okay. Okay. Okay. So the answer is here, it looks like this, which is that it's log, and again, you guys seem so disappointed, but log. And the reason why it is roughly log, and again, the thing with this is that it doesn't actually fit too many cases, but the reason why it's log is, you can think about on the menu. So when you do a menu with 10 items, and a menu with 100 items, it takes you five minutes to select a menu on the one with 10 items, it isn't going to take you 50 minutes to select something with 100. So that's definitely not linear. And the more, if I gave you a menu with 1,000 items on, you're not going to be there for five days. Right? So we know that if you just follow the choices out, as the number explodes, like, you know, what college do you want to go to in the United States, there's like 10,000 colleges, it didn't take you like five years to figure it out. You were able to pack down a lot of things quickly, and for that reason, it basically follows a log relationship. So here's actually the formula, and you'll see that it has these coefficients just like Fitts' law, because it turns out making different decisions takes a different amount of time. Or like, choosing a college is very different, like, what do you want to... order entropy. So you're going to put a different coefficient in front of it because it has different magnitude, different cognitive overhead, and so on. So it's more like double when you go from 10 to 100 menu items. And you see this sort of choice. Well, so one other thing I should mention is you don't see this law, which is called Hick's law, or Hick-Hyman, it was kind of co-discovered, very often. It tends not to be applicable. Because Hick's law is very mechanical. Like, it's very simple. You're not really thinking about Hick's law when you do it. And so it's mostly following sort of human motor performance and really physics. Like, you can only decelerate and accelerate your arm in a particular way. It turns out that Hick-Hyman law is very rarely applied. Because most of the interesting decisions we care about are complicated, right? Like, it isn't going to follow this beautiful relationship if you have, like, eight colleges that choose from versus two colleges versus 50 colleges, whatever. So for this reason, it's very rarely applied. And you won't see it nearly as commonly as Hick's law. But you do see some of that sort of rough estimate kind of thing. It is a nice proxy thing, but how you divide up choice. And if you know the kind of rough relationship of choice, when things are, like, roughly equal, it does give you some insight into how to distribute things. And so when you see, for example, your Craigslist does not really hold it very well, it's just sort of a big blob of options that you have to sort of scan and decide what category is the right one. If you look at well-designed, for example, menu bars, they tend to do two different strategies. One is that it's hierarchical, right? So rather than exploding this all out into 50 options here, is they nest things so that at any given time, you have, again, a 10-item tier and a 5-item tier. And every one of these have, like, five items on the menu. There'd be 50 items instead of 10 plus 5. And also, they're doing these little grouping things, too. So actually, the high-level cognitive leads are going to look like groups. It actually reduces the kind of functional number of choices. Now, this works in pun-intuitive ways, though, right? If we have a menu that's 50 items long, we could do it as one gigantic menu. So you plug this in without a coefficient, this would be log base 2 of 50 plus 1, following the formula here. And that would estimate that it would take roughly 5.7 seconds to search for your item in that list of 50. And so you might say, oh, well, that's making it more efficient by putting 5 items into 10 submenus. So it's 10 items, and each one has a little nest of 5. And so in this case, it's basically a choose 1 of 10, and then inside of there, choose 1 of 5. So there are two decisions, but they're smaller decisions. But if you actually just sum these up when you should be able to, you'll find out that it actually is predicted to take longer. So this strategy of basically having a hierarchical menu scheme, it only has sort of a payoff if you get the ratios just right, which is sort of counterintuitive, because I think we'd all agree that a menu bar with 50 items in it is not very real. Like, even the worst kind of menu bar in something like Adobe Illustrator probably only has 20 or 30 items, and a menu bar with 50 items in it is unreal. So this is where it starts to fall apart. It is not quite so simple human decision-making as it is choice-making. So it's very counterintuitive. And of course, it's not accounting for all these things that you said. This is assuming the model only works with all things being equal. Like, choose a color. You can't even choose a color. Even choosing a number between 1 and 10, if I ask you on your pop quiz to choose a number between 1 and 10, it's not going to be like 10% of the class with each number. There's going to be all these weird human kind of cognitive principles and biases that are going to affect that. And for this reason, it's sort of falsified. So Oprah simplifies very unfortunately, but again, we know that it is still roughly a log scale kind of thing, and so it's not widely applicable for today's ACFL standards. Okay, here's another one, which doesn't have a great name, but it was told to me by Sue Carr, who is a CMU alum, and helped write this seminal book on human-human interaction back in the 80s. And he has this little game that you can play. We're going to do the exact same thing that we've done previously, which is I want you just to reflect on your own behavior. As I make you do this task, I want you to listen to everyone else in the class and think about how you're doing it yourself. You are the subject of the class. I'm going to put circles on the screen, like they're blue dots, and I want you to shout out, or not scream it out, but say out loud the number of dots that are on the screen. I want you to record, essentially mentally, just keep track of any trends in your seat. Here we go. Just say how many dots there are on the screen. Okay. So you have some data. This is the next one you have to predict, okay? Number of objects versus recognition. Keep it on the same sheet of paper, as I want you to plot what that curve looks like. Okay. Okay. Okay, let's hear some guesses back. Okay. Someone give me this relationship. Okay. Okay. You guys have data on this one, so yes. I felt like it was pretty low, so like six. Okay. So if you'd like five. Linear. Linear. That's okay. Interesting. Okay, what else? I said, yeah? Yeah, we had the same shape of it flattened out. So it's sort of like a flat and then like, hmm. Yeah. That kind of thing. Okay. What else? I saw the answers. Yes? Yeah, like the same thing on the first one. That's what we were curious about. Okay. Okay. Okay. Okay. Okay. Okay. Okay. Okay. Okay. Okay. Okay. Okay. Okay. Okay. Okay. Okay. Okay. Okay. Okay. Okay. Okay. Okay. Okay. Okay. Okay. Okay. So those are my answers. Yeah, that's a pretty good one. So we were curious. Curve. This way or curve? Curve. This way? Yeah, I told you. Like an exponential square. Okay. Anything else? Yeah? Um, this is like really smooth even, because it's like on really sharp bottom at around six. Okay. And then like flat so. You guys are pretty close on this one, so that's good. So it actually looks something like this, and the key thing is that it's mostly linear up until around 5. Around 5, something special happens, and you become dramatically slower. And this is because humans can see up to about 5 objects, you don't have to go 1,2,3,4,5, or if there's like 2, you don't go 1,2, you just see there's 2 immediately, you know there's 2, you don't have to count, you just know there's 2. And you can do this up to about 5. After 5 things, you basically have to start counting, so 6, 6 a little bit longer, 7, 8, 9, obviously there's like 52 items, you're going to have to go up to 52, there's no way to like see, oh I can see there's 52. So humans can do this up to about 52, and they perceive them as one chunk, and it basically is one clock cycle of your mind, you go up to 5. Some people it's more like 4, some people it's up to 5. And so it's mostly flat, but the key thing here is that there's an inflection point in the graph where the relationship changes, and that's 5. So should that come up on a pop quiz in the future, the key is, there's a change in the behavior around 5, okay? Here's a little Vsauce video on this which has some interesting details. So let this play. You can tell if there are 0, 1, 2, 3, or 4 objects in a photo without even needing to count. How are you doing that? Is it some sort of sixth sense? No. Psychologists call it subitizing. We can intuitively, at a glance, determine whether there are about 4 or fewer objects in a photo. This has been part of human culture for a very long time, and it may be the reason so many tally systems from all over the world, all through history, wind up having to do something different when counting the number 5. When estimating or comparing amounts above 4, the brain uses what's called a subitizer. what's known as an approximate number system. It's a psychological ability we have that's about 15% accurate. If two amounts are at least 15% different, we can tell. So for example, 100 objects and 115, or 1,000 and 1,150 or 1,200. If you want to test the accuracy of your approximate number system, PanaMath has a pretty good test. We often take linear active counting for granted. But it's not granted to us. We aren't born with it. We are, however, born with the ability to subitize and use an approximate number system. Children younger than the age of three can tell without counting that this line of four coins contains fewer coins than this line of six, even if you spread the four coins out into a line that is physically bigger, longer than this line of six. However, mysteriously, around the age of three and a half, children lose this ability and begin saying that this line of six coins contains fewer coins than this long line of just four coins. Possibly because around this age, the physical world of objects of physical sizes is more salient in their minds. But then, when they begin to learn linear counting, they reverse back and begin again correctly saying that this line of six contains more coins than this line of four around the age of four. The smallest is a pretty interesting development in psychology, but yes, we have this sort of baked in, but it's not a totally linear thing. So this is, you know, it kind of goes by different words, but I have it as the rule of four and a half because it's around like four or five is when you have this. But now what we're going to do is we're going to play this game again, but I'm going to do some tricks on this other line, okay? So we'll again just yell out how many dots are on the screen and notice the behavior of the class. So, what you probably should have noticed, if I made that video a little bit too easy, is that once you group items into, basically below that threshold, you basically do a summation that doesn't require you to count. You can sort of, like, I see the 333, and I know that's 9. And so you tend to be, when you do this sort of chunking behavior, you tend to be much more accurate at the estimation. I would ask you to, like, screen out the number that's within plus-minus 10% as fast as possible at your grade. You'd be able to do it at a pretty high, much higher accuracy if it's grouped in some way that's below that 4.5 rule. And you do see this sort of design principle applied in many different places. So if you look at, like, tables of contents of books, they tend to, you know, they tend to have groupings that are around 4 or 5, if it's well-designed. If there's, like, 50 items under here, the suggestion that you'll get from, like, your PhD thesis advisor is, like, well, then let's put subheadings that are about, like, size of 4. It's obviously just, there's no, sort of like a finity diagram. You shouldn't have a cluster with 50 things. And if there's 50 things in there, you should do a better job and separate it into these smaller clusters that are more digestible. And you're seeing it in physical design of things, too. So no, it's not by accident that the function keys have these separations, right? Or at least on traditional keyboard, they have these separations. It's that if I said you have to jump to F9, you know how to jump. You don't have to, like, scan over from F1 until you find F9. But look around this rough region. You can generally know that it's in that grouping with F9 to F12. You see it in menu bar design, as I already sort of pointed out. So you tend to see it in well-designed interfaces. As I said earlier, there's a little, sort of like grid separations or padding, again, playing on that Gestalt grouping principle of proximity. And you tend to have sort of two packings of around 2 to 4 to maybe 5. So if you start making it like 7, 8, 9, 10, 20, it starts to break down. Here's actually the slide. So if you open up the keynote, again, you'll see the sort of groupings that tend to have, like, this one is 6, which is really good. pushing it. But again, it wouldn't be an effective grouping if it was like 7, 8, 9, 10. Here's Mac West. It's hard to see that again, because he doesn't even have a foot in the little 10 grouping, but around 5 again, 4. Okay, switching gears a little bit. We brushed on this topic previously. There's no mental model. I've used this word before. Can anyone venture to guess on what a mental model is? We'll start with how many of you have heard this term before? I'm pretty sure I said it in this class, so you probably heard it even if you don't remember it. So anyone want to give a stat on what a mental model is? A mental model is like you're in a class of five or ten, and I'm going to give you a picture and give you a mental model of what a dog is. It's like a furry creature with four legs, but all I am saying is that it's the same category as a dog. Yep, that's a good example. Anyone else want to add to that definition? Okay, very well. So it's really at a high level. It's basically how someone thinks the real world works. So you might have a mental model that all furry creatures are mechanical inside. It would be a wrong model, but it is how you rationalize the world. Or there's a soul in your dog that eats it alive. That could be a totally valid mental model as well. So it's really the representation of the world around you, and the relationship between all the various parts, and people's perceptions as well, and also how their acts have consequences. If you think your mental model is that this is all just a simulation, and all this is just holography, that's going to maybe impact how you treat other people and act on the world. what people's mental models are, what they believe is how the world works, how objects work, then you can basically help to shape their model and build good mental models, especially when it's in relation to like an interface process. People have mental models about how the internet works, most dangerously, it's like it's a series of tubes. That's a mental model, not a particularly accurate one, but it was the model that that person was using when it got to the center of Alaska, right? And so you want to foster good mental models and a good application, how Uber, like Uber's doing a lot of magic tricks behind the scenes, like pair you up with drivers and have this routing. And your mental model is probably not exactly how Uber actually schedules drivers, but it's good enough for you to use the application that only reveals certain things that sort of facilitates your mental model. Like you see the little car moving around the map and your model is probably like the closest car to me is the one that's gonna pick me up, but they might be lying about which cars, those could actually be totally fictitious, actually those cars, I don't actually know if they're even necessarily real all the time. So people build mental models of how things work. That's just how we are, we always like to come up with it, and this is why humans throughout the ages have come up with mythological reasons about why the moon rises and the moon fades and tides and the sun, we always like to explain things and build mental models about things. And sometimes they can be naive and sometimes they can be quite detailed and functional. Like the computer scientists in the room, you probably have a pretty good mental model of how a processor in your computer works. So it's not necessarily logical, like my mental map of Pittsburgh, I still discover crazy stuff I don't fully understand. Now, there's this great little clip that I'll include, but I think the reference is gonna be lost on me. Does anyone know who this is? Who is this person? Can anyone name who this is? No one can name who this is, I do not believe it. Scotty, Scotty from the original Star Trek, like back in the 70s, okay? And Scotty, not the new movie, Scotty is, well he is as well, he's the chief engineer, right, of the Star Trek Enterprise. And gosh. impossible to have any Star Trek jokes in this class. I grew up on, like, Star Trek. OK, so Scotty is, like, this brilliant, like, engineer who watched, like, any of the movies or whatever of the show. He's, like, always, like, you know, fixing things, like, with, you know, glue and stuff, right? And so there's this great clip from this movie. I think it's Star Trek 4 or 5, maybe, where they have, like, Rescue the Whales is the worst of the movies. But anyway, you'll see Scotty, who's, like, the 22nd century, interacting with a 20th century computer. He has a mental model of how computers work in his era. And you can see, in this nice example, someone who's, like, a genius totally failed using computers from, like, our time period. So here's this little cute clip. Now, suppose, just suppose, I were to show you a way to manufacture a wall that would do the same job, but be only one inch thick. And that'd be less sudden to you, eh? It's OK. Perhaps the professor could use your computer. Please. Computer? Computer? He thinks it's what's activating it. Ah, we're getting the mouse. Hello, computer. Just use the keyboard. We get a broken mental model where there are complete interactions. Oh, great. And then this is where it gets a little bit ridiculous, because he's, like, never used this operating system before. This is, like, me in my office. This is, like, what I'm doing. Transparent. aluminum? So anyway, it's a cute example of even if you're super smart, basically you can have broken mental models about things. And you should all watch Star Trek. If you're really nerdy like me, you have to watch Star Trek. It's like Manifold. It's like the Bible, okay? Okay, so you know, people have mental models of all sorts of things, like reverse Polish notation on math, you know, this kind of weird notion about like dragging files to the trash on a Mac OS with a really bizarre mental model that doesn't really hold up in reality. And so, you know, good interfaces communicate the model, right? And we'll talk about affordances later, like how to use a computer for the first time, if it has good design and good affordances. You should be able to sort of pick up and grow your mental model, understand like how a database software works, how an accounting software works, so you can understand what that model is, okay? So, of course, you as a system designer, you have way too good of a mental model. If you've built this system, you're going to have this really detailed mental model. You have to realize it's sort of a form of expert blindness, that users are going to come to me with a lacking mental model. Like, do people really understand like how Uber is actually doing things? Is it the same drive every time? They're going to have, they're going to be building it from scratch. You have to just realize that. So, back to that mantra, the user is not like me, you are an expert, they are not the expert, make sure that you do this kind of approach. And obviously, try to think about what that mental model is, how you build that interface and what data you show them is going to impact how they build that mental model over time. And so, you want to foster the right mental model and not something that's sort of broken, right? Okay, this is another topic that we talked about in last lecture briefly, the difference between recognition and recall. So, can someone tell me what the difference between those two words are? It's not special words, this is just the English words, recognition and recall. Yeah? Recognition is probably figuring out what's in front of you and understanding what's in front of you, whereas recall is understanding how to be something in front of you. Okay, sort of. No one else want to take a stab? Someone new, perhaps? Yes? Right, so in recognition, you're noticing the thing, right? It's right in front of you, just recognizing that it is the thing that you want, because it's giving you some clue, right? Like the answer in a multiple choice question is a great example. You may not have remembered the answer, but you're like, oh, this one I know. It's like I pulled it out of memory. Versus recall is when you have to pull it out of memory with no cue. So it's more like a fill-in-the-blank question on a test. You're like, oh my gosh, what was the name of that author who wrote that book in high school? You don't really have much to go on as you have to recall it from memory as opposed to recognize that it is the correct author. And that's the big difference. So just to formalize this, remembering something in your mind from memory without the cue is recall. Like what were you wearing? Like what color was your shirt on the Monday of spring break? Most of you probably don't remember, but if you remember like you went to your friend's birthday party, then you're like, oh yeah, now I remember. Because again, you're using other clues to basically steer your memory. And so recognition is when you're using some sort of a sensory cue, like you're looking at a little printer icon, and you recognize that it's a printer, that's recognition. Or that you remember something in the front. Oh, that's a really nice blue shirt. Oh yeah, a blue shirt. That's going to be a sensory clue to help you remember something. Right? So here's an example. Here's some ones that are about recall. So what's the primary color on the Pennsylvania state flag? What color is it? The majority color of the flag. Blue. Blue flag. What was Mr. McMillan's first name? Carnegie. I love that. Not Carnegie Mellon. Two different people. That were both called Andrew. Oh, that's a bad one. You're just learning that. The Year of American Independence. So, if you present in a different way, you might be able to actually figure this out. So, here. So, if I go back to recall, even if you give them the answer, you might have remembered it. 1492. 1812. 1066. Battle of Hastings. Okay. So, recognition is good. So, you always want to create, it's much easier to do recognition than it is to do recall. So, this is why you want to have these little icons that you don't have to recall what these are. You can look at it and guess what it is or recognize what it is. It facilitates recognition. I could have made this print icon but someone could have made a print icon that's like a red square. And you could remember that red square equals print. But it's so much harder than just having good recognition. So, you always want to have good recognition. You know, commands that are like about inserting something and when you walk through the insert menu, you can just recognize, oh, that's just insert. The thing I want to do is insert something, so I'm going to recognize that that is the thing I'm going to look for. So, with good labels and good text and good icons, you can pretty much make GUIs recognition-centric. And this is why the jump from command line to GUI was so monumental. In a command line interface, you have to recall everything, right? There's no affordance of what I should type to launch like a text editor, or open a browser, or print a file, or delete a file. You have to remember and recall from memory every single command. So if you get rusty at all your Unix commands, like Linux commands, it's really hard to use a command on the interface. Or if it's like Vim, Emacs, and it's like all these esoteric, crazy key commands, it's basically impossible to use. There's nothing to help you recommend how to do it. And so even if I just wheeled in a machine from the 70s, some like mainframe from the 70s, and we were tasked, like everyone's gonna die in this room, it's like an escape room, and we can't leave until we print out a file. It would take all of our collective intelligence, we'd probably get nowhere. We would just be typing in commands randomly, because there's no recognition at all. And so that's why GUI was so much easier, is you could just look around the interface and recognize the thing you wanted to do, as opposed to have to learn everything from scratch. So recognition does fail though, like these are the ones that I pointed out before, a couple lectures ago, is that even when you try your best, even though I've told you what these are, you probably would get at least one or two of these wrong. Right, you don't remember what this one is? How many people think they remember what this one was? Okay, so that's not a good sign, because that's supposed to be good iconography, and yet I've even told you the answer, and you've already forgotten it. So recognition does not always work, it's difficult. You're basically having to recall, because it's not recognizable, so you're relying on recall to figure it out. So how about this one? Another kind of example that's sort of related, so here is sort of a typical, or at least a slightly older version of Windows, they're both of the same dialog. Anyone comment on what they think they like about the design, or what's bad about the design? Yeah? I think I like the other one, because the stored save option is kept at a distance, and the save and the cancel option is grouped together. So if you basically, by the city, click no over there, and you're afraid to save your document in the first one, you will not make the same mistake again. I'm not sure I totally understand it, so what's better about this one? So like, you will not click don't save and lose the data. I see, because it's further away. I see, where? This is... Okay, yeah. So this is what you want to hit. And that's like the most destructive possible thing. And they've actually placed it next to this. Yes, that is absolutely, I would say, a design fail. In this particular instance. Not only has this grouped it far away from save, but they've actually added extra padding, so it's even more distinctive if you don't hit don't save. So that is one thing that I think is nice on this macros example, yeah? I like how it says save and don't save. It's like making sure it's easier to press instead of yes or no. And that's good, but is there anything else you can add to that? Why do you think that's a better design? I feel like a blue save, your eyes can't see. Sure, but what about the text? This says yes, no, cancel, and this says save, cancel, don't save. You think that's better or worse for the equal design? I could also make that yellow, so the yes button kind of fills blue as well. You don't have to read the whole question and explanation to get to the buttons. Right, so this one is if you're really lazy or you're moving really fast, is you don't have to read. This is actually much shorter than the Mac OS one, but basically you can infer what's going to happen, the action, because the button is facilitating that. You know what the button's going to do without having to read the whole explanation. We're here, there's nothing I can really recognize without having to read this. You know what, I'm saying yes too. It's subtle, but it does all add up. I think it's a nice design choice to put the action in the button as opposed to having to read. Let's talk about the model human processor. In some classes, we used to actually spend money. There's some classes that spend half a semester on that for the model human processor. I've included it in this lecture because I want to give you some historical background because it's really where I got started. We need to rewind time a little bit to the beginning of ATI. This is the book I mentioned before. The Psychology of Human-Computer Interaction, which was written by three CMU people, is basically what formalized and popularized the term, so the actual term was really started here at CMU. It was published in 1983, and it really is what put it in as a field. I know there's some people in this class that got to meet at least one of these people, Moran, who was here at CMU just a few weeks ago. I guess a lot of people think the same. He was a grad student under Newell at the time. And what they wanted to do in this book, and that's why it's called The Psychology of Human-Computer Interaction, is they really wanted to find ways to summarize the human as an engineering model. So it was really popular at the time to basically try to boil down human factors into a collection of rules that could basically be simulated as a processor. So some of them just called the human processor model, but I've used the term model human processor. So the idea here is that you take all these human rules, like Fick's Law, and Hick-Hyndman Law, and the four-and-a-half rule, and so on, and you formulate them, and you try to build basically a simulator of a human, but treat it like a microprocessor. So given a set of inputs, like if you have an Intel processor and you say, I want you to add these 20 numbers, you can deterministically tell how long that processor will take to do that. And what they wanted to do is say, well, if we treat the human brain, or the human body, as sort of like a microprocessor, we can say, I want you to order a car on Uber, and I want to be able to estimate how long that's going to take. And you need really good rules to do this. And that's what they tried to do. So here is an example of a computer processor. So here's like storage up here, here's some registers, and you want to put them down here, and here's the ALU, and so this is like a whole processor flow diagram. I'm sure you've seen these if you've taken a computer architecture class. And here's what the model human processor looks like. And you can see it even sort of looks like a computer processor. And here you have the task environment, you have I.O. in a kind of a computer system. and then it goes into these auditory inputs, so you have visual input, you have auditory input, and then you have all these little processors and you add a little memory and it all sort of moves it around. So there's a vocal output processor, so you get like a sound card in your computer and so on. And again, if you can make this specified enough, the goal was to be able to basically compute the length of any app. So they broke this down into these three different sort of major categories. You have different systems, your perceptual system, your motor system, and your cognitive system. Motor is how you move like your body, perceptual is basically how you sense the environment, and cognitive is how you sort of crunch the numbers. This is like your brain power, your intellect, right? And each one of those has different parameters. There's a storage capacity, it's like how many bits do you store in your cognitive system? There's a decay time, because we're not like perfect, you know, things like our memory just fade over time, short term and long term. And then there's a cycle time, how long is like a clock cycle of our motor system? How long is a clock cycle of our perceptual system? And so they're all different, and they've been tested experimentally. And so like for our perceptual system, the human brain's kind of like, you know, one plus minus one standard deviation is about 50 to 200 milliseconds. But for me, it's about 100 milliseconds. That means in order for me to see something and respond to a stimulus, it's going to take at least one clock cycle of my perceptual system, and it's going to be around 100 milliseconds. So this is like if I throw something at you really quick or something, like you're just going to basically, you know, it's going to be very difficult to react in less than 100 milliseconds, one tenth of a second. A motor is a little bit faster, has this range, cognitive capacity to compute something is about 70 milliseconds. So these are all derived, these are not like examples, these are all derived from doing a big research of all these psychology studies. So, and you can test this, like, I didn't bring a ruler today, but you can imagine, you know, if I grab something here, let's say I can grab a wand, here we'll do this test on someone. You ready? Hold your hands like this. And when I let go, we just stop it. Stand up if you're ready. Three, two. So we can do that a thousand times, right, and I can record that distance, and if you basically know, you know, whatever, 9.8 meters per second, we can basically figure out what the clock cycle time is for that entire step. The operation is, visual system has to sense that the thing is dropping, so there's going to be a perceptual cycle interval of about 100 milliseconds, then you have to basically make a decision, I'm going to close my hand, I think it's another 70, and then basically you have to get your motor system to react and close your fingers, and if you sum that all together, it's going to fall within that range of the three different, basically like little circuits that have to fire to make it. And you can, again, do this a million times and get pretty robust averages for these simple things. And again, it's sort of like Hick-Hyndman, that it works really well for sort of mechanical things, but when it's like, you know, choosing a college or like where should I go eat, like it starts to fall apart because it's not mechanical in the same way that it's logic. But nonetheless, people have gone a great lengths to try to formalize it, so here's just a very small table of all the different, you know, kind of cycle times, and the range of cycle times, all the different things. So, you know, moving your eye is not just a one-size-fits-all idea. If I have to move my vision from here to here and refocus, that takes on average like 230 milliseconds. If you're talking about visual capacity, so how many kind of words or letters you can store in your kind of visual channel at a given moment, it's up to about 17 letters at a time, right? And so people have gone, like it was exhausting, they tried all these different things to basically quantify the human. So it's like human factors on steroids, right? It isn't just like Fitts' Law, it's like every little possible thing you could do. But you can imagine if you had a long enough list and you could quantify every little drop of human performance, you could make a pretty complete model of human processing, right? Unfortunately, I sort of gave away the answer to this. If you had a really good processor, it means that for an arbitrary interface task or an input task, you could automatically, like programmatically, output how long it would take that user to do that so you can basically feed in like your uber application and you know the uber application is like you click the button to open like you find the icon you click it so there's like you know it's going to take x amount of time plus y amount of time then it's like typing an address which is going to be like bum bum bum bum bum bum bum bum bum it's going to be x amount of time then hit the submit button and then like you know the car is basically on its way and if you had a really good model how long every little click would take and how long every little eye saccade movement would take then you could say the fastest you could do that is 12.9 seconds you can automatically calculate it if you had sort of this deterministic model human process so you want to calculate how long it takes to perform a certain task not just interface tasks but even you know like assembling a car kind of tasks right not creative tasks but important and it was like I said it's super cheap and easy it's sort of like the golden gateway to never have to run a user study again because basically you could just feed it through the design and it would simulate basically like the average human. Now there's lots of things that weren't accounted for they never found a way to really actively do it so things like tactics right like your sense of touch it isn't just like obviously like moving like a I don't know like a block of ice versus like a big like cardboard box like there's different coefficients that hang on all these things as weight there's texture and so on really hard to model one-size-fits-all kind of rule. Kinesthetic memory versus motor memory this is not really a real thing like a baseball pitcher really knows how to like you know you got so much training on how to you know throw a ball like 100 miles an hour and obviously like how do you fit a curve to that we all have different skill levels. Some of us are great at playing basketball and probably most of us aren't very good at it. There's also this notion of selective attention like there's a lot of letters like I'm looking at all your t-shirts there's letters everywhere in this room but I can't remember all of them equally like if I look at someone's teacher that t-shirt like twitch right there I can remember that in my memory but I'm not going to remember everything equally so there's notion of selective attention where you focus on certain tasks. they basically emitted entirely. And then sort of like multi-threading, the attentional capacity, like being able to multitask on different things, just isn't accounted for at all. So basically, long story short, and I'm not going into too much detail, is that there was this really awesome vision in the 80s, like if only we could just have the whole list of human factors, we could build this complete model. But in reality, it turned out to be much, much harder, because humans are complicated. So probably one of the most famous uses of this is GOMS. This is Goals, Objects, Models, Systems. It's an acronym for something. Goals, Operators, Methods, and Selection. And it's basically a specialized image. Once they realized that the modular processor wasn't going to be a catch-all, they started to simplify and sort of go to the core rules that they know are going to work really well. So they're basically using a cognitive model to predict quantitative time for expert users. So they're also saying, we're going to specify an expert user. There's no one-size-fits-all criteria. What you do, if you provide in this method, it's sort of like cognitive walkwords, you're going to think about the method that people can apply. The input is a detailed description of the UI and tasks. So it's sort of like you give people the storyboard of every little interaction sequence. And it lists all the steps hierarchically. And then you have this gigantic list of how long everything takes, how long one key process, how long it takes to move your eye. And you basically just sum it all up. You just sum it all up down every little branch of the thing. You can find out how long it would take to get to each one. So they found that the execution time, and again, this is assuming that you're a master of the task, there's no errors. They found that you can get within an accuracy of about 10% to 20%. So if you predict that ordering Uber ride is going to take 10.2 seconds, you should be able to be with this model. Just by giving them a storyboard, when you actually build it, you tend to be within about 10% to 20% accuracy, which is pretty awesome. And of course, what you can do with this is since it's easy to just look at these pathways, so you can see a very common pathway, like ordering a car is taking a very long time, you can actually sort of like perform. testing if you're doing like a, for a program, it basically works if there's lots of penalties. Like going into this screen and then back out of that screen is adding five seconds. Like maybe we're going to do it in one screen. And it lets you sort of do like performance testing on a theoretical human. And of course, it lets you do any testing because you can basically just do this evaluation for many different versions. So, you know, it does give you a nice quantitative measure, even though you may be working on a storyboard, or even just a text description of what this thing looks like, you actually get out time, which is fairly unique. And when, you know, a UI section is revised, if you have a really long branch of like, you know, a flight control operator that's basically like scheduling a new piece of like equipment to be run because the 730 seconds are all grounded, is you can basically swap out that one section, plug it back in, and you only have to recompute the one change. You don't have to run the whole sequence again like you would with a user study. So that's pretty cool. Of course, the downside here is that it takes a lot of time. You need specialized people to do this. It isn't just like you can pull out the method and go. It only really works with these very goal-directed tasks. So it doesn't work at all for the creative tasks. You can't model people's creative breakthroughs. It's just too complicated of a cognitive process. And it doesn't address UI issues like readability, memorability, design, intuitiveness. Like if you're just providing it a hierarchical wireframe of all these things, you don't really get the sense of pleasure. Now, people were very skeptical that this was going to work initially. They're like, you really can't boil down a human to something that simplistic. And so there was a landmark study that was published by all these authors, including Bonnie Johns, the faculty chair, and others. And it's really considered sort of like the gold standard of Dom's handwork. So what they did is basically the company that was before AT&T, 9x, was swallowed up as one of the baby dolls that became sort of AT&T's animal. It's basically a phone operator in New York City. And they were considering replacing the workstations with a human operator. So I think even now, if you go to a payphone and you hit zero, it does connect you to it. human operators. Has anyone done that in the last year? I know I haven't done it in years. But anyway, you could try it after class. Go find a paper and press 0 and see if a human picks up. But certainly back in the 90s, pre-internet, if you didn't have a phone book on you, there was no way to look up information. You wanted to find out if a restaurant was closing, but you didn't know the number. You could hit 0 and say, I want to know if whatever this Thai restaurant on 5th Avenue is open, or if you connect me. And they'll connect you and say, what time do you close? And that's basically how everything was done pre-internet, essentially. And so the human operators had these workstations where they'd say, who are you trying to call? And it's like, I want to call Bill Schmidt of Boston. And they'd type it in and say, OK, I'm connecting you. And they'd tack on an extra dollar for basically that help. And they were going to redesign it, because that's a very expensive thing. And a lot of people are placing these calls through human operators. And so a major factor in making the purchase decision was how quickly the expected decrease in average work time per call would offset the capital of making the purchase. Building this system is going to cost like $50 million. New computers. You're going to have to have the company build a new system. So that has to reduce the, it takes 20 seconds per call to 15 seconds per call. And we're paying everyone like $10 an hour. So basically, how long will it be to recoup? Even saving just one second per human operator would translate into millions of dollars saved. So here's what these call centers, this is not an actual call center, but this is what 80 of these call centers basically look like. Thousands of people in cubicles just answering questions from people all day long. So the manufacturer, they basically did the spec work. They made it. They basically drew all the wireframes and so on. And the manufacturer and Dynics agreed that the new workstation would be substantially faster than the old design. By one estimate, they would save as much as four seconds per call. They're estimating that one second save would save millions of four seconds per call. Dynics is like, for real, they're like, wow, this is going to be like extra money for free, et cetera. So then, but simultaneously, we should hedge our bets. Like that's also getting this like weird academic team that's talking about the thing called GOMS. And so GOMS, they got the wireframe team company and they took about two person months. So I think it was like, you know, four people for two or something. And they came back and what the GOMS prediction said is that the new workstation was actually gonna be 0.63 seconds slower than the old version. And so both Ninex and the manufacturer were like, no, no, no, it's like total BS. Like, what do you mean? Like it's so much better operating system, like all these new things we streamlined. How could it possibly be slower? Okay. So this was a very counterintuitive prediction. The new workstation had many superior features. The workstation used more advanced technology to communicate with the switch without the required speed. It was a new keyboard that placed all the frequently used keys close together. The display had a GUI instead of just a text terminal with recognizable icons instead of obscure alphanumeric codes. It was sort of like if you go to an airport and like you go to like the gate agent, they always have those really crusty computers back there. If you wanna change a seat, for some reason it's like 1,000 key commands, right? Like all this crazy modifiers. That's basically what it was in Parallel Engine 3. So we used it. So procedures were streamlined, combining previously separate keystrokes on one keystroke, like all the right things. They did all the right things, right? It sounds like amazing. Okay. So Ninex said, ah, there's no way that a GOMS estimate is accurate. We're gonna build it anyway. So they built it, they deployed the system, and then they collected a four month file and they processed 78,000 of these human operator problems. So what do you think, what do you think the data showed? How many people think GOMS was wrong and Ninex went, and the system was faster? How many people think GOMS was right and the system was slower? I thought I'd speak too much, so I can't. So it turns out, okay, that the real prediction, when they actually got the data, was that it was 0.65 seconds slower, and GOMS was 0.63 seconds slower. So it's a ridiculously accurate base game. They derived the estimate before anything was built, just from wireframes, and they got basically really. close to actually what it was going to be. Now, again, it's held up as an example, a big success story about the model human processor. And GOM is working. But again, this is a very specific use case. This is like a human operator that they knew the kind of very, like, I want to talk to Bill Schmidt in Boston. And it's like, key, key, key, key, key, enter, read it back. And it had very good timing estimates for all these things. So it worked pretty well because it was a very mechanical task that was just repeated essentially the same way a million times. And that's what enabled them to get this result. So nonetheless, that prediction was very counterintuitive. And it also extraordinarily accurate. So it is pretty amazing. So what has happened later sort of in life for GOM? People, like the AI community, are still like, hmm, there's something interesting here. But they try to make it easier. So it didn't require experts. And one of the tools is actually a CMU project. I don't think it's still being maintained, but it's a very cool idea. When you input your storyboard, you basically, these can be paper wireframes. So they can be like Photoshop wireframes. And you basically do the storyboard thing where you connect up all the errors, which is what I made you guys do. At least I did in class for your mail kiosk. And what you do is, on these transitions, you basically explain what's happening. Like, this is a button. And you click this button, and it goes to the screen. There's some sort of like parametization you can do on the errors. And you can basically connect all these errors. Then when you run it, it basically runs it like it's sort of like, I don't know, Figma or Envision app or Balsamiq. Because you can step through your interface the way you would actually flow through it. But at the end, it reports not only how long it took you to go through it, but it reports the GOMS prediction automatically for all the extra users, which is pretty cool. So it's basically a way to automate GOMS and storyboarding. And not just storyboard it for user testing, but storyboard it using cognitive data, like all this great psychology and cognitive cod sci literature that's been run since the 60s, 70s, 80s, 90s, and so on, built right into your storyboarding interface, which is a really cool idea. But despite that, I've never used this tool once. So I'm joking. OK, that is it for today. I've left time at the end of class because I wanted to talk. about your bake-off, too, because I know all of you are being lazy and not working on it. So now you have 15 minutes to meet with your team and have a plan of attack, and you can come talk to me with questions about your design. Oh yeah, turn in your papers guys, make sure your Android Bs are readable. So, I was thinking of having a visit, right? And when I said a visit, he's like, yeah, why not? It's nice to see you. It's like, it's not like we're going to see each other, but like, we're going to see each other. It's like, we have to be there for each other. It's like, there. So, and that is something that, it's not always like that. It's always there. It's always there. Wait till you hear this. nan People want to know if you have a Google account. Because I'm just not a Google person. Oh, we all do. Oh, Google. I mean, I'm not a Google person. I also work for a company called... What company? I don't know. I work for Google. Yeah, I work at like, Power. I work at Google. Oh, my God, I work for Google. Yeah, I just started at Google. I'm just about to leave. Oh, my God. Oh, my God. I'm sorry. No, I was just... Yes, that's right. I know. I'm just trying to... I'm just trying to... Oh, my God. Oh, my God. Oh, my God. Oh, my God. Oh, my God. Oh, my God. Oh, my God. Oh, my God. Oh, my God. Yeah, OK. No. No, no. Like, it's like, I don't know. Yeah. It's obvious. Oh, really? Yeah. Let me take a look. Ahem. I don't know. I can do it. I can do it. No, no, no, no. I don't know. I don't know. I can do it. I can do it. I can do it. I can do it. I can do it. I can do it. I can do it. I can do it. This works. Yes. We'll try to fix them. The network's. Thank you very much. We get the effect. You guys feel good? Toby's gonna be here? Okay, okay. Cool. I didn't know I was doing it. Okay. Okay. Okay. Okay. Okay. Okay. Okay. Yeah. Yeah. Yeah. Yeah. Yeah. Yeah. Yeah. Yeah. Yeah. Yeah. Yeah. Yeah. Yeah. \""
      ]
     },
     "execution_count": 75,
     "metadata": {},
     "output_type": "execute_result"
    }
   ],
   "execution_count": 75
  },
  {
   "metadata": {
    "ExecuteTime": {
     "end_time": "2024-11-26T04:12:11.752048Z",
     "start_time": "2024-11-26T04:12:11.748982Z"
    }
   },
   "cell_type": "code",
   "source": "response_without.replace('\\n', ' ')",
   "id": "33772238cd917571",
   "outputs": [
    {
     "data": {
      "text/plain": [
       "'**Concept: Visual Consistency in User Interface Design**  **Explanation:**   The lecture focuses on maintaining visual consistency in user interface design, particularly regarding the use of color and opacity. \"Yellowing\" signifies a change or transfer, while a consistent \"white\" color indicates uniformity. It emphasizes ensuring uniform visual treatment of destination squares, prohibiting special decorations that alter their appearance. In design applications like Keynote or Illustrator, all destination points should have the same fill color to preserve uniformity. Additionally, each trial requires retrieving user logos to ensure clarity and consistency across multiple interface elements.'"
      ]
     },
     "execution_count": 76,
     "metadata": {},
     "output_type": "execute_result"
    }
   ],
   "execution_count": 76
  },
  {
   "metadata": {
    "ExecuteTime": {
     "end_time": "2024-11-26T04:12:13.219105Z",
     "start_time": "2024-11-26T04:12:13.216137Z"
    }
   },
   "cell_type": "code",
   "source": "response.replace('\\n', ' ')",
   "id": "346e75a6f3daa95e",
   "outputs": [
    {
     "data": {
      "text/plain": [
       "'**Opacity and Related Constraints in Graphic Design Prototyping**  In graphic design prototyping, managing opacity pertains to setting transparency levels of elements, where uniformity is crucial for consistency and clarity across prototypes. The excerpt suggests you are involved in a design challenge, or \"Bake Off,\" which involves graphics where the guidelines enforce consistent opacity across all destination squares, ensuring only fill color variations. This constraint promotes uniformity and effective communication of visual information within the design. You are further constrained from utilizing specific indicators, such as lines leading to targets, that bias the visual hierarchy or interaction pattern, maintaining visual equality among design elements. Lastly, each trial requires the designer to manually reposition a logo, emulating real-world interaction scenarios where graphical elements are independently manipulated rather than pre-affixed.'"
      ]
     },
     "execution_count": 77,
     "metadata": {},
     "output_type": "execute_result"
    }
   ],
   "execution_count": 77
  },
  {
   "metadata": {
    "ExecuteTime": {
     "end_time": "2024-11-26T04:01:32.371148Z",
     "start_time": "2024-11-26T04:01:32.360699Z"
    }
   },
   "cell_type": "code",
   "source": "transcript_with_confused_df['state']",
   "id": "3bca8be4ceef628d",
   "outputs": [
    {
     "data": {
      "text/plain": [
       "0      Not Confused\n",
       "1      Not Confused\n",
       "2      Not Confused\n",
       "3      Not Confused\n",
       "4      Not Confused\n",
       "           ...     \n",
       "800    Not Confused\n",
       "801    Not Confused\n",
       "802    Not Confused\n",
       "803    Not Confused\n",
       "804    Not Confused\n",
       "Name: state, Length: 805, dtype: object"
      ]
     },
     "execution_count": 50,
     "metadata": {},
     "output_type": "execute_result"
    }
   ],
   "execution_count": 50
  },
  {
   "metadata": {
    "ExecuteTime": {
     "end_time": "2024-11-26T04:01:33.650044Z",
     "start_time": "2024-11-26T04:01:33.647464Z"
    }
   },
   "cell_type": "code",
   "source": "confused_transcript",
   "id": "ed4a11205b33fcd1",
   "outputs": [
    {
     "data": {
      "text/plain": [
       "\"You might have to be out a little bit.\\nTry not to be right here.\\nOkay.\\nThank you for being here.\\nI'm sure most of you are comfortable with your team.\\nAnd I'll be here.\\nI will be playing my game.\\nAs long as I don't have to.\\nI'll be here.\\nYou guys can talk to each other.\\nYou don't have to worry about it.\\nI'll be here.\\nSo...\\nI'll be here.\\nI'll be here.\\nI'll be here.\\nI'll be here.\\nI'll be here.\\nI'll be here.\\nMeet me.\\nMeet me.\\nI'll be there.\\nI'll be there.\\nMeet me.\\nMeet me.\\nI'll be there.\\nI'll be there.\\nMeet me.\\nMeet me.\\nMeet me.\\nI'll be there.\\nMeet me.\\nMeet me.\\nMeet me.\\nMeet me.\\nI'll be there.\\nMeet me.\\nMeet me.\\nMeet me.\\nMeet me.\\nI'll be there.\\nMeet me.\\nMeet me.\\nI'll be there.\\nmeet.meet.meet.meet.\\nhour.\\nhour.\\nalarm.\\nnow.\\nHall.\\nNow.\\nNow.\\nNow.\\nNow.\\nNow.\\nNow.\\nNow.\\nNow.\\nNow.\\nNow.\\nNow.\\nNow.\\nNow.\\nNow.\\nNow.\\nNow.\\nNow.\\nNow.\\nNow.\\nNow.\\nNow.\\nNow.\\nSo you can go ahead and modify your code right now and set numberRepeat equals to 3.\\nThat means cheat button is going to appear 3 times for a total of 48 possible checks\\nof that.\\nIf you have no idea what I'm talking about, that is worrying me.\\nSo at the very top of that code is the random generator.\\nJust set that to numberRepeat equals to 3, okay?\\nThe scaffold code already outputs the average time for a click.\\nThat's going to be the metric that we're going to be testing against, okay?\\nAverage time for a click.\\nThe one that incorporates the penalty.\\nJust a reminder, I already went over this a couple of lectures ago, but just as a reminder,\\nthere are three sort of primary roles.\\nI think there is one team of four, and you will split the sort of recruiter-recorder\\nrole, but for every other team, you're going to have three roles.\\nOne is the experimenter.\\nYou're the person that's going to really sit with the laptop, run the experiment, or\\njust sit down.\\nYou're the one who can explain how it works and demonstrate.\\nThe second role is that recruiter-reporter.\\nAll the participants are going to come to the middle of the room, and they're going\\nto wear little post-it notes with their team number on them.\\nI'll get to that in a second.\\nAnd your job is to basically say, oh, I haven't run team 13 person yet.\\nCome back to my table.\\nI want you to run the trial.\\nAnd you're also going to be the person that's responsible for entering in the Google Docs\\nspreadsheet, which I'm going to provide the link to in a moment.\\nSo you'll have your own laptop open, and you'll be the person that's responsible for entering\\ninto that spreadsheet.\\nAnd then finally, every team needs to donate one person who will be in the participant\\npool.\\nSo you need to figure out who that's going to be, and then they're going to come to the\\nmiddle, and they'll get a name tag.\\nOkay?\\nSo take 30 seconds to decide your roles, and then we're going to move on.\\nso really, don't cheat.\\nThis is meant to be instructive and fun, okay?\\nOkay, finally, here is the Google Doc spreadsheet\\nthat you're going to be using.\\nSo if you're the data recorder,\\nyou should open up this spreadsheet and find your row and column, okay?\\nSo I'll show this in a second when I pull it up,\\nbut there's going to be rows and there's going to be columns.\\nYou're going to put all of your data into the column\\nthat's named after your team,\\nand participants are going to be all in one row, okay?\\nAnd that'll make sense when you open up the spreadsheet, okay?\\nSo we're going to get started in one minute.\\nVerify your roles, open up the spreadsheet,\\nand then I'll tell you when we can begin.\\nTwo more things that you'll see in this spreadsheet is two of the rows are special participants\\nand that is Judy and Toby, our TAs.\\nI trust them more than any of you, at least right now.\\nI don't mean that in any negative way, but they are an even ten because they have no\\ngray or any skin in the game.\\nSo try to preferentially recruit them.\\nIf you see them open and they have their names written along their tags, you want to recruit\\nthem because you want to try to get both of them to run through your design.\\nIf you don't complete every team, that's okay, but try to recruit Judy and Toby if\\nthat's possible.\\nYes, everyone can do it once.\\nTry to get both.\\nIf there are any questions I can answer about the bake-off, this will make a lot more sense\\nwhen we do it once.\\nJudy and Toby.\\nHave any of you done this before?\\nThat's okay.\\nRight.\\nOr you can make it practice.\\nYou can practice doing it once.\\nYeah.\\nSo they can practice harder.\\nYeah, that's fine.\\nOkay.\\nParticipate.\\nIf you want to change the mouse sensitivity, do that during your training round.\\nIt doesn't make no one care about that time.\\nYou can pause on the 18th button, change the sensitivity all you want, and it will give\\nyou it.\\nBut once you finish that training round, you have to progress to the timed round.\\nDoes that make sense?\\nOkay, so participants come to the middle of the room wearing your name tags.\\nRecruiters, you can start finding your own people.\\nLots of participants and no recruiters.\\nLots of participants and no recruiters.\\nLots of participants and no recruiters.\\nLots of participants and no recruiters.\\n...\\n...\\n...\\n...\\n...\\n...\\n...\\n...\\n...\\n...\\n...\\n...\\n...\\n...\\n...\\n...\\n...\\n...\\n...\\n...\\n...\\n...\\n...\\n...\\nIt's not an actual, it's not an actual hit, it's a recorded hit.\\nIf you have multiple hits, it's a record hit.\\nYou're talking about like, you know, how many hits are hit?\\nHow many hits are recorded?\\nThe default scramble code in time with penalty is what you should be entering into this spreadsheet\\nthat calculates everything automatically for you.\\nIncluding the freebies and everything.\\nOkay, I'm going to switch over to the leaderboard.\\nOkay, the data is plugging in.\\nOkay.\\nSo remember that you get to run your own participant, which will be the diagonal in the matrix.\\nAnd maybe there's a problem that passes on your design, so make sure you run your own\\nparticipant.\\nSo yeah, I'll just show you, like, each of them.\\nOkay, so you can just add them out, and then I'll show you how to do it.\\nSo this one is a double-clicker, so you can double-click it.\\nAnd then you can run it.\\nyou are.\\nI'm going to try to figure out how to put that line in there, so I can figure out who\\nyou are.\\nI'm going to try to figure out how to put that line in there, so I can figure out who\\nHi.\\nHi.\\nHi.\\nHi.\\nHi.\\nHi.\\nHi.\\nHi.\\nHi.\\nHi.\\nHi.\\nHi.\\nHi.\\nHi.\\nHi.\\nHi.\\nHi.\\nHi.\\nSo we're going to do this for about another 10 minutes, and she'll try to infill, and\\nthen we're going to run Judy and Toby, and then we're going to go to the lightning round.\\nI need you to have a plan.\\nOh, thank you.\\nYeah, but...\\nI can't hear anymore.\\nOh, okay.\\nDo it again.\\nThank you.\\nOkay, so...\\nI'm going to be a bit...\\nI'm going to be a bit shy.\\nI don't see the room.\\nOh, no, no, no.\\nI'm going to be a bit shy.\\nI'm going to be a bit shy.\\nI'm going to be a bit shy.\\nI just do...\\nOh, yeah, good.\\nWhat's up, everybody?\\nHey, what's up?\\nHey, what's up?\\nSo basically, the reason is that if you think about this, every single pixel is a target in both eyes.\\nIn terms of number of repeats, I'm going to show that here.\\nI like 10, 10 is a good red one.\\nIt's a modest red, so it's a 10.\\nThat's 160 pixels.\\nSo with 0.5 a second, it's going to be less.\\nAnd with a minute and 20 seconds, it's going to be more.\\nAnd with a minute and 20 seconds, it's going to be more.\\nOkay, now we've reversed order of energy, so time with error.\\nSo what I want you guys to think about, and we're going to talk about this next lecture,\\nThis one's pretty loose too, but whatever, we'll just knock on it.\\nAlright, let's try this again.\\nWait, shit, what?\\nYou know what I'm telling you, it's like a tiger, right?\\nOh, I'm dead.\\nAlright.\\nWhy doesn't it default?\\nYeah.\\nI think it's...\\nI don't know.\\nNo, maybe it's actually...\\nOh, can we do, like, this?\\nSure.\\nWe don't have to do that.\\nSo we really just plug it in our computer cable, and it makes it...\\nIs it extending?\\nNot yet.\\nI wonder if I can change this.\\nCan you just connect?\\nCan you just zoom in?\\nYeah.\\nJust zoom in.\\nIt disconnects.\\nThere's something wrong with this.\\nGo back and see.\\nOh, that's pretty cool.\\nThis is like how it was doing yesterday.\\nYou're trying to make it silent.\\nIt's not done yet.\\nThere you go.\\nThat's cool.\\nYeah.\\nOh, yeah.\\nAll right.\\nAll right.\\nThank you.\\nOkay.\\nAll right.\\nThank you.\\nAll right.\\nAll right.\\nAll right.\\nThank you.\\nThank you.\\nThank you.\\nThank you.\\nThank you.\\nThank you.\\nThank you.\\nThank you.\\nThank you.\\nThank you.\\nThank you.\\nThank you.\\nThank you.\\nThank you.\\nThank you.\\nThank you.\\nThank you.\\nThank you.\\n\""
      ]
     },
     "execution_count": 51,
     "metadata": {},
     "output_type": "execute_result"
    }
   ],
   "execution_count": 51
  },
  {
   "metadata": {
    "ExecuteTime": {
     "end_time": "2024-11-26T04:18:11.195970Z",
     "start_time": "2024-11-26T04:18:11.172357Z"
    }
   },
   "cell_type": "code",
   "source": [
    "# Sample transcripts\n",
    "transcript_a = all_transcripts.replace('\\n', ' ')\n",
    "transcript_b = response_without.replace('\\n', ' ')\n",
    "transcript_c = response.replace('\\n', ' ')\n",
    "\n",
    "# Combine all transcripts\n",
    "transcripts = [transcript_a, transcript_b, transcript_c]\n",
    "\n",
    "# Convert to binary vectors (presence or absence of n-grams)\n",
    "vectorizer = CountVectorizer(binary=True)\n",
    "X_binary = vectorizer.fit_transform(transcripts).toarray()\n",
    "\n",
    "# Initialize a similarity matrix\n",
    "num_transcripts = len(transcripts)\n",
    "jaccard_sim_matrix = np.zeros((num_transcripts, num_transcripts))\n",
    "\n",
    "# Compute Jaccard similarity for all pairs\n",
    "for i in range(num_transcripts):\n",
    "    for j in range(num_transcripts):\n",
    "        if i != j:  # Skip diagonal elements\n",
    "            jaccard_sim_matrix[i, j] = jaccard_score(X_binary[i], X_binary[j])\n",
    "\n",
    "print(\"Jaccard Similarity Matrix:\\n\", jaccard_sim_matrix)\n",
    "\n"
   ],
   "id": "6e55dc9fe950036a",
   "outputs": [
    {
     "name": "stdout",
     "output_type": "stream",
     "text": [
      "Jaccard Similarity Matrix:\n",
      " [[0.         0.02208955 0.02654867]\n",
      " [0.02208955 0.         0.19117647]\n",
      " [0.02654867 0.19117647 0.        ]]\n"
     ]
    }
   ],
   "execution_count": 85
  },
  {
   "metadata": {},
   "cell_type": "code",
   "outputs": [],
   "execution_count": null,
   "source": "",
   "id": "60c9cd71199c73b"
  },
  {
   "metadata": {},
   "cell_type": "code",
   "outputs": [],
   "execution_count": null,
   "source": "",
   "id": "b4809866e2a538de"
  },
  {
   "metadata": {},
   "cell_type": "code",
   "outputs": [],
   "execution_count": null,
   "source": "",
   "id": "ce3b499fec0e60e0"
  },
  {
   "metadata": {},
   "cell_type": "code",
   "outputs": [],
   "execution_count": null,
   "source": "",
   "id": "c0393ab6a35995d6"
  },
  {
   "metadata": {},
   "cell_type": "code",
   "outputs": [],
   "execution_count": null,
   "source": "",
   "id": "b1c73e8f528b16fb"
  },
  {
   "metadata": {
    "ExecuteTime": {
     "end_time": "2024-07-09T03:18:20.449571Z",
     "start_time": "2024-07-09T03:18:20.443706Z"
    }
   },
   "cell_type": "code",
   "source": [
    "f = open('../figure_panels/confused_transcript_0221.txt', 'w')\n",
    "f.write(confused_transcript)"
   ],
   "id": "63e3186742112e68",
   "outputs": [
    {
     "data": {
      "text/plain": [
       "26833"
      ]
     },
     "execution_count": 6,
     "metadata": {},
     "output_type": "execute_result"
    }
   ],
   "execution_count": 6
  },
  {
   "metadata": {
    "ExecuteTime": {
     "end_time": "2024-07-09T03:16:34.725541Z",
     "start_time": "2024-07-09T03:16:34.720340Z"
    }
   },
   "cell_type": "code",
   "source": "confused_transcript",
   "id": "25c5db1c8c51aa3a",
   "outputs": [
    {
     "data": {
      "text/plain": [
       "\"but you've considered it. Okay, 45 seconds. How many people have done it? Raise your hand if you've done it. Okay, 10 newtons. Okay, start passing them in. How many people thought this one was easier than the last one? Raise your hand. That's not what we're doing. We just went over the material last lecture. It's easier. Okay, got them all, yes? The file is closing in five seconds. Yes, is there one more? Okay, last call, yes? Okay, very quickly we get the answer. So, one of the two HCI monikers, the first one being know thy user, the second HCI moniker is user is not like me. Right, recognizing that people are different. How many people put user not like me? Okay, with surveys. In an online survey, like SurveyMonkey, you're just calling up phone numbers. You generally learn. You know you can call thousands, because you can blast a meme of a thousand people, so hopefully people know that it's a thousands of people, but it would be weird to send a SurveyMonkey to just two people you can send an email to. And the answer here is that you learn a few things, but about a thousand people is the kind of score that you can assess A, okay? Contextual inquiry advocates which model? And that is the master-apprentice model, the 100 master-apprentice model. You literally discovered this 48 hours ago. Going to a workplace to see how work unfolds helps you better understand what? How do people put the floor plan? It does. I mean, that's not a wrong answer, it's just not the best answer. The context? Yes, literally it's in the name. So it helps you better understand the context. The other ones are true. You learn about the floor plan, you understand better about the workplace equipment, and you'll even learn something about the cafeteria, but that's not really the best answer. The best answer is to try to understand the whole context which encompasses all those things. Okay, when visiting the workplace, the probability of connection increases, you might consider taking back a view and assume you have permission. How do people put photos? Yes, I think photos are acceptable. Notes? Yes. Sketches? Yes. Auto-recordings? Yes. You might consider, again, we talked about the pros and cons, none of them are perfect, but I think all those do. And who puts furniture? Yes, generally you probably don't take the furniture unless it's a very good reason. Okay, and the purpose of, this is probably the hardest one here, but the purpose of rephrasing an answer or detail to someone that you're studying, this is the rephrase and validate part of when people are unsure, and you're telling them your understanding of it, and this is to understand, so this is B, confirm your understanding. You rephrase it to them, and they go, ah, that's mostly correct, or yeah, that's correct. That's confirming your understanding. They already know their understanding, so B is the best answer here. How many people put B? Okay, okay, good, see, it picked up. Okay, next thing I want to catch up on is the video prototype. I had a chance, I think all the grades are posted already, but I wanted to pull out some of the ones that I thought were kind of interesting and cool, and ones that were kind of ridiculous and funny, and I was just going to show you four examples of what some of the other teams did. There was a lot of good ones, and actually, I think this is the best year in terms of coming up with good motivations. I would say 95% of the teams had actually really good motivations, and I'm really thrilled with you. I want to have a good story, a good setup, and no one just jumped right into their opening shot. This is an interface, so I'm going to click through. Good job on that, but let me just show you what some of the other teams did. Oh my gosh, keynote. Here we go. Song is leaving his house to get to class. He checks his calendar for any upcoming events. Oh no, an exam tomorrow, he needs a quiet place to study ASAP. But all the places Song knows about are so loud. Oh wait, he has the CMU app. Finding a quiet place is a breeze with the CMU app. He first presses browser. So this was a still with a narrator and photoshop. Then he's able to browse through all study areas and see their noise level. Great, a quiet place to study. Very simple, very kind of simply done, but very effective. It doesn't have to be complicated. Very good kind of example to be a first time. Here's another one. So instead of filling out the document that Song left out, Song opens up the document. He makes a code, starts a code. and she leaves it in the designated area, Gate 6. Janice gets a notification on her smartwatch from Free Software that there's a new item offered. A canvas tote bag that's just what she needs. Clicking into the notification, she sees more details of the item and decides to claim it. She heads over to Gate and finds the bag in the area. Again, very, very simple setup. Super fussy, and it kind of gets to the interface really fast. And you can pretty much understand the whole idea within 30 seconds. Now the next video I'm going to show you, and I don't mean to, like, super criticize, but it takes a long time to get to the actual point. So I'll play this one. We all live extremely busy lives, from being a student to having a job hanging out with friends, meetings with professors, and et cetera. There are so many things going on in our lives that makes scheduling things between people quite difficult. So there's a bit of money this day we end up opening our eyes to. Where are they? I'm waiting all day for them. It's very smartphone-centric. I'll fast forward here. Some interesting terms. We all live extremely busy lives. Yeah, okay, I'll be there in, like, two days. One of the students said that'll be enough time to get ahold of us. Oh, thanks! Yeah, actually, I was going to a meeting with some of my classmates, but I went to the wrong UC. But you said that. That's what I was thinking. Well, we should reschedule, right? Reschedule. I was, like, tracking the timings. You get the idea. It's interesting. It's pretty tongue-in-cheek. And then here's one final one. So it's video as opposed to stills. It's paper instead of Photoshop. Very fast narration just to get jumped right into the play. So I think this is a really cool idea, that it's basically, like, a socially driven music. But actually, based on what building you're in, you can basically listen collaboratively to what everyone else is listening to. So it's sort of like a cultural kind of, like, self-assembly. But it's kind of an interesting idea. Anyway, I like this. one a lot and so I'm going to give them the built video prototype award where is this team? Raise your hand. Only one of you is here. Naughty. Well you'll have to give this to your teammates. I expect you to wear them on campus today. Okay, moving on. So what I want to resume on is actually do the second affinity diagram exercise that we didn't get to do. A bit more of a sort of a real scenario not just all the things that you touch in one given day. So this time of course your groups will be different so don't worry about that. I'll hand back out post-it notes. So I have all the post-it notes still here. What I wanted to do is imagine like the like downtown district partnership is trying to come up with how do we get like more senior students to come downtown more often, okay? And this could be a real thing. They really do want senior students to come downtown more often but there's various reasons why you probably do a lot less than you should. So what I wanted to do is again individually we're going to do this individually before meeting in your groups. I'll give you three to five minutes just to get down as many ideas as you can. We have a lot of experts to consider as part of this panel. Just put them in your neighborhood if you can. So again, good affinity diagramming practice is to try to boil it down to a single thought. Don't just be like, weather, you know, that's too loose. B, it's too cold. Rain would be a different story, right? So try to make it as small and actionable as possible. Who needs more positiveness? And this is you personally. Don't try to extract what others are doing. Just think about what you personally don't agree on. ಠಲಜಲರನಿಪತತಲನಿಕತನಮನಿ ಪಿಢನದರನಿರನಿರನವದರನ ಪಲಗತದನಾಜಲದದವದರನಿ ಪಢಲಾಕರಡಲನಿರನಿಭಏತಥದದದದ ಮಭಡಫಕಲಪಾಟನಿಠರಾಂಗಪಟಾರಲಾನಯಿರನದದರನಾಜಲದರನಾಗಧರನದದಗರ ಪಶಿಯಂಗರರನಗರರಲನಾಜಯಂಗರರಲದರನದ� ಇಪಡಿ ಸಬಗತಾನದರನವರನಾಜಲತಾಂ ಪರಬಹದರನಾಗತ ಇಪಡಿ ಸಬಗತಾನದರನಾಗತ See if you can do a better job of clustering it, and again, we'll go around the room and see how, this is a more complicated problem than what you touch every day, so there'll be different headings for different people. So roughly, eight people. And again, if you have the same answer, you stack them, so if you have the same note, just put them on top of each other. Okay, and we're at 8,000 now. Okay, so Esther's doing really good. Do you have anything you wanna add, Esther? Okay, cool. Hey, maybe one more minute to get your ideas up on the board. Okay. Okay, let's go around the room and we'll see if the teams that are still wrapping up can wrap up. Okay, let's hear what the different groups are doing. It's not vital that you get everything done. Let's start. Tell us all of your categories from left to right. We have some problems here that we can see. I'm nervous. I don't have time to go in. Where were you? Yeah, we also have a lot of problems. Yeah, a lot of problems. I didn't tell you whether there's going to be any issues. No. It's a very vital thing that we're going to have. Not a good reason. Which is, you have, okay. Zoom. Okay. Next one. Alright, so we have weather. Should I just do it all? Yeah, just do it all. I'll clarify. Okay. Weather. So we've got weather. Yeah. Let's just get there. Inconvenience, schedule for safety, especially at night, cost of care, alternatives to going there, and activities that either don't have to be there over the past year. Personal problems, it's just not having a presence there. Yeah, it seems like a common theme. Okay, got it. Next team. Okay. I think, Sam, I think that I would like to support everyone on downtown and the fun things you can do there. But not important things to do is the number one thing. Yeah. As well as, like, distance, and then it comes from that. Like, you have, you don't want to worry about planning for it. There's other things. It's available to you much closer. And then the price, whether it's 60 cents a day. Okay. Okay. So definitely some common themes. Next team. Yeah, we have some pretty similar stuff. Like, not knowing what to do. One of our issues we have here today is we can't drink there. We don't drink wine. We weather CMUs, like, we're in a bubble that we're trapped in. The lagginess of the port authority sometimes. Yeah. My friend's stuff. And we also have noise stuff. Wow, see, the two noise issue ones. It's not a good thing. I've never heard that. I've never thought about how to prove it. Next. Yeah. So, yeah, there are two. Yeah. We work so hard for it. There's a lot of information about what you can have. You can have money. So there's a lot of devices you can have. I think we have a lot of questions about the weather and the ships that we are going to use. Okay. Next team. So we have 20, that's a pretty powerful amount of money on this. We saw our parking, transportation, weather. Okay. Okay. Interesting. Okay. Finally. So we have weather, transportation, lots of crowds, lack of activities, costs, safety, and we also have cell reception. Yeah. Now would that maybe go under safety? Like do we already communicate? Oh yeah. Friends? I don't know. That's a little bit of an oddball one. But yeah. Okay. Next team. So we have a lot of questions about the weather and the ships that we are going to use. Okay. Next team. So we have weather, transportation, lack of activities, costs, safety, and we also have cell reception. Okay. Next team. So we have weather, transportation, lack of activities, costs, safety, and we also have cell reception. Okay. Next team. close it down early, the restaurants are empty by 8. You can't even get food after 8 there. Yeah, we can talk about that. I mean, if you like Walnut Street, then you'll fall in love with them. Burn! Okay, sit back down. We're going to move on. Okay, so just to wrap up a little bit on observation and niche finding, there's two sort of effects that I wanted to briefly mention that can sometimes impair your ability to get a good contextual view. So number one is this notion of expert blindness. How many people have heard the term expert blindness before? It's a really important term. So basically this is this notion that you are so good at what you do that you basically can no longer see the pitfalls. This is sort of like the Snapchat interface effect. You're so good at using it and you're so adept at mobile applications that you can sort of figure it out. But that isn't expert blindness. If you think that's an easy interface to use, it's because you're suffering from expert blindness. So it's very dangerous. Masters who you are trying to learn from will exhibit expert blindness. So they'll skip over. It's like, oh, I'm just going to spool this to the printer. And they'll push like 15 buttons really fast and you'll have no idea what happened. And you may assume, oh, they just went to like file, print, and they hit return or something like that. But actually it might have been this really complicated system where they had to check some box and collate it and double-cite it. So you have to be very cognizant that the master is suffering from expert blindness. And you yourself as like sort of an expert in HCI or UX or computer science, whatever your discipline may be, that you're going to suffer from it in sort of an opposite way. So this is sort of doubly important that when you're in these activities, that you go through the process. Don't just let them demonstrate for you, because things that seem so trivial actually may actually be really complicated. And if you do it yourself, you'll see, oh, hold on, I have to select this like other weird printer, I have to print it in order to get it to like the claims department, just sort of like virtual school box or some really esoteric thing. You'll discover that if you make them do it. That's one of the reasons why it's a master-apprentice model, that you're meant to learn, you're meant to do it. You're going to do it in a very poor, slow way, but it forces you to have to basically kind of learn their job. Again, not just an interview. You want to have that kind of relationship. So tech deployments is a double. So here's this one example. I pulled this out of an old Microsoft video. This is them testing what would become Windows 95, but back in 93. And it's someone using a mouse for the first time. And you might think, oh, that's a really intuitive thing. But it's actually pretty difficult. So let's watch this video. And he's doing a think-aloud. Go. I'm using a double-click mouse. I'm going to icon. I'm coming down here. I'm going to get there. I'm going to be sure that it's on, though. It's on twice. I'm going to click this. I'm going to read down here. Let me read it again to see if I did something wrong. Double-click. Oh, I'm using a double-click. It took me to the left twice. I did that. Yeah, great. You did a good job. Your mouse pointer is jumping between the clicks, so that's why it's not working. Oh. Boy, that's too sensitive. and over here. Pause it there. Okay, so I'll just pause it there. Is, you know, we take for granted using a trackpad and a mouse. And this person's using it really for the first time. And what they notice in that, when they're testing this early, we're like a beta version of Windows 95, is that we have, right now, all of us have this mouse memory where if we double click with the mouse, we know to keep it still. But for someone who hasn't really developed that sort of physical intuition, he was clicking, and in between the click, he was just nudging it. You know, the click was causing the mouse to jump like one or two pixels, you know, a very small amount. And in response, Windows was rejecting it as a double click. It's like clicks have to happen in the same spot. It seems like such a tiny thing, but this person actually couldn't do it. I mean, the video, I'm sure, was longer, and it was probably, he was encountering this problem in many different spots in the interface. So again, it seems so obvious to us, and we can pretty much walk up to any computer with a mouse to track that, and we can use it immediately. And that's because you have tens of thousands of hours of practice on those things that you can basically walk up to like an airport kiosk for getting your ticket, and you can use it immediately, right? Because you're so good at it. And I'm sure you've been next to someone else online, or like the automated checkout at like Giant Eagle, and there's just someone who is just getting destroyed by that interface, and just cannot get to the finish line. And you might be like, oh, they're dumb, but they're not, they're just inexperienced. And you're an expert, and you just don't realize that you're an expert. Here's another interesting item. Sorry, this popped up so many times. I'll turn off the light, it's probably gonna be a popped page. So there's a really interesting little kind of micro-study that they ran. Can anyone, if you look closely at this, can you notice something unusual? So they gave this to radiologists, okay? They gave this to radiologists who are experts at looking at these things, and basically saying, oh, there's like a tumor here, or there's like, I don't know, like a lung cavity, and there's like, you know, some sort of like water in the lungs, or something like that. And I think this is a cross-section of someone's lung. And if you're in the front row, see what really where is it? What is that? It's a little gorilla inside someone's lungs. And what they found, if you stand in the back row, it's very solid, like you can sort of see it. And they showed this to radiologists, like, do you notice anything wrong about this human? It's a healthy human. So they're like, no, the CT scan looks fine. There's a freaking gorilla in there, which is clearly not like fun. We think that's the most obvious thing to talk about if you're an expert. But the fact that they're so tuned to pattern matching for actual medical things, that they're basically blind, cognitively blind, is something that is very remarkable. So for example, expert blindness, novices sometimes can see things more clearly than even experts in some cases. Okay, here's a totally different effect that some of you may be aware of. So if you know the answer to this, sort of mums the word, let other people sort of think it through. But it's another effect that comes up all the time when you're studying the context and the contextual background of problems. So the original, kind of the classic study of this actually goes back to the 40s, to World War II. And what they were looking at is the military was trying to figure out where they could put extra armor. They had a certain payload capacity on the design of bombers, and they could add on a certain amount of extra armor. And what they did is they said, well, let's do this in a data-driven way. Rather than just like, yes, where we should put the armor, let's do this in a data-driven way. And so when we look at lots of aircraft that are coming back from combat situations, we can look at, you know, where they're getting shot, right? And so for the military, look at the bomber, the recurrence of enemy territory, and they recorded where those planes had taken the most damage. And over and over again, they saw the same pattern, right? That bullets tended to accumulate, damage to the aircraft tended to accumulate along the wings, around the tail gunner, and down the center of the bomb. Okay, they saw this pattern, this is where it's accumulating the most damage. So, taking this into account, where would you put the armor if you were the military? Okay. Yeah, so back in the day, these big bombers had like little, kind of like little turrets. So if an enemy fighter was tailing the bomber, they'd have a way to shoot back at the person that was flying on. So he'd tail gun him in a little bubble at the back with his own machine gun. And there was normally a roof underneath and even one in the front on the left of the bigger bomb. Does anyone have a theory on this? Yes? Set that aside for now. Let's just say there's 300 pounds of free weight that we can just add armor onto. Yes? Yes, did everyone hear that? So, the answer is you put the armor where there are no bullet holes. Okay? If you think about this, the planes that are returning, so I have a nice succinct quote here. So here's an example of, for example, an aircraft. So this is not the bomber. So you see, you're getting planes like this returning. You say, oh my gosh, look at the whole wing that's blown off this fighter, little tiny fighter. Right? So you may say, well, where should we make it stronger? And you think, okay, so the first intuition is to put it on the wing, to strengthen up that part that fell off. But the fact is, if this plane lands back at the airfield, it shows you that you can actually lose that part of the wing and still make it back. If you have planes coming where there's no holes, that are the ones where, because it's missing from your data set, it means those are the ones that got shot there and probably just like exploded and they never came back. So the ones that are coming back with holes is where actually it shows you can be shot and survive. Okay? It's a little bit counterintuitive. So let me just say that more simply. The holes actually show where the plane is the strongest, because it can still make it home despite having damage. Okay? And so what you want to do is you want to put the armor everywhere you don't see holes, because that's presumably, assume it's a random distribution of holes, essentially. And so you put armor where you don't see holes. you see no damage because those are the ones that got shot and they come back. Does that make sense? How many people, does this make sense? Okay, good. So, the planes that weren't there are the ones that needed the extra protection, the holes, the sort of thing that you build locations in, these are the least additional ones. So this effect is called survivorship bias. You have to realize that you see survivorship bias in all different things. Because of just natural selection, not just in military aircraft, but in processes and fashion and everything, all you're seeing are the exemplars that survive. So, for example, not the bomb armor, but the notion that older buildings are more beautiful. Pittsburgh has an amazing collection of turn of the century and Gilded Age skyscrapers. But it's actually not true, like all these wonderful Victorians like in Shadyside and stuff. The fact is older buildings are not more beautiful, quantitatively. We have kept, it happened to be that the ones that we decided to preserve and we kept for like a hundred years happened to be the nice ones. That's why we kept them. All the really ugly old buildings, and there were many of them, we've torn them down because they just weren't worth keeping. Same with old cars. People were like, oh my gosh, like a Ford, Thunderbird, like cars back in the 60s were just so elegant and so beautiful and they're still driving. They have like a Jeep from the 50s, it's so reliable. But that's because you're not hearing about like all the cars that were so terrible that it's like trashed them, even in the 60s, they just tossed them out. And there's lots of ones like the Pinto that would just occasionally just explode and kill people, like for no reason. None of those are still driving on the road, even though it's a terrible design. So there's also the notion that they don't make stuff like they used to because someone has some really old tool that happened to be, you know, it's a dishwasher that is still surviving and you bought in the 80s and it still was working. That's because that's an example of something that happened to survive. And you don't have exemplars in the day. Here's some other ones and songs from the 80s. If you watch like Stranger Things, it's always like hit songs. Wow, what an amazing musical era. Because again, if you watch any show or movie set in the 80s, it's like the same collection of 50 really awesome songs from the 80s, and they're not playing all the ranked number 100 song from May of 1982. And if you've never heard of that song, it's not got any kind of nostalgia for you. It's just been essentially lost in time. And same, and I see this a lot. I have a startup myself, and everyone over here can have these crazy best practices. But you have to realize that startups, like the people that got super successful, sort of the Mark Zuckerbergs, for every Mark Zuckerberg, there's probably a thousand other people that had exactly the same idea and failed in different ways. It wasn't just like, he happens to think that his one path was probably like anyone could have done it if he just followed those steps. But there was actually things before Facebook, like Friendster, that were arguably better and run by more adept businessmen, and failed. So you have to take everything with a little bit of a grain of salt. So whenever you're observing people and processes, and even just artifacts, you have to realize that this effect is happening and magnifying certain things. Yep. But they survived for so long, people imagine being in a different company than them, no? Yes. It's correlated, and sometimes they survive just in pure coincidence, like certain movies or cult classics that have survived, or a certain car that, for whatever reason, just accidentally happened to be more stronger than some counterpart. So yes, there normally is a rationale, and I'm sure, Dr. Burton, not to take on poor duck, but I'm sure he wasn't terrible at his job, but I do think that you could probably find other people that were better, and still lost out. So there's lots of examples, like better products that basically were a huge failure, like the Alcoa and Starbreeze era, right? I think so. Like, I understand what's more in terms of pain, because like, oh yes, they survived, but you know that you have to defend them, like men in the home, that didn't. Right. But some, like Dr. Burton's stuff, I don't know what I would put somewhere in that. Or like old cars, too. Like, really, those cars are super great, and people love them, and they're not super safe, but I may like them for a reason, and other parts of the era, you know? Yeah, so.\""
      ]
     },
     "execution_count": 7,
     "metadata": {},
     "output_type": "execute_result"
    }
   ],
   "execution_count": 7
  },
  {
   "metadata": {},
   "cell_type": "code",
   "outputs": [],
   "execution_count": null,
   "source": "",
   "id": "78054e3bccef2eb6"
  }
 ],
 "metadata": {
  "kernelspec": {
   "display_name": "Python 3",
   "language": "python",
   "name": "python3"
  },
  "language_info": {
   "codemirror_mode": {
    "name": "ipython",
    "version": 2
   },
   "file_extension": ".py",
   "mimetype": "text/x-python",
   "name": "python",
   "nbconvert_exporter": "python",
   "pygments_lexer": "ipython2",
   "version": "2.7.6"
  }
 },
 "nbformat": 4,
 "nbformat_minor": 5
}
