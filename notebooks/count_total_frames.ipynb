{
 "cells": [
  {
   "cell_type": "code",
   "id": "initial_id",
   "metadata": {
    "collapsed": true,
    "ExecuteTime": {
     "end_time": "2024-09-01T04:53:00.184173Z",
     "start_time": "2024-09-01T04:53:00.182449Z"
    }
   },
   "source": [
    "import pandas as pd\n",
    "from glob import glob\n",
    "import numpy as np"
   ],
   "outputs": [],
   "execution_count": 1
  },
  {
   "metadata": {
    "ExecuteTime": {
     "end_time": "2024-09-01T04:53:03.058651Z",
     "start_time": "2024-09-01T04:53:01.621869Z"
    }
   },
   "cell_type": "code",
   "source": [
    "total = 0\n",
    "for confusion_csv in glob(\"../confusion_processed/*.csv\"):  \n",
    "    df = pd.read_csv(confusion_csv, index_col=0)\n",
    "\n",
    "    df.fillna(value='none', inplace=True)\n",
    "    emotions_list = ['Not Confused', 'Confused']\n",
    "\n",
    "    all_emotion_ratios = []\n",
    "    file_total = 0\n",
    "    for row in range(df.shape[0]):\n",
    "        emotion, counts = np.unique(df.iloc[row, 1:].values, return_counts=True)\n",
    "        idx_none = emotion == 'none'\n",
    "        emotion_not_none = emotion[~idx_none]\n",
    "        file_total += np.sum(counts[~idx_none])\n",
    "        total += np.sum(counts[~idx_none])\n",
    "    print(confusion_csv, file_total/2400)"
   ],
   "id": "f57120f9b6d02ddd",
   "outputs": [
    {
     "name": "stdout",
     "output_type": "stream",
     "text": [
      "../confusion_processed/20190430_confusion.csv 15.55125\n",
      "../confusion_processed/20190409_confusion.csv 19.6175\n",
      "../confusion_processed/20190423_confusion.csv 17.00958333333333\n",
      "../confusion_processed/20190207_confusion.csv 18.6925\n",
      "../confusion_processed/20190404_confusion.csv 12.834583333333333\n",
      "../confusion_processed/20190307_confusion.csv 16.55125\n",
      "../confusion_processed/20190221_confusion.csv 17.10375\n",
      "../confusion_processed/20190226_confusion.csv 14.68\n",
      "../confusion_processed/20190328_confusion.csv 19.145833333333332\n",
      "../confusion_processed/20190416_confusion.csv 16.629583333333333\n",
      "../confusion_processed/20190326_confusion.csv 19.832083333333333\n",
      "../confusion_processed/20190418_confusion.csv 20.94625\n",
      "../confusion_processed/20190425_confusion.csv 8.96875\n",
      "../confusion_processed/20190502_confusion.csv 20.84375\n",
      "../confusion_processed/20190321_confusion.csv 17.048333333333332\n"
     ]
    }
   ],
   "execution_count": 2
  },
  {
   "metadata": {
    "ExecuteTime": {
     "end_time": "2024-09-01T04:53:04.170506Z",
     "start_time": "2024-09-01T04:53:04.162754Z"
    }
   },
   "cell_type": "code",
   "source": "total",
   "id": "c4598a37e235c378",
   "outputs": [
    {
     "data": {
      "text/plain": [
       "613092"
      ]
     },
     "execution_count": 3,
     "metadata": {},
     "output_type": "execute_result"
    }
   ],
   "execution_count": 3
  },
  {
   "metadata": {},
   "cell_type": "code",
   "outputs": [],
   "execution_count": null,
   "source": "",
   "id": "571c76eb0e0b2e0f"
  }
 ],
 "metadata": {
  "kernelspec": {
   "display_name": "Python 3",
   "language": "python",
   "name": "python3"
  },
  "language_info": {
   "codemirror_mode": {
    "name": "ipython",
    "version": 2
   },
   "file_extension": ".py",
   "mimetype": "text/x-python",
   "name": "python",
   "nbconvert_exporter": "python",
   "pygments_lexer": "ipython2",
   "version": "2.7.6"
  }
 },
 "nbformat": 4,
 "nbformat_minor": 5
}
