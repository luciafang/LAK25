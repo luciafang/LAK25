{
 "cells": [
  {
   "cell_type": "code",
   "id": "initial_id",
   "metadata": {
    "collapsed": true,
    "ExecuteTime": {
     "end_time": "2024-11-24T19:52:27.453179Z",
     "start_time": "2024-11-24T19:52:15.231958Z"
    }
   },
   "source": [
    "import os\n",
    "import subprocess\n",
    "import pandas as pd\n",
    "import numpy as np\n",
    "import random\n",
    "import cv2\n",
    "import matplotlib.pyplot as plt\n",
    "import re\n",
    "import pickle \n",
    "from tqdm import tqdm\n",
    "from deepface.modules import modeling, detection, preprocessing"
   ],
   "outputs": [],
   "execution_count": 1
  },
  {
   "metadata": {
    "ExecuteTime": {
     "end_time": "2024-11-24T19:54:12.614370Z",
     "start_time": "2024-11-24T19:54:12.602673Z"
    }
   },
   "cell_type": "code",
   "source": [
    "dataset = os.listdir('../../edusense/DAiSEE/DataSet/')\n",
    "print(dataset)"
   ],
   "id": "fef38d7f9ecdd590",
   "outputs": [
    {
     "name": "stdout",
     "output_type": "stream",
     "text": [
      "['.DS_Store', 'Test', 'Train.txt', 'Validation.txt', 'Train', 'Test.txt', 'Validation']\n"
     ]
    }
   ],
   "execution_count": 3
  },
  {
   "metadata": {
    "ExecuteTime": {
     "end_time": "2024-11-24T19:54:38.604161Z",
     "start_time": "2024-11-24T19:54:38.555115Z"
    }
   },
   "cell_type": "code",
   "source": [
    "test_csv = pd.read_csv('../../edusense/DAiSEE/Labels/TestLabels.csv')\n",
    "train_csv = pd.read_csv('../../edusense/DAiSEE/Labels/TrainLabels.csv')\n",
    "valid_csv = pd.read_csv('../../edusense/DAiSEE/Labels/ValidationLabels.csv')\n",
    "train_csv"
   ],
   "id": "cb71a9464761e26c",
   "outputs": [
    {
     "data": {
      "text/plain": [
       "              ClipID  Boredom  Engagement  Confusion  Frustration \n",
       "0     1100011002.avi        0           2          0             0\n",
       "1     1100011003.avi        0           2          0             0\n",
       "2     1100011004.avi        0           3          0             0\n",
       "3     1100011005.avi        0           3          0             0\n",
       "4     1100011006.avi        0           3          0             0\n",
       "...              ...      ...         ...        ...           ...\n",
       "5353  4599990246.avi        0           3          0             0\n",
       "5354  4599990247.avi        0           3          0             0\n",
       "5355  4599990248.avi        1           2          1             1\n",
       "5356  4599990249.avi        0           3          0             0\n",
       "5357   459999025.avi        1           3          0             0\n",
       "\n",
       "[5358 rows x 5 columns]"
      ],
      "text/html": [
       "<div>\n",
       "<style scoped>\n",
       "    .dataframe tbody tr th:only-of-type {\n",
       "        vertical-align: middle;\n",
       "    }\n",
       "\n",
       "    .dataframe tbody tr th {\n",
       "        vertical-align: top;\n",
       "    }\n",
       "\n",
       "    .dataframe thead th {\n",
       "        text-align: right;\n",
       "    }\n",
       "</style>\n",
       "<table border=\"1\" class=\"dataframe\">\n",
       "  <thead>\n",
       "    <tr style=\"text-align: right;\">\n",
       "      <th></th>\n",
       "      <th>ClipID</th>\n",
       "      <th>Boredom</th>\n",
       "      <th>Engagement</th>\n",
       "      <th>Confusion</th>\n",
       "      <th>Frustration</th>\n",
       "    </tr>\n",
       "  </thead>\n",
       "  <tbody>\n",
       "    <tr>\n",
       "      <th>0</th>\n",
       "      <td>1100011002.avi</td>\n",
       "      <td>0</td>\n",
       "      <td>2</td>\n",
       "      <td>0</td>\n",
       "      <td>0</td>\n",
       "    </tr>\n",
       "    <tr>\n",
       "      <th>1</th>\n",
       "      <td>1100011003.avi</td>\n",
       "      <td>0</td>\n",
       "      <td>2</td>\n",
       "      <td>0</td>\n",
       "      <td>0</td>\n",
       "    </tr>\n",
       "    <tr>\n",
       "      <th>2</th>\n",
       "      <td>1100011004.avi</td>\n",
       "      <td>0</td>\n",
       "      <td>3</td>\n",
       "      <td>0</td>\n",
       "      <td>0</td>\n",
       "    </tr>\n",
       "    <tr>\n",
       "      <th>3</th>\n",
       "      <td>1100011005.avi</td>\n",
       "      <td>0</td>\n",
       "      <td>3</td>\n",
       "      <td>0</td>\n",
       "      <td>0</td>\n",
       "    </tr>\n",
       "    <tr>\n",
       "      <th>4</th>\n",
       "      <td>1100011006.avi</td>\n",
       "      <td>0</td>\n",
       "      <td>3</td>\n",
       "      <td>0</td>\n",
       "      <td>0</td>\n",
       "    </tr>\n",
       "    <tr>\n",
       "      <th>...</th>\n",
       "      <td>...</td>\n",
       "      <td>...</td>\n",
       "      <td>...</td>\n",
       "      <td>...</td>\n",
       "      <td>...</td>\n",
       "    </tr>\n",
       "    <tr>\n",
       "      <th>5353</th>\n",
       "      <td>4599990246.avi</td>\n",
       "      <td>0</td>\n",
       "      <td>3</td>\n",
       "      <td>0</td>\n",
       "      <td>0</td>\n",
       "    </tr>\n",
       "    <tr>\n",
       "      <th>5354</th>\n",
       "      <td>4599990247.avi</td>\n",
       "      <td>0</td>\n",
       "      <td>3</td>\n",
       "      <td>0</td>\n",
       "      <td>0</td>\n",
       "    </tr>\n",
       "    <tr>\n",
       "      <th>5355</th>\n",
       "      <td>4599990248.avi</td>\n",
       "      <td>1</td>\n",
       "      <td>2</td>\n",
       "      <td>1</td>\n",
       "      <td>1</td>\n",
       "    </tr>\n",
       "    <tr>\n",
       "      <th>5356</th>\n",
       "      <td>4599990249.avi</td>\n",
       "      <td>0</td>\n",
       "      <td>3</td>\n",
       "      <td>0</td>\n",
       "      <td>0</td>\n",
       "    </tr>\n",
       "    <tr>\n",
       "      <th>5357</th>\n",
       "      <td>459999025.avi</td>\n",
       "      <td>1</td>\n",
       "      <td>3</td>\n",
       "      <td>0</td>\n",
       "      <td>0</td>\n",
       "    </tr>\n",
       "  </tbody>\n",
       "</table>\n",
       "<p>5358 rows × 5 columns</p>\n",
       "</div>"
      ]
     },
     "execution_count": 5,
     "metadata": {},
     "output_type": "execute_result"
    }
   ],
   "execution_count": 5
  },
  {
   "metadata": {
    "ExecuteTime": {
     "end_time": "2024-11-24T19:54:40.921637Z",
     "start_time": "2024-11-24T19:54:40.916207Z"
    }
   },
   "cell_type": "code",
   "source": [
    "def convert_int(s):\n",
    "    if s.isdigit():\n",
    "        return int(s)\n",
    "    else:\n",
    "        return s\n",
    "\n",
    "\n",
    "def alphanum_key(s):\n",
    "    return [convert_int(c) for c in re.split('([0-9]+)', s)]\n",
    "\n",
    "\n",
    "def sort_nicely(l):\n",
    "    l.sort(key=alphanum_key)"
   ],
   "id": "7b6dead576bbc310",
   "outputs": [],
   "execution_count": 6
  },
  {
   "metadata": {
    "ExecuteTime": {
     "end_time": "2024-11-24T20:25:03.453360Z",
     "start_time": "2024-11-24T20:24:50.420584Z"
    }
   },
   "cell_type": "code",
   "source": [
    "# 2 lists  to store the following\n",
    "# list of features (images)\n",
    "#{0: [[3, 1, 2, 2][4, 3, 2, 2]]}\n",
    "# list of labels (confused or not)\n",
    "#{0: 3}\n",
    "\n",
    "frame_count = []\n",
    "video_count = []\n",
    "# loop over the train and test and validation\n",
    "for ttv in dataset:\n",
    "    # print(ttv, os.path.exists('DataSet/'+ttv+'/'))\n",
    "    \n",
    "    if ttv != '.DS_Store' and os.path.exists('../../edusense/DAiSEE/DataSet/'+ttv+'/'):\n",
    "        # train, test, validation\n",
    "        count = 0\n",
    "        features_list = []\n",
    "        labels_list = []\n",
    "        \n",
    "        users = os.listdir('../../edusense/DAiSEE/DataSet/'+ttv+'/')\n",
    "        # print(users)\n",
    "        if ttv == 'Test':\n",
    "            all_clips = test_csv[['ClipID', 'Confusion']]\n",
    "            outfile_name = 'Test_crop.pkl'\n",
    "            # print(all_clips)\n",
    "        if ttv == 'Train':\n",
    "            all_clips = train_csv[['ClipID', 'Confusion']]\n",
    "            outfile_name = 'Train_crop.pkl'\n",
    "        if ttv == 'Validation':\n",
    "            all_clips = valid_csv[['ClipID', 'Confusion']]\n",
    "            outfile_name = 'Validation_crop.pkl'\n",
    "         \n",
    "\n",
    "        for user in tqdm(users):\n",
    "            if user != '.DS_Store':\n",
    "                cur_person_frameCount = 0\n",
    "                cur_person_videoCount = 0\n",
    "                # user is the folder, has 300 jpeg\n",
    "                # extract jpeg\n",
    "                currUser = os.listdir('../../edusense/DAiSEE/DataSet/'+ttv+'/'+user+'/')\n",
    "                # extract is still a folder (10s clip each folder)\n",
    "                for extract in currUser:\n",
    "                    \n",
    "                    if extract != '.DS_Store':\n",
    "                        content_list = os.listdir('../../edusense/DAiSEE/DataSet/'+ttv+'/'+user+'/'+extract+'/')           \n",
    "                        cur_person_videoCount += 1\n",
    "                        if pd.Series(content_list).isin(all_clips['ClipID']).any():\n",
    "                            confusion_val = all_clips.loc[all_clips['ClipID'].isin(content_list)].Confusion.to_list()[0]\n",
    "                            # remove video for below\n",
    "                            img_list = [c for c in content_list if c.endswith('.jpg')]\n",
    "                            sort_nicely(img_list)\n",
    "                            # if confusion_val == 0 or 1, skip every 30 (1s)\n",
    "                            # elif confusion_val == 2 or 3, skip every 3 (0.1s)\n",
    "                            # each video has 300 frames\n",
    "                            # print(len(img_list))\n",
    "                            if confusion_val == 0: #6000\n",
    "                                chosen = img_list[149] \n",
    "                            elif confusion_val == 1: #2200 * 1 = 2200\n",
    "                                chosen = img_list[149] \n",
    "                            # confused is every 60 frames\n",
    "                            elif confusion_val == 2: # 750videos * 5 = 3750, 300 total per video\n",
    "                                chosen = img_list[::60]\n",
    "                            elif confusion_val == 3: # 101 * 5 = 505\n",
    "                                chosen = img_list[::60]\n",
    "                            # chosen  = random.choice(img_list)\n",
    "                            cur_person_frameCount += len(img_list)\n",
    "                frame_count.append(cur_person_frameCount)\n",
    "                video_count.append(cur_person_videoCount)\n",
    "        #                         if item in chosen:\n",
    "        #                             count += 1\n",
    "        #                             img_path = os.path.abspath('.')+'/../DAiSEE/DataSet/'+ttv+'/'+user+'/'+extract+'/'+item\n",
    "        #                             img = cv2.imread(str(img_path))\n",
    "        #                             img_objs = detection.extract_faces(\n",
    "        #                                 img_path=img,\n",
    "        #                                 detector_backend='mtcnn',\n",
    "        #                                 grayscale=False,\n",
    "        #                                 enforce_detection=False\n",
    "        #                             )\n",
    "        #                             cv2.imwrite('placeholder.jpg', 255*img_objs[0]['face'])\n",
    "        #                             cropped_img = cv2.imread('placeholder.jpg')\n",
    "        #                             img_gray = cv2.cvtColor(cropped_img, cv2.COLOR_BGR2GRAY)\n",
    "        #                             img_gray = cv2.resize(img_gray, (64, 64))\n",
    "        #                             \n",
    "        #                             # img is 3d array (w, h, 1), label is confusion_val\n",
    "        #                             features_list.append(img_gray)\n",
    "        #                             # if confusion_val is 0 or 1, then = 0\n",
    "        #                             if confusion_val == 0 or confusion_val == 1:\n",
    "        #                                 labels_list.append(0)\n",
    "        #                             # # elif confusion_val is 2 or 3, then = 1 and 2\n",
    "        #                             elif confusion_val == 2 or confusion_val == 3:\n",
    "        #                                 labels_list.append(1)\n",
    "        #                             # labels_list.append(confusion_val)\n",
    "        # \n",
    "        # with open(outfile_name, 'wb') as f:\n",
    "        #     pickle.dump([features_list, labels_list], f)\n",
    "        #                                 \n",
    "                        # clip = os.listdir('DataSet/'+ttv+'/'+user+'/'+extract+'/')[0]\n",
    "                        # print (clip[:-4])\n",
    "                        # path = os.path.abspath('.')+'/DataSet/'+ttv+'/'+user+'/'+extract+'/'\n",
    "                        # split_video(clip, clip[:-4], path)\n",
    "        # print(ttv, count)\n",
    "# print (\"================================================================================\\n\")\n",
    "# print (\"Frame Extraction Successful\")"
   ],
   "id": "4d6c26a12c6a3a53",
   "outputs": [
    {
     "name": "stderr",
     "output_type": "stream",
     "text": [
      "100%|██████████| 22/22 [00:02<00:00,  8.87it/s]\n",
      "100%|██████████| 71/71 [00:08<00:00,  8.53it/s]\n",
      "100%|██████████| 23/23 [00:02<00:00, 10.41it/s]\n"
     ]
    }
   ],
   "execution_count": 28
  },
  {
   "metadata": {
    "ExecuteTime": {
     "end_time": "2024-11-24T20:22:44.992844Z",
     "start_time": "2024-11-24T20:22:44.982670Z"
    }
   },
   "cell_type": "code",
   "source": "[frame_count[int(j)] for j in range(len(frame_count))]",
   "id": "65a23314bdada669",
   "outputs": [
    {
     "data": {
      "text/plain": [
       "[2803222,\n",
       " 7603272,\n",
       " 542404,\n",
       " 11226112,\n",
       " 362404,\n",
       " 7514474,\n",
       " 10139501,\n",
       " 8871686,\n",
       " 11045509,\n",
       " 11403706,\n",
       " 6064858,\n",
       " 7333272,\n",
       " 7605678,\n",
       " 10135893,\n",
       " 7603873,\n",
       " 8712390,\n",
       " 7603272,\n",
       " 10776110,\n",
       " 5253417,\n",
       " 7964474,\n",
       " 11676110,\n",
       " 3060000,\n",
       " 1260000,\n",
       " 2790000,\n",
       " 7470000,\n",
       " 8370000,\n",
       " 3690000,\n",
       " 4770000,\n",
       " 7470000,\n",
       " 2610000,\n",
       " 10260000,\n",
       " 7830000,\n",
       " 6120000,\n",
       " 10440000,\n",
       " 7470000,\n",
       " 3870000,\n",
       " 4950000,\n",
       " 810000,\n",
       " 8550000,\n",
       " 9720000,\n",
       " 7740000,\n",
       " 6930000,\n",
       " 4770000,\n",
       " 8836788,\n",
       " 6300000,\n",
       " 8541000,\n",
       " 9990000,\n",
       " 10883521,\n",
       " 6750000,\n",
       " 2790000,\n",
       " 11430000,\n",
       " 7020000,\n",
       " 8010000,\n",
       " 90000,\n",
       " 12780000,\n",
       " 810000,\n",
       " 10260000,\n",
       " 7110000,\n",
       " 8010000,\n",
       " 270000,\n",
       " 9630000,\n",
       " 4140000,\n",
       " 10170000,\n",
       " 10170000,\n",
       " 9810000,\n",
       " 4140000,\n",
       " 1710000,\n",
       " 9990000,\n",
       " 4050000,\n",
       " 10620000,\n",
       " 8730000,\n",
       " 7920000,\n",
       " 3420000,\n",
       " 10080000,\n",
       " 7020000,\n",
       " 6030000,\n",
       " 7830000,\n",
       " 7650000,\n",
       " 2610000,\n",
       " 8100000,\n",
       " 8910000,\n",
       " 10080000,\n",
       " 10890000,\n",
       " 720000,\n",
       " 9810000,\n",
       " 8010000,\n",
       " 7200000,\n",
       " 0,\n",
       " 11070000,\n",
       " 11160000,\n",
       " 10620000,\n",
       " 9720000,\n",
       " 0,\n",
       " 5580000,\n",
       " 3150000,\n",
       " 6120000,\n",
       " 4860000,\n",
       " 10080000,\n",
       " 5400000,\n",
       " 6120000,\n",
       " 9720000,\n",
       " 9450000,\n",
       " 2610000,\n",
       " 10620000,\n",
       " 0,\n",
       " 0,\n",
       " 6660000,\n",
       " 8010000,\n",
       " 7650000,\n",
       " 7200000,\n",
       " 5940000,\n",
       " 1170000,\n",
       " 8550000]"
      ]
     },
     "execution_count": 23,
     "metadata": {},
     "output_type": "execute_result"
    }
   ],
   "execution_count": 23
  },
  {
   "metadata": {
    "ExecuteTime": {
     "end_time": "2024-11-24T20:22:45.791885Z",
     "start_time": "2024-11-24T20:22:45.789344Z"
    }
   },
   "cell_type": "code",
   "source": "119*300",
   "id": "927864a6591da489",
   "outputs": [
    {
     "data": {
      "text/plain": [
       "35700"
      ]
     },
     "execution_count": 24,
     "metadata": {},
     "output_type": "execute_result"
    }
   ],
   "execution_count": 24
  },
  {
   "metadata": {
    "ExecuteTime": {
     "end_time": "2024-11-24T20:22:46.482124Z",
     "start_time": "2024-11-24T20:22:46.479311Z"
    }
   },
   "cell_type": "code",
   "source": "frame_count[0]",
   "id": "67ab22d5acc383b3",
   "outputs": [
    {
     "data": {
      "text/plain": [
       "2803222"
      ]
     },
     "execution_count": 25,
     "metadata": {},
     "output_type": "execute_result"
    }
   ],
   "execution_count": 25
  },
  {
   "metadata": {
    "ExecuteTime": {
     "end_time": "2024-11-24T20:25:03.457768Z",
     "start_time": "2024-11-24T20:25:03.454743Z"
    }
   },
   "cell_type": "code",
   "source": "len(frame_count), video_count[0], frame_count[0]",
   "id": "45ea750dbcc6ad9f",
   "outputs": [
    {
     "data": {
      "text/plain": [
       "(113, 31, 9322)"
      ]
     },
     "execution_count": 29,
     "metadata": {},
     "output_type": "execute_result"
    }
   ],
   "execution_count": 29
  },
  {
   "metadata": {
    "ExecuteTime": {
     "end_time": "2024-11-24T20:25:46.786094Z",
     "start_time": "2024-11-24T20:25:46.778027Z"
    }
   },
   "cell_type": "code",
   "source": "np.min(frame_count), np.max(frame_count), np.median(frame_count)",
   "id": "ea533ea27141af9b",
   "outputs": [
    {
     "data": {
      "text/plain": [
       "(0, 42600, 25272.0)"
      ]
     },
     "execution_count": 31,
     "metadata": {},
     "output_type": "execute_result"
    }
   ],
   "execution_count": 31
  },
  {
   "metadata": {
    "ExecuteTime": {
     "end_time": "2024-11-24T20:26:52.679166Z",
     "start_time": "2024-11-24T20:26:52.670009Z"
    }
   },
   "cell_type": "code",
   "source": "np.min(video_count), np.max(video_count), np.median(video_count)",
   "id": "22196db257813781",
   "outputs": [
    {
     "data": {
      "text/plain": [
       "(1, 142, 85.0)"
      ]
     },
     "execution_count": 32,
     "metadata": {},
     "output_type": "execute_result"
    }
   ],
   "execution_count": 32
  },
  {
   "metadata": {
    "ExecuteTime": {
     "end_time": "2024-11-24T20:53:27.024510Z",
     "start_time": "2024-11-24T20:53:27.018487Z"
    }
   },
   "cell_type": "code",
   "source": "np.percentile(video_count, [10, 90])",
   "id": "268984c89f112cba",
   "outputs": [
    {
     "data": {
      "text/plain": [
       "array([ 29.4, 118. ])"
      ]
     },
     "execution_count": 35,
     "metadata": {},
     "output_type": "execute_result"
    }
   ],
   "execution_count": 35
  },
  {
   "metadata": {},
   "cell_type": "code",
   "outputs": [
    {
     "name": "stderr",
     "output_type": "stream",
     "text": [
      "100%|██████████| 22/22 [00:06<00:00,  3.61it/s]\n",
      "100%|██████████| 71/71 [00:19<00:00,  3.58it/s]\n",
      "100%|██████████| 22/22 [00:05<00:00,  4.27it/s]\n"
     ]
    }
   ],
   "execution_count": 8,
   "source": [
    "# 2 lists  to store the following\n",
    "# list of features (images)\n",
    "#{0: [[3, 1, 2, 2][4, 3, 2, 2]]}\n",
    "# list of labels (confused or not)\n",
    "#{0: 3}\n",
    "\n",
    "\n",
    "# loop over the train and test and validation\n",
    "for ttv in dataset:\n",
    "    # print(ttv, os.path.exists('DataSet/'+ttv+'/'))\n",
    "    \n",
    "    if ttv != '.DS_Store' and os.path.exists('../DAiSEE/DataSet/'+ttv+'/'):\n",
    "        # train, test, validation\n",
    "        count = 0\n",
    "        features_list = []\n",
    "        labels_list = []\n",
    "        \n",
    "        users = os.listdir('../DAiSEE/DataSet/'+ttv+'/')\n",
    "        # print(users)\n",
    "        if ttv == 'Test':\n",
    "            all_clips = test_csv[['ClipID', 'Confusion']]\n",
    "            outfile_name = 'Test.pkl'\n",
    "            # print(all_clips)\n",
    "        if ttv == 'Train':\n",
    "            all_clips = train_csv[['ClipID', 'Confusion']]\n",
    "            outfile_name = 'Train.pkl'\n",
    "        if ttv == 'Validation':\n",
    "            all_clips = valid_csv[['ClipID', 'Confusion']]\n",
    "            outfile_name = 'Validation.pkl'\n",
    "            \n",
    "        for user in tqdm(users):\n",
    "            if user != '.DS_Store':\n",
    "                # user is the folder, has 300 jpeg\n",
    "                # extract jpeg\n",
    "                currUser = os.listdir('../DAiSEE/DataSet/'+ttv+'/'+user+'/')\n",
    "                \n",
    "                # extract is still a folder (10s clip each folder)\n",
    "                for extract in currUser:\n",
    "                    \n",
    "                    if extract != '.DS_Store':\n",
    "                        content_list = os.listdir('../DAiSEE/DataSet/'+ttv+'/'+user+'/'+extract+'/')\n",
    "                                        \n",
    "                        if pd.Series(content_list).isin(all_clips['ClipID']).any():\n",
    "                            confusion_val = all_clips.loc[all_clips['ClipID'].isin(content_list)].Confusion.to_list()[0]\n",
    "                            # remove video for below\n",
    "                            img_list = [c for c in content_list if c.endswith('.jpg')]\n",
    "                            sort_nicely(img_list)\n",
    "                            # if confusion_val == 0 or 1, skip every 30 (1s)\n",
    "                            # elif confusion_val == 2 or 3, skip every 3 (0.1s)\n",
    "                            if confusion_val == 0: #6000\n",
    "                                chosen = img_list[149] \n",
    "                            elif confusion_val == 1: #2200 * 1 = 2200\n",
    "                                chosen = img_list[149] \n",
    "                            elif confusion_val == 2: # 750 * 11 = 8250\n",
    "                                chosen = img_list[::27]\n",
    "                            elif confusion_val == 3: # 101 * 80 = 8080\n",
    "                                chosen = img_list[::4]\n",
    "                            # chosen  = random.choice(img_list)\n",
    "                            for item in img_list: \n",
    "                                \n",
    "                                if item in chosen:\n",
    "                                    count += 1\n",
    "                                    img_path = os.path.abspath('.')+'/../DAiSEE/DataSet/'+ttv+'/'+user+'/'+extract+'/'+item\n",
    "                                    img = cv2.imread(str(img_path))\n",
    "                                    img_gray = cv2.cvtColor(img, cv2.COLOR_BGR2GRAY)\n",
    "                                    img_gray = cv2.resize(img_gray, (128, 128))\n",
    "                                    \n",
    "                                    # img is 3d array (w, h, 1), label is confusion_val\n",
    "                                    features_list.append(img_gray)\n",
    "                                    # if confusion_val is 0 or 1, then = 0\n",
    "                                    if confusion_val == 0 or confusion_val == 1:\n",
    "                                        labels_list.append(0)\n",
    "                                    # # elif confusion_val is 2 or 3, then = 1 and 2\n",
    "                                    elif confusion_val == 2 or confusion_val == 3:\n",
    "                                        labels_list.append(confusion_val-1)\n",
    "                                    # labels_list.append(confusion_val)\n",
    "        \n",
    "        with open(outfile_name, 'wb') as f:\n",
    "            pickle.dump([features_list, labels_list], f)\n",
    "                                        \n",
    "                        # clip = os.listdir('DataSet/'+ttv+'/'+user+'/'+extract+'/')[0]\n",
    "                        # print (clip[:-4])\n",
    "                        # path = os.path.abspath('.')+'/DataSet/'+ttv+'/'+user+'/'+extract+'/'\n",
    "                        # split_video(clip, clip[:-4], path)\n",
    "        # print(ttv, count)\n",
    "# print (\"================================================================================\\n\")\n",
    "# print (\"Frame Extraction Successful\")"
   ],
   "id": "687b11f09deb167a"
  },
  {
   "metadata": {
    "ExecuteTime": {
     "end_time": "2024-05-20T00:40:55.501524Z",
     "start_time": "2024-05-20T00:40:55.498260Z"
    }
   },
   "cell_type": "code",
   "source": "",
   "id": "15d430c0574ef615",
   "outputs": [],
   "execution_count": 6
  },
  {
   "metadata": {
    "ExecuteTime": {
     "end_time": "2024-05-20T00:40:55.524891Z",
     "start_time": "2024-05-20T00:40:55.504167Z"
    }
   },
   "cell_type": "code",
   "source": "",
   "id": "7307651b9ba5dd4f",
   "outputs": [],
   "execution_count": 6
  },
  {
   "metadata": {
    "ExecuteTime": {
     "end_time": "2024-05-20T00:40:55.549119Z",
     "start_time": "2024-05-20T00:40:55.542128Z"
    }
   },
   "cell_type": "code",
   "source": "",
   "id": "470dc22ee577ae4e",
   "outputs": [],
   "execution_count": 6
  }
 ],
 "metadata": {
  "kernelspec": {
   "display_name": "Python 3",
   "language": "python",
   "name": "python3"
  },
  "language_info": {
   "codemirror_mode": {
    "name": "ipython",
    "version": 2
   },
   "file_extension": ".py",
   "mimetype": "text/x-python",
   "name": "python",
   "nbconvert_exporter": "python",
   "pygments_lexer": "ipython2",
   "version": "2.7.6"
  }
 },
 "nbformat": 4,
 "nbformat_minor": 5
}
