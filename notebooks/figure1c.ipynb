{
 "cells": [
  {
   "cell_type": "code",
   "id": "initial_id",
   "metadata": {
    "collapsed": true,
    "ExecuteTime": {
     "end_time": "2024-06-11T04:13:33.584685Z",
     "start_time": "2024-06-11T04:13:29.359782Z"
    }
   },
   "source": [
    "\n",
    "import pickle \n",
    "import numpy as np\n",
    "import cv2\n",
    "import matplotlib.pyplot as plt\n",
    "import pandas as pd\n",
    "import seaborn as sns\n",
    "from tensorflow.keras.utils import to_categorical\n"
   ],
   "outputs": [],
   "execution_count": 1
  },
  {
   "metadata": {},
   "cell_type": "markdown",
   "source": "Consruct emotion model, download and load weights (Emotion.py in Deepface)",
   "id": "6edb197c5376cae4"
  },
  {
   "metadata": {
    "ExecuteTime": {
     "end_time": "2024-06-11T04:14:27.028310Z",
     "start_time": "2024-06-11T04:14:26.974251Z"
    }
   },
   "cell_type": "code",
   "source": [
    "# load pickle file\n",
    "files = ['Train_crop.pkl', 'Test_crop.pkl', 'Validation_crop.pkl', \n",
    "         ]\n",
    "# files = ['Eastern_Asian_Dataset.pkl']\n",
    "x_train_list_indian = []\n",
    "y_train_list_indian = [] \n",
    "for file in files:\n",
    "    with open(file, 'rb') as f:\n",
    "        features, labels = pickle.load(f)\n",
    "    \n",
    "    for pic, label in zip(features, labels):\n",
    "        # plt.imshow(img_gray, cmap='binary_r')\n",
    "        x_train_list_indian.append(pic)\n",
    "        y_train_list_indian.append(label)"
   ],
   "id": "e17f08f80723644",
   "outputs": [],
   "execution_count": 2
  },
  {
   "metadata": {
    "ExecuteTime": {
     "end_time": "2024-06-11T04:15:21.517718Z",
     "start_time": "2024-06-11T04:15:21.471274Z"
    }
   },
   "cell_type": "code",
   "source": [
    "# load pickle file\n",
    "files = ['Polish_Dataset.pkl' \n",
    "         ]\n",
    "# files = ['Eastern_Asian_Dataset.pkl']\n",
    "x_train_list_polish = []\n",
    "y_train_list_polish = [] \n",
    "for file in files:\n",
    "    with open(file, 'rb') as f:\n",
    "        features, labels = pickle.load(f)\n",
    "    \n",
    "    for pic, label in zip(features, labels):\n",
    "        # plt.imshow(img_gray, cmap='binary_r')\n",
    "        x_train_list_polish.append(pic)\n",
    "        y_train_list_polish.append(label)"
   ],
   "id": "c6c6d4ea6fb38a75",
   "outputs": [],
   "execution_count": 3
  },
  {
   "metadata": {
    "ExecuteTime": {
     "end_time": "2024-06-11T04:16:10.131508Z",
     "start_time": "2024-06-11T04:16:10.102725Z"
    }
   },
   "cell_type": "code",
   "source": [
    "# load pickle file\n",
    "files = ['Eastern_Asian_Dataset.pkl', 'Eastern_Asian2_Dataset.pkl' \n",
    "         ]\n",
    "# files = ['Eastern_Asian_Dataset.pkl']\n",
    "x_train_list_EA = []\n",
    "y_train_list_EA = [] \n",
    "for file in files:\n",
    "    with open(file, 'rb') as f:\n",
    "        features, labels = pickle.load(f)\n",
    "    \n",
    "    for pic, label in zip(features, labels):\n",
    "        # plt.imshow(img_gray, cmap='binary_r')\n",
    "        x_train_list_EA.append(pic)\n",
    "        y_train_list_EA.append(label)"
   ],
   "id": "5092fe1f0e294ee8",
   "outputs": [],
   "execution_count": 4
  },
  {
   "metadata": {
    "ExecuteTime": {
     "end_time": "2024-06-11T04:16:33.743709Z",
     "start_time": "2024-06-11T04:16:33.740210Z"
    }
   },
   "cell_type": "code",
   "source": "label_names = ['Not Confused', 'Confused']",
   "id": "70582827b487527d",
   "outputs": [],
   "execution_count": 5
  },
  {
   "metadata": {
    "ExecuteTime": {
     "end_time": "2024-06-11T04:23:27.196563Z",
     "start_time": "2024-06-11T04:23:27.179555Z"
    }
   },
   "cell_type": "code",
   "source": [
    "data_dict = {'Dataset': np.hstack([np.repeat('DAiSEE', len(y_train_list_indian)),\n",
    "                         np.repeat('DevEmo', len(y_train_list_polish)),\n",
    "                         np.repeat('EasternAsian', len(y_train_list_EA))\n",
    "                         ]), \n",
    "             'Label': np.hstack([y_train_list_indian, y_train_list_polish, y_train_list_EA])\n",
    "             }\n",
    "df = pd.DataFrame(data_dict)"
   ],
   "id": "1eb655dc640815f3",
   "outputs": [],
   "execution_count": 6
  },
  {
   "metadata": {
    "ExecuteTime": {
     "end_time": "2024-06-11T04:23:33.877457Z",
     "start_time": "2024-06-11T04:23:33.868591Z"
    }
   },
   "cell_type": "code",
   "source": "df",
   "id": "1e0ff5ae778c96b3",
   "outputs": [
    {
     "data": {
      "text/plain": [
       "            Dataset  Label\n",
       "0            DAiSEE      0\n",
       "1            DAiSEE      0\n",
       "2            DAiSEE      0\n",
       "3            DAiSEE      0\n",
       "4            DAiSEE      0\n",
       "...             ...    ...\n",
       "26824  EasternAsian      1\n",
       "26825  EasternAsian      1\n",
       "26826  EasternAsian      1\n",
       "26827  EasternAsian      1\n",
       "26828  EasternAsian      1\n",
       "\n",
       "[26829 rows x 2 columns]"
      ],
      "text/html": [
       "<div>\n",
       "<style scoped>\n",
       "    .dataframe tbody tr th:only-of-type {\n",
       "        vertical-align: middle;\n",
       "    }\n",
       "\n",
       "    .dataframe tbody tr th {\n",
       "        vertical-align: top;\n",
       "    }\n",
       "\n",
       "    .dataframe thead th {\n",
       "        text-align: right;\n",
       "    }\n",
       "</style>\n",
       "<table border=\"1\" class=\"dataframe\">\n",
       "  <thead>\n",
       "    <tr style=\"text-align: right;\">\n",
       "      <th></th>\n",
       "      <th>Dataset</th>\n",
       "      <th>Label</th>\n",
       "    </tr>\n",
       "  </thead>\n",
       "  <tbody>\n",
       "    <tr>\n",
       "      <th>0</th>\n",
       "      <td>DAiSEE</td>\n",
       "      <td>0</td>\n",
       "    </tr>\n",
       "    <tr>\n",
       "      <th>1</th>\n",
       "      <td>DAiSEE</td>\n",
       "      <td>0</td>\n",
       "    </tr>\n",
       "    <tr>\n",
       "      <th>2</th>\n",
       "      <td>DAiSEE</td>\n",
       "      <td>0</td>\n",
       "    </tr>\n",
       "    <tr>\n",
       "      <th>3</th>\n",
       "      <td>DAiSEE</td>\n",
       "      <td>0</td>\n",
       "    </tr>\n",
       "    <tr>\n",
       "      <th>4</th>\n",
       "      <td>DAiSEE</td>\n",
       "      <td>0</td>\n",
       "    </tr>\n",
       "    <tr>\n",
       "      <th>...</th>\n",
       "      <td>...</td>\n",
       "      <td>...</td>\n",
       "    </tr>\n",
       "    <tr>\n",
       "      <th>26824</th>\n",
       "      <td>EasternAsian</td>\n",
       "      <td>1</td>\n",
       "    </tr>\n",
       "    <tr>\n",
       "      <th>26825</th>\n",
       "      <td>EasternAsian</td>\n",
       "      <td>1</td>\n",
       "    </tr>\n",
       "    <tr>\n",
       "      <th>26826</th>\n",
       "      <td>EasternAsian</td>\n",
       "      <td>1</td>\n",
       "    </tr>\n",
       "    <tr>\n",
       "      <th>26827</th>\n",
       "      <td>EasternAsian</td>\n",
       "      <td>1</td>\n",
       "    </tr>\n",
       "    <tr>\n",
       "      <th>26828</th>\n",
       "      <td>EasternAsian</td>\n",
       "      <td>1</td>\n",
       "    </tr>\n",
       "  </tbody>\n",
       "</table>\n",
       "<p>26829 rows × 2 columns</p>\n",
       "</div>"
      ]
     },
     "execution_count": 8,
     "metadata": {},
     "output_type": "execute_result"
    }
   ],
   "execution_count": 8
  },
  {
   "metadata": {
    "ExecuteTime": {
     "end_time": "2024-06-11T04:47:06.299446Z",
     "start_time": "2024-06-11T04:47:06.133108Z"
    }
   },
   "cell_type": "code",
   "source": [
    "dataset_names = df.Dataset.unique()\n",
    "fig, ax = plt.subplots(1, 1, figsize=(6, 4))\n",
    "ax = sns.countplot(data=df, \n",
    "                   x='Dataset', \n",
    "                   hue='Label', \n",
    "                   palette=['#599CB4', '#C25759'],\n",
    "                   edgecolor='k',\n",
    "                   width=0.8)\n",
    "\n",
    "ax.set_xticks(np.arange(len(dataset_names)))\n",
    "ax.set_xticklabels(dataset_names) \n",
    "ax.set_xlabel('')\n",
    "ax.legend(['Not Confused', 'Confused'])\n",
    "ax.set_ylabel('Image Count')\n",
    "ax.spines[['top', 'right']].set_visible(False)\n",
    "fig.savefig('all_dataset_counts.svg', bbox_inches = 'tight', dpi=300)"
   ],
   "id": "7257dd4d42d026ac",
   "outputs": [
    {
     "data": {
      "text/plain": [
       "<Figure size 600x400 with 1 Axes>"
      ],
      "image/png": "[encoded data removed]"
     },
     "metadata": {},
     "output_type": "display_data"
    }
   ],
   "execution_count": 22
  },
  {
   "metadata": {},
   "cell_type": "code",
   "outputs": [],
   "execution_count": null,
   "source": "",
   "id": "10f06d7c9933dfde"
  },
  {
   "metadata": {},
   "cell_type": "code",
   "outputs": [],
   "execution_count": null,
   "source": "",
   "id": "3b3e0fa677f04ac4"
  },
  {
   "metadata": {},
   "cell_type": "code",
   "outputs": [],
   "execution_count": null,
   "source": "",
   "id": "55c400b5ad7bac46"
  },
  {
   "metadata": {},
   "cell_type": "code",
   "outputs": [],
   "execution_count": null,
   "source": "",
   "id": "f5ca2427eb66d7ac"
  },
  {
   "metadata": {},
   "cell_type": "code",
   "outputs": [],
   "execution_count": null,
   "source": "",
   "id": "1b2210fbd58724bb"
  },
  {
   "metadata": {},
   "cell_type": "code",
   "outputs": [],
   "execution_count": null,
   "source": "",
   "id": "c24bc383029e21d8"
  },
  {
   "metadata": {
    "ExecuteTime": {
     "end_time": "2024-06-03T01:41:14.512751Z",
     "start_time": "2024-06-03T01:41:14.411837Z"
    }
   },
   "cell_type": "code",
   "source": [
    "x_train, x_test, y_train, y_test = train_test_split(X_train, Y_train, test_size=0.2, random_state=42)\n",
    "# x_train, x_valid, y_train, y_valid = train_test_split(x_train, y_train, test_size=0.25, random_state=42)\n",
    "x_train.shape, x_test.shape"
   ],
   "id": "9fd940ed6896bdca",
   "outputs": [
    {
     "data": {
      "text/plain": [
       "((21463, 64, 64, 1), (5366, 64, 64, 1))"
      ]
     },
     "execution_count": 17,
     "metadata": {},
     "output_type": "execute_result"
    }
   ],
   "execution_count": 17
  },
  {
   "metadata": {
    "ExecuteTime": {
     "end_time": "2024-06-03T03:24:44.643351Z",
     "start_time": "2024-06-03T01:41:15.295725Z"
    }
   },
   "cell_type": "code",
   "source": "model.fit(x_train, y_train, epochs=200)",
   "id": "997b1f22bfb304b3",
   "outputs": [
    {
     "name": "stderr",
     "output_type": "stream",
     "text": [
      "2024-06-02 21:41:15.593251: W tensorflow/core/platform/profile_utils/cpu_utils.cc:128] Failed to get CPU frequency: 0 Hz\n"
     ]
    },
    {
     "name": "stdout",
     "output_type": "stream",
     "text": [
      "Epoch 1/200\n"
     ]
    },
    {
     "name": "stderr",
     "output_type": "stream",
     "text": [
      "2024-06-02 21:41:16.052045: I tensorflow/core/grappler/optimizers/custom_graph_optimizer_registry.cc:112] Plugin optimizer for device_type GPU is enabled.\n"
     ]
    },
    {
     "name": "stdout",
     "output_type": "stream",
     "text": [
      "671/671 [==============================] - 27s 39ms/step - loss: 0.8863 - accuracy: 0.6750\n",
      "Epoch 2/200\n",
      "671/671 [==============================] - 24s 36ms/step - loss: 0.5085 - accuracy: 0.7341\n",
      "Epoch 3/200\n",
      "671/671 [==============================] - 24s 35ms/step - loss: 0.4640 - accuracy: 0.7711\n",
      "Epoch 4/200\n",
      "671/671 [==============================] - 23s 35ms/step - loss: 0.4375 - accuracy: 0.7882\n",
      "Epoch 5/200\n",
      "671/671 [==============================] - 25s 37ms/step - loss: 0.4160 - accuracy: 0.8017\n",
      "Epoch 6/200\n",
      "671/671 [==============================] - 25s 37ms/step - loss: 0.4068 - accuracy: 0.8106\n",
      "Epoch 7/200\n",
      "671/671 [==============================] - 25s 37ms/step - loss: 0.3856 - accuracy: 0.8151\n",
      "Epoch 8/200\n",
      "671/671 [==============================] - 25s 37ms/step - loss: 0.3658 - accuracy: 0.8292\n",
      "Epoch 9/200\n",
      "671/671 [==============================] - 25s 37ms/step - loss: 0.3466 - accuracy: 0.8389\n",
      "Epoch 10/200\n",
      "671/671 [==============================] - 25s 38ms/step - loss: 0.3406 - accuracy: 0.8401\n",
      "Epoch 11/200\n",
      "671/671 [==============================] - 24s 35ms/step - loss: 0.3367 - accuracy: 0.8406\n",
      "Epoch 12/200\n",
      "671/671 [==============================] - 23s 34ms/step - loss: 0.3276 - accuracy: 0.8487\n",
      "Epoch 13/200\n",
      "671/671 [==============================] - 23s 35ms/step - loss: 0.3197 - accuracy: 0.8505\n",
      "Epoch 14/200\n",
      "671/671 [==============================] - 24s 35ms/step - loss: 0.3146 - accuracy: 0.8529\n",
      "Epoch 15/200\n",
      "671/671 [==============================] - 24s 36ms/step - loss: 0.3073 - accuracy: 0.8574\n",
      "Epoch 16/200\n",
      "671/671 [==============================] - 25s 38ms/step - loss: 0.3049 - accuracy: 0.8593\n",
      "Epoch 17/200\n",
      "671/671 [==============================] - 24s 36ms/step - loss: 0.2951 - accuracy: 0.8610\n",
      "Epoch 18/200\n",
      "671/671 [==============================] - 24s 35ms/step - loss: 0.2913 - accuracy: 0.8638\n",
      "Epoch 19/200\n",
      "671/671 [==============================] - 24s 35ms/step - loss: 0.2805 - accuracy: 0.8701\n",
      "Epoch 20/200\n",
      "671/671 [==============================] - 24s 35ms/step - loss: 0.2803 - accuracy: 0.8720\n",
      "Epoch 21/200\n",
      "671/671 [==============================] - 24s 36ms/step - loss: 0.2712 - accuracy: 0.8740\n",
      "Epoch 22/200\n",
      "671/671 [==============================] - 25s 37ms/step - loss: 0.2734 - accuracy: 0.8763\n",
      "Epoch 23/200\n",
      "671/671 [==============================] - 26s 39ms/step - loss: 0.2625 - accuracy: 0.8796\n",
      "Epoch 24/200\n",
      "671/671 [==============================] - 26s 39ms/step - loss: 0.2613 - accuracy: 0.8801\n",
      "Epoch 25/200\n",
      "671/671 [==============================] - 26s 39ms/step - loss: 0.2533 - accuracy: 0.8834\n",
      "Epoch 26/200\n",
      "671/671 [==============================] - 26s 39ms/step - loss: 0.2573 - accuracy: 0.8833\n",
      "Epoch 27/200\n",
      "671/671 [==============================] - 26s 39ms/step - loss: 0.2489 - accuracy: 0.8876\n",
      "Epoch 28/200\n",
      "671/671 [==============================] - 26s 39ms/step - loss: 0.2486 - accuracy: 0.8876\n",
      "Epoch 29/200\n",
      "671/671 [==============================] - 26s 39ms/step - loss: 0.2450 - accuracy: 0.8897\n",
      "Epoch 30/200\n",
      "671/671 [==============================] - 26s 39ms/step - loss: 0.2308 - accuracy: 0.8924\n",
      "Epoch 31/200\n",
      "671/671 [==============================] - 26s 39ms/step - loss: 0.2388 - accuracy: 0.8882\n",
      "Epoch 32/200\n",
      "671/671 [==============================] - 26s 39ms/step - loss: 0.2292 - accuracy: 0.8949\n",
      "Epoch 33/200\n",
      "671/671 [==============================] - 26s 39ms/step - loss: 0.2248 - accuracy: 0.8971\n",
      "Epoch 34/200\n",
      "671/671 [==============================] - 27s 40ms/step - loss: 0.2238 - accuracy: 0.8977\n",
      "Epoch 35/200\n",
      "671/671 [==============================] - 26s 39ms/step - loss: 0.2246 - accuracy: 0.8978\n",
      "Epoch 36/200\n",
      "671/671 [==============================] - 25s 38ms/step - loss: 0.2194 - accuracy: 0.9010\n",
      "Epoch 37/200\n",
      "671/671 [==============================] - 25s 37ms/step - loss: 0.2170 - accuracy: 0.9009\n",
      "Epoch 38/200\n",
      "671/671 [==============================] - 25s 38ms/step - loss: 0.2117 - accuracy: 0.9030\n",
      "Epoch 39/200\n",
      "671/671 [==============================] - 25s 38ms/step - loss: 0.2049 - accuracy: 0.9089\n",
      "Epoch 40/200\n",
      "671/671 [==============================] - 25s 38ms/step - loss: 0.2098 - accuracy: 0.9054\n",
      "Epoch 41/200\n",
      "671/671 [==============================] - 25s 38ms/step - loss: 0.1995 - accuracy: 0.9084\n",
      "Epoch 42/200\n",
      "671/671 [==============================] - 25s 37ms/step - loss: 0.2026 - accuracy: 0.9085\n",
      "Epoch 43/200\n",
      "671/671 [==============================] - 25s 37ms/step - loss: 0.2035 - accuracy: 0.9081\n",
      "Epoch 44/200\n",
      "671/671 [==============================] - 25s 37ms/step - loss: 0.1969 - accuracy: 0.9114\n",
      "Epoch 45/200\n",
      "671/671 [==============================] - 25s 37ms/step - loss: 0.1886 - accuracy: 0.9141\n",
      "Epoch 46/200\n",
      "671/671 [==============================] - 25s 37ms/step - loss: 0.1961 - accuracy: 0.9129\n",
      "Epoch 47/200\n",
      "671/671 [==============================] - 25s 37ms/step - loss: 0.1872 - accuracy: 0.9169\n",
      "Epoch 48/200\n",
      "671/671 [==============================] - 26s 38ms/step - loss: 0.1826 - accuracy: 0.9191\n",
      "Epoch 49/200\n",
      "671/671 [==============================] - 30s 44ms/step - loss: 0.1842 - accuracy: 0.9203\n",
      "Epoch 50/200\n",
      "671/671 [==============================] - 25s 38ms/step - loss: 0.1834 - accuracy: 0.9186\n",
      "Epoch 51/200\n",
      "671/671 [==============================] - 24s 36ms/step - loss: 0.1797 - accuracy: 0.9211\n",
      "Epoch 52/200\n",
      "671/671 [==============================] - 24s 35ms/step - loss: 0.1832 - accuracy: 0.9178\n",
      "Epoch 53/200\n",
      "671/671 [==============================] - 23s 35ms/step - loss: 0.1793 - accuracy: 0.9212\n",
      "Epoch 54/200\n",
      "671/671 [==============================] - 24s 35ms/step - loss: 0.1714 - accuracy: 0.9250\n",
      "Epoch 55/200\n",
      "671/671 [==============================] - 24s 35ms/step - loss: 0.1735 - accuracy: 0.9232\n",
      "Epoch 56/200\n",
      "671/671 [==============================] - 24s 36ms/step - loss: 0.1665 - accuracy: 0.9268\n",
      "Epoch 57/200\n",
      "671/671 [==============================] - 24s 36ms/step - loss: 0.1711 - accuracy: 0.9254\n",
      "Epoch 58/200\n",
      "671/671 [==============================] - 27s 40ms/step - loss: 0.1756 - accuracy: 0.9236\n",
      "Epoch 59/200\n",
      "671/671 [==============================] - 26s 39ms/step - loss: 0.1615 - accuracy: 0.9290\n",
      "Epoch 60/200\n",
      "671/671 [==============================] - 27s 40ms/step - loss: 0.1670 - accuracy: 0.9276\n",
      "Epoch 61/200\n",
      "671/671 [==============================] - 27s 40ms/step - loss: 0.1649 - accuracy: 0.9301\n",
      "Epoch 62/200\n",
      "671/671 [==============================] - 26s 39ms/step - loss: 0.1636 - accuracy: 0.9298\n",
      "Epoch 63/200\n",
      "671/671 [==============================] - 25s 38ms/step - loss: 0.1510 - accuracy: 0.9339\n",
      "Epoch 64/200\n",
      "671/671 [==============================] - 25s 37ms/step - loss: 0.1534 - accuracy: 0.9323\n",
      "Epoch 65/200\n",
      "671/671 [==============================] - 25s 37ms/step - loss: 0.1453 - accuracy: 0.9373\n",
      "Epoch 66/200\n",
      "671/671 [==============================] - 25s 37ms/step - loss: 0.1486 - accuracy: 0.9360\n",
      "Epoch 67/200\n",
      "671/671 [==============================] - 25s 37ms/step - loss: 0.1593 - accuracy: 0.9315\n",
      "Epoch 68/200\n",
      "671/671 [==============================] - 26s 39ms/step - loss: 0.1587 - accuracy: 0.9328\n",
      "Epoch 69/200\n",
      "671/671 [==============================] - 26s 38ms/step - loss: 0.1508 - accuracy: 0.9344\n",
      "Epoch 70/200\n",
      "671/671 [==============================] - 26s 38ms/step - loss: 0.1495 - accuracy: 0.9364\n",
      "Epoch 71/200\n",
      "671/671 [==============================] - 25s 38ms/step - loss: 0.1397 - accuracy: 0.9398\n",
      "Epoch 72/200\n",
      "671/671 [==============================] - 25s 37ms/step - loss: 0.1359 - accuracy: 0.9431\n",
      "Epoch 73/200\n",
      "671/671 [==============================] - 25s 37ms/step - loss: 0.1450 - accuracy: 0.9399\n",
      "Epoch 74/200\n",
      "671/671 [==============================] - 25s 37ms/step - loss: 0.1543 - accuracy: 0.9370\n",
      "Epoch 75/200\n",
      "671/671 [==============================] - 28s 42ms/step - loss: 0.1370 - accuracy: 0.9413\n",
      "Epoch 76/200\n",
      "671/671 [==============================] - 31s 46ms/step - loss: 0.1363 - accuracy: 0.9428\n",
      "Epoch 77/200\n",
      "671/671 [==============================] - 30s 45ms/step - loss: 0.1432 - accuracy: 0.9411\n",
      "Epoch 78/200\n",
      "671/671 [==============================] - 27s 41ms/step - loss: 0.1388 - accuracy: 0.9411\n",
      "Epoch 79/200\n",
      "671/671 [==============================] - 28s 42ms/step - loss: 0.1346 - accuracy: 0.9433\n",
      "Epoch 80/200\n",
      "671/671 [==============================] - 26s 39ms/step - loss: 0.1315 - accuracy: 0.9461\n",
      "Epoch 81/200\n",
      "671/671 [==============================] - 25s 38ms/step - loss: 0.1399 - accuracy: 0.9410\n",
      "Epoch 82/200\n",
      "671/671 [==============================] - 25s 37ms/step - loss: 0.1331 - accuracy: 0.9450\n",
      "Epoch 83/200\n",
      "671/671 [==============================] - 25s 37ms/step - loss: 0.1318 - accuracy: 0.9455\n",
      "Epoch 84/200\n",
      "671/671 [==============================] - 25s 38ms/step - loss: 0.1223 - accuracy: 0.9505\n",
      "Epoch 85/200\n",
      "671/671 [==============================] - 28s 42ms/step - loss: 0.1276 - accuracy: 0.9468\n",
      "Epoch 86/200\n",
      "671/671 [==============================] - 30s 44ms/step - loss: 0.1233 - accuracy: 0.9502\n",
      "Epoch 87/200\n",
      "671/671 [==============================] - 28s 41ms/step - loss: 0.1225 - accuracy: 0.9482\n",
      "Epoch 88/200\n",
      "671/671 [==============================] - 26s 38ms/step - loss: 0.1253 - accuracy: 0.9508\n",
      "Epoch 89/200\n",
      "671/671 [==============================] - 25s 37ms/step - loss: 0.1145 - accuracy: 0.9521\n",
      "Epoch 90/200\n",
      "671/671 [==============================] - 24s 36ms/step - loss: 0.1264 - accuracy: 0.9487\n",
      "Epoch 91/200\n",
      "671/671 [==============================] - 25s 38ms/step - loss: 0.1154 - accuracy: 0.9517\n",
      "Epoch 92/200\n",
      "671/671 [==============================] - 27s 41ms/step - loss: 0.1279 - accuracy: 0.9498\n",
      "Epoch 93/200\n",
      "671/671 [==============================] - 28s 41ms/step - loss: 0.1144 - accuracy: 0.9530\n",
      "Epoch 94/200\n",
      "671/671 [==============================] - 26s 39ms/step - loss: 0.1224 - accuracy: 0.9499\n",
      "Epoch 95/200\n",
      "671/671 [==============================] - 26s 39ms/step - loss: 0.1247 - accuracy: 0.9501\n",
      "Epoch 96/200\n",
      "671/671 [==============================] - 26s 39ms/step - loss: 0.1119 - accuracy: 0.9545\n",
      "Epoch 97/200\n",
      "671/671 [==============================] - 28s 41ms/step - loss: 0.1210 - accuracy: 0.9512\n",
      "Epoch 98/200\n",
      "671/671 [==============================] - 26s 38ms/step - loss: 0.1095 - accuracy: 0.9563\n",
      "Epoch 99/200\n",
      "671/671 [==============================] - 26s 38ms/step - loss: 0.1240 - accuracy: 0.9515\n",
      "Epoch 100/200\n",
      "671/671 [==============================] - 25s 38ms/step - loss: 0.1012 - accuracy: 0.9579\n",
      "Epoch 101/200\n",
      "671/671 [==============================] - 27s 39ms/step - loss: 0.1185 - accuracy: 0.9522\n",
      "Epoch 102/200\n",
      "671/671 [==============================] - 27s 40ms/step - loss: 0.1244 - accuracy: 0.9509\n",
      "Epoch 103/200\n",
      "671/671 [==============================] - 27s 41ms/step - loss: 0.1036 - accuracy: 0.9580\n",
      "Epoch 104/200\n",
      "671/671 [==============================] - 26s 39ms/step - loss: 0.1201 - accuracy: 0.9541\n",
      "Epoch 105/200\n",
      "671/671 [==============================] - 27s 40ms/step - loss: 0.1156 - accuracy: 0.9551\n",
      "Epoch 106/200\n",
      "671/671 [==============================] - 27s 40ms/step - loss: 0.0979 - accuracy: 0.9604\n",
      "Epoch 107/200\n",
      "671/671 [==============================] - 28s 41ms/step - loss: 0.1171 - accuracy: 0.9538\n",
      "Epoch 108/200\n",
      "671/671 [==============================] - 29s 43ms/step - loss: 0.1022 - accuracy: 0.9584\n",
      "Epoch 109/200\n",
      "671/671 [==============================] - 27s 40ms/step - loss: 0.1091 - accuracy: 0.9576\n",
      "Epoch 110/200\n",
      "671/671 [==============================] - 26s 38ms/step - loss: 0.1134 - accuracy: 0.9557\n",
      "Epoch 111/200\n",
      "671/671 [==============================] - 27s 39ms/step - loss: 0.1109 - accuracy: 0.9560\n",
      "Epoch 112/200\n",
      "671/671 [==============================] - 27s 41ms/step - loss: 0.1132 - accuracy: 0.9595\n",
      "Epoch 113/200\n",
      "671/671 [==============================] - 26s 39ms/step - loss: 0.0915 - accuracy: 0.9645\n",
      "Epoch 114/200\n",
      "671/671 [==============================] - 26s 39ms/step - loss: 0.1182 - accuracy: 0.9550\n",
      "Epoch 115/200\n",
      "671/671 [==============================] - 26s 39ms/step - loss: 0.1002 - accuracy: 0.9625\n",
      "Epoch 116/200\n",
      "671/671 [==============================] - 26s 39ms/step - loss: 0.1021 - accuracy: 0.9592\n",
      "Epoch 117/200\n",
      "671/671 [==============================] - 27s 41ms/step - loss: 0.0880 - accuracy: 0.9643\n",
      "Epoch 118/200\n",
      "671/671 [==============================] - 29s 43ms/step - loss: 0.0960 - accuracy: 0.9628\n",
      "Epoch 119/200\n",
      "671/671 [==============================] - 27s 40ms/step - loss: 0.0887 - accuracy: 0.9646\n",
      "Epoch 120/200\n",
      "671/671 [==============================] - 26s 38ms/step - loss: 0.1017 - accuracy: 0.9610\n",
      "Epoch 121/200\n",
      "671/671 [==============================] - 26s 39ms/step - loss: 0.0851 - accuracy: 0.9669\n",
      "Epoch 122/200\n",
      "671/671 [==============================] - 26s 39ms/step - loss: 0.0947 - accuracy: 0.9640\n",
      "Epoch 123/200\n",
      "671/671 [==============================] - 26s 39ms/step - loss: 0.1102 - accuracy: 0.9589\n",
      "Epoch 124/200\n",
      "671/671 [==============================] - 26s 39ms/step - loss: 0.0775 - accuracy: 0.9699\n",
      "Epoch 125/200\n",
      "671/671 [==============================] - 27s 40ms/step - loss: 0.1042 - accuracy: 0.9601\n",
      "Epoch 126/200\n",
      "671/671 [==============================] - 27s 40ms/step - loss: 0.1079 - accuracy: 0.9594\n",
      "Epoch 127/200\n",
      "671/671 [==============================] - 25s 38ms/step - loss: 0.0951 - accuracy: 0.9650\n",
      "Epoch 128/200\n",
      "671/671 [==============================] - 26s 38ms/step - loss: 0.0916 - accuracy: 0.9645\n",
      "Epoch 129/200\n",
      "671/671 [==============================] - 26s 39ms/step - loss: 0.0886 - accuracy: 0.9657\n",
      "Epoch 130/200\n",
      "671/671 [==============================] - 25s 38ms/step - loss: 0.0952 - accuracy: 0.9634\n",
      "Epoch 131/200\n",
      "671/671 [==============================] - 25s 38ms/step - loss: 0.0866 - accuracy: 0.9662\n",
      "Epoch 132/200\n",
      "671/671 [==============================] - 25s 37ms/step - loss: 0.1138 - accuracy: 0.9578\n",
      "Epoch 133/200\n",
      "671/671 [==============================] - 25s 38ms/step - loss: 0.0785 - accuracy: 0.9694\n",
      "Epoch 134/200\n",
      "671/671 [==============================] - 27s 40ms/step - loss: 0.0897 - accuracy: 0.9668\n",
      "Epoch 135/200\n",
      "671/671 [==============================] - 26s 39ms/step - loss: 0.0975 - accuracy: 0.9644\n",
      "Epoch 136/200\n",
      "671/671 [==============================] - 24s 36ms/step - loss: 0.1300 - accuracy: 0.9555\n",
      "Epoch 137/200\n",
      "671/671 [==============================] - 24s 36ms/step - loss: 0.0728 - accuracy: 0.9718\n",
      "Epoch 138/200\n",
      "671/671 [==============================] - 24s 36ms/step - loss: 0.0709 - accuracy: 0.9726\n",
      "Epoch 139/200\n",
      "671/671 [==============================] - 26s 39ms/step - loss: 0.0782 - accuracy: 0.9706\n",
      "Epoch 140/200\n",
      "671/671 [==============================] - 25s 38ms/step - loss: 0.1159 - accuracy: 0.9583\n",
      "Epoch 141/200\n",
      "671/671 [==============================] - 25s 38ms/step - loss: 0.0819 - accuracy: 0.9688\n",
      "Epoch 142/200\n",
      "671/671 [==============================] - 25s 37ms/step - loss: 0.0800 - accuracy: 0.9701\n",
      "Epoch 143/200\n",
      "671/671 [==============================] - 24s 36ms/step - loss: 0.0922 - accuracy: 0.9668\n",
      "Epoch 144/200\n",
      "671/671 [==============================] - 24s 35ms/step - loss: 0.1050 - accuracy: 0.9626\n",
      "Epoch 145/200\n",
      "671/671 [==============================] - 25s 37ms/step - loss: 0.0806 - accuracy: 0.9703\n",
      "Epoch 146/200\n",
      "671/671 [==============================] - 25s 37ms/step - loss: 0.0838 - accuracy: 0.9692\n",
      "Epoch 147/200\n",
      "671/671 [==============================] - 24s 36ms/step - loss: 0.1045 - accuracy: 0.9649\n",
      "Epoch 148/200\n",
      "671/671 [==============================] - 24s 36ms/step - loss: 0.0654 - accuracy: 0.9748\n",
      "Epoch 149/200\n",
      "671/671 [==============================] - 24s 36ms/step - loss: 0.0771 - accuracy: 0.9717\n",
      "Epoch 150/200\n",
      "671/671 [==============================] - 25s 37ms/step - loss: 0.1301 - accuracy: 0.9563\n",
      "Epoch 151/200\n",
      "671/671 [==============================] - 24s 36ms/step - loss: 0.0700 - accuracy: 0.9728\n",
      "Epoch 152/200\n",
      "671/671 [==============================] - 24s 36ms/step - loss: 0.0749 - accuracy: 0.9723\n",
      "Epoch 153/200\n",
      "671/671 [==============================] - 25s 37ms/step - loss: 0.1119 - accuracy: 0.9648\n",
      "Epoch 154/200\n",
      "671/671 [==============================] - 26s 39ms/step - loss: 0.0808 - accuracy: 0.9705\n",
      "Epoch 155/200\n",
      "671/671 [==============================] - 29s 43ms/step - loss: 0.0771 - accuracy: 0.9720\n",
      "Epoch 156/200\n",
      "671/671 [==============================] - 26s 38ms/step - loss: 0.0998 - accuracy: 0.9646\n",
      "Epoch 157/200\n",
      "671/671 [==============================] - 25s 38ms/step - loss: 0.0772 - accuracy: 0.9720\n",
      "Epoch 158/200\n",
      "671/671 [==============================] - 28s 41ms/step - loss: 0.0787 - accuracy: 0.9706\n",
      "Epoch 159/200\n",
      "671/671 [==============================] - 27s 40ms/step - loss: 0.0924 - accuracy: 0.9666\n",
      "Epoch 160/200\n",
      "671/671 [==============================] - 28s 41ms/step - loss: 0.0711 - accuracy: 0.9736\n",
      "Epoch 161/200\n",
      "671/671 [==============================] - 27s 40ms/step - loss: 0.0700 - accuracy: 0.9747\n",
      "Epoch 162/200\n",
      "671/671 [==============================] - 27s 40ms/step - loss: 0.0750 - accuracy: 0.9735\n",
      "Epoch 163/200\n",
      "671/671 [==============================] - 28s 41ms/step - loss: 0.0772 - accuracy: 0.9706\n",
      "Epoch 164/200\n",
      "671/671 [==============================] - 26s 39ms/step - loss: 0.0915 - accuracy: 0.9682\n",
      "Epoch 165/200\n",
      "671/671 [==============================] - 25s 38ms/step - loss: 0.0854 - accuracy: 0.9706\n",
      "Epoch 166/200\n",
      "671/671 [==============================] - 25s 37ms/step - loss: 0.0765 - accuracy: 0.9742\n",
      "Epoch 167/200\n",
      "671/671 [==============================] - 25s 37ms/step - loss: 0.0884 - accuracy: 0.9687\n",
      "Epoch 168/200\n",
      "671/671 [==============================] - 25s 37ms/step - loss: 0.0968 - accuracy: 0.9675\n",
      "Epoch 169/200\n",
      "671/671 [==============================] - 25s 37ms/step - loss: 0.0783 - accuracy: 0.9727\n",
      "Epoch 170/200\n",
      "671/671 [==============================] - 25s 37ms/step - loss: 0.1024 - accuracy: 0.9673\n",
      "Epoch 171/200\n",
      "671/671 [==============================] - 25s 37ms/step - loss: 0.0632 - accuracy: 0.9779\n",
      "Epoch 172/200\n",
      "671/671 [==============================] - 25s 37ms/step - loss: 0.0758 - accuracy: 0.9749\n",
      "Epoch 173/200\n",
      "671/671 [==============================] - 28s 41ms/step - loss: 0.0842 - accuracy: 0.9712\n",
      "Epoch 174/200\n",
      "671/671 [==============================] - 25s 37ms/step - loss: 0.0716 - accuracy: 0.9740\n",
      "Epoch 175/200\n",
      "671/671 [==============================] - 25s 37ms/step - loss: 0.1007 - accuracy: 0.9675\n",
      "Epoch 176/200\n",
      "671/671 [==============================] - 21s 31ms/step - loss: 0.0557 - accuracy: 0.9790\n",
      "Epoch 177/200\n",
      "671/671 [==============================] - 25s 37ms/step - loss: 0.0843 - accuracy: 0.9703\n",
      "Epoch 178/200\n",
      "671/671 [==============================] - 19s 29ms/step - loss: 0.0743 - accuracy: 0.9726\n",
      "Epoch 179/200\n",
      "671/671 [==============================] - 20s 29ms/step - loss: 0.0995 - accuracy: 0.9676\n",
      "Epoch 180/200\n",
      "671/671 [==============================] - 20s 30ms/step - loss: 0.1002 - accuracy: 0.9692\n",
      "Epoch 181/200\n",
      "671/671 [==============================] - 24s 35ms/step - loss: 0.0762 - accuracy: 0.9744\n",
      "Epoch 182/200\n",
      "671/671 [==============================] - 25s 37ms/step - loss: 0.0732 - accuracy: 0.9754\n",
      "Epoch 183/200\n",
      "671/671 [==============================] - 25s 37ms/step - loss: 0.1124 - accuracy: 0.9679\n",
      "Epoch 184/200\n",
      "671/671 [==============================] - 25s 37ms/step - loss: 0.0556 - accuracy: 0.9786\n",
      "Epoch 185/200\n",
      "671/671 [==============================] - 25s 37ms/step - loss: 0.0710 - accuracy: 0.9773\n",
      "Epoch 186/200\n",
      "671/671 [==============================] - 389s 580ms/step - loss: 0.1042 - accuracy: 0.9661\n",
      "Epoch 187/200\n",
      "671/671 [==============================] - 23s 34ms/step - loss: 0.0876 - accuracy: 0.9726\n",
      "Epoch 188/200\n",
      "671/671 [==============================] - 21s 32ms/step - loss: 0.0681 - accuracy: 0.9769\n",
      "Epoch 189/200\n",
      "671/671 [==============================] - 21s 31ms/step - loss: 0.0539 - accuracy: 0.9810\n",
      "Epoch 190/200\n",
      "671/671 [==============================] - 21s 31ms/step - loss: 0.0683 - accuracy: 0.9759\n",
      "Epoch 191/200\n",
      "671/671 [==============================] - 21s 31ms/step - loss: 0.0888 - accuracy: 0.9699\n",
      "Epoch 192/200\n",
      "671/671 [==============================] - 21s 31ms/step - loss: 0.0961 - accuracy: 0.9700\n",
      "Epoch 193/200\n",
      "671/671 [==============================] - 21s 31ms/step - loss: 0.0837 - accuracy: 0.9724\n",
      "Epoch 194/200\n",
      "671/671 [==============================] - 21s 32ms/step - loss: 0.0508 - accuracy: 0.9824\n",
      "Epoch 195/200\n",
      "671/671 [==============================] - 24s 36ms/step - loss: 0.0701 - accuracy: 0.9766\n",
      "Epoch 196/200\n",
      "671/671 [==============================] - 29s 43ms/step - loss: 0.0651 - accuracy: 0.9769\n",
      "Epoch 197/200\n",
      "671/671 [==============================] - 33s 49ms/step - loss: 0.1256 - accuracy: 0.9628\n",
      "Epoch 198/200\n",
      "671/671 [==============================] - 804s 1s/step - loss: 0.0630 - accuracy: 0.9791\n",
      "Epoch 199/200\n",
      "671/671 [==============================] - 19s 28ms/step - loss: 0.0667 - accuracy: 0.9787\n",
      "Epoch 200/200\n",
      "671/671 [==============================] - 19s 28ms/step - loss: 0.0774 - accuracy: 0.9741\n"
     ]
    },
    {
     "data": {
      "text/plain": [
       "<keras.callbacks.History at 0x295393160>"
      ]
     },
     "execution_count": 18,
     "metadata": {},
     "output_type": "execute_result"
    }
   ],
   "execution_count": 18
  },
  {
   "metadata": {
    "ExecuteTime": {
     "end_time": "2024-06-03T03:25:50.467286Z",
     "start_time": "2024-06-03T03:25:50.387622Z"
    }
   },
   "cell_type": "code",
   "source": "model.save_weights('crop_confusion_weights.h5')",
   "id": "b6da6d01feeffdbd",
   "outputs": [],
   "execution_count": 19
  },
  {
   "metadata": {
    "ExecuteTime": {
     "end_time": "2024-06-03T03:25:54.154560Z",
     "start_time": "2024-06-03T03:25:52.272298Z"
    }
   },
   "cell_type": "code",
   "source": [
    "prediction_proba = model.predict(x_test)\n",
    "y_predict = prediction_proba.argmax(axis=1)"
   ],
   "id": "6b6e6a22fee5e640",
   "outputs": [
    {
     "name": "stderr",
     "output_type": "stream",
     "text": [
      "2024-06-02 23:25:52.515278: I tensorflow/core/grappler/optimizers/custom_graph_optimizer_registry.cc:112] Plugin optimizer for device_type GPU is enabled.\n"
     ]
    }
   ],
   "execution_count": 20
  },
  {
   "metadata": {
    "ExecuteTime": {
     "end_time": "2024-06-03T03:25:56.139494Z",
     "start_time": "2024-06-03T03:25:56.136422Z"
    }
   },
   "cell_type": "code",
   "source": "y_predict.shape",
   "id": "8f3b6e668e4b7ccb",
   "outputs": [
    {
     "data": {
      "text/plain": [
       "(5366,)"
      ]
     },
     "execution_count": 21,
     "metadata": {},
     "output_type": "execute_result"
    }
   ],
   "execution_count": 21
  },
  {
   "metadata": {
    "ExecuteTime": {
     "end_time": "2024-06-03T03:25:56.866621Z",
     "start_time": "2024-06-03T03:25:56.862533Z"
    }
   },
   "cell_type": "code",
   "source": "y_true = y_test.argmax(axis=1)",
   "id": "641bc95d59e617f",
   "outputs": [],
   "execution_count": 22
  },
  {
   "metadata": {
    "ExecuteTime": {
     "end_time": "2024-06-03T03:25:57.397561Z",
     "start_time": "2024-06-03T03:25:57.391412Z"
    }
   },
   "cell_type": "code",
   "source": [
    "# confusion matrix\n",
    "conf_mat = confusion_matrix(y_true, y_predict, normalize='true')"
   ],
   "id": "b8910a0f11ad88e8",
   "outputs": [],
   "execution_count": 23
  },
  {
   "metadata": {
    "ExecuteTime": {
     "end_time": "2024-06-03T03:25:58.040725Z",
     "start_time": "2024-06-03T03:25:58.029739Z"
    }
   },
   "cell_type": "code",
   "source": "print(classification_report(y_true, y_predict, target_names=label_names))",
   "id": "45725ea6ba594d02",
   "outputs": [
    {
     "name": "stdout",
     "output_type": "stream",
     "text": [
      "              precision    recall  f1-score   support\n",
      "\n",
      "Not Confused       0.82      0.85      0.83      2430\n",
      "    Confused       0.87      0.85      0.86      2936\n",
      "\n",
      "    accuracy                           0.85      5366\n",
      "   macro avg       0.85      0.85      0.85      5366\n",
      "weighted avg       0.85      0.85      0.85      5366\n",
      "\n"
     ]
    }
   ],
   "execution_count": 24
  },
  {
   "metadata": {
    "ExecuteTime": {
     "end_time": "2024-06-03T03:25:58.785199Z",
     "start_time": "2024-06-03T03:25:58.783303Z"
    }
   },
   "cell_type": "code",
   "source": "label_names = ['Not Confused', 'Confused']",
   "id": "ce19efc34619e8a9",
   "outputs": [],
   "execution_count": 25
  },
  {
   "metadata": {
    "ExecuteTime": {
     "end_time": "2024-06-03T03:26:09.818622Z",
     "start_time": "2024-06-03T03:26:09.702473Z"
    }
   },
   "cell_type": "code",
   "source": [
    "fig, ax = plt.subplots(1, 1, figsize=(4, 3))\n",
    "\n",
    "sns.heatmap(conf_mat, xticklabels= label_names, \n",
    "            yticklabels= label_names, annot=True, ax=ax)\n",
    "fig.savefig('crop_confused_model_performance_all.svg', bbox_inches = 'tight', dpi=300)"
   ],
   "id": "78ee1313858bb161",
   "outputs": [
    {
     "data": {
      "text/plain": [
       "<Figure size 400x300 with 2 Axes>"
      ],
      "image/png": "[encoded data removed]"
     },
     "metadata": {},
     "output_type": "display_data"
    }
   ],
   "execution_count": 28
  },
  {
   "metadata": {
    "ExecuteTime": {
     "end_time": "2024-06-03T03:26:00.580590Z",
     "start_time": "2024-06-03T03:26:00.467245Z"
    }
   },
   "cell_type": "code",
   "source": "",
   "id": "36deda9e8d3937d",
   "outputs": [
    {
     "data": {
      "text/plain": [
       "<Figure size 400x300 with 2 Axes>"
      ],
      "image/png": "[encoded data removed]"
     },
     "metadata": {},
     "output_type": "display_data"
    }
   ],
   "execution_count": 27
  },
  {
   "metadata": {},
   "cell_type": "markdown",
   "source": [
    "## if not diagonal, False~\n",
    "## positive or negative depends on references --> is that in the same column, if so positive"
   ],
   "id": "eb6ad3e4852f4948"
  },
  {
   "metadata": {},
   "cell_type": "code",
   "outputs": [],
   "execution_count": null,
   "source": "",
   "id": "7517a2bf9f603bb7"
  },
  {
   "metadata": {},
   "cell_type": "code",
   "outputs": [],
   "execution_count": null,
   "source": "",
   "id": "f90fa0ed1de0e6b0"
  },
  {
   "metadata": {},
   "cell_type": "code",
   "outputs": [],
   "execution_count": null,
   "source": "",
   "id": "ed02fa43e3fa7f45"
  },
  {
   "metadata": {},
   "cell_type": "code",
   "outputs": [],
   "execution_count": null,
   "source": "",
   "id": "87ce17e8f7c4d970"
  },
  {
   "metadata": {},
   "cell_type": "code",
   "outputs": [],
   "execution_count": null,
   "source": "",
   "id": "eccf9b0ba559e394"
  },
  {
   "metadata": {
    "ExecuteTime": {
     "end_time": "2024-05-20T01:09:15.000761Z",
     "start_time": "2024-05-20T01:09:14.970576Z"
    }
   },
   "cell_type": "code",
   "source": "X_train = np.array(x_train_list).reshape(-1, input_dim_, input_dim_, 1)",
   "id": "410799b709bf4e64",
   "outputs": [],
   "execution_count": 8
  },
  {
   "metadata": {
    "ExecuteTime": {
     "end_time": "2024-05-20T01:11:46.024316Z",
     "start_time": "2024-05-20T01:11:45.906564Z"
    }
   },
   "cell_type": "code",
   "source": "",
   "id": "41692956a50d2c80",
   "outputs": [
    {
     "data": {
      "text/plain": [
       "<matplotlib.image.AxesImage at 0x2993c60d0>"
      ]
     },
     "execution_count": 12,
     "metadata": {},
     "output_type": "execute_result"
    },
    {
     "data": {
      "text/plain": [
       "<Figure size 640x480 with 1 Axes>"
      ],
      "image/png": "[encoded data removed]"
     },
     "metadata": {},
     "output_type": "display_data"
    }
   ],
   "execution_count": 12
  },
  {
   "metadata": {
    "ExecuteTime": {
     "end_time": "2024-05-20T00:41:04.733986Z",
     "start_time": "2024-05-20T00:41:04.727486Z"
    }
   },
   "cell_type": "code",
   "source": [
    "# X_train.shape = (5358, 48, 48, 1)\n",
    "# X_test.shape = (x_test, 48, 48, 1)\n",
    "# model.fit(X_train, y_train, validation_data=(X_test, y_test), epochs=3)"
   ],
   "id": "e2f16d351e873a35",
   "outputs": [],
   "execution_count": 34
  },
  {
   "metadata": {
    "ExecuteTime": {
     "end_time": "2024-05-20T00:41:04.982031Z",
     "start_time": "2024-05-20T00:41:04.739339Z"
    }
   },
   "cell_type": "code",
   "source": [
    "# load pickle file\n",
    "with open('Test.pkl', 'rb') as f:\n",
    "    test_features, test_labels = pickle.load(f)"
   ],
   "id": "74919d8991bb6399",
   "outputs": [],
   "execution_count": 35
  },
  {
   "metadata": {
    "ExecuteTime": {
     "end_time": "2024-05-20T00:41:09.835615Z",
     "start_time": "2024-05-20T00:41:04.984544Z"
    }
   },
   "cell_type": "code",
   "source": [
    "x_test_list = []\n",
    "y_test_list = []\n",
    "for pic, label in zip(test_features, test_labels):\n",
    "    # plt.imshow(img_gray, cmap='binary_r')\n",
    "    x_test_list.append(pic)\n",
    "    y_test_list.append(label)"
   ],
   "id": "f16aba4f28b11c60",
   "outputs": [],
   "execution_count": 36
  },
  {
   "metadata": {
    "ExecuteTime": {
     "end_time": "2024-05-20T00:41:10.054345Z",
     "start_time": "2024-05-20T00:41:09.851082Z"
    }
   },
   "cell_type": "code",
   "source": "X_test = np.array(x_test_list).reshape(-1, input_dim_, input_dim_, 1)",
   "id": "4ad3eef2c28272db",
   "outputs": [],
   "execution_count": 37
  },
  {
   "metadata": {
    "ExecuteTime": {
     "end_time": "2024-05-20T00:41:10.073720Z",
     "start_time": "2024-05-20T00:41:10.057632Z"
    }
   },
   "cell_type": "code",
   "source": "X_test.shape",
   "id": "e22d8f94698b519d",
   "outputs": [
    {
     "data": {
      "text/plain": [
       "(5376, 128, 128, 1)"
      ]
     },
     "execution_count": 38,
     "metadata": {},
     "output_type": "execute_result"
    }
   ],
   "execution_count": 38
  },
  {
   "metadata": {
    "ExecuteTime": {
     "end_time": "2024-05-20T00:41:11.636143Z",
     "start_time": "2024-05-20T00:41:11.502426Z"
    }
   },
   "cell_type": "code",
   "source": [
    "# load pickle file\n",
    "with open('Validation.pkl', 'rb') as f:\n",
    "    valid_features, valid_labels = pickle.load(f)"
   ],
   "id": "7e94be631cb54b7a",
   "outputs": [],
   "execution_count": 39
  },
  {
   "metadata": {
    "ExecuteTime": {
     "end_time": "2024-05-20T00:41:15.809080Z",
     "start_time": "2024-05-20T00:41:11.987471Z"
    }
   },
   "cell_type": "code",
   "source": [
    "x_valid_list = []\n",
    "y_valid_list = []\n",
    "for pic, label in zip(valid_features, valid_labels):\n",
    "    # plt.imshow(img_gray, cmap='binary_r')\n",
    "    x_valid_list.append(pic)\n",
    "    y_valid_list.append(label)"
   ],
   "id": "8a36c27bb75804e",
   "outputs": [],
   "execution_count": 40
  },
  {
   "metadata": {
    "ExecuteTime": {
     "end_time": "2024-05-20T00:41:15.922793Z",
     "start_time": "2024-05-20T00:41:15.863018Z"
    }
   },
   "cell_type": "code",
   "source": "X_valid = np.array(x_valid_list).reshape(-1, input_dim_, input_dim_, 1)",
   "id": "779b6441e53848de",
   "outputs": [],
   "execution_count": 41
  },
  {
   "metadata": {
    "ExecuteTime": {
     "end_time": "2024-05-20T00:41:15.930174Z",
     "start_time": "2024-05-20T00:41:15.925129Z"
    }
   },
   "cell_type": "code",
   "source": "X_valid.shape",
   "id": "c9c89acae7236512",
   "outputs": [
    {
     "data": {
      "text/plain": [
       "(4005, 128, 128, 1)"
      ]
     },
     "execution_count": 42,
     "metadata": {},
     "output_type": "execute_result"
    }
   ],
   "execution_count": 42
  },
  {
   "metadata": {
    "ExecuteTime": {
     "end_time": "2024-05-20T00:41:15.937521Z",
     "start_time": "2024-05-20T00:41:15.933638Z"
    }
   },
   "cell_type": "code",
   "source": "",
   "id": "b4423ce7588036da",
   "outputs": [],
   "execution_count": 42
  },
  {
   "metadata": {
    "ExecuteTime": {
     "end_time": "2024-05-20T00:41:16.364386Z",
     "start_time": "2024-05-20T00:41:15.939424Z"
    }
   },
   "cell_type": "code",
   "source": [
    "df = pd.DataFrame({'y': y_train_list})\n",
    "sns.countplot(data=df, x='y')"
   ],
   "id": "8f0aa6767c940b12",
   "outputs": [
    {
     "data": {
      "text/plain": [
       "<AxesSubplot: xlabel='y', ylabel='count'>"
      ]
     },
     "execution_count": 43,
     "metadata": {},
     "output_type": "execute_result"
    },
    {
     "data": {
      "text/plain": [
       "<Figure size 640x480 with 1 Axes>"
      ],
      "image/png": "[encoded data removed]"
     },
     "metadata": {},
     "output_type": "display_data"
    }
   ],
   "execution_count": 43
  },
  {
   "metadata": {
    "ExecuteTime": {
     "end_time": "2024-05-20T00:41:16.713334Z",
     "start_time": "2024-05-20T00:41:16.366516Z"
    }
   },
   "cell_type": "code",
   "source": [
    "df = pd.DataFrame({'y': y_test_list})\n",
    "sns.countplot(data=df, x='y')"
   ],
   "id": "abdfef484f9aa59c",
   "outputs": [
    {
     "data": {
      "text/plain": [
       "<AxesSubplot: xlabel='y', ylabel='count'>"
      ]
     },
     "execution_count": 44,
     "metadata": {},
     "output_type": "execute_result"
    },
    {
     "data": {
      "text/plain": [
       "<Figure size 640x480 with 1 Axes>"
      ],
      "image/png": "[encoded data removed]"
     },
     "metadata": {},
     "output_type": "display_data"
    }
   ],
   "execution_count": 44
  },
  {
   "metadata": {
    "ExecuteTime": {
     "end_time": "2024-05-20T00:41:17.075425Z",
     "start_time": "2024-05-20T00:41:16.723508Z"
    }
   },
   "cell_type": "code",
   "source": [
    "df = pd.DataFrame({'y': y_valid_list})\n",
    "sns.countplot(data=df, x='y')"
   ],
   "id": "82d73ac9fadbc56d",
   "outputs": [
    {
     "data": {
      "text/plain": [
       "<AxesSubplot: xlabel='y', ylabel='count'>"
      ]
     },
     "execution_count": 45,
     "metadata": {},
     "output_type": "execute_result"
    },
    {
     "data": {
      "text/plain": [
       "<Figure size 640x480 with 1 Axes>"
      ],
      "image/png": "[encoded data removed]"
     },
     "metadata": {},
     "output_type": "display_data"
    }
   ],
   "execution_count": 45
  },
  {
   "metadata": {
    "ExecuteTime": {
     "end_time": "2024-05-20T00:41:30.290831Z",
     "start_time": "2024-05-20T00:41:30.273943Z"
    }
   },
   "cell_type": "code",
   "source": "np.array(y_train_list).shape",
   "id": "16bb8b108e430ae3",
   "outputs": [
    {
     "data": {
      "text/plain": [
       "(15255,)"
      ]
     },
     "execution_count": 46,
     "metadata": {},
     "output_type": "execute_result"
    }
   ],
   "execution_count": 46
  },
  {
   "metadata": {
    "ExecuteTime": {
     "end_time": "2024-05-20T01:01:47.147628Z",
     "start_time": "2024-05-20T01:01:47.138052Z"
    }
   },
   "cell_type": "code",
   "source": [
    "from tensorflow.keras.utils import to_categorical\n",
    "#one-hot encode target column\n",
    "Y_train = to_categorical(np.array(y_train_list))\n",
    "Y_test = to_categorical(np.array(y_test_list))\n",
    "Y_validation = to_categorical(np.array(y_valid_list))\n",
    "Y_train[200]"
   ],
   "id": "a247a86643ff7576",
   "outputs": [
    {
     "data": {
      "text/plain": [
       "array([0., 1., 0., 0.], dtype=float32)"
      ]
     },
     "execution_count": 73,
     "metadata": {},
     "output_type": "execute_result"
    }
   ],
   "execution_count": 73
  },
  {
   "metadata": {
    "ExecuteTime": {
     "end_time": "2024-05-20T01:02:34.642548Z",
     "start_time": "2024-05-20T01:02:34.506618Z"
    }
   },
   "cell_type": "code",
   "source": [
    "x_train, x_test, y_train, y_test = train_test_split(X_train, Y_train, test_size=0.2, random_state=42)\n",
    "x_train.shape, x_test.shape"
   ],
   "id": "a7a9db210524587b",
   "outputs": [
    {
     "data": {
      "text/plain": [
       "((12204, 128, 128, 1), (3051, 128, 128, 1))"
      ]
     },
     "execution_count": 76,
     "metadata": {},
     "output_type": "execute_result"
    }
   ],
   "execution_count": 76
  },
  {
   "metadata": {
    "ExecuteTime": {
     "end_time": "2024-05-20T01:05:45.099305Z",
     "start_time": "2024-05-20T01:02:59.103111Z"
    }
   },
   "cell_type": "code",
   "source": "model.fit(x_train, y_train, epochs=30)",
   "id": "fd950db02f53442",
   "outputs": [
    {
     "name": "stdout",
     "output_type": "stream",
     "text": [
      "Epoch 1/30\n"
     ]
    },
    {
     "name": "stderr",
     "output_type": "stream",
     "text": [
      "2024-05-19 21:02:59.502562: I tensorflow/core/grappler/optimizers/custom_graph_optimizer_registry.cc:113] Plugin optimizer for device_type GPU is enabled.\n"
     ]
    },
    {
     "name": "stdout",
     "output_type": "stream",
     "text": [
      "382/382 [==============================] - 55s 143ms/step - loss: 5.2598 - accuracy: 0.5629\n",
      "Epoch 2/30\n",
      "382/382 [==============================] - 51s 134ms/step - loss: 0.6590 - accuracy: 0.7373\n",
      "Epoch 3/30\n",
      "382/382 [==============================] - 54s 140ms/step - loss: 0.5048 - accuracy: 0.8017\n",
      "Epoch 4/30\n",
      " 31/382 [=>............................] - ETA: 56s - loss: 0.3475 - accuracy: 0.8609"
     ]
    },
    {
     "ename": "KeyboardInterrupt",
     "evalue": "",
     "output_type": "error",
     "traceback": [
      "\u001B[0;31m---------------------------------------------------------------------------\u001B[0m",
      "\u001B[0;31mKeyboardInterrupt\u001B[0m                         Traceback (most recent call last)",
      "Cell \u001B[0;32mIn[81], line 1\u001B[0m\n\u001B[0;32m----> 1\u001B[0m \u001B[43mmodel\u001B[49m\u001B[38;5;241;43m.\u001B[39;49m\u001B[43mfit\u001B[49m\u001B[43m(\u001B[49m\u001B[43mx_train\u001B[49m\u001B[43m,\u001B[49m\u001B[43m \u001B[49m\u001B[43my_train\u001B[49m\u001B[43m,\u001B[49m\u001B[43m \u001B[49m\u001B[43mepochs\u001B[49m\u001B[38;5;241;43m=\u001B[39;49m\u001B[38;5;241;43m30\u001B[39;49m\u001B[43m)\u001B[49m\n",
      "File \u001B[0;32m~/miniconda/envs/hands/lib/python3.9/site-packages/keras/utils/traceback_utils.py:64\u001B[0m, in \u001B[0;36mfilter_traceback.<locals>.error_handler\u001B[0;34m(*args, **kwargs)\u001B[0m\n\u001B[1;32m     62\u001B[0m filtered_tb \u001B[38;5;241m=\u001B[39m \u001B[38;5;28;01mNone\u001B[39;00m\n\u001B[1;32m     63\u001B[0m \u001B[38;5;28;01mtry\u001B[39;00m:\n\u001B[0;32m---> 64\u001B[0m   \u001B[38;5;28;01mreturn\u001B[39;00m \u001B[43mfn\u001B[49m\u001B[43m(\u001B[49m\u001B[38;5;241;43m*\u001B[39;49m\u001B[43margs\u001B[49m\u001B[43m,\u001B[49m\u001B[43m \u001B[49m\u001B[38;5;241;43m*\u001B[39;49m\u001B[38;5;241;43m*\u001B[39;49m\u001B[43mkwargs\u001B[49m\u001B[43m)\u001B[49m\n\u001B[1;32m     65\u001B[0m \u001B[38;5;28;01mexcept\u001B[39;00m \u001B[38;5;167;01mException\u001B[39;00m \u001B[38;5;28;01mas\u001B[39;00m e:  \u001B[38;5;66;03m# pylint: disable=broad-except\u001B[39;00m\n\u001B[1;32m     66\u001B[0m   filtered_tb \u001B[38;5;241m=\u001B[39m _process_traceback_frames(e\u001B[38;5;241m.\u001B[39m__traceback__)\n",
      "File \u001B[0;32m~/miniconda/envs/hands/lib/python3.9/site-packages/keras/engine/training.py:1409\u001B[0m, in \u001B[0;36mModel.fit\u001B[0;34m(self, x, y, batch_size, epochs, verbose, callbacks, validation_split, validation_data, shuffle, class_weight, sample_weight, initial_epoch, steps_per_epoch, validation_steps, validation_batch_size, validation_freq, max_queue_size, workers, use_multiprocessing)\u001B[0m\n\u001B[1;32m   1402\u001B[0m \u001B[38;5;28;01mwith\u001B[39;00m tf\u001B[38;5;241m.\u001B[39mprofiler\u001B[38;5;241m.\u001B[39mexperimental\u001B[38;5;241m.\u001B[39mTrace(\n\u001B[1;32m   1403\u001B[0m     \u001B[38;5;124m'\u001B[39m\u001B[38;5;124mtrain\u001B[39m\u001B[38;5;124m'\u001B[39m,\n\u001B[1;32m   1404\u001B[0m     epoch_num\u001B[38;5;241m=\u001B[39mepoch,\n\u001B[1;32m   1405\u001B[0m     step_num\u001B[38;5;241m=\u001B[39mstep,\n\u001B[1;32m   1406\u001B[0m     batch_size\u001B[38;5;241m=\u001B[39mbatch_size,\n\u001B[1;32m   1407\u001B[0m     _r\u001B[38;5;241m=\u001B[39m\u001B[38;5;241m1\u001B[39m):\n\u001B[1;32m   1408\u001B[0m   callbacks\u001B[38;5;241m.\u001B[39mon_train_batch_begin(step)\n\u001B[0;32m-> 1409\u001B[0m   tmp_logs \u001B[38;5;241m=\u001B[39m \u001B[38;5;28;43mself\u001B[39;49m\u001B[38;5;241;43m.\u001B[39;49m\u001B[43mtrain_function\u001B[49m\u001B[43m(\u001B[49m\u001B[43miterator\u001B[49m\u001B[43m)\u001B[49m\n\u001B[1;32m   1410\u001B[0m   \u001B[38;5;28;01mif\u001B[39;00m data_handler\u001B[38;5;241m.\u001B[39mshould_sync:\n\u001B[1;32m   1411\u001B[0m     context\u001B[38;5;241m.\u001B[39masync_wait()\n",
      "File \u001B[0;32m~/miniconda/envs/hands/lib/python3.9/site-packages/tensorflow/python/util/traceback_utils.py:150\u001B[0m, in \u001B[0;36mfilter_traceback.<locals>.error_handler\u001B[0;34m(*args, **kwargs)\u001B[0m\n\u001B[1;32m    148\u001B[0m filtered_tb \u001B[38;5;241m=\u001B[39m \u001B[38;5;28;01mNone\u001B[39;00m\n\u001B[1;32m    149\u001B[0m \u001B[38;5;28;01mtry\u001B[39;00m:\n\u001B[0;32m--> 150\u001B[0m   \u001B[38;5;28;01mreturn\u001B[39;00m \u001B[43mfn\u001B[49m\u001B[43m(\u001B[49m\u001B[38;5;241;43m*\u001B[39;49m\u001B[43margs\u001B[49m\u001B[43m,\u001B[49m\u001B[43m \u001B[49m\u001B[38;5;241;43m*\u001B[39;49m\u001B[38;5;241;43m*\u001B[39;49m\u001B[43mkwargs\u001B[49m\u001B[43m)\u001B[49m\n\u001B[1;32m    151\u001B[0m \u001B[38;5;28;01mexcept\u001B[39;00m \u001B[38;5;167;01mException\u001B[39;00m \u001B[38;5;28;01mas\u001B[39;00m e:\n\u001B[1;32m    152\u001B[0m   filtered_tb \u001B[38;5;241m=\u001B[39m _process_traceback_frames(e\u001B[38;5;241m.\u001B[39m__traceback__)\n",
      "File \u001B[0;32m~/miniconda/envs/hands/lib/python3.9/site-packages/tensorflow/python/eager/def_function.py:915\u001B[0m, in \u001B[0;36mFunction.__call__\u001B[0;34m(self, *args, **kwds)\u001B[0m\n\u001B[1;32m    912\u001B[0m compiler \u001B[38;5;241m=\u001B[39m \u001B[38;5;124m\"\u001B[39m\u001B[38;5;124mxla\u001B[39m\u001B[38;5;124m\"\u001B[39m \u001B[38;5;28;01mif\u001B[39;00m \u001B[38;5;28mself\u001B[39m\u001B[38;5;241m.\u001B[39m_jit_compile \u001B[38;5;28;01melse\u001B[39;00m \u001B[38;5;124m\"\u001B[39m\u001B[38;5;124mnonXla\u001B[39m\u001B[38;5;124m\"\u001B[39m\n\u001B[1;32m    914\u001B[0m \u001B[38;5;28;01mwith\u001B[39;00m OptionalXlaContext(\u001B[38;5;28mself\u001B[39m\u001B[38;5;241m.\u001B[39m_jit_compile):\n\u001B[0;32m--> 915\u001B[0m   result \u001B[38;5;241m=\u001B[39m \u001B[38;5;28;43mself\u001B[39;49m\u001B[38;5;241;43m.\u001B[39;49m\u001B[43m_call\u001B[49m\u001B[43m(\u001B[49m\u001B[38;5;241;43m*\u001B[39;49m\u001B[43margs\u001B[49m\u001B[43m,\u001B[49m\u001B[43m \u001B[49m\u001B[38;5;241;43m*\u001B[39;49m\u001B[38;5;241;43m*\u001B[39;49m\u001B[43mkwds\u001B[49m\u001B[43m)\u001B[49m\n\u001B[1;32m    917\u001B[0m new_tracing_count \u001B[38;5;241m=\u001B[39m \u001B[38;5;28mself\u001B[39m\u001B[38;5;241m.\u001B[39mexperimental_get_tracing_count()\n\u001B[1;32m    918\u001B[0m without_tracing \u001B[38;5;241m=\u001B[39m (tracing_count \u001B[38;5;241m==\u001B[39m new_tracing_count)\n",
      "File \u001B[0;32m~/miniconda/envs/hands/lib/python3.9/site-packages/tensorflow/python/eager/def_function.py:947\u001B[0m, in \u001B[0;36mFunction._call\u001B[0;34m(self, *args, **kwds)\u001B[0m\n\u001B[1;32m    944\u001B[0m   \u001B[38;5;28mself\u001B[39m\u001B[38;5;241m.\u001B[39m_lock\u001B[38;5;241m.\u001B[39mrelease()\n\u001B[1;32m    945\u001B[0m   \u001B[38;5;66;03m# In this case we have created variables on the first call, so we run the\u001B[39;00m\n\u001B[1;32m    946\u001B[0m   \u001B[38;5;66;03m# defunned version which is guaranteed to never create variables.\u001B[39;00m\n\u001B[0;32m--> 947\u001B[0m   \u001B[38;5;28;01mreturn\u001B[39;00m \u001B[38;5;28;43mself\u001B[39;49m\u001B[38;5;241;43m.\u001B[39;49m\u001B[43m_stateless_fn\u001B[49m\u001B[43m(\u001B[49m\u001B[38;5;241;43m*\u001B[39;49m\u001B[43margs\u001B[49m\u001B[43m,\u001B[49m\u001B[43m \u001B[49m\u001B[38;5;241;43m*\u001B[39;49m\u001B[38;5;241;43m*\u001B[39;49m\u001B[43mkwds\u001B[49m\u001B[43m)\u001B[49m  \u001B[38;5;66;03m# pylint: disable=not-callable\u001B[39;00m\n\u001B[1;32m    948\u001B[0m \u001B[38;5;28;01melif\u001B[39;00m \u001B[38;5;28mself\u001B[39m\u001B[38;5;241m.\u001B[39m_stateful_fn \u001B[38;5;129;01mis\u001B[39;00m \u001B[38;5;129;01mnot\u001B[39;00m \u001B[38;5;28;01mNone\u001B[39;00m:\n\u001B[1;32m    949\u001B[0m   \u001B[38;5;66;03m# Release the lock early so that multiple threads can perform the call\u001B[39;00m\n\u001B[1;32m    950\u001B[0m   \u001B[38;5;66;03m# in parallel.\u001B[39;00m\n\u001B[1;32m    951\u001B[0m   \u001B[38;5;28mself\u001B[39m\u001B[38;5;241m.\u001B[39m_lock\u001B[38;5;241m.\u001B[39mrelease()\n",
      "File \u001B[0;32m~/miniconda/envs/hands/lib/python3.9/site-packages/tensorflow/python/eager/function.py:2453\u001B[0m, in \u001B[0;36mFunction.__call__\u001B[0;34m(self, *args, **kwargs)\u001B[0m\n\u001B[1;32m   2450\u001B[0m \u001B[38;5;28;01mwith\u001B[39;00m \u001B[38;5;28mself\u001B[39m\u001B[38;5;241m.\u001B[39m_lock:\n\u001B[1;32m   2451\u001B[0m   (graph_function,\n\u001B[1;32m   2452\u001B[0m    filtered_flat_args) \u001B[38;5;241m=\u001B[39m \u001B[38;5;28mself\u001B[39m\u001B[38;5;241m.\u001B[39m_maybe_define_function(args, kwargs)\n\u001B[0;32m-> 2453\u001B[0m \u001B[38;5;28;01mreturn\u001B[39;00m \u001B[43mgraph_function\u001B[49m\u001B[38;5;241;43m.\u001B[39;49m\u001B[43m_call_flat\u001B[49m\u001B[43m(\u001B[49m\n\u001B[1;32m   2454\u001B[0m \u001B[43m    \u001B[49m\u001B[43mfiltered_flat_args\u001B[49m\u001B[43m,\u001B[49m\u001B[43m \u001B[49m\u001B[43mcaptured_inputs\u001B[49m\u001B[38;5;241;43m=\u001B[39;49m\u001B[43mgraph_function\u001B[49m\u001B[38;5;241;43m.\u001B[39;49m\u001B[43mcaptured_inputs\u001B[49m\u001B[43m)\u001B[49m\n",
      "File \u001B[0;32m~/miniconda/envs/hands/lib/python3.9/site-packages/tensorflow/python/eager/function.py:1860\u001B[0m, in \u001B[0;36mConcreteFunction._call_flat\u001B[0;34m(self, args, captured_inputs, cancellation_manager)\u001B[0m\n\u001B[1;32m   1856\u001B[0m possible_gradient_type \u001B[38;5;241m=\u001B[39m gradients_util\u001B[38;5;241m.\u001B[39mPossibleTapeGradientTypes(args)\n\u001B[1;32m   1857\u001B[0m \u001B[38;5;28;01mif\u001B[39;00m (possible_gradient_type \u001B[38;5;241m==\u001B[39m gradients_util\u001B[38;5;241m.\u001B[39mPOSSIBLE_GRADIENT_TYPES_NONE\n\u001B[1;32m   1858\u001B[0m     \u001B[38;5;129;01mand\u001B[39;00m executing_eagerly):\n\u001B[1;32m   1859\u001B[0m   \u001B[38;5;66;03m# No tape is watching; skip to running the function.\u001B[39;00m\n\u001B[0;32m-> 1860\u001B[0m   \u001B[38;5;28;01mreturn\u001B[39;00m \u001B[38;5;28mself\u001B[39m\u001B[38;5;241m.\u001B[39m_build_call_outputs(\u001B[38;5;28;43mself\u001B[39;49m\u001B[38;5;241;43m.\u001B[39;49m\u001B[43m_inference_function\u001B[49m\u001B[38;5;241;43m.\u001B[39;49m\u001B[43mcall\u001B[49m\u001B[43m(\u001B[49m\n\u001B[1;32m   1861\u001B[0m \u001B[43m      \u001B[49m\u001B[43mctx\u001B[49m\u001B[43m,\u001B[49m\u001B[43m \u001B[49m\u001B[43margs\u001B[49m\u001B[43m,\u001B[49m\u001B[43m \u001B[49m\u001B[43mcancellation_manager\u001B[49m\u001B[38;5;241;43m=\u001B[39;49m\u001B[43mcancellation_manager\u001B[49m\u001B[43m)\u001B[49m)\n\u001B[1;32m   1862\u001B[0m forward_backward \u001B[38;5;241m=\u001B[39m \u001B[38;5;28mself\u001B[39m\u001B[38;5;241m.\u001B[39m_select_forward_and_backward_functions(\n\u001B[1;32m   1863\u001B[0m     args,\n\u001B[1;32m   1864\u001B[0m     possible_gradient_type,\n\u001B[1;32m   1865\u001B[0m     executing_eagerly)\n\u001B[1;32m   1866\u001B[0m forward_function, args_with_tangents \u001B[38;5;241m=\u001B[39m forward_backward\u001B[38;5;241m.\u001B[39mforward()\n",
      "File \u001B[0;32m~/miniconda/envs/hands/lib/python3.9/site-packages/tensorflow/python/eager/function.py:497\u001B[0m, in \u001B[0;36m_EagerDefinedFunction.call\u001B[0;34m(self, ctx, args, cancellation_manager)\u001B[0m\n\u001B[1;32m    495\u001B[0m \u001B[38;5;28;01mwith\u001B[39;00m _InterpolateFunctionError(\u001B[38;5;28mself\u001B[39m):\n\u001B[1;32m    496\u001B[0m   \u001B[38;5;28;01mif\u001B[39;00m cancellation_manager \u001B[38;5;129;01mis\u001B[39;00m \u001B[38;5;28;01mNone\u001B[39;00m:\n\u001B[0;32m--> 497\u001B[0m     outputs \u001B[38;5;241m=\u001B[39m \u001B[43mexecute\u001B[49m\u001B[38;5;241;43m.\u001B[39;49m\u001B[43mexecute\u001B[49m\u001B[43m(\u001B[49m\n\u001B[1;32m    498\u001B[0m \u001B[43m        \u001B[49m\u001B[38;5;28;43mstr\u001B[39;49m\u001B[43m(\u001B[49m\u001B[38;5;28;43mself\u001B[39;49m\u001B[38;5;241;43m.\u001B[39;49m\u001B[43msignature\u001B[49m\u001B[38;5;241;43m.\u001B[39;49m\u001B[43mname\u001B[49m\u001B[43m)\u001B[49m\u001B[43m,\u001B[49m\n\u001B[1;32m    499\u001B[0m \u001B[43m        \u001B[49m\u001B[43mnum_outputs\u001B[49m\u001B[38;5;241;43m=\u001B[39;49m\u001B[38;5;28;43mself\u001B[39;49m\u001B[38;5;241;43m.\u001B[39;49m\u001B[43m_num_outputs\u001B[49m\u001B[43m,\u001B[49m\n\u001B[1;32m    500\u001B[0m \u001B[43m        \u001B[49m\u001B[43minputs\u001B[49m\u001B[38;5;241;43m=\u001B[39;49m\u001B[43margs\u001B[49m\u001B[43m,\u001B[49m\n\u001B[1;32m    501\u001B[0m \u001B[43m        \u001B[49m\u001B[43mattrs\u001B[49m\u001B[38;5;241;43m=\u001B[39;49m\u001B[43mattrs\u001B[49m\u001B[43m,\u001B[49m\n\u001B[1;32m    502\u001B[0m \u001B[43m        \u001B[49m\u001B[43mctx\u001B[49m\u001B[38;5;241;43m=\u001B[39;49m\u001B[43mctx\u001B[49m\u001B[43m)\u001B[49m\n\u001B[1;32m    503\u001B[0m   \u001B[38;5;28;01melse\u001B[39;00m:\n\u001B[1;32m    504\u001B[0m     outputs \u001B[38;5;241m=\u001B[39m execute\u001B[38;5;241m.\u001B[39mexecute_with_cancellation(\n\u001B[1;32m    505\u001B[0m         \u001B[38;5;28mstr\u001B[39m(\u001B[38;5;28mself\u001B[39m\u001B[38;5;241m.\u001B[39msignature\u001B[38;5;241m.\u001B[39mname),\n\u001B[1;32m    506\u001B[0m         num_outputs\u001B[38;5;241m=\u001B[39m\u001B[38;5;28mself\u001B[39m\u001B[38;5;241m.\u001B[39m_num_outputs,\n\u001B[0;32m   (...)\u001B[0m\n\u001B[1;32m    509\u001B[0m         ctx\u001B[38;5;241m=\u001B[39mctx,\n\u001B[1;32m    510\u001B[0m         cancellation_manager\u001B[38;5;241m=\u001B[39mcancellation_manager)\n",
      "File \u001B[0;32m~/miniconda/envs/hands/lib/python3.9/site-packages/tensorflow/python/eager/execute.py:54\u001B[0m, in \u001B[0;36mquick_execute\u001B[0;34m(op_name, num_outputs, inputs, attrs, ctx, name)\u001B[0m\n\u001B[1;32m     52\u001B[0m \u001B[38;5;28;01mtry\u001B[39;00m:\n\u001B[1;32m     53\u001B[0m   ctx\u001B[38;5;241m.\u001B[39mensure_initialized()\n\u001B[0;32m---> 54\u001B[0m   tensors \u001B[38;5;241m=\u001B[39m \u001B[43mpywrap_tfe\u001B[49m\u001B[38;5;241;43m.\u001B[39;49m\u001B[43mTFE_Py_Execute\u001B[49m\u001B[43m(\u001B[49m\u001B[43mctx\u001B[49m\u001B[38;5;241;43m.\u001B[39;49m\u001B[43m_handle\u001B[49m\u001B[43m,\u001B[49m\u001B[43m \u001B[49m\u001B[43mdevice_name\u001B[49m\u001B[43m,\u001B[49m\u001B[43m \u001B[49m\u001B[43mop_name\u001B[49m\u001B[43m,\u001B[49m\n\u001B[1;32m     55\u001B[0m \u001B[43m                                      \u001B[49m\u001B[43minputs\u001B[49m\u001B[43m,\u001B[49m\u001B[43m \u001B[49m\u001B[43mattrs\u001B[49m\u001B[43m,\u001B[49m\u001B[43m \u001B[49m\u001B[43mnum_outputs\u001B[49m\u001B[43m)\u001B[49m\n\u001B[1;32m     56\u001B[0m \u001B[38;5;28;01mexcept\u001B[39;00m core\u001B[38;5;241m.\u001B[39m_NotOkStatusException \u001B[38;5;28;01mas\u001B[39;00m e:\n\u001B[1;32m     57\u001B[0m   \u001B[38;5;28;01mif\u001B[39;00m name \u001B[38;5;129;01mis\u001B[39;00m \u001B[38;5;129;01mnot\u001B[39;00m \u001B[38;5;28;01mNone\u001B[39;00m:\n",
      "\u001B[0;31mKeyboardInterrupt\u001B[0m: "
     ]
    }
   ],
   "execution_count": 81
  },
  {
   "metadata": {
    "ExecuteTime": {
     "end_time": "2024-05-20T01:02:57.418585Z",
     "start_time": "2024-05-20T01:02:57.397738Z"
    }
   },
   "cell_type": "code",
   "source": "model.summary()",
   "id": "a0ce7cead4b68776",
   "outputs": [
    {
     "name": "stdout",
     "output_type": "stream",
     "text": [
      "Model: \"sequential_4\"\n",
      "_________________________________________________________________\n",
      " Layer (type)                Output Shape              Param #   \n",
      "=================================================================\n",
      " conv2d_14 (Conv2D)          (None, 124, 124, 64)      1664      \n",
      "                                                                 \n",
      " conv2d_15 (Conv2D)          (None, 122, 122, 32)      18464     \n",
      "                                                                 \n",
      " flatten_4 (Flatten)         (None, 476288)            0         \n",
      "                                                                 \n",
      " dense_9 (Dense)             (None, 4)                 1905156   \n",
      "                                                                 \n",
      "=================================================================\n",
      "Total params: 1,925,284\n",
      "Trainable params: 1,925,284\n",
      "Non-trainable params: 0\n",
      "_________________________________________________________________\n"
     ]
    }
   ],
   "execution_count": 80
  },
  {
   "metadata": {
    "ExecuteTime": {
     "end_time": "2024-05-20T01:05:51.450999Z",
     "start_time": "2024-05-20T01:05:48.894251Z"
    }
   },
   "cell_type": "code",
   "source": [
    "prediction_proba = model.predict(x_test)\n",
    "y_predict = prediction_proba.argmax(axis=1)"
   ],
   "id": "fac613539f011a2",
   "outputs": [
    {
     "name": "stdout",
     "output_type": "stream",
     "text": [
      " 2/96 [..............................] - ETA: 7s "
     ]
    },
    {
     "name": "stderr",
     "output_type": "stream",
     "text": [
      "2024-05-19 21:05:49.043001: I tensorflow/core/grappler/optimizers/custom_graph_optimizer_registry.cc:113] Plugin optimizer for device_type GPU is enabled.\n"
     ]
    },
    {
     "name": "stdout",
     "output_type": "stream",
     "text": [
      "96/96 [==============================] - 2s 24ms/step\n"
     ]
    }
   ],
   "execution_count": 82
  },
  {
   "metadata": {
    "ExecuteTime": {
     "end_time": "2024-05-20T01:05:51.913969Z",
     "start_time": "2024-05-20T01:05:51.909025Z"
    }
   },
   "cell_type": "code",
   "source": "y_predict.shape",
   "id": "c162132ad675720e",
   "outputs": [
    {
     "data": {
      "text/plain": [
       "(3051,)"
      ]
     },
     "execution_count": 83,
     "metadata": {},
     "output_type": "execute_result"
    }
   ],
   "execution_count": 83
  },
  {
   "metadata": {
    "ExecuteTime": {
     "end_time": "2024-05-20T01:05:52.982146Z",
     "start_time": "2024-05-20T01:05:52.974738Z"
    }
   },
   "cell_type": "code",
   "source": "y_true = y_test.argmax(axis=1)",
   "id": "973a8ced886422ec",
   "outputs": [],
   "execution_count": 84
  },
  {
   "metadata": {
    "ExecuteTime": {
     "end_time": "2024-05-20T01:05:53.921754Z",
     "start_time": "2024-05-20T01:05:53.916470Z"
    }
   },
   "cell_type": "code",
   "source": "# y_true = np.array(y_test_list)",
   "id": "d18d8784dc545e8c",
   "outputs": [],
   "execution_count": 85
  },
  {
   "metadata": {
    "ExecuteTime": {
     "end_time": "2024-05-20T01:05:54.492848Z",
     "start_time": "2024-05-20T01:05:54.484879Z"
    }
   },
   "cell_type": "code",
   "source": [
    "# confusion matrix\n",
    "conf_mat = confusion_matrix(y_true, y_predict, normalize='true')"
   ],
   "id": "6d3e3c4dbe3a1239",
   "outputs": [],
   "execution_count": 86
  },
  {
   "metadata": {
    "ExecuteTime": {
     "end_time": "2024-05-20T01:05:55.320556Z",
     "start_time": "2024-05-20T01:05:55.021608Z"
    }
   },
   "cell_type": "code",
   "source": "sns.heatmap(conf_mat, annot=True)",
   "id": "2557977801831856",
   "outputs": [
    {
     "data": {
      "text/plain": [
       "<AxesSubplot: >"
      ]
     },
     "execution_count": 87,
     "metadata": {},
     "output_type": "execute_result"
    },
    {
     "data": {
      "text/plain": [
       "<Figure size 640x480 with 2 Axes>"
      ],
      "image/png": "[encoded data removed]"
     },
     "metadata": {},
     "output_type": "display_data"
    }
   ],
   "execution_count": 87
  },
  {
   "metadata": {
    "ExecuteTime": {
     "end_time": "2024-05-20T00:33:39.765410Z",
     "start_time": "2024-05-20T00:33:39.764330Z"
    }
   },
   "cell_type": "code",
   "source": "",
   "id": "d729062dae89ced7",
   "outputs": [],
   "execution_count": null
  }
 ],
 "metadata": {
  "kernelspec": {
   "display_name": "Python 3",
   "language": "python",
   "name": "python3"
  },
  "language_info": {
   "codemirror_mode": {
    "name": "ipython",
    "version": 2
   },
   "file_extension": ".py",
   "mimetype": "text/x-python",
   "name": "python",
   "nbconvert_exporter": "python",
   "pygments_lexer": "ipython2",
   "version": "2.7.6"
  }
 },
 "nbformat": 4,
 "nbformat_minor": 5
}
