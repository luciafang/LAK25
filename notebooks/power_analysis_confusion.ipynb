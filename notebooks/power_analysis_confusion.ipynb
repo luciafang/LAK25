{
 "cells": [
  {
   "cell_type": "code",
   "id": "initial_id",
   "metadata": {
    "collapsed": true,
    "ExecuteTime": {
     "end_time": "2024-08-24T22:07:09.269802Z",
     "start_time": "2024-08-24T22:07:08.814906Z"
    }
   },
   "source": [
    "import pandas as pd\n",
    "import streamlit as st\n",
    "import datetime\n",
    "from glob import glob\n",
    "from PIL import Image\n",
    "import numpy as np\n",
    "import base64\n",
    "import io\n",
    "import sys\n",
    "\n",
    "if '../app' not in sys.path:\n",
    "    sys.path.append('../app/')\n",
    "\n",
    "from utils.locate_timings import bin_confusion, confusion2transcript, normalize_time\n",
    "from utils.identify_theme import send2chatgpt, split_confused_transcripts_by_line\n",
    "from math import sqrt \n",
    "from statsmodels.stats.power import TTestIndPower \n",
    "  "
   ],
   "outputs": [],
   "execution_count": 1
  },
  {
   "metadata": {
    "ExecuteTime": {
     "end_time": "2024-08-24T22:25:37.948407Z",
     "start_time": "2024-08-24T22:25:37.945947Z"
    }
   },
   "cell_type": "code",
   "source": [
    "# d = input('Select a session date:')\n",
    "d1 = '2019-02-26'\n",
    "d2 = '2019-04-16'\n",
    "d3 = '2019-03-26'\n",
    "d1 = datetime.datetime.strptime(str(d1).replace('-', ''), \"%Y%m%d\")\n",
    "d2 = datetime.datetime.strptime(str(d2).replace('-', ''), \"%Y%m%d\")\n",
    "d3 = datetime.datetime.strptime(str(d3).replace('-', ''), \"%Y%m%d\")"
   ],
   "id": "a1746c085ff7e136",
   "outputs": [],
   "execution_count": 75
  },
  {
   "metadata": {
    "ExecuteTime": {
     "end_time": "2024-08-24T22:25:40.160566Z",
     "start_time": "2024-08-24T22:25:40.156705Z"
    }
   },
   "cell_type": "code",
   "source": "d1, d2, d3",
   "id": "eb4d561e158c1a31",
   "outputs": [
    {
     "data": {
      "text/plain": [
       "(datetime.datetime(2019, 2, 26, 0, 0),\n",
       " datetime.datetime(2019, 4, 16, 0, 0),\n",
       " datetime.datetime(2019, 3, 26, 0, 0))"
      ]
     },
     "execution_count": 76,
     "metadata": {},
     "output_type": "execute_result"
    }
   ],
   "execution_count": 76
  },
  {
   "metadata": {
    "ExecuteTime": {
     "end_time": "2024-08-24T22:25:49.988250Z",
     "start_time": "2024-08-24T22:25:49.985021Z"
    }
   },
   "cell_type": "code",
   "source": [
    "select_confused_csv1 = '../confusion_processed/'+str(d1.year)+str(d1.month).zfill(2)+str(d1.day).zfill(2)+'_confusion.csv'\n",
    "select_confused_csv2 = '../confusion_processed/' + str(d2.year) + str(d2.month).zfill(2) + str(d2.day).zfill(\n",
    "    2) + '_confusion.csv'\n",
    "select_confused_csv3 = '../confusion_processed/' + str(d3.year) + str(d3.month).zfill(2) + str(d3.day).zfill(\n",
    "    2) + '_confusion.csv'"
   ],
   "id": "582305a506d24b36",
   "outputs": [],
   "execution_count": 77
  },
  {
   "metadata": {
    "ExecuteTime": {
     "end_time": "2024-08-24T22:25:08.176734Z",
     "start_time": "2024-08-24T22:25:08.081587Z"
    }
   },
   "cell_type": "code",
   "source": [
    "df = pd.read_csv(select_confused_csv1, index_col=0)\n",
    "\n",
    "df.fillna(value='none', inplace=True)\n",
    "emotions_list = ['Not Confused', 'Confused']\n",
    "\n",
    "bin_size=30\n",
    "source_duration=2400\n",
    "\n",
    "all_emotion_ratios1 = []\n",
    "for row in range(df.shape[0]):\n",
    "    # emotion_ratios = {key:0 for key in emotions_list}\n",
    "    # confusion_vals = []\n",
    "    emotion, counts = np.unique(df.iloc[row, 1:].values, return_counts=True)\n",
    "    idx_none = emotion == 'none'\n",
    "    emotion_not_none = emotion[~idx_none]\n",
    "    # ratio = counts[~idx_none]\n",
    "    ratio = counts[~idx_none] / np.sum(counts[~idx_none])\n",
    "    # for emo, rats in zip(emotion_not_none, ratio):\n",
    "    #     emotion_ratios[emo] = rats\n",
    "    for emo, rats in zip(emotion_not_none, ratio):\n",
    "        if emo == 'Confused':\n",
    "            confusion_vals = rats\n",
    "    # all_emotion_ratios.append(emotion_ratios)\n",
    "    all_emotion_ratios1.append(confusion_vals)\n",
    "avg_30s_1 = []\n",
    "for i in range(0, source_duration, bin_size):\n",
    "    avg_30s_1.append(np.mean(all_emotion_ratios1[i:i + bin_size]))"
   ],
   "id": "266ba9a44f539c69",
   "outputs": [],
   "execution_count": 67
  },
  {
   "metadata": {
    "ExecuteTime": {
     "end_time": "2024-08-24T22:25:08.327525Z",
     "start_time": "2024-08-24T22:25:08.231390Z"
    }
   },
   "cell_type": "code",
   "source": [
    "df = pd.read_csv(select_confused_csv2, index_col=0)\n",
    "\n",
    "df.fillna(value='none', inplace=True)\n",
    "emotions_list = ['Not Confused', 'Confused']\n",
    "\n",
    "all_emotion_ratios2 = []\n",
    "for row in range(df.shape[0]):\n",
    "    # emotion_ratios = {key:0 for key in emotions_list}\n",
    "    # confusion_vals = []\n",
    "    emotion, counts = np.unique(df.iloc[row, 1:].values, return_counts=True)\n",
    "    idx_none = emotion == 'none'\n",
    "    emotion_not_none = emotion[~idx_none]\n",
    "    # ratio = counts[~idx_none]\n",
    "    ratio = counts[~idx_none] / np.sum(counts[~idx_none])\n",
    "    # for emo, rats in zip(emotion_not_none, ratio):\n",
    "    #     emotion_ratios[emo] = rats\n",
    "    for emo, rats in zip(emotion_not_none, ratio):\n",
    "        if emo == 'Confused':\n",
    "            confusion_vals = rats\n",
    "    # all_emotion_ratios.append(emotion_ratios)\n",
    "    all_emotion_ratios2.append(confusion_vals)\n",
    "avg_30s_2 = []\n",
    "for i in range(0, source_duration, bin_size):\n",
    "    avg_30s_2.append(np.mean(all_emotion_ratios2[i:i + bin_size]))"
   ],
   "id": "d1ea19444da97b3",
   "outputs": [],
   "execution_count": 68
  },
  {
   "metadata": {
    "ExecuteTime": {
     "end_time": "2024-08-24T22:26:09.014019Z",
     "start_time": "2024-08-24T22:26:08.901501Z"
    }
   },
   "cell_type": "code",
   "source": [
    "df = pd.read_csv(select_confused_csv3, index_col=0)\n",
    "\n",
    "df.fillna(value='none', inplace=True)\n",
    "emotions_list = ['Not Confused', 'Confused']\n",
    "\n",
    "all_emotion_ratios3 = []\n",
    "for row in range(df.shape[0]):\n",
    "    # emotion_ratios = {key:0 for key in emotions_list}\n",
    "    # confusion_vals = []\n",
    "    emotion, counts = np.unique(df.iloc[row, 1:].values, return_counts=True)\n",
    "    idx_none = emotion == 'none'\n",
    "    emotion_not_none = emotion[~idx_none]\n",
    "    # ratio = counts[~idx_none]\n",
    "    ratio = counts[~idx_none] / np.sum(counts[~idx_none])\n",
    "    # for emo, rats in zip(emotion_not_none, ratio):\n",
    "    #     emotion_ratios[emo] = rats\n",
    "    for emo, rats in zip(emotion_not_none, ratio):\n",
    "        if emo == 'Confused':\n",
    "            confusion_vals = rats\n",
    "    # all_emotion_ratios.append(emotion_ratios)\n",
    "    all_emotion_ratios3.append(confusion_vals)\n",
    "avg_30s_3 = []\n",
    "for i in range(0, source_duration, bin_size):\n",
    "    avg_30s_3.append(np.mean(all_emotion_ratios3[i:i + bin_size]))"
   ],
   "id": "a8ab8e799f892a2e",
   "outputs": [],
   "execution_count": 78
  },
  {
   "metadata": {
    "ExecuteTime": {
     "end_time": "2024-08-24T22:26:12.367375Z",
     "start_time": "2024-08-24T22:26:12.361797Z"
    }
   },
   "cell_type": "code",
   "source": "avg_30s_1, avg_30s_2, avg_30s_3",
   "id": "5e99f01b296232a3",
   "outputs": [
    {
     "data": {
      "text/plain": [
       "([0.35906076465674,\n",
       "  0.43605668194744784,\n",
       "  0.44545082697946464,\n",
       "  0.47150484462790965,\n",
       "  0.36382257448433925,\n",
       "  0.3537445234504058,\n",
       "  0.37719632004848713,\n",
       "  0.39400849866794146,\n",
       "  0.35940607933069907,\n",
       "  0.3410082600291579,\n",
       "  0.3905194135070296,\n",
       "  0.4225662604222976,\n",
       "  0.4184204793028322,\n",
       "  0.4831464161838371,\n",
       "  0.4736196717089165,\n",
       "  0.4549690382081687,\n",
       "  0.4801050254093732,\n",
       "  0.38567369381240696,\n",
       "  0.4425117937617937,\n",
       "  0.37166222666222665,\n",
       "  0.40989124709712954,\n",
       "  0.3949722754598916,\n",
       "  0.31099642173558567,\n",
       "  0.2604126943174931,\n",
       "  0.32151808159161105,\n",
       "  0.35121875673346264,\n",
       "  0.3071338383838384,\n",
       "  0.3908181338212298,\n",
       "  0.3323764307587837,\n",
       "  0.3510608424656413,\n",
       "  0.3069581442821449,\n",
       "  0.30199229691876756,\n",
       "  0.25728032373543214,\n",
       "  0.3069255134270615,\n",
       "  0.3407824913591167,\n",
       "  0.3005844173026836,\n",
       "  0.34386375062845664,\n",
       "  0.34109967603775654,\n",
       "  0.38887723387723394,\n",
       "  0.4142676277970396,\n",
       "  0.4720859695859696,\n",
       "  0.4075253912753913,\n",
       "  0.44080142380838977,\n",
       "  0.400910214905369,\n",
       "  0.36820920596008094,\n",
       "  0.41062666790591146,\n",
       "  0.37020496660202545,\n",
       "  0.34720384463031523,\n",
       "  0.3849268786768788,\n",
       "  0.42334706959706964,\n",
       "  0.3266163003663003,\n",
       "  0.3457339174986234,\n",
       "  0.329911444764386,\n",
       "  0.297011509732098,\n",
       "  0.31323678414235695,\n",
       "  0.2874267399267399,\n",
       "  0.33926203426203416,\n",
       "  0.3213589188589188,\n",
       "  0.30445831945831947,\n",
       "  0.31176508676508685,\n",
       "  0.287271016021016,\n",
       "  0.2500737688237688,\n",
       "  0.31984839234839235,\n",
       "  0.30705988455988453,\n",
       "  0.31439153439153433,\n",
       "  0.38820105820105827,\n",
       "  0.2429088504088504,\n",
       "  0.33581714581714583,\n",
       "  0.34908703224879706,\n",
       "  0.34512015489956654,\n",
       "  0.2618290043290043,\n",
       "  0.34123066748066755,\n",
       "  0.3220247345247345,\n",
       "  0.2927092352092352,\n",
       "  0.29327080327080324,\n",
       "  0.3847180597180598,\n",
       "  0.3723404373404373,\n",
       "  0.24534854034854034,\n",
       "  0.40405608280608285,\n",
       "  0.36380979314802847],\n",
       " [0.4061714021272845,\n",
       "  0.4541829451078678,\n",
       "  0.4068230027053556,\n",
       "  0.4108523312199782,\n",
       "  0.36765012765012767,\n",
       "  0.3576449938949939,\n",
       "  0.37385626900332786,\n",
       "  0.40868767254990174,\n",
       "  0.39450824774354193,\n",
       "  0.41515666208003665,\n",
       "  0.44748836961685257,\n",
       "  0.43545894966173615,\n",
       "  0.41155128425639265,\n",
       "  0.5027253181974545,\n",
       "  0.4596580094025915,\n",
       "  0.41305842219928907,\n",
       "  0.43333372237784007,\n",
       "  0.5206532090449846,\n",
       "  0.45642529526430453,\n",
       "  0.5115502604550591,\n",
       "  0.4583408275590938,\n",
       "  0.5058033769063182,\n",
       "  0.46384865349648624,\n",
       "  0.5207173161662325,\n",
       "  0.4533924680983505,\n",
       "  0.47980144554447957,\n",
       "  0.4633674495439202,\n",
       "  0.35842032967032966,\n",
       "  0.4116738816738817,\n",
       "  0.5012087912087911,\n",
       "  0.4611022229404583,\n",
       "  0.4655753968253968,\n",
       "  0.34390596331772805,\n",
       "  0.3880505279034691,\n",
       "  0.3977793339558045,\n",
       "  0.43938563887093296,\n",
       "  0.37767490621979793,\n",
       "  0.43806849454295277,\n",
       "  0.44480234491457404,\n",
       "  0.4381699346405229,\n",
       "  0.4822584852654513,\n",
       "  0.4760943412452701,\n",
       "  0.5063448859075793,\n",
       "  0.5196548560944845,\n",
       "  0.5623712057922584,\n",
       "  0.46406864792700714,\n",
       "  0.5079765795206971,\n",
       "  0.5501086048454469,\n",
       "  0.5010259922682523,\n",
       "  0.5477974533779487,\n",
       "  0.5423373179681229,\n",
       "  0.5121842187167265,\n",
       "  0.49557390207545005,\n",
       "  0.5272176560682752,\n",
       "  0.5347592019263845,\n",
       "  0.5634401660717451,\n",
       "  0.5649330638688225,\n",
       "  0.5395234204793027,\n",
       "  0.5278587604632496,\n",
       "  0.5448737999473293,\n",
       "  0.46568432928727044,\n",
       "  0.49684368191721134,\n",
       "  0.4149679487179487,\n",
       "  0.44149042950513545,\n",
       "  0.3952926811750341,\n",
       "  0.539774531024531,\n",
       "  0.40749934161698864,\n",
       "  0.44800186741363207,\n",
       "  0.4991514939309057,\n",
       "  0.5427440632123294,\n",
       "  0.4978088714118126,\n",
       "  0.5109130575307046,\n",
       "  0.49360785728432793,\n",
       "  0.42884631922944627,\n",
       "  0.4039237800383312,\n",
       "  0.37983088849574925,\n",
       "  0.4431940569750167,\n",
       "  0.36520510835913306,\n",
       "  0.4176335242508348,\n",
       "  0.44549823472287237],\n",
       " [0.3839734176498883,\n",
       "  0.3945906803421274,\n",
       "  0.39069582517486007,\n",
       "  0.380567742514337,\n",
       "  0.33804681229216826,\n",
       "  0.34879517011482963,\n",
       "  0.34138816421559726,\n",
       "  0.37730387259799036,\n",
       "  0.3908496285276471,\n",
       "  0.4066647369396731,\n",
       "  0.3927301339298244,\n",
       "  0.3887399684465238,\n",
       "  0.3987097905061292,\n",
       "  0.4047801682321806,\n",
       "  0.4186346088551971,\n",
       "  0.3769055195177486,\n",
       "  0.4024523634546855,\n",
       "  0.3186797877045555,\n",
       "  0.35025828460038977,\n",
       "  0.43978927886250546,\n",
       "  0.4336604333333368,\n",
       "  0.3821793807796859,\n",
       "  0.3722112428634168,\n",
       "  0.26276491899489607,\n",
       "  0.29168124559765424,\n",
       "  0.2670884002192052,\n",
       "  0.25803716493344975,\n",
       "  0.3210137271282782,\n",
       "  0.4171011065244812,\n",
       "  0.4050603481921627,\n",
       "  0.3399097183010227,\n",
       "  0.32961989701120137,\n",
       "  0.39211873557411303,\n",
       "  0.4345431306378271,\n",
       "  0.4157613588208554,\n",
       "  0.39166519239274655,\n",
       "  0.32051090558451356,\n",
       "  0.2629695537346298,\n",
       "  0.31930221796320873,\n",
       "  0.2765604575163399,\n",
       "  0.3185825880059626,\n",
       "  0.2943619670090258,\n",
       "  0.3470892509050404,\n",
       "  0.25658318590594137,\n",
       "  0.3446419577727628,\n",
       "  0.3413738894118152,\n",
       "  0.35424032666679733,\n",
       "  0.3525213364369038,\n",
       "  0.4089394851507855,\n",
       "  0.33437907274645057,\n",
       "  0.41912880649335765,\n",
       "  0.3966177886104862,\n",
       "  0.36942809961459844,\n",
       "  0.4131729156511766,\n",
       "  0.4440284232675536,\n",
       "  0.3719320754675446,\n",
       "  0.38739869271333804,\n",
       "  0.3929313946922643,\n",
       "  0.3448997746892483,\n",
       "  0.40391216851255224,\n",
       "  0.33101634851831163,\n",
       "  0.25940655942473145,\n",
       "  0.28592100237224066,\n",
       "  0.33176847929842956,\n",
       "  0.31318116667187873,\n",
       "  0.3831828573604048,\n",
       "  0.37437188326547594,\n",
       "  0.4147972180798268,\n",
       "  0.40693599181280343,\n",
       "  0.3646921781921782,\n",
       "  0.4000181800408951,\n",
       "  0.3883430579082752,\n",
       "  0.3667258207651038,\n",
       "  0.3561832143368875,\n",
       "  0.3950587712143776,\n",
       "  0.34374729093264567,\n",
       "  0.29338922349791907,\n",
       "  0.33410130181144676,\n",
       "  0.4335239277630582,\n",
       "  0.3694057690339155])"
      ]
     },
     "execution_count": 79,
     "metadata": {},
     "output_type": "execute_result"
    }
   ],
   "execution_count": 79
  },
  {
   "metadata": {
    "ExecuteTime": {
     "end_time": "2024-08-24T22:26:23.921947Z",
     "start_time": "2024-08-24T22:26:23.919577Z"
    }
   },
   "cell_type": "code",
   "source": [
    "#calculation of effect size \n",
    "# size of samples in pilot study \n",
    "n1, n2, n3 = len(avg_30s_1), len(avg_30s_2), len(avg_30s_3)\n",
    "  \n",
    "# variance of samples in pilot study \n",
    "s1, s2, s3 = np.var(avg_30s_1), np.var(avg_30s_2), np.var(avg_30s_3)\n"
   ],
   "id": "b04af580b2941545",
   "outputs": [],
   "execution_count": 80
  },
  {
   "metadata": {
    "ExecuteTime": {
     "end_time": "2024-08-24T22:26:26.545905Z",
     "start_time": "2024-08-24T22:26:26.542209Z"
    }
   },
   "cell_type": "code",
   "source": "s1, s2, s3",
   "id": "bdd514d36f3aa96a",
   "outputs": [
    {
     "data": {
      "text/plain": [
       "(0.0033912703096733916, 0.0032397894889177334, 0.002292266305515449)"
      ]
     },
     "execution_count": 81,
     "metadata": {},
     "output_type": "execute_result"
    }
   ],
   "execution_count": 81
  },
  {
   "metadata": {
    "ExecuteTime": {
     "end_time": "2024-08-24T22:27:16.795440Z",
     "start_time": "2024-08-24T22:27:16.792965Z"
    }
   },
   "cell_type": "code",
   "source": [
    "# calculate the pooled standard deviation  \n",
    "# (Cohen's d) \n",
    "s = sqrt(((n1 - 1) * s1 + (n2 - 1) * s2 + (n3 - 1)*s3) / (n1 + n2 + n3 - 3)) \n",
    "\n",
    "# means of the samples \n",
    "u1, u2, u3 = np.mean(avg_30s_1), np.mean(avg_30s_2), np.mean(avg_30s_3)\n",
    "  \n"
   ],
   "id": "b6a49b294b0697a9",
   "outputs": [],
   "execution_count": 84
  },
  {
   "metadata": {
    "ExecuteTime": {
     "end_time": "2024-08-24T22:27:20.764846Z",
     "start_time": "2024-08-24T22:27:20.761323Z"
    }
   },
   "cell_type": "code",
   "source": "u1, u2, u3",
   "id": "aec130817fc4f994",
   "outputs": [
    {
     "data": {
      "text/plain": [
       "(0.3572652809443714, 0.4613355053060932, 0.36225310665757865)"
      ]
     },
     "execution_count": 85,
     "metadata": {},
     "output_type": "execute_result"
    }
   ],
   "execution_count": 85
  },
  {
   "metadata": {
    "ExecuteTime": {
     "end_time": "2024-08-24T22:25:09.519793Z",
     "start_time": "2024-08-24T22:25:09.513885Z"
    }
   },
   "cell_type": "code",
   "source": [
    "# calculate the effect size \n",
    "d = (u1 - u2) / s \n",
    "print(f'Effect size: {d}') \n",
    "  \n",
    "# factors for power analysis \n",
    "alpha = 0.01\n",
    "power = 0.9\n",
    "  \n",
    "# perform power analysis to find sample size  \n",
    "# for given effect \n",
    "obj = TTestIndPower() \n",
    "n = obj.solve_power(effect_size=d, alpha=alpha, power=power,  \n",
    "                    ratio=1) \n",
    "  \n",
    "print('Sample size/Number needed in each group: {:.3f}'.format(n))"
   ],
   "id": "24b9db6f5a508484",
   "outputs": [
    {
     "name": "stdout",
     "output_type": "stream",
     "text": [
      "Effect size: -1.8073822652152505\n",
      "Sample size/Number needed in each group: 10.899\n"
     ]
    }
   ],
   "execution_count": 74
  },
  {
   "metadata": {},
   "cell_type": "code",
   "outputs": [],
   "execution_count": null,
   "source": "",
   "id": "fe4ae83a832aa9d7"
  }
 ],
 "metadata": {
  "kernelspec": {
   "display_name": "Python 3",
   "language": "python",
   "name": "python3"
  },
  "language_info": {
   "codemirror_mode": {
    "name": "ipython",
    "version": 2
   },
   "file_extension": ".py",
   "mimetype": "text/x-python",
   "name": "python",
   "nbconvert_exporter": "python",
   "pygments_lexer": "ipython2",
   "version": "2.7.6"
  }
 },
 "nbformat": 4,
 "nbformat_minor": 5
}
